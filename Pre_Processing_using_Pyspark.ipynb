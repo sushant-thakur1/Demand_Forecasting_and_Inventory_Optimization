{
  "nbformat": 4,
  "nbformat_minor": 0,
  "metadata": {
    "colab": {
      "provenance": []
    },
    "kernelspec": {
      "name": "python3",
      "display_name": "Python 3"
    },
    "language_info": {
      "name": "python"
    }
  },
  "cells": [
    {
      "cell_type": "code",
      "execution_count": 1,
      "metadata": {
        "id": "cXPXsMTQS0HZ",
        "colab": {
          "base_uri": "https://localhost:8080/"
        },
        "outputId": "43022185-d873-423f-de1d-5f453ffb7458"
      },
      "outputs": [
        {
          "output_type": "stream",
          "name": "stdout",
          "text": [
            "Mounted at /content/drive\n"
          ]
        }
      ],
      "source": [
        "from google.colab import drive\n",
        "drive.mount('/content/drive')"
      ]
    },
    {
      "cell_type": "markdown",
      "source": [
        "First we will Pre=Process the categorical features and then the numerical features on all 3 avaliable tales"
      ],
      "metadata": {
        "id": "Xk6Gz-9sw7Pg"
      }
    },
    {
      "cell_type": "markdown",
      "source": [
        "# PREPROCESSING : CATEGORICAL FEATUES\n",
        "- Find out and impute, if we have missing values in the categorical features.\n",
        "- Remove the features which do not add much information\n",
        "- Choose an encoding technique to convert categorical features into numeric"
      ],
      "metadata": {
        "id": "j_R5a9dqxOcQ"
      }
    },
    {
      "cell_type": "code",
      "metadata": {
        "colab": {
          "base_uri": "https://localhost:8080/"
        },
        "id": "5fdb3202",
        "outputId": "523a7d36-e532-44cb-eee3-b1e823fd48e8"
      },
      "source": [
        "%pip install category_encoders"
      ],
      "execution_count": 2,
      "outputs": [
        {
          "output_type": "stream",
          "name": "stdout",
          "text": [
            "Collecting category_encoders\n",
            "  Downloading category_encoders-2.8.1-py3-none-any.whl.metadata (7.9 kB)\n",
            "Requirement already satisfied: numpy>=1.14.0 in /usr/local/lib/python3.11/dist-packages (from category_encoders) (2.0.2)\n",
            "Requirement already satisfied: pandas>=1.0.5 in /usr/local/lib/python3.11/dist-packages (from category_encoders) (2.2.2)\n",
            "Requirement already satisfied: patsy>=0.5.1 in /usr/local/lib/python3.11/dist-packages (from category_encoders) (1.0.1)\n",
            "Requirement already satisfied: scikit-learn>=1.6.0 in /usr/local/lib/python3.11/dist-packages (from category_encoders) (1.6.1)\n",
            "Requirement already satisfied: scipy>=1.0.0 in /usr/local/lib/python3.11/dist-packages (from category_encoders) (1.16.0)\n",
            "Requirement already satisfied: statsmodels>=0.9.0 in /usr/local/lib/python3.11/dist-packages (from category_encoders) (0.14.5)\n",
            "Requirement already satisfied: python-dateutil>=2.8.2 in /usr/local/lib/python3.11/dist-packages (from pandas>=1.0.5->category_encoders) (2.9.0.post0)\n",
            "Requirement already satisfied: pytz>=2020.1 in /usr/local/lib/python3.11/dist-packages (from pandas>=1.0.5->category_encoders) (2025.2)\n",
            "Requirement already satisfied: tzdata>=2022.7 in /usr/local/lib/python3.11/dist-packages (from pandas>=1.0.5->category_encoders) (2025.2)\n",
            "Requirement already satisfied: joblib>=1.2.0 in /usr/local/lib/python3.11/dist-packages (from scikit-learn>=1.6.0->category_encoders) (1.5.1)\n",
            "Requirement already satisfied: threadpoolctl>=3.1.0 in /usr/local/lib/python3.11/dist-packages (from scikit-learn>=1.6.0->category_encoders) (3.6.0)\n",
            "Requirement already satisfied: packaging>=21.3 in /usr/local/lib/python3.11/dist-packages (from statsmodels>=0.9.0->category_encoders) (25.0)\n",
            "Requirement already satisfied: six>=1.5 in /usr/local/lib/python3.11/dist-packages (from python-dateutil>=2.8.2->pandas>=1.0.5->category_encoders) (1.17.0)\n",
            "Downloading category_encoders-2.8.1-py3-none-any.whl (85 kB)\n",
            "\u001b[?25l   \u001b[90m━━━━━━━━━━━━━━━━━━━━━━━━━━━━━━━━━━━━━━━━\u001b[0m \u001b[32m0.0/85.7 kB\u001b[0m \u001b[31m?\u001b[0m eta \u001b[36m-:--:--\u001b[0m\r\u001b[2K   \u001b[91m━━━━━━━━━━━━━━━━━━━━━━━━━━━━━━━━━━━━━━\u001b[0m\u001b[90m╺\u001b[0m\u001b[90m━\u001b[0m \u001b[32m81.9/85.7 kB\u001b[0m \u001b[31m2.4 MB/s\u001b[0m eta \u001b[36m0:00:01\u001b[0m\r\u001b[2K   \u001b[90m━━━━━━━━━━━━━━━━━━━━━━━━━━━━━━━━━━━━━━━━\u001b[0m \u001b[32m85.7/85.7 kB\u001b[0m \u001b[31m1.9 MB/s\u001b[0m eta \u001b[36m0:00:00\u001b[0m\n",
            "\u001b[?25hInstalling collected packages: category_encoders\n",
            "Successfully installed category_encoders-2.8.1\n"
          ]
        }
      ]
    },
    {
      "cell_type": "code",
      "source": [
        "import pandas as pd\n",
        "import numpy as np\n",
        "import category_encoders as ce\n",
        "\n",
        "import warnings\n",
        "warnings.filterwarnings('ignore')\n",
        "import matplotlib.pyplot as plt\n",
        "import seaborn as sns"
      ],
      "metadata": {
        "id": "m9UD5u9Mv0ZN"
      },
      "execution_count": 3,
      "outputs": []
    },
    {
      "cell_type": "markdown",
      "metadata": {
        "id": "f48c08dc"
      },
      "source": [
        "## Setup pyspark\n",
        "\n",
        "- Install PySpark and its dependencies.\n"
      ]
    },
    {
      "cell_type": "code",
      "metadata": {
        "colab": {
          "base_uri": "https://localhost:8080/"
        },
        "id": "9ff98ba6",
        "outputId": "96fdd64e-5760-44a2-b932-05de6c0dca7d"
      },
      "source": [
        "%pip install pyspark findspark"
      ],
      "execution_count": 4,
      "outputs": [
        {
          "output_type": "stream",
          "name": "stdout",
          "text": [
            "Requirement already satisfied: pyspark in /usr/local/lib/python3.11/dist-packages (3.5.1)\n",
            "Collecting findspark\n",
            "  Downloading findspark-2.0.1-py2.py3-none-any.whl.metadata (352 bytes)\n",
            "Requirement already satisfied: py4j==0.10.9.7 in /usr/local/lib/python3.11/dist-packages (from pyspark) (0.10.9.7)\n",
            "Downloading findspark-2.0.1-py2.py3-none-any.whl (4.4 kB)\n",
            "Installing collected packages: findspark\n",
            "Successfully installed findspark-2.0.1\n"
          ]
        }
      ]
    },
    {
      "cell_type": "markdown",
      "metadata": {
        "id": "3681cfd1"
      },
      "source": [
        "## Create spark session\n",
        "\n",
        "- Initialize a Spark session to work with Spark DataFrames.\n"
      ]
    },
    {
      "cell_type": "code",
      "metadata": {
        "colab": {
          "base_uri": "https://localhost:8080/"
        },
        "id": "724afef9",
        "outputId": "4eaa473f-91f1-49ac-e8fd-7918526991dd"
      },
      "source": [
        "from pyspark.sql import SparkSession\n",
        "\n",
        "spark = SparkSession.builder.appName('DataPreprocessing').getOrCreate()\n",
        "print(spark.sparkContext.appName)"
      ],
      "execution_count": 5,
      "outputs": [
        {
          "output_type": "stream",
          "name": "stdout",
          "text": [
            "DataPreprocessing\n"
          ]
        }
      ]
    },
    {
      "cell_type": "markdown",
      "metadata": {
        "id": "98220304"
      },
      "source": [
        "## Load data\n",
        "\n",
        "Load the three datasets (`product_data.csv`, `train.csv`, and `store_data.csv`) into Spark DataFrames.\n"
      ]
    },
    {
      "cell_type": "markdown",
      "metadata": {
        "id": "7fbe70af"
      },
      "source": [
        "**Reasoning**:\n",
        "Load the three CSV files into Spark DataFrames, inferring the schema and assuming headers.\n",
        "\n"
      ]
    },
    {
      "cell_type": "code",
      "source": [
        "product = spark.read.csv('/content/drive/MyDrive/Colab Notebooks/DataSet/product_data.csv',header = True,inferSchema =True)\n",
        "store = spark.read.csv('/content/drive/MyDrive/Colab Notebooks/DataSet/store_data.csv',header =True,inferSchema =True)\n",
        "train = spark.read.csv('/content/drive/MyDrive/Colab Notebooks/DataSet/train.csv',header =True,inferSchema =True)"
      ],
      "metadata": {
        "id": "7cZc8ONIzvgk"
      },
      "execution_count": 6,
      "outputs": []
    },
    {
      "cell_type": "code",
      "source": [
        "product.show(5)"
      ],
      "metadata": {
        "colab": {
          "base_uri": "https://localhost:8080/"
        },
        "id": "O8RwyWTo0QEG",
        "outputId": "c13159f0-e14b-434a-8ea9-388f7332f101"
      },
      "execution_count": 7,
      "outputs": [
        {
          "output_type": "stream",
          "name": "stdout",
          "text": [
            "+----------+--------------------+-------------+--------------------+--------------------+------------+\n",
            "|       UPC|         DESCRIPTION| MANUFACTURER|            CATEGORY|        SUB_CATEGORY|PRODUCT_SIZE|\n",
            "+----------+--------------------+-------------+--------------------+--------------------+------------+\n",
            "|1111009477|PL MINI TWIST PRE...|PRIVATE LABEL|          BAG SNACKS|            PRETZELS|       15 OZ|\n",
            "|1111009497|   PL PRETZEL STICKS|PRIVATE LABEL|          BAG SNACKS|            PRETZELS|       15 OZ|\n",
            "|1111009507|   PL TWIST PRETZELS|PRIVATE LABEL|          BAG SNACKS|            PRETZELS|       15 OZ|\n",
            "|1111038078|PL BL MINT ANTSPT...|PRIVATE LABEL|ORAL HYGIENE PROD...|MOUTHWASHES (ANTI...|      500 ML|\n",
            "|1111038080|PL ANTSPTC SPG MN...|PRIVATE LABEL|ORAL HYGIENE PROD...|MOUTHWASHES (ANTI...|      500 ML|\n",
            "+----------+--------------------+-------------+--------------------+--------------------+------------+\n",
            "only showing top 5 rows\n",
            "\n"
          ]
        }
      ]
    },
    {
      "cell_type": "code",
      "source": [
        "store.show(5)"
      ],
      "metadata": {
        "colab": {
          "base_uri": "https://localhost:8080/"
        },
        "id": "e5s9tDVp1U1q",
        "outputId": "86b0fbc0-09e9-4181-da91-46eaaf0c98e1"
      },
      "execution_count": 8,
      "outputs": [
        {
          "output_type": "stream",
          "name": "stdout",
          "text": [
            "+--------+------------------+-----------------+-----------------------+--------+--------------+-----------------+-------------------+------------------+\n",
            "|STORE_ID|        STORE_NAME|ADDRESS_CITY_NAME|ADDRESS_STATE_PROV_CODE|MSA_CODE|SEG_VALUE_NAME|PARKING_SPACE_QTY|SALES_AREA_SIZE_NUM|AVG_WEEKLY_BASKETS|\n",
            "+--------+------------------+-----------------+-----------------------+--------+--------------+-----------------+-------------------+------------------+\n",
            "|     367|    15TH & MADISON|        COVINGTON|                     KY|   17140|         VALUE|              196|              24721|             12707|\n",
            "|     389|        SILVERLAKE|         ERLANGER|                     KY|   17140|    MAINSTREAM|              408|              46073|             24767|\n",
            "|     613|        EAST ALLEN|            ALLEN|                     TX|   19100|    MAINSTREAM|              464|              64926|             29386|\n",
            "|     623|           HOUSTON|          HOUSTON|                     TX|   26420|    MAINSTREAM|             NULL|              46930|             36741|\n",
            "|    2277|ANDERSON TOWNE CTR|       CINCINNATI|                     OH|   17140|       UPSCALE|             NULL|              81958|             54053|\n",
            "+--------+------------------+-----------------+-----------------------+--------+--------------+-----------------+-------------------+------------------+\n",
            "only showing top 5 rows\n",
            "\n"
          ]
        }
      ]
    },
    {
      "cell_type": "code",
      "source": [
        "train.show(5)"
      ],
      "metadata": {
        "colab": {
          "base_uri": "https://localhost:8080/"
        },
        "id": "zyv6nsXZ1Y7e",
        "outputId": "f9c29b62-4062-42c5-f295-2e60c437c50d"
      },
      "execution_count": 9,
      "outputs": [
        {
          "output_type": "stream",
          "name": "stdout",
          "text": [
            "+-------------+---------+----------+----------+-------+-------+-----+\n",
            "|WEEK_END_DATE|STORE_NUM|       UPC|BASE_PRICE|FEATURE|DISPLAY|UNITS|\n",
            "+-------------+---------+----------+----------+-------+-------+-----+\n",
            "|    14-Jan-09|      367|1111009477|      1.57|      0|      0|   13|\n",
            "|    14-Jan-09|      367|1111009497|      1.39|      0|      0|   20|\n",
            "|    14-Jan-09|      367|1111085319|      1.88|      0|      0|   14|\n",
            "|    14-Jan-09|      367|1111085345|      1.88|      0|      0|   29|\n",
            "|    14-Jan-09|      367|1111085350|      1.98|      0|      0|   35|\n",
            "+-------------+---------+----------+----------+-------+-------+-----+\n",
            "only showing top 5 rows\n",
            "\n"
          ]
        }
      ]
    },
    {
      "cell_type": "markdown",
      "source": [
        "### `DATASET 1:WEEKLY SALES DATA` has the following features\n",
        "\n",
        "- **WEEK_END_DATE** - week date\n",
        "- **STORE_NUM** - store number\n",
        "- **UPC** - (Universal Product Code) product specific identifier\n",
        "- **BASE_PRICE** - base price of item\n",
        "- **DISPLAY** - product was a part of in-store promotional display\n",
        "- **FEATURE** - product was in in-store circular\n",
        "- **UNITS** - units sold (target)"
      ],
      "metadata": {
        "id": "w5gExPIJ1m8l"
      }
    },
    {
      "cell_type": "code",
      "source": [
        "train.printSchema()"
      ],
      "metadata": {
        "colab": {
          "base_uri": "https://localhost:8080/"
        },
        "id": "TDJzBgei1bwi",
        "outputId": "c85a1133-e748-4d6f-fc6c-5ca2bd81ed87"
      },
      "execution_count": 10,
      "outputs": [
        {
          "output_type": "stream",
          "name": "stdout",
          "text": [
            "root\n",
            " |-- WEEK_END_DATE: string (nullable = true)\n",
            " |-- STORE_NUM: integer (nullable = true)\n",
            " |-- UPC: long (nullable = true)\n",
            " |-- BASE_PRICE: double (nullable = true)\n",
            " |-- FEATURE: integer (nullable = true)\n",
            " |-- DISPLAY: integer (nullable = true)\n",
            " |-- UNITS: integer (nullable = true)\n",
            "\n"
          ]
        }
      ]
    },
    {
      "cell_type": "markdown",
      "source": [
        "`WEEKLY SALES DATA` data has following categorical features\n",
        "- STORE_NUM\n",
        "- UPC\n",
        "- FEATURE\n",
        "- DISPLAY"
      ],
      "metadata": {
        "id": "t1xqZw792UOs"
      }
    },
    {
      "cell_type": "code",
      "metadata": {
        "colab": {
          "base_uri": "https://localhost:8080/"
        },
        "id": "c1cb5674",
        "outputId": "5553caa8-f2c6-437e-bffb-7c875da6ecb1"
      },
      "source": [
        "from pyspark.sql.functions import count, when, isnull\n",
        "from pyspark.sql.functions import col\n",
        "\n",
        "train.select([count(when(isnull(c),c)).alias(c) for c in train.columns]).show()"
      ],
      "execution_count": 11,
      "outputs": [
        {
          "output_type": "stream",
          "name": "stdout",
          "text": [
            "+-------------+---------+---+----------+-------+-------+-----+\n",
            "|WEEK_END_DATE|STORE_NUM|UPC|BASE_PRICE|FEATURE|DISPLAY|UNITS|\n",
            "+-------------+---------+---+----------+-------+-------+-----+\n",
            "|            0|        0|  0|        12|      0|      0|    0|\n",
            "+-------------+---------+---+----------+-------+-------+-----+\n",
            "\n"
          ]
        }
      ]
    },
    {
      "cell_type": "markdown",
      "source": [
        "***No Null Values***\n",
        "\n",
        "\n",
        " -  `STORE_NUM` - No changes required as it is a key and will be used to merge tables later.\n",
        " -  `UPC      ` - No changes required as it is a key and will be used to merge tables later.\n",
        " -  `FEATURE  ` - No Preprocessing Required\n",
        " -  `DISPLAY  ` - No Preprocessing Required"
      ],
      "metadata": {
        "id": "w5IQEirlACZE"
      }
    },
    {
      "cell_type": "markdown",
      "source": [
        "### `DATASET 2: PRODUCT DATA` contains the following details about the products\n",
        "\n",
        "- **UPC** - (Universal Product Code) product specific identifier\n",
        "- **DESCRIPTION**\t- product description\n",
        "- **MANUFACTURER** - product\tmanufacturer\n",
        "- **CATEGORY** - category of product\n",
        "- **SUB_CATEGORY** - sub-category of product\n",
        "- **PRODUCT_SIZE** - package size or quantity of product"
      ],
      "metadata": {
        "id": "LLTAV3acAHb4"
      }
    },
    {
      "cell_type": "code",
      "source": [
        "product.printSchema()"
      ],
      "metadata": {
        "colab": {
          "base_uri": "https://localhost:8080/"
        },
        "id": "tT8m20Tp-xoO",
        "outputId": "6d4ac281-9713-45c5-ca9a-1445d5da473e"
      },
      "execution_count": 12,
      "outputs": [
        {
          "output_type": "stream",
          "name": "stdout",
          "text": [
            "root\n",
            " |-- UPC: long (nullable = true)\n",
            " |-- DESCRIPTION: string (nullable = true)\n",
            " |-- MANUFACTURER: string (nullable = true)\n",
            " |-- CATEGORY: string (nullable = true)\n",
            " |-- SUB_CATEGORY: string (nullable = true)\n",
            " |-- PRODUCT_SIZE: string (nullable = true)\n",
            "\n"
          ]
        }
      ]
    },
    {
      "cell_type": "code",
      "source": [
        "product.show(5)"
      ],
      "metadata": {
        "colab": {
          "base_uri": "https://localhost:8080/"
        },
        "id": "oDrVmVaDAMmU",
        "outputId": "36331ff0-819a-486a-9d93-7d93eb230a8c"
      },
      "execution_count": 13,
      "outputs": [
        {
          "output_type": "stream",
          "name": "stdout",
          "text": [
            "+----------+--------------------+-------------+--------------------+--------------------+------------+\n",
            "|       UPC|         DESCRIPTION| MANUFACTURER|            CATEGORY|        SUB_CATEGORY|PRODUCT_SIZE|\n",
            "+----------+--------------------+-------------+--------------------+--------------------+------------+\n",
            "|1111009477|PL MINI TWIST PRE...|PRIVATE LABEL|          BAG SNACKS|            PRETZELS|       15 OZ|\n",
            "|1111009497|   PL PRETZEL STICKS|PRIVATE LABEL|          BAG SNACKS|            PRETZELS|       15 OZ|\n",
            "|1111009507|   PL TWIST PRETZELS|PRIVATE LABEL|          BAG SNACKS|            PRETZELS|       15 OZ|\n",
            "|1111038078|PL BL MINT ANTSPT...|PRIVATE LABEL|ORAL HYGIENE PROD...|MOUTHWASHES (ANTI...|      500 ML|\n",
            "|1111038080|PL ANTSPTC SPG MN...|PRIVATE LABEL|ORAL HYGIENE PROD...|MOUTHWASHES (ANTI...|      500 ML|\n",
            "+----------+--------------------+-------------+--------------------+--------------------+------------+\n",
            "only showing top 5 rows\n",
            "\n"
          ]
        }
      ]
    },
    {
      "cell_type": "markdown",
      "source": [
        "### `PRODUCT DATA`  has the following categorical features\n",
        "\n",
        "    - UPC\n",
        "    - DESCRIPTION\n",
        "    - MANUFACTURER\n",
        "    - CATEGORY\n",
        "    - SUB_CATEGORY\n",
        "    - PRODUCT_SIZE"
      ],
      "metadata": {
        "id": "uDu9LFt1AWko"
      }
    },
    {
      "cell_type": "code",
      "source": [
        "row_count = product.count()\n",
        "col_count = len(product.columns)\n",
        "print(f\"Shape: ({row_count},{col_count})\")"
      ],
      "metadata": {
        "colab": {
          "base_uri": "https://localhost:8080/"
        },
        "id": "48K4v-wkAT3S",
        "outputId": "d926502c-410b-4575-95da-da4c889c3215"
      },
      "execution_count": 14,
      "outputs": [
        {
          "output_type": "stream",
          "name": "stdout",
          "text": [
            "Shape: (30,6)\n"
          ]
        }
      ]
    },
    {
      "cell_type": "code",
      "source": [
        "product.select([count(when(isnull(c),c)).alias(c) for c in product.columns]).show()"
      ],
      "metadata": {
        "colab": {
          "base_uri": "https://localhost:8080/"
        },
        "id": "NmZwemqrAdPw",
        "outputId": "0ee4d7e9-18dc-4cec-8a3d-94b2dedb4e40"
      },
      "execution_count": 15,
      "outputs": [
        {
          "output_type": "stream",
          "name": "stdout",
          "text": [
            "+---+-----------+------------+--------+------------+------------+\n",
            "|UPC|DESCRIPTION|MANUFACTURER|CATEGORY|SUB_CATEGORY|PRODUCT_SIZE|\n",
            "+---+-----------+------------+--------+------------+------------+\n",
            "|  0|          0|           0|       0|           0|           0|\n",
            "+---+-----------+------------+--------+------------+------------+\n",
            "\n"
          ]
        }
      ]
    },
    {
      "cell_type": "code",
      "source": [
        "product.select(\"CATEGORY\").distinct().show()"
      ],
      "metadata": {
        "colab": {
          "base_uri": "https://localhost:8080/"
        },
        "id": "zZ19orfPBcuM",
        "outputId": "8391bb71-50bd-4f47-cb42-0a71924d6865"
      },
      "execution_count": 16,
      "outputs": [
        {
          "output_type": "stream",
          "name": "stdout",
          "text": [
            "+--------------------+\n",
            "|            CATEGORY|\n",
            "+--------------------+\n",
            "|         COLD CEREAL|\n",
            "|        FROZEN PIZZA|\n",
            "|ORAL HYGIENE PROD...|\n",
            "|          BAG SNACKS|\n",
            "+--------------------+\n",
            "\n"
          ]
        }
      ]
    },
    {
      "cell_type": "code",
      "source": [
        "product.select(\"CATEGORY\").distinct().count()"
      ],
      "metadata": {
        "colab": {
          "base_uri": "https://localhost:8080/"
        },
        "id": "SM9cLsUsFg3w",
        "outputId": "ba3c1500-e5b6-4417-d75e-33e7dd6722ba"
      },
      "execution_count": 17,
      "outputs": [
        {
          "output_type": "execute_result",
          "data": {
            "text/plain": [
              "4"
            ]
          },
          "metadata": {},
          "execution_count": 17
        }
      ]
    },
    {
      "cell_type": "markdown",
      "source": [
        " - `DESCRIPTION` - In the description, we have category, subcategory and size of the product and these are already present in the other features as well. So, We will drop this feature as it will not add much value to the model.\n",
        " - `MANUFACTURER`, `CATEGORY`, `SUB_CATEGORY`- As, there is no order in the given categories, so we will One Hot Encode this features.\n",
        " - `PRODUCT_SIZE` - The product size units are different for different categories of products. For oral hygiene products product size are 500 ML and 1L. So we will convert them into OZ"
      ],
      "metadata": {
        "id": "4aLGlBVaFv6r"
      }
    },
    {
      "cell_type": "code",
      "source": [
        "#Dropping DESCRIPTION Feature\n",
        "product = product.drop(\"DESCRIPTION\")"
      ],
      "metadata": {
        "id": "k5RHOuAPFlX8"
      },
      "execution_count": 18,
      "outputs": []
    },
    {
      "cell_type": "code",
      "source": [
        "product.show(5)"
      ],
      "metadata": {
        "colab": {
          "base_uri": "https://localhost:8080/"
        },
        "id": "vValObZUF0eA",
        "outputId": "750b275a-84f0-42d7-c55e-b4e2c73c0a85"
      },
      "execution_count": 19,
      "outputs": [
        {
          "output_type": "stream",
          "name": "stdout",
          "text": [
            "+----------+-------------+--------------------+--------------------+------------+\n",
            "|       UPC| MANUFACTURER|            CATEGORY|        SUB_CATEGORY|PRODUCT_SIZE|\n",
            "+----------+-------------+--------------------+--------------------+------------+\n",
            "|1111009477|PRIVATE LABEL|          BAG SNACKS|            PRETZELS|       15 OZ|\n",
            "|1111009497|PRIVATE LABEL|          BAG SNACKS|            PRETZELS|       15 OZ|\n",
            "|1111009507|PRIVATE LABEL|          BAG SNACKS|            PRETZELS|       15 OZ|\n",
            "|1111038078|PRIVATE LABEL|ORAL HYGIENE PROD...|MOUTHWASHES (ANTI...|      500 ML|\n",
            "|1111038080|PRIVATE LABEL|ORAL HYGIENE PROD...|MOUTHWASHES (ANTI...|      500 ML|\n",
            "+----------+-------------+--------------------+--------------------+------------+\n",
            "only showing top 5 rows\n",
            "\n"
          ]
        }
      ]
    },
    {
      "cell_type": "code",
      "source": [
        "# Processing Product_Size column by spliting numeric and unit string\n",
        "from pyspark.sql.functions import split, col, regexp_extract\n",
        "\n",
        "product = product.withColumn(\"PRODUCT_SIZE\", split(col('PRODUCT_SIZE'),\" \").getItem(0).cast('float'))\n",
        "\n",
        "product.show(5)"
      ],
      "metadata": {
        "colab": {
          "base_uri": "https://localhost:8080/"
        },
        "id": "O7fyffdDF8X9",
        "outputId": "0ade6b3c-1f23-49ff-c12b-c3bce95d0c9b"
      },
      "execution_count": 20,
      "outputs": [
        {
          "output_type": "stream",
          "name": "stdout",
          "text": [
            "+----------+-------------+--------------------+--------------------+------------+\n",
            "|       UPC| MANUFACTURER|            CATEGORY|        SUB_CATEGORY|PRODUCT_SIZE|\n",
            "+----------+-------------+--------------------+--------------------+------------+\n",
            "|1111009477|PRIVATE LABEL|          BAG SNACKS|            PRETZELS|        15.0|\n",
            "|1111009497|PRIVATE LABEL|          BAG SNACKS|            PRETZELS|        15.0|\n",
            "|1111009507|PRIVATE LABEL|          BAG SNACKS|            PRETZELS|        15.0|\n",
            "|1111038078|PRIVATE LABEL|ORAL HYGIENE PROD...|MOUTHWASHES (ANTI...|       500.0|\n",
            "|1111038080|PRIVATE LABEL|ORAL HYGIENE PROD...|MOUTHWASHES (ANTI...|       500.0|\n",
            "+----------+-------------+--------------------+--------------------+------------+\n",
            "only showing top 5 rows\n",
            "\n"
          ]
        }
      ]
    },
    {
      "cell_type": "code",
      "source": [
        "from pyspark.sql.functions import collect_set\n",
        "product.groupBy('CATEGORY').agg(collect_set(col(\"PRODUCT_SIZE\")).alias(\"Unique_Product_Sizes\")).show(truncate=False)"
      ],
      "metadata": {
        "colab": {
          "base_uri": "https://localhost:8080/"
        },
        "id": "PSXLyMZuIiee",
        "outputId": "c759779a-c7fc-43b3-bf9a-56a94fb212a8"
      },
      "execution_count": 21,
      "outputs": [
        {
          "output_type": "stream",
          "name": "stdout",
          "text": [
            "+---------------------+-------------------------------------+\n",
            "|CATEGORY             |Unique_Product_Sizes                 |\n",
            "+---------------------+-------------------------------------+\n",
            "|COLD CEREAL          |[12.0, 20.0, 12.25, 18.0, 12.2, 15.0]|\n",
            "|FROZEN PIZZA         |[29.6, 28.3, 30.5, 29.8, 32.7, 22.7] |\n",
            "|ORAL HYGIENE PRODUCTS|[1.0, 500.0]                         |\n",
            "|BAG SNACKS           |[10.0, 16.0, 15.0]                   |\n",
            "+---------------------+-------------------------------------+\n",
            "\n"
          ]
        }
      ]
    },
    {
      "cell_type": "code",
      "source": [
        "product.filter(col(\"PRODUCT_SIZE\") == 1.00).show()"
      ],
      "metadata": {
        "colab": {
          "base_uri": "https://localhost:8080/"
        },
        "id": "LyByEwV7Kv05",
        "outputId": "ca53beb2-c54f-454d-f0de-1cf9f3560a0e"
      },
      "execution_count": 22,
      "outputs": [
        {
          "output_type": "stream",
          "name": "stdout",
          "text": [
            "+-----------+------------+--------------------+--------------------+------------+\n",
            "|        UPC|MANUFACTURER|            CATEGORY|        SUB_CATEGORY|PRODUCT_SIZE|\n",
            "+-----------+------------+--------------------+--------------------+------------+\n",
            "| 3700031613|       P & G|ORAL HYGIENE PROD...|MOUTHWASH/RINSES ...|         1.0|\n",
            "| 3700044982|       P & G|ORAL HYGIENE PROD...|MOUTHWASHES (ANTI...|         1.0|\n",
            "|31254742735|      WARNER|ORAL HYGIENE PROD...|MOUTHWASHES (ANTI...|         1.0|\n",
            "|31254742835|      WARNER|ORAL HYGIENE PROD...|MOUTHWASHES (ANTI...|         1.0|\n",
            "+-----------+------------+--------------------+--------------------+------------+\n",
            "\n"
          ]
        }
      ]
    },
    {
      "cell_type": "code",
      "source": [
        "product.filter(product.PRODUCT_SIZE == 500).show()"
      ],
      "metadata": {
        "colab": {
          "base_uri": "https://localhost:8080/"
        },
        "id": "fyOehDtHLsuF",
        "outputId": "6fa33775-2730-4b33-ac03-f4e743119c2e"
      },
      "execution_count": 23,
      "outputs": [
        {
          "output_type": "stream",
          "name": "stdout",
          "text": [
            "+----------+-------------+--------------------+--------------------+------------+\n",
            "|       UPC| MANUFACTURER|            CATEGORY|        SUB_CATEGORY|PRODUCT_SIZE|\n",
            "+----------+-------------+--------------------+--------------------+------------+\n",
            "|1111038078|PRIVATE LABEL|ORAL HYGIENE PROD...|MOUTHWASHES (ANTI...|       500.0|\n",
            "|1111038080|PRIVATE LABEL|ORAL HYGIENE PROD...|MOUTHWASHES (ANTI...|       500.0|\n",
            "+----------+-------------+--------------------+--------------------+------------+\n",
            "\n"
          ]
        }
      ]
    },
    {
      "cell_type": "markdown",
      "source": [
        "##### As ORAL HYGIENE PRODUCTS comes in two size 500 ml and 1 L , converting then to oz as other products"
      ],
      "metadata": {
        "id": "OOW1FLfZMUwQ"
      }
    },
    {
      "cell_type": "code",
      "source": [
        "product = product.withColumn(\n",
        "    \"PRODUCT_SIZE\",\n",
        "    when(product.PRODUCT_SIZE == 500.00, 17.00)\n",
        "    .when(product.PRODUCT_SIZE == 1.00, 34.00)\n",
        "    .otherwise(product.PRODUCT_SIZE)\n",
        ")"
      ],
      "metadata": {
        "id": "AFE1eK2YMzKI"
      },
      "execution_count": 24,
      "outputs": []
    },
    {
      "cell_type": "code",
      "source": [
        "product.show(5)"
      ],
      "metadata": {
        "colab": {
          "base_uri": "https://localhost:8080/"
        },
        "id": "8954zDdVLNTq",
        "outputId": "d94d3cbb-2d95-4d14-a3dd-e083ecb18ec2"
      },
      "execution_count": 25,
      "outputs": [
        {
          "output_type": "stream",
          "name": "stdout",
          "text": [
            "+----------+-------------+--------------------+--------------------+------------+\n",
            "|       UPC| MANUFACTURER|            CATEGORY|        SUB_CATEGORY|PRODUCT_SIZE|\n",
            "+----------+-------------+--------------------+--------------------+------------+\n",
            "|1111009477|PRIVATE LABEL|          BAG SNACKS|            PRETZELS|        15.0|\n",
            "|1111009497|PRIVATE LABEL|          BAG SNACKS|            PRETZELS|        15.0|\n",
            "|1111009507|PRIVATE LABEL|          BAG SNACKS|            PRETZELS|        15.0|\n",
            "|1111038078|PRIVATE LABEL|ORAL HYGIENE PROD...|MOUTHWASHES (ANTI...|        17.0|\n",
            "|1111038080|PRIVATE LABEL|ORAL HYGIENE PROD...|MOUTHWASHES (ANTI...|        17.0|\n",
            "+----------+-------------+--------------------+--------------------+------------+\n",
            "only showing top 5 rows\n",
            "\n"
          ]
        }
      ]
    },
    {
      "cell_type": "code",
      "source": [
        "product.printSchema()"
      ],
      "metadata": {
        "colab": {
          "base_uri": "https://localhost:8080/"
        },
        "id": "I3AiKcTfNWLl",
        "outputId": "8316be48-d48c-4a93-d7ea-01b7b88737fd"
      },
      "execution_count": 26,
      "outputs": [
        {
          "output_type": "stream",
          "name": "stdout",
          "text": [
            "root\n",
            " |-- UPC: long (nullable = true)\n",
            " |-- MANUFACTURER: string (nullable = true)\n",
            " |-- CATEGORY: string (nullable = true)\n",
            " |-- SUB_CATEGORY: string (nullable = true)\n",
            " |-- PRODUCT_SIZE: double (nullable = true)\n",
            "\n"
          ]
        }
      ]
    },
    {
      "cell_type": "markdown",
      "source": [
        "# Coverting spark df into Pandas for applying One Hot Encoding"
      ],
      "metadata": {
        "id": "iojn9uiCOWO4"
      }
    },
    {
      "cell_type": "code",
      "source": [
        "product_df = product.toPandas()"
      ],
      "metadata": {
        "id": "IFPE_1iBNbtd"
      },
      "execution_count": 27,
      "outputs": []
    },
    {
      "cell_type": "code",
      "source": [
        "product_df.head()"
      ],
      "metadata": {
        "colab": {
          "base_uri": "https://localhost:8080/",
          "height": 206
        },
        "id": "9b38nDU2OQCM",
        "outputId": "bdb73174-0532-407d-9e65-cca8dfaec414"
      },
      "execution_count": 28,
      "outputs": [
        {
          "output_type": "execute_result",
          "data": {
            "text/plain": [
              "          UPC   MANUFACTURER               CATEGORY              SUB_CATEGORY  \\\n",
              "0  1111009477  PRIVATE LABEL             BAG SNACKS                  PRETZELS   \n",
              "1  1111009497  PRIVATE LABEL             BAG SNACKS                  PRETZELS   \n",
              "2  1111009507  PRIVATE LABEL             BAG SNACKS                  PRETZELS   \n",
              "3  1111038078  PRIVATE LABEL  ORAL HYGIENE PRODUCTS  MOUTHWASHES (ANTISEPTIC)   \n",
              "4  1111038080  PRIVATE LABEL  ORAL HYGIENE PRODUCTS  MOUTHWASHES (ANTISEPTIC)   \n",
              "\n",
              "   PRODUCT_SIZE  \n",
              "0          15.0  \n",
              "1          15.0  \n",
              "2          15.0  \n",
              "3          17.0  \n",
              "4          17.0  "
            ],
            "text/html": [
              "\n",
              "  <div id=\"df-ee9b3da3-e246-4353-8f5d-7b0fde51a0a3\" class=\"colab-df-container\">\n",
              "    <div>\n",
              "<style scoped>\n",
              "    .dataframe tbody tr th:only-of-type {\n",
              "        vertical-align: middle;\n",
              "    }\n",
              "\n",
              "    .dataframe tbody tr th {\n",
              "        vertical-align: top;\n",
              "    }\n",
              "\n",
              "    .dataframe thead th {\n",
              "        text-align: right;\n",
              "    }\n",
              "</style>\n",
              "<table border=\"1\" class=\"dataframe\">\n",
              "  <thead>\n",
              "    <tr style=\"text-align: right;\">\n",
              "      <th></th>\n",
              "      <th>UPC</th>\n",
              "      <th>MANUFACTURER</th>\n",
              "      <th>CATEGORY</th>\n",
              "      <th>SUB_CATEGORY</th>\n",
              "      <th>PRODUCT_SIZE</th>\n",
              "    </tr>\n",
              "  </thead>\n",
              "  <tbody>\n",
              "    <tr>\n",
              "      <th>0</th>\n",
              "      <td>1111009477</td>\n",
              "      <td>PRIVATE LABEL</td>\n",
              "      <td>BAG SNACKS</td>\n",
              "      <td>PRETZELS</td>\n",
              "      <td>15.0</td>\n",
              "    </tr>\n",
              "    <tr>\n",
              "      <th>1</th>\n",
              "      <td>1111009497</td>\n",
              "      <td>PRIVATE LABEL</td>\n",
              "      <td>BAG SNACKS</td>\n",
              "      <td>PRETZELS</td>\n",
              "      <td>15.0</td>\n",
              "    </tr>\n",
              "    <tr>\n",
              "      <th>2</th>\n",
              "      <td>1111009507</td>\n",
              "      <td>PRIVATE LABEL</td>\n",
              "      <td>BAG SNACKS</td>\n",
              "      <td>PRETZELS</td>\n",
              "      <td>15.0</td>\n",
              "    </tr>\n",
              "    <tr>\n",
              "      <th>3</th>\n",
              "      <td>1111038078</td>\n",
              "      <td>PRIVATE LABEL</td>\n",
              "      <td>ORAL HYGIENE PRODUCTS</td>\n",
              "      <td>MOUTHWASHES (ANTISEPTIC)</td>\n",
              "      <td>17.0</td>\n",
              "    </tr>\n",
              "    <tr>\n",
              "      <th>4</th>\n",
              "      <td>1111038080</td>\n",
              "      <td>PRIVATE LABEL</td>\n",
              "      <td>ORAL HYGIENE PRODUCTS</td>\n",
              "      <td>MOUTHWASHES (ANTISEPTIC)</td>\n",
              "      <td>17.0</td>\n",
              "    </tr>\n",
              "  </tbody>\n",
              "</table>\n",
              "</div>\n",
              "    <div class=\"colab-df-buttons\">\n",
              "\n",
              "  <div class=\"colab-df-container\">\n",
              "    <button class=\"colab-df-convert\" onclick=\"convertToInteractive('df-ee9b3da3-e246-4353-8f5d-7b0fde51a0a3')\"\n",
              "            title=\"Convert this dataframe to an interactive table.\"\n",
              "            style=\"display:none;\">\n",
              "\n",
              "  <svg xmlns=\"http://www.w3.org/2000/svg\" height=\"24px\" viewBox=\"0 -960 960 960\">\n",
              "    <path d=\"M120-120v-720h720v720H120Zm60-500h600v-160H180v160Zm220 220h160v-160H400v160Zm0 220h160v-160H400v160ZM180-400h160v-160H180v160Zm440 0h160v-160H620v160ZM180-180h160v-160H180v160Zm440 0h160v-160H620v160Z\"/>\n",
              "  </svg>\n",
              "    </button>\n",
              "\n",
              "  <style>\n",
              "    .colab-df-container {\n",
              "      display:flex;\n",
              "      gap: 12px;\n",
              "    }\n",
              "\n",
              "    .colab-df-convert {\n",
              "      background-color: #E8F0FE;\n",
              "      border: none;\n",
              "      border-radius: 50%;\n",
              "      cursor: pointer;\n",
              "      display: none;\n",
              "      fill: #1967D2;\n",
              "      height: 32px;\n",
              "      padding: 0 0 0 0;\n",
              "      width: 32px;\n",
              "    }\n",
              "\n",
              "    .colab-df-convert:hover {\n",
              "      background-color: #E2EBFA;\n",
              "      box-shadow: 0px 1px 2px rgba(60, 64, 67, 0.3), 0px 1px 3px 1px rgba(60, 64, 67, 0.15);\n",
              "      fill: #174EA6;\n",
              "    }\n",
              "\n",
              "    .colab-df-buttons div {\n",
              "      margin-bottom: 4px;\n",
              "    }\n",
              "\n",
              "    [theme=dark] .colab-df-convert {\n",
              "      background-color: #3B4455;\n",
              "      fill: #D2E3FC;\n",
              "    }\n",
              "\n",
              "    [theme=dark] .colab-df-convert:hover {\n",
              "      background-color: #434B5C;\n",
              "      box-shadow: 0px 1px 3px 1px rgba(0, 0, 0, 0.15);\n",
              "      filter: drop-shadow(0px 1px 2px rgba(0, 0, 0, 0.3));\n",
              "      fill: #FFFFFF;\n",
              "    }\n",
              "  </style>\n",
              "\n",
              "    <script>\n",
              "      const buttonEl =\n",
              "        document.querySelector('#df-ee9b3da3-e246-4353-8f5d-7b0fde51a0a3 button.colab-df-convert');\n",
              "      buttonEl.style.display =\n",
              "        google.colab.kernel.accessAllowed ? 'block' : 'none';\n",
              "\n",
              "      async function convertToInteractive(key) {\n",
              "        const element = document.querySelector('#df-ee9b3da3-e246-4353-8f5d-7b0fde51a0a3');\n",
              "        const dataTable =\n",
              "          await google.colab.kernel.invokeFunction('convertToInteractive',\n",
              "                                                    [key], {});\n",
              "        if (!dataTable) return;\n",
              "\n",
              "        const docLinkHtml = 'Like what you see? Visit the ' +\n",
              "          '<a target=\"_blank\" href=https://colab.research.google.com/notebooks/data_table.ipynb>data table notebook</a>'\n",
              "          + ' to learn more about interactive tables.';\n",
              "        element.innerHTML = '';\n",
              "        dataTable['output_type'] = 'display_data';\n",
              "        await google.colab.output.renderOutput(dataTable, element);\n",
              "        const docLink = document.createElement('div');\n",
              "        docLink.innerHTML = docLinkHtml;\n",
              "        element.appendChild(docLink);\n",
              "      }\n",
              "    </script>\n",
              "  </div>\n",
              "\n",
              "\n",
              "    <div id=\"df-a525bf67-92f2-4882-980a-6303d11afb2e\">\n",
              "      <button class=\"colab-df-quickchart\" onclick=\"quickchart('df-a525bf67-92f2-4882-980a-6303d11afb2e')\"\n",
              "                title=\"Suggest charts\"\n",
              "                style=\"display:none;\">\n",
              "\n",
              "<svg xmlns=\"http://www.w3.org/2000/svg\" height=\"24px\"viewBox=\"0 0 24 24\"\n",
              "     width=\"24px\">\n",
              "    <g>\n",
              "        <path d=\"M19 3H5c-1.1 0-2 .9-2 2v14c0 1.1.9 2 2 2h14c1.1 0 2-.9 2-2V5c0-1.1-.9-2-2-2zM9 17H7v-7h2v7zm4 0h-2V7h2v10zm4 0h-2v-4h2v4z\"/>\n",
              "    </g>\n",
              "</svg>\n",
              "      </button>\n",
              "\n",
              "<style>\n",
              "  .colab-df-quickchart {\n",
              "      --bg-color: #E8F0FE;\n",
              "      --fill-color: #1967D2;\n",
              "      --hover-bg-color: #E2EBFA;\n",
              "      --hover-fill-color: #174EA6;\n",
              "      --disabled-fill-color: #AAA;\n",
              "      --disabled-bg-color: #DDD;\n",
              "  }\n",
              "\n",
              "  [theme=dark] .colab-df-quickchart {\n",
              "      --bg-color: #3B4455;\n",
              "      --fill-color: #D2E3FC;\n",
              "      --hover-bg-color: #434B5C;\n",
              "      --hover-fill-color: #FFFFFF;\n",
              "      --disabled-bg-color: #3B4455;\n",
              "      --disabled-fill-color: #666;\n",
              "  }\n",
              "\n",
              "  .colab-df-quickchart {\n",
              "    background-color: var(--bg-color);\n",
              "    border: none;\n",
              "    border-radius: 50%;\n",
              "    cursor: pointer;\n",
              "    display: none;\n",
              "    fill: var(--fill-color);\n",
              "    height: 32px;\n",
              "    padding: 0;\n",
              "    width: 32px;\n",
              "  }\n",
              "\n",
              "  .colab-df-quickchart:hover {\n",
              "    background-color: var(--hover-bg-color);\n",
              "    box-shadow: 0 1px 2px rgba(60, 64, 67, 0.3), 0 1px 3px 1px rgba(60, 64, 67, 0.15);\n",
              "    fill: var(--button-hover-fill-color);\n",
              "  }\n",
              "\n",
              "  .colab-df-quickchart-complete:disabled,\n",
              "  .colab-df-quickchart-complete:disabled:hover {\n",
              "    background-color: var(--disabled-bg-color);\n",
              "    fill: var(--disabled-fill-color);\n",
              "    box-shadow: none;\n",
              "  }\n",
              "\n",
              "  .colab-df-spinner {\n",
              "    border: 2px solid var(--fill-color);\n",
              "    border-color: transparent;\n",
              "    border-bottom-color: var(--fill-color);\n",
              "    animation:\n",
              "      spin 1s steps(1) infinite;\n",
              "  }\n",
              "\n",
              "  @keyframes spin {\n",
              "    0% {\n",
              "      border-color: transparent;\n",
              "      border-bottom-color: var(--fill-color);\n",
              "      border-left-color: var(--fill-color);\n",
              "    }\n",
              "    20% {\n",
              "      border-color: transparent;\n",
              "      border-left-color: var(--fill-color);\n",
              "      border-top-color: var(--fill-color);\n",
              "    }\n",
              "    30% {\n",
              "      border-color: transparent;\n",
              "      border-left-color: var(--fill-color);\n",
              "      border-top-color: var(--fill-color);\n",
              "      border-right-color: var(--fill-color);\n",
              "    }\n",
              "    40% {\n",
              "      border-color: transparent;\n",
              "      border-right-color: var(--fill-color);\n",
              "      border-top-color: var(--fill-color);\n",
              "    }\n",
              "    60% {\n",
              "      border-color: transparent;\n",
              "      border-right-color: var(--fill-color);\n",
              "    }\n",
              "    80% {\n",
              "      border-color: transparent;\n",
              "      border-right-color: var(--fill-color);\n",
              "      border-bottom-color: var(--fill-color);\n",
              "    }\n",
              "    90% {\n",
              "      border-color: transparent;\n",
              "      border-bottom-color: var(--fill-color);\n",
              "    }\n",
              "  }\n",
              "</style>\n",
              "\n",
              "      <script>\n",
              "        async function quickchart(key) {\n",
              "          const quickchartButtonEl =\n",
              "            document.querySelector('#' + key + ' button');\n",
              "          quickchartButtonEl.disabled = true;  // To prevent multiple clicks.\n",
              "          quickchartButtonEl.classList.add('colab-df-spinner');\n",
              "          try {\n",
              "            const charts = await google.colab.kernel.invokeFunction(\n",
              "                'suggestCharts', [key], {});\n",
              "          } catch (error) {\n",
              "            console.error('Error during call to suggestCharts:', error);\n",
              "          }\n",
              "          quickchartButtonEl.classList.remove('colab-df-spinner');\n",
              "          quickchartButtonEl.classList.add('colab-df-quickchart-complete');\n",
              "        }\n",
              "        (() => {\n",
              "          let quickchartButtonEl =\n",
              "            document.querySelector('#df-a525bf67-92f2-4882-980a-6303d11afb2e button');\n",
              "          quickchartButtonEl.style.display =\n",
              "            google.colab.kernel.accessAllowed ? 'block' : 'none';\n",
              "        })();\n",
              "      </script>\n",
              "    </div>\n",
              "\n",
              "    </div>\n",
              "  </div>\n"
            ],
            "application/vnd.google.colaboratory.intrinsic+json": {
              "type": "dataframe",
              "variable_name": "product_df",
              "summary": "{\n  \"name\": \"product_df\",\n  \"rows\": 30,\n  \"fields\": [\n    {\n      \"column\": \"UPC\",\n      \"properties\": {\n        \"dtype\": \"number\",\n        \"std\": 7516026775,\n        \"min\": 1111009477,\n        \"max\": 31254742835,\n        \"num_unique_values\": 30,\n        \"samples\": [\n          7797508006,\n          2840004770,\n          7192100339\n        ],\n        \"semantic_type\": \"\",\n        \"description\": \"\"\n      }\n    },\n    {\n      \"column\": \"MANUFACTURER\",\n      \"properties\": {\n        \"dtype\": \"category\",\n        \"num_unique_values\": 9,\n        \"samples\": [\n          \"SNYDER S\",\n          \"GENERAL MI\",\n          \"TOMBSTONE\"\n        ],\n        \"semantic_type\": \"\",\n        \"description\": \"\"\n      }\n    },\n    {\n      \"column\": \"CATEGORY\",\n      \"properties\": {\n        \"dtype\": \"category\",\n        \"num_unique_values\": 4,\n        \"samples\": [\n          \"ORAL HYGIENE PRODUCTS\",\n          \"FROZEN PIZZA\",\n          \"BAG SNACKS\"\n        ],\n        \"semantic_type\": \"\",\n        \"description\": \"\"\n      }\n    },\n    {\n      \"column\": \"SUB_CATEGORY\",\n      \"properties\": {\n        \"dtype\": \"category\",\n        \"num_unique_values\": 7,\n        \"samples\": [\n          \"PRETZELS\",\n          \"MOUTHWASHES (ANTISEPTIC)\",\n          \"MOUTHWASH/RINSES AND SPRAYS\"\n        ],\n        \"semantic_type\": \"\",\n        \"description\": \"\"\n      }\n    },\n    {\n      \"column\": \"PRODUCT_SIZE\",\n      \"properties\": {\n        \"dtype\": \"number\",\n        \"std\": 8.271002573303898,\n        \"min\": 10.0,\n        \"max\": 34.0,\n        \"num_unique_values\": 16,\n        \"samples\": [\n          15.0,\n          17.0,\n          32.70000076293945\n        ],\n        \"semantic_type\": \"\",\n        \"description\": \"\"\n      }\n    }\n  ]\n}"
            }
          },
          "metadata": {},
          "execution_count": 28
        }
      ]
    },
    {
      "cell_type": "code",
      "source": [
        "product_df = pd.get_dummies(product_df, columns=['MANUFACTURER', 'CATEGORY', 'SUB_CATEGORY'])"
      ],
      "metadata": {
        "id": "7DkXy0mKOUz4"
      },
      "execution_count": 29,
      "outputs": []
    },
    {
      "cell_type": "code",
      "source": [
        "product_df.shape"
      ],
      "metadata": {
        "colab": {
          "base_uri": "https://localhost:8080/"
        },
        "id": "Ms1o5_a7OqWm",
        "outputId": "426d6e09-0967-4593-d0c7-216f787cb5b5"
      },
      "execution_count": 30,
      "outputs": [
        {
          "output_type": "execute_result",
          "data": {
            "text/plain": [
              "(30, 22)"
            ]
          },
          "metadata": {},
          "execution_count": 30
        }
      ]
    },
    {
      "cell_type": "code",
      "source": [
        "product_df.info()"
      ],
      "metadata": {
        "colab": {
          "base_uri": "https://localhost:8080/"
        },
        "id": "zVM49zE1OuO9",
        "outputId": "7fdf71cf-c233-4948-863c-fdcf2dff270f"
      },
      "execution_count": 31,
      "outputs": [
        {
          "output_type": "stream",
          "name": "stdout",
          "text": [
            "<class 'pandas.core.frame.DataFrame'>\n",
            "RangeIndex: 30 entries, 0 to 29\n",
            "Data columns (total 22 columns):\n",
            " #   Column                                    Non-Null Count  Dtype  \n",
            "---  ------                                    --------------  -----  \n",
            " 0   UPC                                       30 non-null     int64  \n",
            " 1   PRODUCT_SIZE                              30 non-null     float64\n",
            " 2   MANUFACTURER_FRITO LAY                    30 non-null     bool   \n",
            " 3   MANUFACTURER_GENERAL MI                   30 non-null     bool   \n",
            " 4   MANUFACTURER_KELLOGG                      30 non-null     bool   \n",
            " 5   MANUFACTURER_P & G                        30 non-null     bool   \n",
            " 6   MANUFACTURER_PRIVATE LABEL                30 non-null     bool   \n",
            " 7   MANUFACTURER_SNYDER S                     30 non-null     bool   \n",
            " 8   MANUFACTURER_TOMBSTONE                    30 non-null     bool   \n",
            " 9   MANUFACTURER_TONYS                        30 non-null     bool   \n",
            " 10  MANUFACTURER_WARNER                       30 non-null     bool   \n",
            " 11  CATEGORY_BAG SNACKS                       30 non-null     bool   \n",
            " 12  CATEGORY_COLD CEREAL                      30 non-null     bool   \n",
            " 13  CATEGORY_FROZEN PIZZA                     30 non-null     bool   \n",
            " 14  CATEGORY_ORAL HYGIENE PRODUCTS            30 non-null     bool   \n",
            " 15  SUB_CATEGORY_ADULT CEREAL                 30 non-null     bool   \n",
            " 16  SUB_CATEGORY_ALL FAMILY CEREAL            30 non-null     bool   \n",
            " 17  SUB_CATEGORY_KIDS CEREAL                  30 non-null     bool   \n",
            " 18  SUB_CATEGORY_MOUTHWASH/RINSES AND SPRAYS  30 non-null     bool   \n",
            " 19  SUB_CATEGORY_MOUTHWASHES (ANTISEPTIC)     30 non-null     bool   \n",
            " 20  SUB_CATEGORY_PIZZA/PREMIUM                30 non-null     bool   \n",
            " 21  SUB_CATEGORY_PRETZELS                     30 non-null     bool   \n",
            "dtypes: bool(20), float64(1), int64(1)\n",
            "memory usage: 1.2 KB\n"
          ]
        }
      ]
    },
    {
      "cell_type": "markdown",
      "source": [
        "---\n",
        "### `DATASET 3: STORE DATA`\n",
        "\n",
        "- **STORE_ID** - store number\n",
        "- **STORE_NAME** - Name of store\n",
        "- **ADDRESS_CITY_NAME** - city\n",
        "- **ADDRESS_STATE_PROV_CODE** - state\n",
        "- **MSA_CODE** - (Metropolitan Statistical Area) Based on geographic region and population density\n",
        "- **SEG_VALUE_NAME** - Store Segment Name\n",
        "- **PARKING_SPACE_QTY** - number of parking spaces in the store parking lot\n",
        "- **SALES_AREA_SIZE_NUM** - square footage of store\n",
        "- **AVG_WEEKLY_BASKETS** - average weekly baskets sold in the store\n",
        "\n",
        "---"
      ],
      "metadata": {
        "id": "yUz_UwNKO7Xf"
      }
    },
    {
      "cell_type": "code",
      "source": [
        "store.show(5)"
      ],
      "metadata": {
        "colab": {
          "base_uri": "https://localhost:8080/"
        },
        "id": "uoxZoQy1OzwL",
        "outputId": "35fd0d28-f486-41ce-c77a-98f6bd27389d"
      },
      "execution_count": 32,
      "outputs": [
        {
          "output_type": "stream",
          "name": "stdout",
          "text": [
            "+--------+------------------+-----------------+-----------------------+--------+--------------+-----------------+-------------------+------------------+\n",
            "|STORE_ID|        STORE_NAME|ADDRESS_CITY_NAME|ADDRESS_STATE_PROV_CODE|MSA_CODE|SEG_VALUE_NAME|PARKING_SPACE_QTY|SALES_AREA_SIZE_NUM|AVG_WEEKLY_BASKETS|\n",
            "+--------+------------------+-----------------+-----------------------+--------+--------------+-----------------+-------------------+------------------+\n",
            "|     367|    15TH & MADISON|        COVINGTON|                     KY|   17140|         VALUE|              196|              24721|             12707|\n",
            "|     389|        SILVERLAKE|         ERLANGER|                     KY|   17140|    MAINSTREAM|              408|              46073|             24767|\n",
            "|     613|        EAST ALLEN|            ALLEN|                     TX|   19100|    MAINSTREAM|              464|              64926|             29386|\n",
            "|     623|           HOUSTON|          HOUSTON|                     TX|   26420|    MAINSTREAM|             NULL|              46930|             36741|\n",
            "|    2277|ANDERSON TOWNE CTR|       CINCINNATI|                     OH|   17140|       UPSCALE|             NULL|              81958|             54053|\n",
            "+--------+------------------+-----------------+-----------------------+--------+--------------+-----------------+-------------------+------------------+\n",
            "only showing top 5 rows\n",
            "\n"
          ]
        }
      ]
    },
    {
      "cell_type": "markdown",
      "source": [
        "\n",
        "### `STORE DATA`  has the following categorical features\n",
        "\n",
        "    - STORE_ID\n",
        "    - STORE_NAME\n",
        "    - ADDRESS_CITY_NAME\n",
        "    - ADDRESS_STATE_PROV_CODE\n",
        "    - MSA_CODE\n",
        "    - SEG_VALUE_NAME"
      ],
      "metadata": {
        "id": "GHtX1ddaPR1S"
      }
    },
    {
      "cell_type": "code",
      "source": [
        "store.select([count(when(isnull(c),c)).alias(c) for c in store.columns]).show()"
      ],
      "metadata": {
        "colab": {
          "base_uri": "https://localhost:8080/"
        },
        "id": "a6npZGUnPBY5",
        "outputId": "6f1727b2-b3f4-4913-8ebf-8a80b19eb891"
      },
      "execution_count": 33,
      "outputs": [
        {
          "output_type": "stream",
          "name": "stdout",
          "text": [
            "+--------+----------+-----------------+-----------------------+--------+--------------+-----------------+-------------------+------------------+\n",
            "|STORE_ID|STORE_NAME|ADDRESS_CITY_NAME|ADDRESS_STATE_PROV_CODE|MSA_CODE|SEG_VALUE_NAME|PARKING_SPACE_QTY|SALES_AREA_SIZE_NUM|AVG_WEEKLY_BASKETS|\n",
            "+--------+----------+-----------------+-----------------------+--------+--------------+-----------------+-------------------+------------------+\n",
            "|       0|         0|                0|                      0|       0|             0|               51|                  0|                 0|\n",
            "+--------+----------+-----------------+-----------------------+--------+--------------+-----------------+-------------------+------------------+\n",
            "\n"
          ]
        }
      ]
    },
    {
      "cell_type": "markdown",
      "source": [
        "- `No` nulls values except in `PARKING_SPACE_QTY`"
      ],
      "metadata": {
        "id": "UpWCkzADTzNy"
      }
    },
    {
      "cell_type": "code",
      "source": [
        "store.select(store.STORE_NAME).distinct().count()"
      ],
      "metadata": {
        "colab": {
          "base_uri": "https://localhost:8080/"
        },
        "id": "wk8aDeG8Tvmd",
        "outputId": "23dd6717-81f8-4229-c9f8-1b9797197c33"
      },
      "execution_count": 34,
      "outputs": [
        {
          "output_type": "execute_result",
          "data": {
            "text/plain": [
              "72"
            ]
          },
          "metadata": {},
          "execution_count": 34
        }
      ]
    },
    {
      "cell_type": "code",
      "source": [
        "store.select(store.STORE_NAME).distinct().show()"
      ],
      "metadata": {
        "colab": {
          "base_uri": "https://localhost:8080/"
        },
        "id": "fU8NbTgHVQfI",
        "outputId": "c27c9f66-3840-4833-8b68-52bec44d555a"
      },
      "execution_count": 35,
      "outputs": [
        {
          "output_type": "stream",
          "name": "stdout",
          "text": [
            "+--------------------+\n",
            "|          STORE_NAME|\n",
            "+--------------------+\n",
            "|           SOUTHLAKE|\n",
            "|          HIGHWAY 75|\n",
            "| KROGER JUNCTION S/C|\n",
            "|              DENTON|\n",
            "|            BLUE ASH|\n",
            "|       WARSAW AVENUE|\n",
            "|                KATY|\n",
            "|             NORWOOD|\n",
            "|              GOSHEN|\n",
            "|      15TH & MADISON|\n",
            "|              DAYTON|\n",
            "|          MAINEVILLE|\n",
            "|WALNUT HILLS/PEEBLES|\n",
            "|    MILFORD-MULBERRY|\n",
            "|            MAGNOLIA|\n",
            "|      WHIPP & BIGGER|\n",
            "| ANTOINE TOWN CENTER|\n",
            "|          CARROLLTON|\n",
            "|             HOUSTON|\n",
            "|             KEARNEY|\n",
            "+--------------------+\n",
            "only showing top 20 rows\n",
            "\n"
          ]
        }
      ]
    },
    {
      "cell_type": "code",
      "source": [
        "store.select(store.ADDRESS_CITY_NAME).distinct().count()"
      ],
      "metadata": {
        "colab": {
          "base_uri": "https://localhost:8080/"
        },
        "id": "PXAhA4PTUI9W",
        "outputId": "38428ff1-f888-43ee-c43e-2ca3df4681cd"
      },
      "execution_count": 36,
      "outputs": [
        {
          "output_type": "execute_result",
          "data": {
            "text/plain": [
              "51"
            ]
          },
          "metadata": {},
          "execution_count": 36
        }
      ]
    },
    {
      "cell_type": "code",
      "source": [
        "store.select(store.ADDRESS_STATE_PROV_CODE).distinct().count()"
      ],
      "metadata": {
        "colab": {
          "base_uri": "https://localhost:8080/"
        },
        "id": "hk1FCti0U6-F",
        "outputId": "a6098af8-86ac-4e74-dd90-0ca64ca2bd2c"
      },
      "execution_count": 37,
      "outputs": [
        {
          "output_type": "execute_result",
          "data": {
            "text/plain": [
              "4"
            ]
          },
          "metadata": {},
          "execution_count": 37
        }
      ]
    },
    {
      "cell_type": "code",
      "source": [
        "store.select(store.ADDRESS_STATE_PROV_CODE).distinct().show()"
      ],
      "metadata": {
        "colab": {
          "base_uri": "https://localhost:8080/"
        },
        "id": "58RyNYBqVee9",
        "outputId": "cd74fc06-6a08-4383-e2c7-3c29fb934a31"
      },
      "execution_count": 38,
      "outputs": [
        {
          "output_type": "stream",
          "name": "stdout",
          "text": [
            "+-----------------------+\n",
            "|ADDRESS_STATE_PROV_CODE|\n",
            "+-----------------------+\n",
            "|                     KY|\n",
            "|                     IN|\n",
            "|                     OH|\n",
            "|                     TX|\n",
            "+-----------------------+\n",
            "\n"
          ]
        }
      ]
    },
    {
      "cell_type": "code",
      "source": [
        "store.select(store.MSA_CODE).distinct().count()"
      ],
      "metadata": {
        "colab": {
          "base_uri": "https://localhost:8080/"
        },
        "id": "1aFfOU7SVBfC",
        "outputId": "9c5f699e-6d81-49e8-886d-89421fa59958"
      },
      "execution_count": 39,
      "outputs": [
        {
          "output_type": "execute_result",
          "data": {
            "text/plain": [
              "9"
            ]
          },
          "metadata": {},
          "execution_count": 39
        }
      ]
    },
    {
      "cell_type": "code",
      "source": [
        "store.select(store.MSA_CODE).distinct().show()"
      ],
      "metadata": {
        "colab": {
          "base_uri": "https://localhost:8080/"
        },
        "id": "ocGRa0F0VjAx",
        "outputId": "1a6ef72e-8a64-4aa2-a671-5c744f8ae7da"
      },
      "execution_count": 40,
      "outputs": [
        {
          "output_type": "stream",
          "name": "stdout",
          "text": [
            "+--------+\n",
            "|MSA_CODE|\n",
            "+--------+\n",
            "|   19100|\n",
            "|   17780|\n",
            "|   44220|\n",
            "|   17140|\n",
            "|   26420|\n",
            "|   13140|\n",
            "|   43300|\n",
            "|   47540|\n",
            "|   19380|\n",
            "+--------+\n",
            "\n"
          ]
        }
      ]
    },
    {
      "cell_type": "code",
      "source": [
        "store.select(store.SEG_VALUE_NAME).distinct().count()"
      ],
      "metadata": {
        "colab": {
          "base_uri": "https://localhost:8080/"
        },
        "id": "tTJngnsbVHvd",
        "outputId": "31d5e874-4867-47d8-9bcd-a01594e0877b"
      },
      "execution_count": 41,
      "outputs": [
        {
          "output_type": "execute_result",
          "data": {
            "text/plain": [
              "3"
            ]
          },
          "metadata": {},
          "execution_count": 41
        }
      ]
    },
    {
      "cell_type": "code",
      "source": [
        "store.select(store.SEG_VALUE_NAME).distinct().show()"
      ],
      "metadata": {
        "colab": {
          "base_uri": "https://localhost:8080/"
        },
        "id": "zWxynYojVnAH",
        "outputId": "8ffebf93-3b2a-421a-d07e-fc617a8119f6"
      },
      "execution_count": 42,
      "outputs": [
        {
          "output_type": "stream",
          "name": "stdout",
          "text": [
            "+--------------+\n",
            "|SEG_VALUE_NAME|\n",
            "+--------------+\n",
            "|       UPSCALE|\n",
            "|    MAINSTREAM|\n",
            "|         VALUE|\n",
            "+--------------+\n",
            "\n"
          ]
        }
      ]
    },
    {
      "cell_type": "markdown",
      "source": [
        "\n",
        "   - `STORE_ID` - No changes required as it is a key and will be used to merge files later.\n",
        "   - `STORE_NAME` -Out of 76 different stores we have 72 unique store names.\n",
        "   - `ADDRESS_CITY_NAME` - Since, Out of 76 different stores we have 51 unique address city names, So we will drop this feature due to high cardinality\n",
        "   - `ADDRESS_STATE_PROV_CODE`, `MSA_CODE` - As, there is no order in the given categories, So, we will One Hot Encode this variable.\n",
        "   - `SEG_VALUE_NAME` - Since upstream. mainstream and value stores have order\n",
        " we will map VALUE AS 1, MAINSTREAM AS 2 and UPSCALE AS 3."
      ],
      "metadata": {
        "id": "hxxvwcgMWeum"
      }
    },
    {
      "cell_type": "code",
      "source": [
        "store = store.drop(\"STORE_NAME\",\"ADDRESS_CITY_NAME\")"
      ],
      "metadata": {
        "id": "H2bVEcLGVNft"
      },
      "execution_count": 43,
      "outputs": []
    },
    {
      "cell_type": "markdown",
      "source": [
        "# Converting spark df into pandas df for Label and One Hot Encoding"
      ],
      "metadata": {
        "id": "pE-EFSntWmwt"
      }
    },
    {
      "cell_type": "code",
      "source": [
        "store_df= store.toPandas()"
      ],
      "metadata": {
        "id": "g__xxNCZWl3f"
      },
      "execution_count": 44,
      "outputs": []
    },
    {
      "cell_type": "code",
      "source": [
        "store_df.head()"
      ],
      "metadata": {
        "colab": {
          "base_uri": "https://localhost:8080/",
          "height": 206
        },
        "id": "ucpDRMB9WP6A",
        "outputId": "181b9e75-3e0a-4ec4-ca22-b727c38a0b2a"
      },
      "execution_count": 45,
      "outputs": [
        {
          "output_type": "execute_result",
          "data": {
            "text/plain": [
              "   STORE_ID ADDRESS_STATE_PROV_CODE  MSA_CODE SEG_VALUE_NAME  \\\n",
              "0       367                      KY     17140          VALUE   \n",
              "1       389                      KY     17140     MAINSTREAM   \n",
              "2       613                      TX     19100     MAINSTREAM   \n",
              "3       623                      TX     26420     MAINSTREAM   \n",
              "4      2277                      OH     17140        UPSCALE   \n",
              "\n",
              "   PARKING_SPACE_QTY  SALES_AREA_SIZE_NUM  AVG_WEEKLY_BASKETS  \n",
              "0              196.0                24721               12707  \n",
              "1              408.0                46073               24767  \n",
              "2              464.0                64926               29386  \n",
              "3                NaN                46930               36741  \n",
              "4                NaN                81958               54053  "
            ],
            "text/html": [
              "\n",
              "  <div id=\"df-859726ed-1065-4f97-85c6-a034c4046a12\" class=\"colab-df-container\">\n",
              "    <div>\n",
              "<style scoped>\n",
              "    .dataframe tbody tr th:only-of-type {\n",
              "        vertical-align: middle;\n",
              "    }\n",
              "\n",
              "    .dataframe tbody tr th {\n",
              "        vertical-align: top;\n",
              "    }\n",
              "\n",
              "    .dataframe thead th {\n",
              "        text-align: right;\n",
              "    }\n",
              "</style>\n",
              "<table border=\"1\" class=\"dataframe\">\n",
              "  <thead>\n",
              "    <tr style=\"text-align: right;\">\n",
              "      <th></th>\n",
              "      <th>STORE_ID</th>\n",
              "      <th>ADDRESS_STATE_PROV_CODE</th>\n",
              "      <th>MSA_CODE</th>\n",
              "      <th>SEG_VALUE_NAME</th>\n",
              "      <th>PARKING_SPACE_QTY</th>\n",
              "      <th>SALES_AREA_SIZE_NUM</th>\n",
              "      <th>AVG_WEEKLY_BASKETS</th>\n",
              "    </tr>\n",
              "  </thead>\n",
              "  <tbody>\n",
              "    <tr>\n",
              "      <th>0</th>\n",
              "      <td>367</td>\n",
              "      <td>KY</td>\n",
              "      <td>17140</td>\n",
              "      <td>VALUE</td>\n",
              "      <td>196.0</td>\n",
              "      <td>24721</td>\n",
              "      <td>12707</td>\n",
              "    </tr>\n",
              "    <tr>\n",
              "      <th>1</th>\n",
              "      <td>389</td>\n",
              "      <td>KY</td>\n",
              "      <td>17140</td>\n",
              "      <td>MAINSTREAM</td>\n",
              "      <td>408.0</td>\n",
              "      <td>46073</td>\n",
              "      <td>24767</td>\n",
              "    </tr>\n",
              "    <tr>\n",
              "      <th>2</th>\n",
              "      <td>613</td>\n",
              "      <td>TX</td>\n",
              "      <td>19100</td>\n",
              "      <td>MAINSTREAM</td>\n",
              "      <td>464.0</td>\n",
              "      <td>64926</td>\n",
              "      <td>29386</td>\n",
              "    </tr>\n",
              "    <tr>\n",
              "      <th>3</th>\n",
              "      <td>623</td>\n",
              "      <td>TX</td>\n",
              "      <td>26420</td>\n",
              "      <td>MAINSTREAM</td>\n",
              "      <td>NaN</td>\n",
              "      <td>46930</td>\n",
              "      <td>36741</td>\n",
              "    </tr>\n",
              "    <tr>\n",
              "      <th>4</th>\n",
              "      <td>2277</td>\n",
              "      <td>OH</td>\n",
              "      <td>17140</td>\n",
              "      <td>UPSCALE</td>\n",
              "      <td>NaN</td>\n",
              "      <td>81958</td>\n",
              "      <td>54053</td>\n",
              "    </tr>\n",
              "  </tbody>\n",
              "</table>\n",
              "</div>\n",
              "    <div class=\"colab-df-buttons\">\n",
              "\n",
              "  <div class=\"colab-df-container\">\n",
              "    <button class=\"colab-df-convert\" onclick=\"convertToInteractive('df-859726ed-1065-4f97-85c6-a034c4046a12')\"\n",
              "            title=\"Convert this dataframe to an interactive table.\"\n",
              "            style=\"display:none;\">\n",
              "\n",
              "  <svg xmlns=\"http://www.w3.org/2000/svg\" height=\"24px\" viewBox=\"0 -960 960 960\">\n",
              "    <path d=\"M120-120v-720h720v720H120Zm60-500h600v-160H180v160Zm220 220h160v-160H400v160Zm0 220h160v-160H400v160ZM180-400h160v-160H180v160Zm440 0h160v-160H620v160ZM180-180h160v-160H180v160Zm440 0h160v-160H620v160Z\"/>\n",
              "  </svg>\n",
              "    </button>\n",
              "\n",
              "  <style>\n",
              "    .colab-df-container {\n",
              "      display:flex;\n",
              "      gap: 12px;\n",
              "    }\n",
              "\n",
              "    .colab-df-convert {\n",
              "      background-color: #E8F0FE;\n",
              "      border: none;\n",
              "      border-radius: 50%;\n",
              "      cursor: pointer;\n",
              "      display: none;\n",
              "      fill: #1967D2;\n",
              "      height: 32px;\n",
              "      padding: 0 0 0 0;\n",
              "      width: 32px;\n",
              "    }\n",
              "\n",
              "    .colab-df-convert:hover {\n",
              "      background-color: #E2EBFA;\n",
              "      box-shadow: 0px 1px 2px rgba(60, 64, 67, 0.3), 0px 1px 3px 1px rgba(60, 64, 67, 0.15);\n",
              "      fill: #174EA6;\n",
              "    }\n",
              "\n",
              "    .colab-df-buttons div {\n",
              "      margin-bottom: 4px;\n",
              "    }\n",
              "\n",
              "    [theme=dark] .colab-df-convert {\n",
              "      background-color: #3B4455;\n",
              "      fill: #D2E3FC;\n",
              "    }\n",
              "\n",
              "    [theme=dark] .colab-df-convert:hover {\n",
              "      background-color: #434B5C;\n",
              "      box-shadow: 0px 1px 3px 1px rgba(0, 0, 0, 0.15);\n",
              "      filter: drop-shadow(0px 1px 2px rgba(0, 0, 0, 0.3));\n",
              "      fill: #FFFFFF;\n",
              "    }\n",
              "  </style>\n",
              "\n",
              "    <script>\n",
              "      const buttonEl =\n",
              "        document.querySelector('#df-859726ed-1065-4f97-85c6-a034c4046a12 button.colab-df-convert');\n",
              "      buttonEl.style.display =\n",
              "        google.colab.kernel.accessAllowed ? 'block' : 'none';\n",
              "\n",
              "      async function convertToInteractive(key) {\n",
              "        const element = document.querySelector('#df-859726ed-1065-4f97-85c6-a034c4046a12');\n",
              "        const dataTable =\n",
              "          await google.colab.kernel.invokeFunction('convertToInteractive',\n",
              "                                                    [key], {});\n",
              "        if (!dataTable) return;\n",
              "\n",
              "        const docLinkHtml = 'Like what you see? Visit the ' +\n",
              "          '<a target=\"_blank\" href=https://colab.research.google.com/notebooks/data_table.ipynb>data table notebook</a>'\n",
              "          + ' to learn more about interactive tables.';\n",
              "        element.innerHTML = '';\n",
              "        dataTable['output_type'] = 'display_data';\n",
              "        await google.colab.output.renderOutput(dataTable, element);\n",
              "        const docLink = document.createElement('div');\n",
              "        docLink.innerHTML = docLinkHtml;\n",
              "        element.appendChild(docLink);\n",
              "      }\n",
              "    </script>\n",
              "  </div>\n",
              "\n",
              "\n",
              "    <div id=\"df-a76d3c73-85af-4648-bf8a-44ac69628b91\">\n",
              "      <button class=\"colab-df-quickchart\" onclick=\"quickchart('df-a76d3c73-85af-4648-bf8a-44ac69628b91')\"\n",
              "                title=\"Suggest charts\"\n",
              "                style=\"display:none;\">\n",
              "\n",
              "<svg xmlns=\"http://www.w3.org/2000/svg\" height=\"24px\"viewBox=\"0 0 24 24\"\n",
              "     width=\"24px\">\n",
              "    <g>\n",
              "        <path d=\"M19 3H5c-1.1 0-2 .9-2 2v14c0 1.1.9 2 2 2h14c1.1 0 2-.9 2-2V5c0-1.1-.9-2-2-2zM9 17H7v-7h2v7zm4 0h-2V7h2v10zm4 0h-2v-4h2v4z\"/>\n",
              "    </g>\n",
              "</svg>\n",
              "      </button>\n",
              "\n",
              "<style>\n",
              "  .colab-df-quickchart {\n",
              "      --bg-color: #E8F0FE;\n",
              "      --fill-color: #1967D2;\n",
              "      --hover-bg-color: #E2EBFA;\n",
              "      --hover-fill-color: #174EA6;\n",
              "      --disabled-fill-color: #AAA;\n",
              "      --disabled-bg-color: #DDD;\n",
              "  }\n",
              "\n",
              "  [theme=dark] .colab-df-quickchart {\n",
              "      --bg-color: #3B4455;\n",
              "      --fill-color: #D2E3FC;\n",
              "      --hover-bg-color: #434B5C;\n",
              "      --hover-fill-color: #FFFFFF;\n",
              "      --disabled-bg-color: #3B4455;\n",
              "      --disabled-fill-color: #666;\n",
              "  }\n",
              "\n",
              "  .colab-df-quickchart {\n",
              "    background-color: var(--bg-color);\n",
              "    border: none;\n",
              "    border-radius: 50%;\n",
              "    cursor: pointer;\n",
              "    display: none;\n",
              "    fill: var(--fill-color);\n",
              "    height: 32px;\n",
              "    padding: 0;\n",
              "    width: 32px;\n",
              "  }\n",
              "\n",
              "  .colab-df-quickchart:hover {\n",
              "    background-color: var(--hover-bg-color);\n",
              "    box-shadow: 0 1px 2px rgba(60, 64, 67, 0.3), 0 1px 3px 1px rgba(60, 64, 67, 0.15);\n",
              "    fill: var(--button-hover-fill-color);\n",
              "  }\n",
              "\n",
              "  .colab-df-quickchart-complete:disabled,\n",
              "  .colab-df-quickchart-complete:disabled:hover {\n",
              "    background-color: var(--disabled-bg-color);\n",
              "    fill: var(--disabled-fill-color);\n",
              "    box-shadow: none;\n",
              "  }\n",
              "\n",
              "  .colab-df-spinner {\n",
              "    border: 2px solid var(--fill-color);\n",
              "    border-color: transparent;\n",
              "    border-bottom-color: var(--fill-color);\n",
              "    animation:\n",
              "      spin 1s steps(1) infinite;\n",
              "  }\n",
              "\n",
              "  @keyframes spin {\n",
              "    0% {\n",
              "      border-color: transparent;\n",
              "      border-bottom-color: var(--fill-color);\n",
              "      border-left-color: var(--fill-color);\n",
              "    }\n",
              "    20% {\n",
              "      border-color: transparent;\n",
              "      border-left-color: var(--fill-color);\n",
              "      border-top-color: var(--fill-color);\n",
              "    }\n",
              "    30% {\n",
              "      border-color: transparent;\n",
              "      border-left-color: var(--fill-color);\n",
              "      border-top-color: var(--fill-color);\n",
              "      border-right-color: var(--fill-color);\n",
              "    }\n",
              "    40% {\n",
              "      border-color: transparent;\n",
              "      border-right-color: var(--fill-color);\n",
              "      border-top-color: var(--fill-color);\n",
              "    }\n",
              "    60% {\n",
              "      border-color: transparent;\n",
              "      border-right-color: var(--fill-color);\n",
              "    }\n",
              "    80% {\n",
              "      border-color: transparent;\n",
              "      border-right-color: var(--fill-color);\n",
              "      border-bottom-color: var(--fill-color);\n",
              "    }\n",
              "    90% {\n",
              "      border-color: transparent;\n",
              "      border-bottom-color: var(--fill-color);\n",
              "    }\n",
              "  }\n",
              "</style>\n",
              "\n",
              "      <script>\n",
              "        async function quickchart(key) {\n",
              "          const quickchartButtonEl =\n",
              "            document.querySelector('#' + key + ' button');\n",
              "          quickchartButtonEl.disabled = true;  // To prevent multiple clicks.\n",
              "          quickchartButtonEl.classList.add('colab-df-spinner');\n",
              "          try {\n",
              "            const charts = await google.colab.kernel.invokeFunction(\n",
              "                'suggestCharts', [key], {});\n",
              "          } catch (error) {\n",
              "            console.error('Error during call to suggestCharts:', error);\n",
              "          }\n",
              "          quickchartButtonEl.classList.remove('colab-df-spinner');\n",
              "          quickchartButtonEl.classList.add('colab-df-quickchart-complete');\n",
              "        }\n",
              "        (() => {\n",
              "          let quickchartButtonEl =\n",
              "            document.querySelector('#df-a76d3c73-85af-4648-bf8a-44ac69628b91 button');\n",
              "          quickchartButtonEl.style.display =\n",
              "            google.colab.kernel.accessAllowed ? 'block' : 'none';\n",
              "        })();\n",
              "      </script>\n",
              "    </div>\n",
              "\n",
              "    </div>\n",
              "  </div>\n"
            ],
            "application/vnd.google.colaboratory.intrinsic+json": {
              "type": "dataframe",
              "variable_name": "store_df",
              "summary": "{\n  \"name\": \"store_df\",\n  \"rows\": 76,\n  \"fields\": [\n    {\n      \"column\": \"STORE_ID\",\n      \"properties\": {\n        \"dtype\": \"int32\",\n        \"num_unique_values\": 76,\n        \"samples\": [\n          2277,\n          13859,\n          2523\n        ],\n        \"semantic_type\": \"\",\n        \"description\": \"\"\n      }\n    },\n    {\n      \"column\": \"ADDRESS_STATE_PROV_CODE\",\n      \"properties\": {\n        \"dtype\": \"category\",\n        \"num_unique_values\": 4,\n        \"samples\": [\n          \"TX\",\n          \"IN\",\n          \"KY\"\n        ],\n        \"semantic_type\": \"\",\n        \"description\": \"\"\n      }\n    },\n    {\n      \"column\": \"MSA_CODE\",\n      \"properties\": {\n        \"dtype\": \"int32\",\n        \"num_unique_values\": 9,\n        \"samples\": [\n          13140,\n          19100,\n          43300\n        ],\n        \"semantic_type\": \"\",\n        \"description\": \"\"\n      }\n    },\n    {\n      \"column\": \"SEG_VALUE_NAME\",\n      \"properties\": {\n        \"dtype\": \"category\",\n        \"num_unique_values\": 3,\n        \"samples\": [\n          \"VALUE\",\n          \"MAINSTREAM\",\n          \"UPSCALE\"\n        ],\n        \"semantic_type\": \"\",\n        \"description\": \"\"\n      }\n    },\n    {\n      \"column\": \"PARKING_SPACE_QTY\",\n      \"properties\": {\n        \"dtype\": \"number\",\n        \"std\": 417.82311648192314,\n        \"min\": 17.0,\n        \"max\": 1859.0,\n        \"num_unique_values\": 23,\n        \"samples\": [\n          351.0,\n          350.0,\n          196.0\n        ],\n        \"semantic_type\": \"\",\n        \"description\": \"\"\n      }\n    },\n    {\n      \"column\": \"SALES_AREA_SIZE_NUM\",\n      \"properties\": {\n        \"dtype\": \"int32\",\n        \"num_unique_values\": 72,\n        \"samples\": [\n          81958,\n          62961,\n          55474\n        ],\n        \"semantic_type\": \"\",\n        \"description\": \"\"\n      }\n    },\n    {\n      \"column\": \"AVG_WEEKLY_BASKETS\",\n      \"properties\": {\n        \"dtype\": \"int32\",\n        \"num_unique_values\": 76,\n        \"samples\": [\n          54053,\n          15345,\n          14201\n        ],\n        \"semantic_type\": \"\",\n        \"description\": \"\"\n      }\n    }\n  ]\n}"
            }
          },
          "metadata": {},
          "execution_count": 45
        }
      ]
    },
    {
      "source": [
        "# @title SEG_VALUE_NAME\n",
        "\n",
        "from matplotlib import pyplot as plt\n",
        "import seaborn as sns\n",
        "store_df.groupby('SEG_VALUE_NAME').size().plot(kind='barh', color=sns.palettes.mpl_palette('Dark2'))\n",
        "plt.gca().spines[['top', 'right',]].set_visible(False)"
      ],
      "cell_type": "code",
      "execution_count": 46,
      "outputs": [
        {
          "output_type": "display_data",
          "data": {
            "text/plain": [
              "<Figure size 640x480 with 1 Axes>"
            ],
            "image/png": "[encoded data removed]"
          },
          "metadata": {}
        }
      ],
      "metadata": {
        "cellView": "form",
        "colab": {
          "base_uri": "https://localhost:8080/",
          "height": 430
        },
        "id": "LMPlCGm7YSKs",
        "outputId": "0262ddc9-a0fb-41ee-d949-68f64d1d9231"
      }
    },
    {
      "cell_type": "markdown",
      "source": [
        "`LABEL ENCODING SEG_VALUE_NAME`\n"
      ],
      "metadata": {
        "id": "2uSci4jmX7RW"
      }
    },
    {
      "cell_type": "code",
      "source": [
        "store_df.replace({'SEG_VALUE_NAME':{'VALUE':1,'MAINSTREAM':2,'UPSCALE':3}})"
      ],
      "metadata": {
        "colab": {
          "base_uri": "https://localhost:8080/",
          "height": 424
        },
        "id": "BqI9uy_PW3SS",
        "outputId": "15e790d7-f95a-42e9-f7a8-b1f6ae4f965c"
      },
      "execution_count": 47,
      "outputs": [
        {
          "output_type": "execute_result",
          "data": {
            "text/plain": [
              "    STORE_ID ADDRESS_STATE_PROV_CODE  MSA_CODE  SEG_VALUE_NAME  \\\n",
              "0        367                      KY     17140               1   \n",
              "1        389                      KY     17140               2   \n",
              "2        613                      TX     19100               2   \n",
              "3        623                      TX     26420               2   \n",
              "4       2277                      OH     17140               3   \n",
              "..       ...                     ...       ...             ...   \n",
              "71     26981                      OH     44220               2   \n",
              "72     26983                      OH     19380               1   \n",
              "73     27175                      TX     26420               3   \n",
              "74     28909                      OH     17140               2   \n",
              "75     29159                      TX     19100               2   \n",
              "\n",
              "    PARKING_SPACE_QTY  SALES_AREA_SIZE_NUM  AVG_WEEKLY_BASKETS  \n",
              "0               196.0                24721               12707  \n",
              "1               408.0                46073               24767  \n",
              "2               464.0                64926               29386  \n",
              "3                 NaN                46930               36741  \n",
              "4                 NaN                81958               54053  \n",
              "..                ...                  ...                 ...  \n",
              "71                NaN                42081               25122  \n",
              "72                NaN                48782               31461  \n",
              "73                NaN                50224               24902  \n",
              "74                NaN                85876               28986  \n",
              "75                NaN                54927               25917  \n",
              "\n",
              "[76 rows x 7 columns]"
            ],
            "text/html": [
              "\n",
              "  <div id=\"df-3e754b71-d349-4318-bbc7-ed7f36c13031\" class=\"colab-df-container\">\n",
              "    <div>\n",
              "<style scoped>\n",
              "    .dataframe tbody tr th:only-of-type {\n",
              "        vertical-align: middle;\n",
              "    }\n",
              "\n",
              "    .dataframe tbody tr th {\n",
              "        vertical-align: top;\n",
              "    }\n",
              "\n",
              "    .dataframe thead th {\n",
              "        text-align: right;\n",
              "    }\n",
              "</style>\n",
              "<table border=\"1\" class=\"dataframe\">\n",
              "  <thead>\n",
              "    <tr style=\"text-align: right;\">\n",
              "      <th></th>\n",
              "      <th>STORE_ID</th>\n",
              "      <th>ADDRESS_STATE_PROV_CODE</th>\n",
              "      <th>MSA_CODE</th>\n",
              "      <th>SEG_VALUE_NAME</th>\n",
              "      <th>PARKING_SPACE_QTY</th>\n",
              "      <th>SALES_AREA_SIZE_NUM</th>\n",
              "      <th>AVG_WEEKLY_BASKETS</th>\n",
              "    </tr>\n",
              "  </thead>\n",
              "  <tbody>\n",
              "    <tr>\n",
              "      <th>0</th>\n",
              "      <td>367</td>\n",
              "      <td>KY</td>\n",
              "      <td>17140</td>\n",
              "      <td>1</td>\n",
              "      <td>196.0</td>\n",
              "      <td>24721</td>\n",
              "      <td>12707</td>\n",
              "    </tr>\n",
              "    <tr>\n",
              "      <th>1</th>\n",
              "      <td>389</td>\n",
              "      <td>KY</td>\n",
              "      <td>17140</td>\n",
              "      <td>2</td>\n",
              "      <td>408.0</td>\n",
              "      <td>46073</td>\n",
              "      <td>24767</td>\n",
              "    </tr>\n",
              "    <tr>\n",
              "      <th>2</th>\n",
              "      <td>613</td>\n",
              "      <td>TX</td>\n",
              "      <td>19100</td>\n",
              "      <td>2</td>\n",
              "      <td>464.0</td>\n",
              "      <td>64926</td>\n",
              "      <td>29386</td>\n",
              "    </tr>\n",
              "    <tr>\n",
              "      <th>3</th>\n",
              "      <td>623</td>\n",
              "      <td>TX</td>\n",
              "      <td>26420</td>\n",
              "      <td>2</td>\n",
              "      <td>NaN</td>\n",
              "      <td>46930</td>\n",
              "      <td>36741</td>\n",
              "    </tr>\n",
              "    <tr>\n",
              "      <th>4</th>\n",
              "      <td>2277</td>\n",
              "      <td>OH</td>\n",
              "      <td>17140</td>\n",
              "      <td>3</td>\n",
              "      <td>NaN</td>\n",
              "      <td>81958</td>\n",
              "      <td>54053</td>\n",
              "    </tr>\n",
              "    <tr>\n",
              "      <th>...</th>\n",
              "      <td>...</td>\n",
              "      <td>...</td>\n",
              "      <td>...</td>\n",
              "      <td>...</td>\n",
              "      <td>...</td>\n",
              "      <td>...</td>\n",
              "      <td>...</td>\n",
              "    </tr>\n",
              "    <tr>\n",
              "      <th>71</th>\n",
              "      <td>26981</td>\n",
              "      <td>OH</td>\n",
              "      <td>44220</td>\n",
              "      <td>2</td>\n",
              "      <td>NaN</td>\n",
              "      <td>42081</td>\n",
              "      <td>25122</td>\n",
              "    </tr>\n",
              "    <tr>\n",
              "      <th>72</th>\n",
              "      <td>26983</td>\n",
              "      <td>OH</td>\n",
              "      <td>19380</td>\n",
              "      <td>1</td>\n",
              "      <td>NaN</td>\n",
              "      <td>48782</td>\n",
              "      <td>31461</td>\n",
              "    </tr>\n",
              "    <tr>\n",
              "      <th>73</th>\n",
              "      <td>27175</td>\n",
              "      <td>TX</td>\n",
              "      <td>26420</td>\n",
              "      <td>3</td>\n",
              "      <td>NaN</td>\n",
              "      <td>50224</td>\n",
              "      <td>24902</td>\n",
              "    </tr>\n",
              "    <tr>\n",
              "      <th>74</th>\n",
              "      <td>28909</td>\n",
              "      <td>OH</td>\n",
              "      <td>17140</td>\n",
              "      <td>2</td>\n",
              "      <td>NaN</td>\n",
              "      <td>85876</td>\n",
              "      <td>28986</td>\n",
              "    </tr>\n",
              "    <tr>\n",
              "      <th>75</th>\n",
              "      <td>29159</td>\n",
              "      <td>TX</td>\n",
              "      <td>19100</td>\n",
              "      <td>2</td>\n",
              "      <td>NaN</td>\n",
              "      <td>54927</td>\n",
              "      <td>25917</td>\n",
              "    </tr>\n",
              "  </tbody>\n",
              "</table>\n",
              "<p>76 rows × 7 columns</p>\n",
              "</div>\n",
              "    <div class=\"colab-df-buttons\">\n",
              "\n",
              "  <div class=\"colab-df-container\">\n",
              "    <button class=\"colab-df-convert\" onclick=\"convertToInteractive('df-3e754b71-d349-4318-bbc7-ed7f36c13031')\"\n",
              "            title=\"Convert this dataframe to an interactive table.\"\n",
              "            style=\"display:none;\">\n",
              "\n",
              "  <svg xmlns=\"http://www.w3.org/2000/svg\" height=\"24px\" viewBox=\"0 -960 960 960\">\n",
              "    <path d=\"M120-120v-720h720v720H120Zm60-500h600v-160H180v160Zm220 220h160v-160H400v160Zm0 220h160v-160H400v160ZM180-400h160v-160H180v160Zm440 0h160v-160H620v160ZM180-180h160v-160H180v160Zm440 0h160v-160H620v160Z\"/>\n",
              "  </svg>\n",
              "    </button>\n",
              "\n",
              "  <style>\n",
              "    .colab-df-container {\n",
              "      display:flex;\n",
              "      gap: 12px;\n",
              "    }\n",
              "\n",
              "    .colab-df-convert {\n",
              "      background-color: #E8F0FE;\n",
              "      border: none;\n",
              "      border-radius: 50%;\n",
              "      cursor: pointer;\n",
              "      display: none;\n",
              "      fill: #1967D2;\n",
              "      height: 32px;\n",
              "      padding: 0 0 0 0;\n",
              "      width: 32px;\n",
              "    }\n",
              "\n",
              "    .colab-df-convert:hover {\n",
              "      background-color: #E2EBFA;\n",
              "      box-shadow: 0px 1px 2px rgba(60, 64, 67, 0.3), 0px 1px 3px 1px rgba(60, 64, 67, 0.15);\n",
              "      fill: #174EA6;\n",
              "    }\n",
              "\n",
              "    .colab-df-buttons div {\n",
              "      margin-bottom: 4px;\n",
              "    }\n",
              "\n",
              "    [theme=dark] .colab-df-convert {\n",
              "      background-color: #3B4455;\n",
              "      fill: #D2E3FC;\n",
              "    }\n",
              "\n",
              "    [theme=dark] .colab-df-convert:hover {\n",
              "      background-color: #434B5C;\n",
              "      box-shadow: 0px 1px 3px 1px rgba(0, 0, 0, 0.15);\n",
              "      filter: drop-shadow(0px 1px 2px rgba(0, 0, 0, 0.3));\n",
              "      fill: #FFFFFF;\n",
              "    }\n",
              "  </style>\n",
              "\n",
              "    <script>\n",
              "      const buttonEl =\n",
              "        document.querySelector('#df-3e754b71-d349-4318-bbc7-ed7f36c13031 button.colab-df-convert');\n",
              "      buttonEl.style.display =\n",
              "        google.colab.kernel.accessAllowed ? 'block' : 'none';\n",
              "\n",
              "      async function convertToInteractive(key) {\n",
              "        const element = document.querySelector('#df-3e754b71-d349-4318-bbc7-ed7f36c13031');\n",
              "        const dataTable =\n",
              "          await google.colab.kernel.invokeFunction('convertToInteractive',\n",
              "                                                    [key], {});\n",
              "        if (!dataTable) return;\n",
              "\n",
              "        const docLinkHtml = 'Like what you see? Visit the ' +\n",
              "          '<a target=\"_blank\" href=https://colab.research.google.com/notebooks/data_table.ipynb>data table notebook</a>'\n",
              "          + ' to learn more about interactive tables.';\n",
              "        element.innerHTML = '';\n",
              "        dataTable['output_type'] = 'display_data';\n",
              "        await google.colab.output.renderOutput(dataTable, element);\n",
              "        const docLink = document.createElement('div');\n",
              "        docLink.innerHTML = docLinkHtml;\n",
              "        element.appendChild(docLink);\n",
              "      }\n",
              "    </script>\n",
              "  </div>\n",
              "\n",
              "\n",
              "    <div id=\"df-f1ffed11-87c9-4324-a8e1-25bc8958336a\">\n",
              "      <button class=\"colab-df-quickchart\" onclick=\"quickchart('df-f1ffed11-87c9-4324-a8e1-25bc8958336a')\"\n",
              "                title=\"Suggest charts\"\n",
              "                style=\"display:none;\">\n",
              "\n",
              "<svg xmlns=\"http://www.w3.org/2000/svg\" height=\"24px\"viewBox=\"0 0 24 24\"\n",
              "     width=\"24px\">\n",
              "    <g>\n",
              "        <path d=\"M19 3H5c-1.1 0-2 .9-2 2v14c0 1.1.9 2 2 2h14c1.1 0 2-.9 2-2V5c0-1.1-.9-2-2-2zM9 17H7v-7h2v7zm4 0h-2V7h2v10zm4 0h-2v-4h2v4z\"/>\n",
              "    </g>\n",
              "</svg>\n",
              "      </button>\n",
              "\n",
              "<style>\n",
              "  .colab-df-quickchart {\n",
              "      --bg-color: #E8F0FE;\n",
              "      --fill-color: #1967D2;\n",
              "      --hover-bg-color: #E2EBFA;\n",
              "      --hover-fill-color: #174EA6;\n",
              "      --disabled-fill-color: #AAA;\n",
              "      --disabled-bg-color: #DDD;\n",
              "  }\n",
              "\n",
              "  [theme=dark] .colab-df-quickchart {\n",
              "      --bg-color: #3B4455;\n",
              "      --fill-color: #D2E3FC;\n",
              "      --hover-bg-color: #434B5C;\n",
              "      --hover-fill-color: #FFFFFF;\n",
              "      --disabled-bg-color: #3B4455;\n",
              "      --disabled-fill-color: #666;\n",
              "  }\n",
              "\n",
              "  .colab-df-quickchart {\n",
              "    background-color: var(--bg-color);\n",
              "    border: none;\n",
              "    border-radius: 50%;\n",
              "    cursor: pointer;\n",
              "    display: none;\n",
              "    fill: var(--fill-color);\n",
              "    height: 32px;\n",
              "    padding: 0;\n",
              "    width: 32px;\n",
              "  }\n",
              "\n",
              "  .colab-df-quickchart:hover {\n",
              "    background-color: var(--hover-bg-color);\n",
              "    box-shadow: 0 1px 2px rgba(60, 64, 67, 0.3), 0 1px 3px 1px rgba(60, 64, 67, 0.15);\n",
              "    fill: var(--button-hover-fill-color);\n",
              "  }\n",
              "\n",
              "  .colab-df-quickchart-complete:disabled,\n",
              "  .colab-df-quickchart-complete:disabled:hover {\n",
              "    background-color: var(--disabled-bg-color);\n",
              "    fill: var(--disabled-fill-color);\n",
              "    box-shadow: none;\n",
              "  }\n",
              "\n",
              "  .colab-df-spinner {\n",
              "    border: 2px solid var(--fill-color);\n",
              "    border-color: transparent;\n",
              "    border-bottom-color: var(--fill-color);\n",
              "    animation:\n",
              "      spin 1s steps(1) infinite;\n",
              "  }\n",
              "\n",
              "  @keyframes spin {\n",
              "    0% {\n",
              "      border-color: transparent;\n",
              "      border-bottom-color: var(--fill-color);\n",
              "      border-left-color: var(--fill-color);\n",
              "    }\n",
              "    20% {\n",
              "      border-color: transparent;\n",
              "      border-left-color: var(--fill-color);\n",
              "      border-top-color: var(--fill-color);\n",
              "    }\n",
              "    30% {\n",
              "      border-color: transparent;\n",
              "      border-left-color: var(--fill-color);\n",
              "      border-top-color: var(--fill-color);\n",
              "      border-right-color: var(--fill-color);\n",
              "    }\n",
              "    40% {\n",
              "      border-color: transparent;\n",
              "      border-right-color: var(--fill-color);\n",
              "      border-top-color: var(--fill-color);\n",
              "    }\n",
              "    60% {\n",
              "      border-color: transparent;\n",
              "      border-right-color: var(--fill-color);\n",
              "    }\n",
              "    80% {\n",
              "      border-color: transparent;\n",
              "      border-right-color: var(--fill-color);\n",
              "      border-bottom-color: var(--fill-color);\n",
              "    }\n",
              "    90% {\n",
              "      border-color: transparent;\n",
              "      border-bottom-color: var(--fill-color);\n",
              "    }\n",
              "  }\n",
              "</style>\n",
              "\n",
              "      <script>\n",
              "        async function quickchart(key) {\n",
              "          const quickchartButtonEl =\n",
              "            document.querySelector('#' + key + ' button');\n",
              "          quickchartButtonEl.disabled = true;  // To prevent multiple clicks.\n",
              "          quickchartButtonEl.classList.add('colab-df-spinner');\n",
              "          try {\n",
              "            const charts = await google.colab.kernel.invokeFunction(\n",
              "                'suggestCharts', [key], {});\n",
              "          } catch (error) {\n",
              "            console.error('Error during call to suggestCharts:', error);\n",
              "          }\n",
              "          quickchartButtonEl.classList.remove('colab-df-spinner');\n",
              "          quickchartButtonEl.classList.add('colab-df-quickchart-complete');\n",
              "        }\n",
              "        (() => {\n",
              "          let quickchartButtonEl =\n",
              "            document.querySelector('#df-f1ffed11-87c9-4324-a8e1-25bc8958336a button');\n",
              "          quickchartButtonEl.style.display =\n",
              "            google.colab.kernel.accessAllowed ? 'block' : 'none';\n",
              "        })();\n",
              "      </script>\n",
              "    </div>\n",
              "\n",
              "    </div>\n",
              "  </div>\n"
            ],
            "application/vnd.google.colaboratory.intrinsic+json": {
              "type": "dataframe",
              "summary": "{\n  \"name\": \"store_df\",\n  \"rows\": 76,\n  \"fields\": [\n    {\n      \"column\": \"STORE_ID\",\n      \"properties\": {\n        \"dtype\": \"int32\",\n        \"num_unique_values\": 76,\n        \"samples\": [\n          2277,\n          13859,\n          2523\n        ],\n        \"semantic_type\": \"\",\n        \"description\": \"\"\n      }\n    },\n    {\n      \"column\": \"ADDRESS_STATE_PROV_CODE\",\n      \"properties\": {\n        \"dtype\": \"category\",\n        \"num_unique_values\": 4,\n        \"samples\": [\n          \"TX\",\n          \"IN\",\n          \"KY\"\n        ],\n        \"semantic_type\": \"\",\n        \"description\": \"\"\n      }\n    },\n    {\n      \"column\": \"MSA_CODE\",\n      \"properties\": {\n        \"dtype\": \"int32\",\n        \"num_unique_values\": 9,\n        \"samples\": [\n          13140,\n          19100,\n          43300\n        ],\n        \"semantic_type\": \"\",\n        \"description\": \"\"\n      }\n    },\n    {\n      \"column\": \"SEG_VALUE_NAME\",\n      \"properties\": {\n        \"dtype\": \"number\",\n        \"std\": 0,\n        \"min\": 1,\n        \"max\": 3,\n        \"num_unique_values\": 3,\n        \"samples\": [\n          1,\n          2,\n          3\n        ],\n        \"semantic_type\": \"\",\n        \"description\": \"\"\n      }\n    },\n    {\n      \"column\": \"PARKING_SPACE_QTY\",\n      \"properties\": {\n        \"dtype\": \"number\",\n        \"std\": 417.82311648192314,\n        \"min\": 17.0,\n        \"max\": 1859.0,\n        \"num_unique_values\": 23,\n        \"samples\": [\n          351.0,\n          350.0,\n          196.0\n        ],\n        \"semantic_type\": \"\",\n        \"description\": \"\"\n      }\n    },\n    {\n      \"column\": \"SALES_AREA_SIZE_NUM\",\n      \"properties\": {\n        \"dtype\": \"int32\",\n        \"num_unique_values\": 72,\n        \"samples\": [\n          81958,\n          62961,\n          55474\n        ],\n        \"semantic_type\": \"\",\n        \"description\": \"\"\n      }\n    },\n    {\n      \"column\": \"AVG_WEEKLY_BASKETS\",\n      \"properties\": {\n        \"dtype\": \"int32\",\n        \"num_unique_values\": 76,\n        \"samples\": [\n          54053,\n          15345,\n          14201\n        ],\n        \"semantic_type\": \"\",\n        \"description\": \"\"\n      }\n    }\n  ]\n}"
            }
          },
          "metadata": {},
          "execution_count": 47
        }
      ]
    },
    {
      "cell_type": "code",
      "source": [
        "store_ohe = pd.get_dummies(store_df, columns=['ADDRESS_STATE_PROV_CODE', 'MSA_CODE'])"
      ],
      "metadata": {
        "id": "bwP7vgwEXQv5"
      },
      "execution_count": 48,
      "outputs": []
    },
    {
      "cell_type": "code",
      "source": [
        "store_ohe.info()"
      ],
      "metadata": {
        "colab": {
          "base_uri": "https://localhost:8080/"
        },
        "id": "rxmPVFzYYf2_",
        "outputId": "a9356e3b-d0ef-48a2-ed55-b497ce80b8df"
      },
      "execution_count": 49,
      "outputs": [
        {
          "output_type": "stream",
          "name": "stdout",
          "text": [
            "<class 'pandas.core.frame.DataFrame'>\n",
            "RangeIndex: 76 entries, 0 to 75\n",
            "Data columns (total 18 columns):\n",
            " #   Column                      Non-Null Count  Dtype  \n",
            "---  ------                      --------------  -----  \n",
            " 0   STORE_ID                    76 non-null     int32  \n",
            " 1   SEG_VALUE_NAME              76 non-null     object \n",
            " 2   PARKING_SPACE_QTY           25 non-null     float64\n",
            " 3   SALES_AREA_SIZE_NUM         76 non-null     int32  \n",
            " 4   AVG_WEEKLY_BASKETS          76 non-null     int32  \n",
            " 5   ADDRESS_STATE_PROV_CODE_IN  76 non-null     bool   \n",
            " 6   ADDRESS_STATE_PROV_CODE_KY  76 non-null     bool   \n",
            " 7   ADDRESS_STATE_PROV_CODE_OH  76 non-null     bool   \n",
            " 8   ADDRESS_STATE_PROV_CODE_TX  76 non-null     bool   \n",
            " 9   MSA_CODE_13140              76 non-null     bool   \n",
            " 10  MSA_CODE_17140              76 non-null     bool   \n",
            " 11  MSA_CODE_17780              76 non-null     bool   \n",
            " 12  MSA_CODE_19100              76 non-null     bool   \n",
            " 13  MSA_CODE_19380              76 non-null     bool   \n",
            " 14  MSA_CODE_26420              76 non-null     bool   \n",
            " 15  MSA_CODE_43300              76 non-null     bool   \n",
            " 16  MSA_CODE_44220              76 non-null     bool   \n",
            " 17  MSA_CODE_47540              76 non-null     bool   \n",
            "dtypes: bool(13), float64(1), int32(3), object(1)\n",
            "memory usage: 3.2+ KB\n"
          ]
        }
      ]
    },
    {
      "cell_type": "code",
      "source": [
        "store_ohe.shape"
      ],
      "metadata": {
        "colab": {
          "base_uri": "https://localhost:8080/"
        },
        "id": "F3xeZZEvYiaJ",
        "outputId": "2a4108e6-9b85-4bca-d132-ab32b715f69d"
      },
      "execution_count": 50,
      "outputs": [
        {
          "output_type": "execute_result",
          "data": {
            "text/plain": [
              "(76, 18)"
            ]
          },
          "metadata": {},
          "execution_count": 50
        }
      ]
    },
    {
      "cell_type": "code",
      "source": [
        "store_ohe.loc[0]"
      ],
      "metadata": {
        "colab": {
          "base_uri": "https://localhost:8080/",
          "height": 649
        },
        "id": "ZUA2H1YmYmMf",
        "outputId": "ef78714f-f89e-4e04-ae7f-904481031a84"
      },
      "execution_count": 51,
      "outputs": [
        {
          "output_type": "execute_result",
          "data": {
            "text/plain": [
              "STORE_ID                        367\n",
              "SEG_VALUE_NAME                VALUE\n",
              "PARKING_SPACE_QTY             196.0\n",
              "SALES_AREA_SIZE_NUM           24721\n",
              "AVG_WEEKLY_BASKETS            12707\n",
              "ADDRESS_STATE_PROV_CODE_IN    False\n",
              "ADDRESS_STATE_PROV_CODE_KY     True\n",
              "ADDRESS_STATE_PROV_CODE_OH    False\n",
              "ADDRESS_STATE_PROV_CODE_TX    False\n",
              "MSA_CODE_13140                False\n",
              "MSA_CODE_17140                 True\n",
              "MSA_CODE_17780                False\n",
              "MSA_CODE_19100                False\n",
              "MSA_CODE_19380                False\n",
              "MSA_CODE_26420                False\n",
              "MSA_CODE_43300                False\n",
              "MSA_CODE_44220                False\n",
              "MSA_CODE_47540                False\n",
              "Name: 0, dtype: object"
            ],
            "text/html": [
              "<div>\n",
              "<style scoped>\n",
              "    .dataframe tbody tr th:only-of-type {\n",
              "        vertical-align: middle;\n",
              "    }\n",
              "\n",
              "    .dataframe tbody tr th {\n",
              "        vertical-align: top;\n",
              "    }\n",
              "\n",
              "    .dataframe thead th {\n",
              "        text-align: right;\n",
              "    }\n",
              "</style>\n",
              "<table border=\"1\" class=\"dataframe\">\n",
              "  <thead>\n",
              "    <tr style=\"text-align: right;\">\n",
              "      <th></th>\n",
              "      <th>0</th>\n",
              "    </tr>\n",
              "  </thead>\n",
              "  <tbody>\n",
              "    <tr>\n",
              "      <th>STORE_ID</th>\n",
              "      <td>367</td>\n",
              "    </tr>\n",
              "    <tr>\n",
              "      <th>SEG_VALUE_NAME</th>\n",
              "      <td>VALUE</td>\n",
              "    </tr>\n",
              "    <tr>\n",
              "      <th>PARKING_SPACE_QTY</th>\n",
              "      <td>196.0</td>\n",
              "    </tr>\n",
              "    <tr>\n",
              "      <th>SALES_AREA_SIZE_NUM</th>\n",
              "      <td>24721</td>\n",
              "    </tr>\n",
              "    <tr>\n",
              "      <th>AVG_WEEKLY_BASKETS</th>\n",
              "      <td>12707</td>\n",
              "    </tr>\n",
              "    <tr>\n",
              "      <th>ADDRESS_STATE_PROV_CODE_IN</th>\n",
              "      <td>False</td>\n",
              "    </tr>\n",
              "    <tr>\n",
              "      <th>ADDRESS_STATE_PROV_CODE_KY</th>\n",
              "      <td>True</td>\n",
              "    </tr>\n",
              "    <tr>\n",
              "      <th>ADDRESS_STATE_PROV_CODE_OH</th>\n",
              "      <td>False</td>\n",
              "    </tr>\n",
              "    <tr>\n",
              "      <th>ADDRESS_STATE_PROV_CODE_TX</th>\n",
              "      <td>False</td>\n",
              "    </tr>\n",
              "    <tr>\n",
              "      <th>MSA_CODE_13140</th>\n",
              "      <td>False</td>\n",
              "    </tr>\n",
              "    <tr>\n",
              "      <th>MSA_CODE_17140</th>\n",
              "      <td>True</td>\n",
              "    </tr>\n",
              "    <tr>\n",
              "      <th>MSA_CODE_17780</th>\n",
              "      <td>False</td>\n",
              "    </tr>\n",
              "    <tr>\n",
              "      <th>MSA_CODE_19100</th>\n",
              "      <td>False</td>\n",
              "    </tr>\n",
              "    <tr>\n",
              "      <th>MSA_CODE_19380</th>\n",
              "      <td>False</td>\n",
              "    </tr>\n",
              "    <tr>\n",
              "      <th>MSA_CODE_26420</th>\n",
              "      <td>False</td>\n",
              "    </tr>\n",
              "    <tr>\n",
              "      <th>MSA_CODE_43300</th>\n",
              "      <td>False</td>\n",
              "    </tr>\n",
              "    <tr>\n",
              "      <th>MSA_CODE_44220</th>\n",
              "      <td>False</td>\n",
              "    </tr>\n",
              "    <tr>\n",
              "      <th>MSA_CODE_47540</th>\n",
              "      <td>False</td>\n",
              "    </tr>\n",
              "  </tbody>\n",
              "</table>\n",
              "</div><br><label><b>dtype:</b> object</label>"
            ]
          },
          "metadata": {},
          "execution_count": 51
        }
      ]
    },
    {
      "cell_type": "markdown",
      "source": [
        "\n",
        "## `PREPROCESSING: NUMERICAL FEATURES`\n",
        "\n",
        "- Check and impute the missing values in the numerical features.\n",
        "- Check for the outliers and treat them.\n"
      ],
      "metadata": {
        "id": "CEUT0lzUZfC5"
      }
    },
    {
      "cell_type": "markdown",
      "source": [
        "# `WEEKLY SALES DATA`"
      ],
      "metadata": {
        "id": "OE66JDaDZjpR"
      }
    },
    {
      "cell_type": "code",
      "source": [
        "train.show(5)"
      ],
      "metadata": {
        "colab": {
          "base_uri": "https://localhost:8080/"
        },
        "id": "BtE8R8DsYw1g",
        "outputId": "4bd8cdd4-c31e-4530-d4ea-965033a0341d"
      },
      "execution_count": 52,
      "outputs": [
        {
          "output_type": "stream",
          "name": "stdout",
          "text": [
            "+-------------+---------+----------+----------+-------+-------+-----+\n",
            "|WEEK_END_DATE|STORE_NUM|       UPC|BASE_PRICE|FEATURE|DISPLAY|UNITS|\n",
            "+-------------+---------+----------+----------+-------+-------+-----+\n",
            "|    14-Jan-09|      367|1111009477|      1.57|      0|      0|   13|\n",
            "|    14-Jan-09|      367|1111009497|      1.39|      0|      0|   20|\n",
            "|    14-Jan-09|      367|1111085319|      1.88|      0|      0|   14|\n",
            "|    14-Jan-09|      367|1111085345|      1.88|      0|      0|   29|\n",
            "|    14-Jan-09|      367|1111085350|      1.98|      0|      0|   35|\n",
            "+-------------+---------+----------+----------+-------+-------+-----+\n",
            "only showing top 5 rows\n",
            "\n"
          ]
        }
      ]
    },
    {
      "cell_type": "markdown",
      "source": [
        "---\n",
        "\n",
        "### `WEEKLY SALES DATA`  has the following numerical features\n",
        "\n",
        "    - BASE_PRICE\n",
        "    - UNITS (Target)\n",
        "    \n",
        "---   "
      ],
      "metadata": {
        "id": "cFYJhg07Zwmf"
      }
    },
    {
      "cell_type": "code",
      "source": [
        "train.select([count(when(isnull(c),c)).alias(c) for c in train.columns]).show()"
      ],
      "metadata": {
        "colab": {
          "base_uri": "https://localhost:8080/"
        },
        "id": "2NePElokZOk_",
        "outputId": "bcf780f8-5817-4c04-eeb5-4865511499c7"
      },
      "execution_count": 53,
      "outputs": [
        {
          "output_type": "stream",
          "name": "stdout",
          "text": [
            "+-------------+---------+---+----------+-------+-------+-----+\n",
            "|WEEK_END_DATE|STORE_NUM|UPC|BASE_PRICE|FEATURE|DISPLAY|UNITS|\n",
            "+-------------+---------+---+----------+-------+-------+-----+\n",
            "|            0|        0|  0|        12|      0|      0|    0|\n",
            "+-------------+---------+---+----------+-------+-------+-----+\n",
            "\n"
          ]
        }
      ]
    },
    {
      "cell_type": "markdown",
      "source": [
        " Here we can see `BASE_PRICE` columns has `12` null values  "
      ],
      "metadata": {
        "id": "Uihxdj8QaWqw"
      }
    },
    {
      "cell_type": "markdown",
      "source": [
        "Imputing the missing values in the `BASE_PRICE`"
      ],
      "metadata": {
        "id": "Wt900XAdaiE-"
      }
    },
    {
      "cell_type": "code",
      "source": [
        "# We'll fill the null values with the average values of Base_Price\n"
      ],
      "metadata": {
        "id": "DNSB8HEHaEtp"
      },
      "execution_count": 55,
      "outputs": []
    },
    {
      "cell_type": "code",
      "source": [
        "train.select([count(when(isnull(c),c)).alias(c) for c in train.columns]).show()"
      ],
      "metadata": {
        "colab": {
          "base_uri": "https://localhost:8080/"
        },
        "id": "7ysCI-3R7CM_",
        "outputId": "3e056e2d-4a88-42a1-fed3-eb12e396ab22"
      },
      "execution_count": 56,
      "outputs": [
        {
          "output_type": "stream",
          "name": "stdout",
          "text": [
            "+-------------+---------+---+----------+-------+-------+-----+\n",
            "|WEEK_END_DATE|STORE_NUM|UPC|BASE_PRICE|FEATURE|DISPLAY|UNITS|\n",
            "+-------------+---------+---+----------+-------+-------+-----+\n",
            "|            0|        0|  0|         0|      0|      0|    0|\n",
            "+-------------+---------+---+----------+-------+-------+-----+\n",
            "\n"
          ]
        }
      ]
    },
    {
      "cell_type": "code",
      "source": [],
      "metadata": {
        "id": "9kdWnWz98N7s"
      },
      "execution_count": null,
      "outputs": []
    },
    {
      "cell_type": "markdown",
      "metadata": {
        "id": "9a653817"
      },
      "source": [
        "# Task\n",
        "Fill the missing values in the `BASE_PRICE` column of the `train` DataFrame with the mean `BASE_PRICE` for each corresponding `STORE_NUM`."
      ]
    },
    {
      "cell_type": "markdown",
      "metadata": {
        "id": "eb6c07bc"
      },
      "source": [
        "## Calculate mean base price per store\n",
        "\n",
        "### Subtask:\n",
        "Calculate the mean of `BASE_PRICE` for each `STORE_NUM` in the `train` DataFrame, considering only non-null `BASE_PRICE` values.\n"
      ]
    },
    {
      "cell_type": "markdown",
      "metadata": {
        "id": "b8745da2"
      },
      "source": [
        "**Reasoning**:\n",
        "Calculate the average base price for each store number to prepare for filling missing values.\n",
        "\n"
      ]
    },
    {
      "cell_type": "code",
      "metadata": {
        "id": "19faaa59"
      },
      "source": [
        "from pyspark.sql.functions import avg\n",
        "\n",
        "store_base_price_avg = train.groupBy(\"STORE_NUM\").agg(avg(\"BASE_PRICE\").alias(\"mean_base_price\"))"
      ],
      "execution_count": 57,
      "outputs": []
    },
    {
      "cell_type": "code",
      "metadata": {
        "colab": {
          "base_uri": "https://localhost:8080/"
        },
        "id": "8cd2a420",
        "outputId": "3f2fa81e-191b-4ed9-f8cb-039251b74ec6"
      },
      "source": [
        "train_joined = train.join(store_base_price_avg, on=\"STORE_NUM\", how=\"left\")\n",
        "train_joined.show(5)"
      ],
      "execution_count": 58,
      "outputs": [
        {
          "output_type": "stream",
          "name": "stdout",
          "text": [
            "+---------+-------------+----------+----------+-------+-------+-----+------------------+\n",
            "|STORE_NUM|WEEK_END_DATE|       UPC|BASE_PRICE|FEATURE|DISPLAY|UNITS|   mean_base_price|\n",
            "+---------+-------------+----------+----------+-------+-------+-----+------------------+\n",
            "|      367|    14-Jan-09|1111009477|      1.57|      0|      0|   13|3.4998979591836448|\n",
            "|      367|    14-Jan-09|1111009497|      1.39|      0|      0|   20|3.4998979591836448|\n",
            "|      367|    14-Jan-09|1111085319|      1.88|      0|      0|   14|3.4998979591836448|\n",
            "|      367|    14-Jan-09|1111085345|      1.88|      0|      0|   29|3.4998979591836448|\n",
            "|      367|    14-Jan-09|1111085350|      1.98|      0|      0|   35|3.4998979591836448|\n",
            "+---------+-------------+----------+----------+-------+-------+-----+------------------+\n",
            "only showing top 5 rows\n",
            "\n"
          ]
        }
      ]
    },
    {
      "cell_type": "code",
      "source": [
        "train = train_joined.withColumn(\"BASE_PRICE\", when(train_joined[\"BASE_PRICE\"].isNull(), train_joined[\"mean_base_price\"]).otherwise(train_joined[\"BASE_PRICE\"]))"
      ],
      "metadata": {
        "id": "w-JOZFPK94qI"
      },
      "execution_count": 62,
      "outputs": []
    },
    {
      "cell_type": "code",
      "source": [
        "train.select([count(when(isnull(c),c)).alias(c) for c in train.columns]).show()"
      ],
      "metadata": {
        "colab": {
          "base_uri": "https://localhost:8080/"
        },
        "id": "KbbwyToO99Lv",
        "outputId": "b9c0f04a-2acd-4012-86e9-0ecd53d73df2"
      },
      "execution_count": 63,
      "outputs": [
        {
          "output_type": "stream",
          "name": "stdout",
          "text": [
            "+---------+-------------+---+----------+-------+-------+-----+---------------+\n",
            "|STORE_NUM|WEEK_END_DATE|UPC|BASE_PRICE|FEATURE|DISPLAY|UNITS|mean_base_price|\n",
            "+---------+-------------+---+----------+-------+-------+-----+---------------+\n",
            "|        0|            0|  0|         0|      0|      0|    0|              0|\n",
            "+---------+-------------+---+----------+-------+-------+-----+---------------+\n",
            "\n"
          ]
        }
      ]
    },
    {
      "cell_type": "code",
      "source": [
        "\n",
        "train.drop(\"mean_base_price\").show(5)"
      ],
      "metadata": {
        "colab": {
          "base_uri": "https://localhost:8080/"
        },
        "id": "qD-Wr0ax-Clj",
        "outputId": "3e7fe31a-b385-41be-ca88-2488e896e748"
      },
      "execution_count": 64,
      "outputs": [
        {
          "output_type": "stream",
          "name": "stdout",
          "text": [
            "+---------+-------------+----------+----------+-------+-------+-----+\n",
            "|STORE_NUM|WEEK_END_DATE|       UPC|BASE_PRICE|FEATURE|DISPLAY|UNITS|\n",
            "+---------+-------------+----------+----------+-------+-------+-----+\n",
            "|      367|    14-Jan-09|1111009477|      1.57|      0|      0|   13|\n",
            "|      367|    14-Jan-09|1111009497|      1.39|      0|      0|   20|\n",
            "|      367|    14-Jan-09|1111085319|      1.88|      0|      0|   14|\n",
            "|      367|    14-Jan-09|1111085345|      1.88|      0|      0|   29|\n",
            "|      367|    14-Jan-09|1111085350|      1.98|      0|      0|   35|\n",
            "+---------+-------------+----------+----------+-------+-------+-----+\n",
            "only showing top 5 rows\n",
            "\n"
          ]
        }
      ]
    },
    {
      "cell_type": "code",
      "source": [
        "# Converting Spark Dataframe into pandas\n",
        "train_df = train.toPandas()"
      ],
      "metadata": {
        "id": "9Rwp3yeu-HGF"
      },
      "execution_count": 93,
      "outputs": []
    },
    {
      "cell_type": "code",
      "source": [
        "train_df.drop('mean_base_price',axis=1,inplace=True)"
      ],
      "metadata": {
        "id": "zTwIDgWBHTRJ"
      },
      "execution_count": 94,
      "outputs": []
    },
    {
      "cell_type": "code",
      "source": [
        "train_df.info()"
      ],
      "metadata": {
        "colab": {
          "base_uri": "https://localhost:8080/"
        },
        "id": "XBHNs48_-lTG",
        "outputId": "53f0408e-1ff4-47b7-c022-1d016e201dfc"
      },
      "execution_count": 95,
      "outputs": [
        {
          "output_type": "stream",
          "name": "stdout",
          "text": [
            "<class 'pandas.core.frame.DataFrame'>\n",
            "RangeIndex: 232287 entries, 0 to 232286\n",
            "Data columns (total 7 columns):\n",
            " #   Column         Non-Null Count   Dtype  \n",
            "---  ------         --------------   -----  \n",
            " 0   STORE_NUM      232287 non-null  int32  \n",
            " 1   WEEK_END_DATE  232287 non-null  object \n",
            " 2   UPC            232287 non-null  int64  \n",
            " 3   BASE_PRICE     232287 non-null  float64\n",
            " 4   FEATURE        232287 non-null  int32  \n",
            " 5   DISPLAY        232287 non-null  int32  \n",
            " 6   UNITS          232287 non-null  int32  \n",
            "dtypes: float64(1), int32(4), int64(1), object(1)\n",
            "memory usage: 8.9+ MB\n"
          ]
        }
      ]
    },
    {
      "cell_type": "code",
      "source": [
        "%matplotlib inline\n",
        "plt.figure(figsize=(8,6))\n",
        "plt.scatter(x = range(train_df.shape[0]), y = np.sort(train_df['UNITS'].values))\n",
        "plt.xlabel('Index', fontsize=12)\n",
        "plt.ylabel('Units Sold', fontsize=12)\n",
        "plt.show()"
      ],
      "metadata": {
        "colab": {
          "base_uri": "https://localhost:8080/",
          "height": 546
        },
        "id": "x_9lJOZu-zC9",
        "outputId": "d456f4f2-71c9-4893-8095-73acd4e1c868"
      },
      "execution_count": 96,
      "outputs": [
        {
          "output_type": "display_data",
          "data": {
            "text/plain": [
              "<Figure size 800x600 with 1 Axes>"
            ],
            "image/png": "[encoded data removed]"
          },
          "metadata": {}
        }
      ]
    },
    {
      "cell_type": "code",
      "metadata": {
        "colab": {
          "base_uri": "https://localhost:8080/"
        },
        "id": "bec044de",
        "outputId": "5189e298-40ee-4934-c211-cb54fc360823"
      },
      "source": [
        "# Identify potential outliers based on the scatter plot\n",
        "# We can look at values that are significantly larger than the majority\n",
        "outlier_threshold = train_df['UNITS'].quantile(0.99) # Using 99th percentile as a threshold\n",
        "outliers = train_df[train_df['UNITS'] > outlier_threshold]['UNITS']\n",
        "\n",
        "print(\"Potential outlier values in 'UNITS':\")\n",
        "print(outliers.sort_values(ascending=False))"
      ],
      "execution_count": 97,
      "outputs": [
        {
          "output_type": "stream",
          "name": "stdout",
          "text": [
            "Potential outlier values in 'UNITS':\n",
            "7960      1800\n",
            "11209     1136\n",
            "9597      1054\n",
            "7893      1006\n",
            "215699     974\n",
            "          ... \n",
            "27847      168\n",
            "177712     168\n",
            "180203     168\n",
            "175137     168\n",
            "111037     168\n",
            "Name: UNITS, Length: 2316, dtype: int32\n"
          ]
        }
      ]
    },
    {
      "cell_type": "code",
      "source": [
        "train_df.drop(train_df[train_df['UNITS'] > 750].index, axis = 0, inplace= True)"
      ],
      "metadata": {
        "id": "n7LGsrEKGLhi"
      },
      "execution_count": 98,
      "outputs": []
    },
    {
      "cell_type": "code",
      "source": [
        "train_df[train_df['UNITS'] > 750].shape[0]"
      ],
      "metadata": {
        "colab": {
          "base_uri": "https://localhost:8080/"
        },
        "id": "feeYJeHVG7ib",
        "outputId": "01ae15f6-d88b-40b2-cc04-37db3f498884"
      },
      "execution_count": 103,
      "outputs": [
        {
          "output_type": "execute_result",
          "data": {
            "text/plain": [
              "0"
            ]
          },
          "metadata": {},
          "execution_count": 103
        }
      ]
    },
    {
      "cell_type": "markdown",
      "source": [
        "# `PRODUCT DATA` HAS NO NUMERICAL FEATURES"
      ],
      "metadata": {
        "id": "1eAo5Mx9Koev"
      }
    },
    {
      "cell_type": "markdown",
      "source": [
        "# `STORE DATA \"store_ohe\"` HAS FOLLOWING NUMERICAL FEATURES\n",
        "- PARKING_SPACE_QTY\n",
        "- SALES_AREA_SIZE_NUM\n",
        "- AVG_WEEKLY_BASKETS"
      ],
      "metadata": {
        "id": "NwhjkcpJKuvx"
      }
    },
    {
      "cell_type": "code",
      "source": [
        "store_ohe.shape"
      ],
      "metadata": {
        "colab": {
          "base_uri": "https://localhost:8080/"
        },
        "id": "TXrX7_wLKoPq",
        "outputId": "ff02ed1d-9546-43ca-c77b-fffdecd8af4d"
      },
      "execution_count": 105,
      "outputs": [
        {
          "output_type": "execute_result",
          "data": {
            "text/plain": [
              "(76, 18)"
            ]
          },
          "metadata": {},
          "execution_count": 105
        }
      ]
    },
    {
      "cell_type": "code",
      "source": [
        "store_ohe[['PARKING_SPACE_QTY','AVG_WEEKLY_BASKETS','SALES_AREA_SIZE_NUM']].isna().sum()"
      ],
      "metadata": {
        "colab": {
          "base_uri": "https://localhost:8080/",
          "height": 178
        },
        "id": "s39zjvmXKbw-",
        "outputId": "d10adca9-f176-4b46-f23b-9ae627a427a7"
      },
      "execution_count": 106,
      "outputs": [
        {
          "output_type": "execute_result",
          "data": {
            "text/plain": [
              "PARKING_SPACE_QTY      51\n",
              "AVG_WEEKLY_BASKETS      0\n",
              "SALES_AREA_SIZE_NUM     0\n",
              "dtype: int64"
            ],
            "text/html": [
              "<div>\n",
              "<style scoped>\n",
              "    .dataframe tbody tr th:only-of-type {\n",
              "        vertical-align: middle;\n",
              "    }\n",
              "\n",
              "    .dataframe tbody tr th {\n",
              "        vertical-align: top;\n",
              "    }\n",
              "\n",
              "    .dataframe thead th {\n",
              "        text-align: right;\n",
              "    }\n",
              "</style>\n",
              "<table border=\"1\" class=\"dataframe\">\n",
              "  <thead>\n",
              "    <tr style=\"text-align: right;\">\n",
              "      <th></th>\n",
              "      <th>0</th>\n",
              "    </tr>\n",
              "  </thead>\n",
              "  <tbody>\n",
              "    <tr>\n",
              "      <th>PARKING_SPACE_QTY</th>\n",
              "      <td>51</td>\n",
              "    </tr>\n",
              "    <tr>\n",
              "      <th>AVG_WEEKLY_BASKETS</th>\n",
              "      <td>0</td>\n",
              "    </tr>\n",
              "    <tr>\n",
              "      <th>SALES_AREA_SIZE_NUM</th>\n",
              "      <td>0</td>\n",
              "    </tr>\n",
              "  </tbody>\n",
              "</table>\n",
              "</div><br><label><b>dtype:</b> int64</label>"
            ]
          },
          "metadata": {},
          "execution_count": 106
        }
      ]
    },
    {
      "cell_type": "markdown",
      "source": [
        "- `PARKING_SPACE_QTY` - Check its correlation with the `SALES_AREA_SIZE_NUM`"
      ],
      "metadata": {
        "id": "dwWnxLdqLfr4"
      }
    },
    {
      "cell_type": "code",
      "source": [
        "store_ohe[['PARKING_SPACE_QTY','SALES_AREA_SIZE_NUM']].corr()"
      ],
      "metadata": {
        "colab": {
          "base_uri": "https://localhost:8080/",
          "height": 778
        },
        "id": "iIqD_fSCLcGN",
        "outputId": "74a24422-f895-4abe-8e8e-cf169ecd68fd"
      },
      "execution_count": 107,
      "outputs": [
        {
          "output_type": "execute_result",
          "data": {
            "text/plain": [
              "                     PARKING_SPACE_QTY  SALES_AREA_SIZE_NUM\n",
              "PARKING_SPACE_QTY             1.000000             0.763274\n",
              "SALES_AREA_SIZE_NUM           0.763274             1.000000"
            ],
            "text/html": [
              "\n",
              "  <div id=\"df-ce2d63cd-aa51-469b-a33f-26cb97bb5f55\" class=\"colab-df-container\">\n",
              "    <div>\n",
              "<style scoped>\n",
              "    .dataframe tbody tr th:only-of-type {\n",
              "        vertical-align: middle;\n",
              "    }\n",
              "\n",
              "    .dataframe tbody tr th {\n",
              "        vertical-align: top;\n",
              "    }\n",
              "\n",
              "    .dataframe thead th {\n",
              "        text-align: right;\n",
              "    }\n",
              "</style>\n",
              "<table border=\"1\" class=\"dataframe\">\n",
              "  <thead>\n",
              "    <tr style=\"text-align: right;\">\n",
              "      <th></th>\n",
              "      <th>PARKING_SPACE_QTY</th>\n",
              "      <th>SALES_AREA_SIZE_NUM</th>\n",
              "    </tr>\n",
              "  </thead>\n",
              "  <tbody>\n",
              "    <tr>\n",
              "      <th>PARKING_SPACE_QTY</th>\n",
              "      <td>1.000000</td>\n",
              "      <td>0.763274</td>\n",
              "    </tr>\n",
              "    <tr>\n",
              "      <th>SALES_AREA_SIZE_NUM</th>\n",
              "      <td>0.763274</td>\n",
              "      <td>1.000000</td>\n",
              "    </tr>\n",
              "  </tbody>\n",
              "</table>\n",
              "</div>\n",
              "    <div class=\"colab-df-buttons\">\n",
              "\n",
              "  <div class=\"colab-df-container\">\n",
              "    <button class=\"colab-df-convert\" onclick=\"convertToInteractive('df-ce2d63cd-aa51-469b-a33f-26cb97bb5f55')\"\n",
              "            title=\"Convert this dataframe to an interactive table.\"\n",
              "            style=\"display:none;\">\n",
              "\n",
              "  <svg xmlns=\"http://www.w3.org/2000/svg\" height=\"24px\" viewBox=\"0 -960 960 960\">\n",
              "    <path d=\"M120-120v-720h720v720H120Zm60-500h600v-160H180v160Zm220 220h160v-160H400v160Zm0 220h160v-160H400v160ZM180-400h160v-160H180v160Zm440 0h160v-160H620v160ZM180-180h160v-160H180v160Zm440 0h160v-160H620v160Z\"/>\n",
              "  </svg>\n",
              "    </button>\n",
              "\n",
              "  <style>\n",
              "    .colab-df-container {\n",
              "      display:flex;\n",
              "      gap: 12px;\n",
              "    }\n",
              "\n",
              "    .colab-df-convert {\n",
              "      background-color: #E8F0FE;\n",
              "      border: none;\n",
              "      border-radius: 50%;\n",
              "      cursor: pointer;\n",
              "      display: none;\n",
              "      fill: #1967D2;\n",
              "      height: 32px;\n",
              "      padding: 0 0 0 0;\n",
              "      width: 32px;\n",
              "    }\n",
              "\n",
              "    .colab-df-convert:hover {\n",
              "      background-color: #E2EBFA;\n",
              "      box-shadow: 0px 1px 2px rgba(60, 64, 67, 0.3), 0px 1px 3px 1px rgba(60, 64, 67, 0.15);\n",
              "      fill: #174EA6;\n",
              "    }\n",
              "\n",
              "    .colab-df-buttons div {\n",
              "      margin-bottom: 4px;\n",
              "    }\n",
              "\n",
              "    [theme=dark] .colab-df-convert {\n",
              "      background-color: #3B4455;\n",
              "      fill: #D2E3FC;\n",
              "    }\n",
              "\n",
              "    [theme=dark] .colab-df-convert:hover {\n",
              "      background-color: #434B5C;\n",
              "      box-shadow: 0px 1px 3px 1px rgba(0, 0, 0, 0.15);\n",
              "      filter: drop-shadow(0px 1px 2px rgba(0, 0, 0, 0.3));\n",
              "      fill: #FFFFFF;\n",
              "    }\n",
              "  </style>\n",
              "\n",
              "    <script>\n",
              "      const buttonEl =\n",
              "        document.querySelector('#df-ce2d63cd-aa51-469b-a33f-26cb97bb5f55 button.colab-df-convert');\n",
              "      buttonEl.style.display =\n",
              "        google.colab.kernel.accessAllowed ? 'block' : 'none';\n",
              "\n",
              "      async function convertToInteractive(key) {\n",
              "        const element = document.querySelector('#df-ce2d63cd-aa51-469b-a33f-26cb97bb5f55');\n",
              "        const dataTable =\n",
              "          await google.colab.kernel.invokeFunction('convertToInteractive',\n",
              "                                                    [key], {});\n",
              "        if (!dataTable) return;\n",
              "\n",
              "        const docLinkHtml = 'Like what you see? Visit the ' +\n",
              "          '<a target=\"_blank\" href=https://colab.research.google.com/notebooks/data_table.ipynb>data table notebook</a>'\n",
              "          + ' to learn more about interactive tables.';\n",
              "        element.innerHTML = '';\n",
              "        dataTable['output_type'] = 'display_data';\n",
              "        await google.colab.output.renderOutput(dataTable, element);\n",
              "        const docLink = document.createElement('div');\n",
              "        docLink.innerHTML = docLinkHtml;\n",
              "        element.appendChild(docLink);\n",
              "      }\n",
              "    </script>\n",
              "  </div>\n",
              "\n",
              "\n",
              "    <div id=\"df-1e0a89f1-a4f0-4db6-ba28-e4353f73fa27\">\n",
              "      <button class=\"colab-df-quickchart\" onclick=\"quickchart('df-1e0a89f1-a4f0-4db6-ba28-e4353f73fa27')\"\n",
              "                title=\"Suggest charts\"\n",
              "                style=\"display:none;\">\n",
              "\n",
              "<svg xmlns=\"http://www.w3.org/2000/svg\" height=\"24px\"viewBox=\"0 0 24 24\"\n",
              "     width=\"24px\">\n",
              "    <g>\n",
              "        <path d=\"M19 3H5c-1.1 0-2 .9-2 2v14c0 1.1.9 2 2 2h14c1.1 0 2-.9 2-2V5c0-1.1-.9-2-2-2zM9 17H7v-7h2v7zm4 0h-2V7h2v10zm4 0h-2v-4h2v4z\"/>\n",
              "    </g>\n",
              "</svg>\n",
              "      </button>\n",
              "\n",
              "<style>\n",
              "  .colab-df-quickchart {\n",
              "      --bg-color: #E8F0FE;\n",
              "      --fill-color: #1967D2;\n",
              "      --hover-bg-color: #E2EBFA;\n",
              "      --hover-fill-color: #174EA6;\n",
              "      --disabled-fill-color: #AAA;\n",
              "      --disabled-bg-color: #DDD;\n",
              "  }\n",
              "\n",
              "  [theme=dark] .colab-df-quickchart {\n",
              "      --bg-color: #3B4455;\n",
              "      --fill-color: #D2E3FC;\n",
              "      --hover-bg-color: #434B5C;\n",
              "      --hover-fill-color: #FFFFFF;\n",
              "      --disabled-bg-color: #3B4455;\n",
              "      --disabled-fill-color: #666;\n",
              "  }\n",
              "\n",
              "  .colab-df-quickchart {\n",
              "    background-color: var(--bg-color);\n",
              "    border: none;\n",
              "    border-radius: 50%;\n",
              "    cursor: pointer;\n",
              "    display: none;\n",
              "    fill: var(--fill-color);\n",
              "    height: 32px;\n",
              "    padding: 0;\n",
              "    width: 32px;\n",
              "  }\n",
              "\n",
              "  .colab-df-quickchart:hover {\n",
              "    background-color: var(--hover-bg-color);\n",
              "    box-shadow: 0 1px 2px rgba(60, 64, 67, 0.3), 0 1px 3px 1px rgba(60, 64, 67, 0.15);\n",
              "    fill: var(--button-hover-fill-color);\n",
              "  }\n",
              "\n",
              "  .colab-df-quickchart-complete:disabled,\n",
              "  .colab-df-quickchart-complete:disabled:hover {\n",
              "    background-color: var(--disabled-bg-color);\n",
              "    fill: var(--disabled-fill-color);\n",
              "    box-shadow: none;\n",
              "  }\n",
              "\n",
              "  .colab-df-spinner {\n",
              "    border: 2px solid var(--fill-color);\n",
              "    border-color: transparent;\n",
              "    border-bottom-color: var(--fill-color);\n",
              "    animation:\n",
              "      spin 1s steps(1) infinite;\n",
              "  }\n",
              "\n",
              "  @keyframes spin {\n",
              "    0% {\n",
              "      border-color: transparent;\n",
              "      border-bottom-color: var(--fill-color);\n",
              "      border-left-color: var(--fill-color);\n",
              "    }\n",
              "    20% {\n",
              "      border-color: transparent;\n",
              "      border-left-color: var(--fill-color);\n",
              "      border-top-color: var(--fill-color);\n",
              "    }\n",
              "    30% {\n",
              "      border-color: transparent;\n",
              "      border-left-color: var(--fill-color);\n",
              "      border-top-color: var(--fill-color);\n",
              "      border-right-color: var(--fill-color);\n",
              "    }\n",
              "    40% {\n",
              "      border-color: transparent;\n",
              "      border-right-color: var(--fill-color);\n",
              "      border-top-color: var(--fill-color);\n",
              "    }\n",
              "    60% {\n",
              "      border-color: transparent;\n",
              "      border-right-color: var(--fill-color);\n",
              "    }\n",
              "    80% {\n",
              "      border-color: transparent;\n",
              "      border-right-color: var(--fill-color);\n",
              "      border-bottom-color: var(--fill-color);\n",
              "    }\n",
              "    90% {\n",
              "      border-color: transparent;\n",
              "      border-bottom-color: var(--fill-color);\n",
              "    }\n",
              "  }\n",
              "</style>\n",
              "\n",
              "      <script>\n",
              "        async function quickchart(key) {\n",
              "          const quickchartButtonEl =\n",
              "            document.querySelector('#' + key + ' button');\n",
              "          quickchartButtonEl.disabled = true;  // To prevent multiple clicks.\n",
              "          quickchartButtonEl.classList.add('colab-df-spinner');\n",
              "          try {\n",
              "            const charts = await google.colab.kernel.invokeFunction(\n",
              "                'suggestCharts', [key], {});\n",
              "          } catch (error) {\n",
              "            console.error('Error during call to suggestCharts:', error);\n",
              "          }\n",
              "          quickchartButtonEl.classList.remove('colab-df-spinner');\n",
              "          quickchartButtonEl.classList.add('colab-df-quickchart-complete');\n",
              "        }\n",
              "        (() => {\n",
              "          let quickchartButtonEl =\n",
              "            document.querySelector('#df-1e0a89f1-a4f0-4db6-ba28-e4353f73fa27 button');\n",
              "          quickchartButtonEl.style.display =\n",
              "            google.colab.kernel.accessAllowed ? 'block' : 'none';\n",
              "        })();\n",
              "      </script>\n",
              "    </div>\n",
              "\n",
              "    </div>\n",
              "  </div>\n"
            ],
            "application/vnd.google.colaboratory.intrinsic+json": {
              "type": "dataframe",
              "summary": "{\n  \"name\": \"store_ohe[['PARKING_SPACE_QTY','SALES_AREA_SIZE_NUM']]\",\n  \"rows\": 2,\n  \"fields\": [\n    {\n      \"column\": \"PARKING_SPACE_QTY\",\n      \"properties\": {\n        \"dtype\": \"number\",\n        \"std\": 0.16739058020510084,\n        \"min\": 0.763273971260445,\n        \"max\": 1.0,\n        \"num_unique_values\": 2,\n        \"samples\": [\n          0.763273971260445,\n          1.0\n        ],\n        \"semantic_type\": \"\",\n        \"description\": \"\"\n      }\n    },\n    {\n      \"column\": \"SALES_AREA_SIZE_NUM\",\n      \"properties\": {\n        \"dtype\": \"number\",\n        \"std\": 0.16739058020510084,\n        \"min\": 0.763273971260445,\n        \"max\": 1.0,\n        \"num_unique_values\": 2,\n        \"samples\": [\n          1.0,\n          0.763273971260445\n        ],\n        \"semantic_type\": \"\",\n        \"description\": \"\"\n      }\n    }\n  ]\n}"
            }
          },
          "metadata": {},
          "execution_count": 107
        },
        {
          "output_type": "display_data",
          "data": {
            "text/plain": [
              "<google.colab._quickchart_helpers.SectionTitle at 0x7c22bb306f90>"
            ],
            "text/html": [
              "<h4 class=\"colab-quickchart-section-title\">Distributions</h4>\n",
              "<style>\n",
              "  .colab-quickchart-section-title {\n",
              "      clear: both;\n",
              "  }\n",
              "</style>"
            ]
          },
          "metadata": {}
        },
        {
          "output_type": "display_data",
          "data": {
            "text/plain": [
              "from matplotlib import pyplot as plt\n",
              "_df_0['PARKING_SPACE_QTY'].plot(kind='hist', bins=20, title='PARKING_SPACE_QTY')\n",
              "plt.gca().spines[['top', 'right',]].set_visible(False)"
            ],
            "text/html": [
              "      <div class=\"colab-quickchart-chart-with-code\" id=\"chart-2cdbde18-b821-4541-9b20-202a222a8fa0\">\n",
              "        <img style=\"width: 180px;\" src=\"data:image/png;base64,iVBORw0KGgoAAAANSUhEUgAAAioAAAGrCAYAAADuNLxTAAAAOnRFWHRTb2Z0d2FyZQBNYXRwbG90\n",
              "bGliIHZlcnNpb24zLjEwLjAsIGh0dHBzOi8vbWF0cGxvdGxpYi5vcmcvlHJYcgAAAAlwSFlzAAAP\n",
              "YQAAD2EBqD+naQAAJatJREFUeJzt3Xtw1PW9//HXkuBCT0wCuTSREBhyBRS5NBkarIjoFFSCh2AP\n",
              "9gRJNRcqLT2HeohIHQFbQzseq7YDhMsJA1hbBHrIAatzhJQJiIaLXAQ1RAkJEAioELAm5PL5/cGP\n",
              "Pa4hkIT9kk/g+ZjZGXb3s9+8v1925OnuN7suY4wRAACAhbp09AAAAAAtIVQAAIC1CBUAAGAtQgUA\n",
              "AFiLUAEAANYiVAAAgLUIFQAAYC1CBQAAWItQAQAA1iJUAACAtQgVAABgLUIFsMg999yjW265RQEB\n",
              "AQoMDNTtt9+uZcuWee4vKiqSy+XSpEmTmj12zpw58vPzU0BAgG699Vb16dNH//7v/666ujrPmuXL\n",
              "lysqKsrrcatXr1ZAQIAWLVrkmeFXv/qV5/6+ffvKz89Pe/bs8XrcXXfdpTlz5njdtnXrVo0fP17h\n",
              "4eEKCAhQdHS0HnroIa1fv75V+3/48GE9+uijuu222xQQEKDbbrtNDzzwgKqqqiRJf//73+VyuRQQ\n",
              "EKCAgABFREToX/7lX1RZWem1nZEjR8rlcumjjz5q9jMaGhr00ksvaciQIQoICFBoaKiGDRuml156\n",
              "SRcuXPDsc7du3Tw/59Jl+/btrdqPXbt2KTU1VT179tR3vvMd9e/fX/Pnz1dDQ4Mk6YUXXvDarsvl\n",
              "Uvfu3T3Xx44dq969e+vFF1/02u7Zs2fVt29fvfDCC62aA7ghGADWGDlypJk9e7YxxpiGhgazcuVK\n",
              "I8kUFRUZY4yZOHGiCQkJMV27djUnTpzweuxzzz1nRowY4bm+d+9eEx4ebubMmeO5raCgwPTq1ctz\n",
              "ff78+SYwMNC8+eabl53BGGP69OljQkNDzciRI71+3ogRI8xzzz3nub5y5UrTrVs3M2fOHFNZWWma\n",
              "mprM+fPnTWFhoZk8eXKr9j8xMdFkZWWZzz//3BhjzIkTJ8zy5ctNVVWVMcaYoqIiI8nU19cbY4w5\n",
              "fvy4GTFihNdsH374oZFkQkJCzM9//nOv7Tc2NpoHHnjAxMTEmI0bN5pz586ZpqYms3v3bjNp0iRT\n",
              "Xl7u2eclS5a0auZv27Rpk+nWrZvJzc01VVVVpq6uzmzZssXExcWZ1NRU09TU5LW+vr7e6+/4ki1b\n",
              "tpju3bubXbt2eW6bNGmSGT16tGlsbGzXbEBnRKgAFvl2JBhjTEhIiHnxxRfN8ePHjb+/v/nTn/5k\n",
              "vvvd75rnn3/ea923Q8UYY9LS0syDDz7ouX4pVOrr6012dra57bbbzAcffHDFGfr06WPy8vJMcHCw\n",
              "eeONNzy3fzNUzp8/b4KDg73Cpa1Onz5tJHn9w/xt3w4VY4z5wx/+YAICAjzXn3zySTNw4EDz6quv\n",
              "mqCgIHP+/HnPfa+99prp2rWr+eijj644y7WESnx8vPnXf/3XZrcfPHjQ+Pv7m9WrV3vd3lKoGHPx\n",
              "7zQ+Pt6cP3/eLF++3ISFhZnjx4+3ay6gs+KtH8BSDQ0NWrlypb744gslJSVp8eLF6tmzpyZOnKiM\n",
              "jAwtXrxYjY2Nl32sMUa7d+/Wli1b1L9/f6/76urqNG7cOL333nt6//33NXjw4KvOEhoaqueee07/\n",
              "8R//odra2mb3b9u2TWfOnFF6enq79lWSQkJCdMcddygnJ0cFBQXat2+fmpqarviYo0eP6vXXX1dy\n",
              "crIk6fz581q5cqWysrKUnp6uuro6vfbaa571GzduVFJSkhITE9s955WUlpaqtLRUGRkZze7r37+/\n",
              "kpOT9T//8z+t3t6zzz6riIgI/fjHP9b06dO1YsUKRUZG+nBiwH6ECmCZF198UcHBwYqIiNDLL7+s\n",
              "goICjRgxQkuWLFFGRoa6du2qrKwsHT16VBs2bPB67Hvvvafg4GB1795dw4YN03333dfsPJJz585p\n",
              "8+bNmjhxYrPzVa5k2rRp6tatW7PzJiTp1KlTkqRevXp5btu4caOCg4MVFBSkbt266ciRI1f9GUVF\n",
              "RRo7dqwWLlyo5ORkhYaG6qmnnvI6z0a6GE49evTQiBEj1K9fP61YsUKStGrVKtXX1+uxxx5Tjx49\n",
              "9Mgjj2jhwoWex1VXV7d6n6dPn67g4GCvy7fnaM1x+KaoqCidPHmyVT9fkvz8/PTaa69p06ZNmjx5\n",
              "ssaMGdPqxwI3CkIFsMxTTz2lM2fO6PTp09q1a5emTJmi9evX6/jx48rMzJQkxcTEaNSoUVqwYIHX\n",
              "Y4cPH64zZ87o/Pnzys/PV3Fxsb788kuvNaGhoXrzzTf1u9/9TrNnz271XF27dtVLL72k+fPn6/jx\n",
              "4173hYWFSbr4CsclDz74oM6cOaNdu3aprq5Oxpir/oyQkBDNmzdPJSUlOnv2rP7rv/5LS5YsUV5e\n",
              "nte606dP68svv9SRI0e0cuVKTxgsXLhQaWlp6tGjhyQpKytLe/bs8ZwEGx4e7jXjlbz66qs6c+aM\n",
              "18Xtdl/xMZeOw7Fjxy57/9GjR/Xd7363VT//kqioKIWGhrbqlS/gRkSoAJ3ApSD5wQ9+oIiICEVE\n",
              "ROj999/X//7v/6qsrKzZen9/f2VnZ2vkyJH6+c9/3uz+0aNHa/PmzcrPz9fUqVOv+hbLJWPHjtXI\n",
              "kSOVm5vrdXtKSoqCgoK83ma5Vm63Ww8//LDuu+8+7d69+6rrt27dqn379qmwsNBzjB555BFJ/3f8\n",
              "HnzwQe3YsUOffPKJz+b8pvj4eMXGxnpe4fmmTz75RCUlJfrhD3/oyM8GblSECmC50tJSbd68WcuX\n",
              "L9eePXs8l9LSUkVFRXm9tfFtc+fO1YYNG7Rt27Zm9yUlJam4uFgbN27Uo48+6vnV3Kt56aWXtHr1\n",
              "an388cee2wICAvTKK6/ot7/9rZ5//nkdPXpUxhjV1tZq69atrdrul19+qaefflr79u1TXV2dGhsb\n",
              "tWnTJhUVFenuu+++6uMXLFigO+64Q6WlpV7H6fe//73eeOMNnT59WpMmTdJ9992ncePG6e2339ZX\n",
              "X30lY4z279+vyZMnt+rtqdbMsXr1aj3zzDM6efKk6uvrPb+2/f3vf18/+tGPrvlnADcTQgWw3MKF\n",
              "CxUXF6f09HTPKwURERG67bbbNGPGDC1fvlxff/31ZR8bGxurxx57TDNnzrzs/f3799e2bdu0d+9e\n",
              "jRs3Tl999dVV50lISNC0adP0+eefe90+ZcoUvfXWWyopKdHgwYMVEBCghIQEvfHGG1q/fr369Olz\n",
              "xe3ecsstOn36tB555BGFhoYqJCREv/jFL5Sbm6tf/vKXV3zsqVOntHbtWuXm5nodo4iICE2dOlU9\n",
              "evTQsmXL1KVLFxUWFionJ0e5ubkKCwtTWFiYfvKTn2jYsGFeJ6r+7Gc/a/Y5Kn/5y1+uenzuv/9+\n",
              "FRcXa//+/UpMTFT37t31gx/8QCNHjtTGjRvVtWvXq24DwP9xmda8cQwAaJeGhgalpaXp1KlTeuut\n",
              "txQYGNjRIwGdCq+oAICD/P39tXr1ao0fP17FxcUdPQ7Q6fCKCoDrZuDAgS2eB3Ls2DEFBQVd54na\n",
              "7kbYB6AzIVQAAIC1eOsHAABYi1ABAADWIlQAAIC1bohQeeWVVzp6BAAA4IAbIlR88WmSAADAPjdE\n",
              "qAAAgBsToQIAAKxFqAAAAGsRKgAAwFqECgAAsBahAgAArEWoAAAAaxEqAADAWoQKAACwFqECAACs\n",
              "RagAAABrESoAAMBajobK9OnT1bdvX7lcLu3Zs6fFdcuWLVNcXJxiYmKUlZWl+vp6J8cCAACdhKOh\n",
              "MnHiRG3dulV9+vRpcc3hw4f17LPPqri4WGVlZTp58qQWL17s5FgAAKCTcDRU7r77bkVFRV1xzZo1\n",
              "a5SamqqIiAi5XC5NnTpVr7/+eovr6+rqVFNT43VpbGz09egAAMAC/h09QEVFhdcrLn379lVFRUWL\n",
              "6/Py8jR37lyv24YPH+7IbH2f3ujIdiWpfP6Djm0bAHDzcerfrI7+96rTnUw7a9YsnT171uuSnJzc\n",
              "0WMBAAAHdPgrKtHR0fr0008918vLyxUdHd3ierfbLbfb7XWbn5+fY/MBAICO0+GvqKSlpamwsFAn\n",
              "TpyQMUaLFi3SpEmTOnosAABgAUdDJScnR1FRUTp69Kh++MMfKjY2VpKUmZmpwsJCSVK/fv00d+5c\n",
              "jRgxQrGxsQoLC1NOTo6TYwEAgE7C0bd+8vPzL3v70qVLva5nZWUpKyvLyVEAAEAn1OFv/QAAALSE\n",
              "UAEAANYiVAAAgLUIFQAAYC1CBQAAWItQAQAA1iJUAACAtQgVAABgLUIFAABYi1ABAADWIlQAAIC1\n",
              "CBUAAGAtQgUAAFiLUAEAANYiVAAAgLUIFQAAYC1CBQAAWItQAQAA1iJUAACAtQgVAABgLUIFAABY\n",
              "i1ABAADWIlQAAIC1CBUAAGAtQgUAAFiLUAEAANYiVAAAgLUIFQAAYC1CBQAAWItQAQAA1iJUAACA\n",
              "tQgVAABgLUIFAABYi1ABAADWIlQAAIC1CBUAAGAtQgUAAFiLUAEAANYiVAAAgLUIFQAAYC1CBQAA\n",
              "WItQAQAA1iJUAACAtQgVAABgLUIFAABYi1ABAADWIlQAAIC1CBUAAGAtQgUAAFiLUAEAANYiVAAA\n",
              "gLUIFQAAYC1CBQAAWItQAQAA1iJUAACAtQgVAABgLUIFAABYi1ABAADWIlQAAIC1CBUAAGAtQgUA\n",
              "AFjL0VA5dOiQUlJSFB8fr6SkJB04cKDZmqamJs2YMUMDBgzQoEGDNGrUKJWVlTk5FgAA6CQcDZWc\n",
              "nBxlZ2ertLRUubm5ysjIaLamsLBQ27Zt0969e7Vv3z6NHj1azzzzjJNjAQCATsKxUKmurtbOnTuV\n",
              "np4uSUpLS1NlZWWzV0tcLpfq6upUW1srY4xqamoUFRXl1FgAAKAT8Xdqw5WVlYqMjJS//8Uf4XK5\n",
              "FB0drYqKCsXGxnrWjRs3TkVFRYqIiNCtt96qXr16acuWLS1ut66uTnV1dV63NTY2OrMTAACgQ3X4\n",
              "ybQ7d+7Uhx9+qGPHjun48eMaPXq0pk6d2uL6vLw8BQUFeV1KSkqu48QAAOB6cSxUevfuraqqKjU0\n",
              "NEiSjDGqqKhQdHS017oVK1bo3nvvVXBwsLp06aIpU6aoqKioxe3OmjVLZ8+e9bokJyc7tRsAAKAD\n",
              "ORYq4eHhGjp0qFatWiVJWrt2raKiorze9pGkfv36afPmzbpw4YIkacOGDbr99ttb3K7b7VZgYKDX\n",
              "xc/Pz6ndAAAAHcixc1QkKT8/XxkZGXrhhRcUGBiogoICSVJmZqZSU1OVmpqqadOm6aOPPtKdd96p\n",
              "rl27KiIiQosWLXJyLAAA0Ek4GioJCQnavn17s9uXLl3q+bPb7daSJUucHAMAAHRSHX4yLQAAQEsI\n",
              "FQAAYC1CBQAAWItQAQAA1iJUAACAtQgVAABgLUIFAABYi1ABAADWIlQAAIC1CBUAAGAtQgUAAFiL\n",
              "UAEAANYiVAAAgLUIFQAAYC1CBQAAWItQAQAA1iJUAACAtQgVAABgLUIFAABYi1ABAADWIlQAAIC1\n",
              "CBUAAGAtQgUAAFiLUAEAANYiVAAAgLUIFQAAYC1CBQAAWItQAQAA1iJUAACAtQgVAABgLUIFAABY\n",
              "i1ABAADWIlQAAIC1CBUAAGAtQgUAAFiLUAEAANYiVAAAgLUIFQAAYC1CBQAAWItQAQAA1iJUAACA\n",
              "tQgVAABgLUIFAABYi1ABAADWIlQAAIC1CBUAAGAtQgUAAFiLUAEAANYiVAAAgLUIFQAAYC1CBQAA\n",
              "WItQAQAA1iJUAACAtQgVAABgLUIFAABYi1ABAADWIlQAAIC1CBUAAGAtQgUAAFiLUAEAANYiVAAA\n",
              "gLUIFQAAYC1HQ+XQoUNKSUlRfHy8kpKSdODAgcuu279/v+655x71799f/fv317p165wcCwAAdBL+\n",
              "Tm48JydH2dnZysjI0Jo1a5SRkaEdO3Z4rfnHP/6h8ePHa8WKFbrrrrvU2NioL774wsmxAABAJ+HY\n",
              "KyrV1dXauXOn0tPTJUlpaWmqrKxUWVmZ17o//elPGj58uO666y5Jkp+fn8LCwlrcbl1dnWpqarwu\n",
              "jY2NTu0GAADoQI6FSmVlpSIjI+Xvf/FFG5fLpejoaFVUVHitO3jwoNxutx566CENHjxYjz32mE6d\n",
              "OtXidvPy8hQUFOR1KSkpcWo3AABAB2pzqLz99ts+HaChoUHvvPOO8vPz9cEHH6hXr1766U9/2uL6\n",
              "WbNm6ezZs16X5ORkn84EAADs0OZQmTdvnhISEvTKK6+opqamxXW9e/dWVVWVGhoaJEnGGFVUVCg6\n",
              "OtprXXR0tEaNGqVevXrJ5XIpPT1d7733XovbdbvdCgwM9Lr4+fm1dTcAAEAn0OZQ2bZtm/785z/r\n",
              "ww8/VHx8vJ588kkdPHiw2brw8HANHTpUq1atkiStXbtWUVFRio2N9Vr3ox/9SDt27PBEz5tvvqk7\n",
              "77yzPfsCAABuMO06R2XIkCFasmSJ3nrrLW3YsEGDBg3S/fffr/3793uty8/PV35+vuLj4zV//nwV\n",
              "FBRIkjIzM1VYWCjp4isqzzzzjFJSUjRo0CBt3rxZixYtusbdAgAAN4J2/XryO++8oz/84Q/av3+/\n",
              "pk2bpieeeEJ///vf9c///M9ev9WTkJCg7du3N3v80qVLva5PnjxZkydPbs8oAADgBtbmUOnfv79C\n",
              "Q0M1ffp0TZgwwXN+yMSJE7Vs2TKfDwgAAG5ebQ6VVatWadiwYZe9729/+9s1DwQAAHBJm89R2bVr\n",
              "l9cnx37++edasmSJT4cCAACQ2hEqCxYsUM+ePT3XQ0JCtGDBAp8OBQAAILUjVIwxzW7jI+wBAIAT\n",
              "2hwqkZGRWr16tef6X/7yF0VGRvp0KAAAAKkdJ9O+/PLLGj9+vGbOnClJ+s53vqP169f7fDAAAIA2\n",
              "h0piYqIOHjyoTz75RNLFz0rhI+wBAIAT2vWBby6XS8HBwWpoaNCxY8ckqdl3+AAAAFyrNofK8uXL\n",
              "NX36dHXt2lVdulw8xcXlcqm6utrnwwEAgJtbm0Pl+eef144dO5SQkODEPAAAAB5t/q2f0NBQIgUA\n",
              "AFwXbQ6Vhx9+WC+//LKqq6tVU1PjuQAAAPham9/6mT17tiRpxowZcrlcMsbI5XLxoW8AAMDn2hwq\n",
              "TU1NTswBAADQTJvf+pEufjHhypUrJUlnzpxRVVWVT4cCAACQ2vmlhI8//rjmzJkj6eK3J//4xz/2\n",
              "9VwAAABtD5XFixfrvffeU2BgoCQpJiZGp06d8vlgAAAAbQ4Vt9ut7t27e93m79+uD7gFAAC4ojaH\n",
              "SlhYmEpLS+VyuSRd/KRaPj4fAAA4oV3fnvzoo4/q448/Vu/evRUYGKgNGzY4MRsAALjJtTlUYmNj\n",
              "9f777+uTTz6RMYZvTwYAAI5pc6hUVFRIkv7pn/5Jkvj2ZAAA4Jg2h8qwYcM8n0hbW1urf/zjHwoJ\n",
              "CeHbkwEAgM+1OVS+/avI69at0969e302EAAAwCXt+mTab5owYYI2btzoi1kAAAC8tPkVlW9+U3Jj\n",
              "Y6Pef/99vj0ZAAA4os2hEhwc7DlHxc/PT3FxcXr11VedmA0AANzk+PZkAABgrWs+RwUAAMApbX5F\n",
              "pUuXLp6Pz/8mY4xcLpcaGxt9MhgAAECbQ2XevHn6+uuv9dOf/lSStGjRInXv3l3/9m//5uvZAADA\n",
              "Ta7NofLXv/5Vu3bt8lz/9a9/rWHDhmn27Nk+HQwAAKDN56icO3fO61Noq6urde7cOZ8OBQAAILXj\n",
              "FZVf/vKXuvPOO/XAAw9Ikt566y3NmTPH13MBAAC0PVRycnI0YsQIFRUVSZJmzJihgQMH+nwwAACA\n",
              "NoeKJIWEhOiOO+7QPffco4aGBl24cEG33HKLr2cDAAA3uTafo7JmzRoNHz5cP/nJTyRJBw4c0MMP\n",
              "P+zruQAAANoeKnl5edq9e7eCg4MlSXfeeaeOHDni67kAAADaHip+fn4KCQnxuo23fQAAgBPaHCq3\n",
              "3nqrTp486fl02k2bNqlnz54+HwwAAKDNJ9P+9re/1dixY/XZZ5/prrvu0uHDh7Vx40YnZgMAADe5\n",
              "NoVKU1OTGhsbVVRUpHfffVfGGKWkpHjOVwEAAPClNoVKly5dlJ2drb1792rs2LFOzQQAACCpHeeo\n",
              "xMXFqayszIlZAAAAvLT5HJUvvvhCgwcPVkpKigICAjy3r1u3zqeDAQAAtDpUsrOztXjxYk2ZMkWp\n",
              "qanq0aOHk3MBAAC0PlR27twpSZoyZYqGDh2q3bt3OzYUAACA1I5zVCTJGOPrOQAAAJpp9SsqX3/9\n",
              "tfbv3y9jjGpraz1/vmTQoEGODAgAAG5ebQqV1NRUz/Vv/tnlcumzzz7z7WQAAOCm1+pQKS8vd3AM\n",
              "AACA5tp1jgoAAMD1QKgAAABrESoAAMBahAoAALAWoQIAAKxFqAAAAGsRKgAAwFqECgAAsBahAgAA\n",
              "rOVoqBw6dEgpKSmKj49XUlKSDhw40OJaY4zuvfdeBQcHOzkSAADoRBwNlZycHGVnZ6u0tFS5ubnK\n",
              "yMhoce3vf/97xcTEODkOAADoZBwLlerqau3cuVPp6emSpLS0NFVWVqqsrKzZ2gMHDui///u/9fTT\n",
              "T191u3V1daqpqfG6NDY2+nx+AADQ8RwLlcrKSkVGRsrf/+L3HrpcLkVHR6uiosJrXX19vbKyspSf\n",
              "ny8/P7+rbjcvL09BQUFel5KSEkf2AQAAdKwOP5l27ty5mjBhgvr379+q9bNmzdLZs2e9LsnJyQ5P\n",
              "CQAAOoK/Uxvu3bu3qqqq1NDQIH9/fxljVFFRoejoaK91W7ZsUUVFhf74xz+qoaFBNTU16tu3r3bs\n",
              "2KGwsLBm23W73XK73V63teaVGAAA0Pk49opKeHi4hg4dqlWrVkmS1q5dq6ioKMXGxnqtKy4u1pEj\n",
              "R1ReXq6tW7cqMDBQ5eXll40UAABwc3H0rZ/8/Hzl5+crPj5e8+fPV0FBgSQpMzNThYWFTv5oAABw\n",
              "A3DsrR9JSkhI0Pbt25vdvnTp0suu79u3r86cOePkSAAAoBPp8JNpAQAAWkKoAAAAaxEqAADAWoQK\n",
              "AACwFqECAACsRagAAABrESoAAMBahAoAALAWoQIAAKxFqAAAAGsRKgAAwFqECgAAsBahAgAArEWo\n",
              "AAAAaxEqAADAWoQKAACwFqECAACsRagAAABrESoAAMBahAoAALAWoQIAAKxFqAAAAGsRKgAAwFqE\n",
              "CgAAsBahAgAArEWoAAAAaxEqAADAWoQKAACwFqECAACsRagAAABrESoAAMBahAoAALAWoQIAAKxF\n",
              "qAAAAGsRKgAAwFqECgAAsBahAgAArEWoAAAAaxEqAADAWoQKAACwFqECAACsRagAAABrESoAAMBa\n",
              "hAoAALAWoQIAAKxFqAAAAGsRKgAAwFqECgAAsBahAgAArEWoAAAAaxEqAADAWoQKAACwFqECAACs\n",
              "RagAAABrESoAAMBahAoAALAWoQIAAKxFqAAAAGsRKgAAwFqECgAAsBahAgAArEWoAAAAazkaKocO\n",
              "HVJKSori4+OVlJSkAwcONFuzefNmJScna8CAARo4cKBmzpyppqYmJ8cCAACdhKOhkpOTo+zsbJWW\n",
              "lio3N1cZGRnN1vTo0UN//vOfdfDgQe3atUvvvvuuVqxY4eRYAACgk3AsVKqrq7Vz506lp6dLktLS\n",
              "0lRZWamysjKvdUOGDFG/fv0kSd26ddPgwYNVXl7e4nbr6upUU1PjdWlsbHRqNwAAQAdyLFQqKysV\n",
              "GRkpf39/SZLL5VJ0dLQqKipafMyJEye0Zs0aPfTQQy2uycvLU1BQkNelpKTE5/MDAICOZ83JtDU1\n",
              "NRo3bpxmzpyp733vey2umzVrls6ePet1SU5Ovo6TAgCA68XfqQ337t1bVVVVamhokL+/v4wxqqio\n",
              "UHR0dLO1586d05gxYzR+/HjNmDHjitt1u91yu91et/n5+fl0dgAAYAfHXlEJDw/X0KFDtWrVKknS\n",
              "2rVrFRUVpdjYWK9158+f15gxYzRmzBj96le/cmocAADQCTn61k9+fr7y8/MVHx+v+fPnq6CgQJKU\n",
              "mZmpwsJCSdIrr7yikpISrVu3ToMHD9bgwYP1m9/8xsmxAABAJ+HYWz+SlJCQoO3btze7fenSpZ4/\n",
              "z549W7Nnz3ZyDAAA0ElZczItAADAtxEqAADAWoQKAACwFqECAACsRagAAABrESoAAMBahAoAALAW\n",
              "oQIAAKxFqAAAAGsRKgAAwFqECgAAsBahAgAArEWoAAAAaxEqAADAWoQKAACwFqECAACsRagAAABr\n",
              "ESoAAMBahAoAALAWoQIAAKxFqAAAAGsRKgAAwFqECgAAsBahAgAArEWoAAAAaxEqAADAWoQKAACw\n",
              "FqECAACsRagAAABrESoAAMBahAoAALAWoQIAAKxFqAAAAGsRKgAAwFqECgAAsBahAgAArEWoAAAA\n",
              "axEqAADAWoQKAACwFqECAACsRagAAABrESoAAMBahAoAALAWoQIAAKxFqAAAAGsRKgAAwFqECgAA\n",
              "sBahAgAArEWoAAAAaxEqAADAWoQKAACwFqECAACsRagAAABrESoAAMBahAoAALAWoQIAAKxFqAAA\n",
              "AGsRKgAAwFqECgAAsBahAgAArEWoAAAAazkaKocOHVJKSori4+OVlJSkAwcOXHbdsmXLFBcXp5iY\n",
              "GGVlZam+vt7JsQAAQCfhaKjk5OQoOztbpaWlys3NVUZGRrM1hw8f1rPPPqvi4mKVlZXp5MmTWrx4\n",
              "sZNjAQCATsKxUKmurtbOnTuVnp4uSUpLS1NlZaXKysq81q1Zs0apqamKiIiQy+XS1KlT9frrr7e4\n",
              "3bq6OtXU1HhdGhsbndoNAADQgfyd2nBlZaUiIyPl73/xR7hcLkVHR6uiokKxsbGedRUVFerTp4/n\n",
              "et++fVVRUdHidvPy8jR37lyv2xITEzVjxgwf74E0wedb/D8zZmxycOvOaWxsVElJiZKTk+Xn59fR\n",
              "49x0OP4dh2PfcTj2rePEv1mNjY36/vd/7dix79Onj37xi19ccY1joeKUWbNmNYsSt9stt9vdQRPd\n",
              "XGpqahQUFKS3335bgYGBHT3OTYfj33E49h2HY99xbDj2joVK7969VVVVpYaGBvn7+8sYo4qKCkVH\n",
              "R3uti46O1qeffuq5Xl5e3mzNNxElAADcPBw7RyU8PFxDhw7VqlWrJElr165VVFSU19s+0sVzVwoL\n",
              "C3XixAkZY7Ro0SJNmjTJqbEAAEAn4uhv/eTn5ys/P1/x8fGaP3++CgoKJEmZmZkqLCyUJPXr109z\n",
              "587ViBEjFBsbq7CwMOXk5Dg5FgAA6CQcPUclISFB27dvb3b70qVLva5nZWUpKyvLyVHgI263W889\n",
              "9xxvv3UQjn/H4dh3HI59x7Hh2LuMMabDfjoAAMAV8BH6AADAWoQKAACwFqECAACsRagAAABrESrw\n",
              "aM23XTc1NWnGjBkaMGCABg0apFGjRnl9f9OGDRuUmJiouLg4TZgwQTU1NddzFzqtaz325eXl8vPz\n",
              "0+DBgz2Xb36QIlrW2mP/1FNP6fbbb1diYqKeeOIJXbhwwXM/z/v2udZjz/O+/aZPn66+ffvK5XJp\n",
              "z549La5btmyZ4uLiFBMTo6ysLNXX17fqPp8ywP83atQoU1BQYIwx5o033jDf+973mq3561//apKT\n",
              "k82FCxeMMcY8//zz5pFHHjHGGHPu3DkTHh5uPvroI2OMMdOmTTNPPfXU9Rm+k7vWY3/48GETFBR0\n",
              "vca9obTm2C9evNiMGjXK1NXVmaamJpOZmWl+97vfGWN43l+Laz32PO/bb8uWLaaystL06dPHfPDB\n",
              "B5dd89lnn5nIyEhTVVVlmpqazLhx48wf//jHq97na7yiAkmt/7Zrl8uluro61dbWyhijmpoaRUVF\n",
              "SZL+9re/aciQIUpMTJQkPfnkk1f8Jmxc5Itjj/Zp7bHfu3ev7rvvPt1yyy1yuVwaO3asVq5cKYnn\n",
              "fXv54tij/e6+++6r/vdjzZo1Sk1NVUREhFwul6ZOnep5bl/pPl8jVCDpyt92/U3jxo3TPffco4iI\n",
              "CEVGRmrTpk2aN2+epMt/E/al73tCy3xx7CXpq6++UlJSkoYOHap58+apsbHxuu5HZ9TaYz9s2DAV\n",
              "FhaqpqZG9fX1Wr16tcrLyyXxvG8vXxx7iee9ky733L7093Ol+3yNUEGb7Ny5Ux9++KGOHTum48eP\n",
              "a/To0Zo6dWpHj3VTuNKxj4yM1LFjx7Rjxw698847Ki4u1n/+53928MQ3joyMDI0ZM0YjR47UyJEj\n",
              "FR8f7/kHFs660rHneX9zIFQgyfvbriW1+G3XK1as0L333qvg4GB16dJFU6ZMUVFRkaSL34R95MgR\n",
              "z9ry8nKv/2PC5fni2LvdboWHh0uSevbsqccff1zFxcXXd0c6odYee5fLpTlz5uiDDz7Qu+++qwED\n",
              "BmjgwIGSeN63ly+OPc97Z13uuX3p7+dK9/kaoQJJrf+26379+mnz5s2es+43bNig22+/XZI0ZswY\n",
              "7d69Wx9//LEkacGCBXwTdiv44thXV1d7zrivq6vTunXrNGTIkOu4F51Ta499bW2tvvzyS0nS6dOn\n",
              "NX/+fM2cOVMSz/v28sWx53nvrLS0NBUWFurEiRMyxmjRokWe5/aV7vM5R07RRaf08ccfm+HDh5u4\n",
              "uDgzbNgws2/fPmOMMU888YRZv369McaY2tpak5mZaRITE80dd9xh7r//fvPpp596trF+/XqTkJBg\n",
              "YmJizPjx482ZM2c6ZF86m2s99mvXrjUDBw40gwYNMgMGDDA/+9nPTG1tbYftT2fSmmN/4sQJk5iY\n",
              "aAYMGGASExPNwoULvbbB8759rvXY87xvv+zsbNOrVy/j5+dnwsPDTUxMjDHG+9gbc/G3rvr162f6\n",
              "9etnHn/8cc9vHV7tPl/iSwkBAIC1eOsHAABYi1ABAADWIlQAAIC1CBUAAGAtQgUAAFiLUAEAANYi\n",
              "VAAAgLUIFQAAYC1CBQAAWItQAQAA1vp/dcoh/jTOcz4AAAAASUVORK5CYII=\n",
              "\">\n",
              "      </div>\n",
              "      <script type=\"text/javascript\">\n",
              "        (() => {\n",
              "          const chartElement = document.getElementById(\"chart-2cdbde18-b821-4541-9b20-202a222a8fa0\");\n",
              "          async function getCodeForChartHandler(event) {\n",
              "            const chartCodeResponse =  await google.colab.kernel.invokeFunction(\n",
              "                'getCodeForChart', [\"chart-2cdbde18-b821-4541-9b20-202a222a8fa0\"], {});\n",
              "            const responseJson = chartCodeResponse.data['application/json'];\n",
              "            await google.colab.notebook.addCell(responseJson.code, 'code');\n",
              "          }\n",
              "          chartElement.onclick = getCodeForChartHandler;\n",
              "        })();\n",
              "      </script>\n",
              "      <style>\n",
              "        .colab-quickchart-chart-with-code  {\n",
              "            display: block;\n",
              "            float: left;\n",
              "            border: 1px solid transparent;\n",
              "        }\n",
              "\n",
              "        .colab-quickchart-chart-with-code:hover {\n",
              "            cursor: pointer;\n",
              "            border: 1px solid #aaa;\n",
              "        }\n",
              "      </style>"
            ]
          },
          "metadata": {}
        },
        {
          "output_type": "display_data",
          "data": {
            "text/plain": [
              "from matplotlib import pyplot as plt\n",
              "_df_1['SALES_AREA_SIZE_NUM'].plot(kind='hist', bins=20, title='SALES_AREA_SIZE_NUM')\n",
              "plt.gca().spines[['top', 'right',]].set_visible(False)"
            ],
            "text/html": [
              "      <div class=\"colab-quickchart-chart-with-code\" id=\"chart-a8a89254-8f3f-49bb-8014-d93d4a85e6d2\">\n",
              "        <img style=\"width: 180px;\" src=\"data:image/png;base64,iVBORw0KGgoAAAANSUhEUgAAAioAAAGrCAYAAADuNLxTAAAAOnRFWHRTb2Z0d2FyZQBNYXRwbG90\n",
              "bGliIHZlcnNpb24zLjEwLjAsIGh0dHBzOi8vbWF0cGxvdGxpYi5vcmcvlHJYcgAAAAlwSFlzAAAP\n",
              "YQAAD2EBqD+naQAAJcxJREFUeJzt3Xt01PWd//HXkMB4ARIDxERC4CQhCQkigkQEK+ClAiK4pPWy\n",
              "GyVCbl4O7WY5aMSWi5Zgtz2rW4UEAtlSai0ClgirtiJSKFhAUW5SEiFO1GDwAiMtCST5/P7gZ5bp\n",
              "EMiE+ZJP5Pk453sOmfnkm/d8mSNPZ76Zr8sYYwQAAGChDm09AAAAQHMIFQAAYC1CBQAAWItQAQAA\n",
              "1iJUAACAtQgVAABgLUIFAABYi1ABAADWIlQAAIC1CBUAAGAtQgUAAFiLUAEukIMHD+q+++7TVVdd\n",
              "pc6dO+uqq67S2LFjVV1d7bNu0qRJcrlcev311/320adPH5WUlJxx/7NmzVJISIg6d+7ssz366KNN\n",
              "a1atWqXrr79e4eHhCgsLU79+/fTkk08G9Dhmzpwpl8uloqIiv/tGjhypTp06qXPnzuratatSU1NV\n",
              "XFzssyYzM1MdO3b0m/PnP/+5z7rGxkbFxcXpsssu09dff93i+RobGzV37lwlJSWpS5cuioiI0JAh\n",
              "Q/T73/++ac3px3Hu3Ll+s3Tu3FmdOnWSy+VSVVWV32M7fTt9v83JzMyUy+XSr371K5/bn3zySY0c\n",
              "OdLn+J3p7yMzM1MZGRlNX7tcLrlcLu3bt89n3fr16+VyuRQTE3PuAwW0E4QKcIGMHTtWXbp00e7d\n",
              "u3Xs2DHt2LFD99xzj1wuV9OaL7/8UsuXL1e3bt00f/78gH/GDTfcoGPHjvlszz//vCRpy5YtysjI\n",
              "UEFBgb744gt98cUXevnll5WYmNji/dfX12vRokXq1q2bFixYcMY106dP17Fjx3TkyBHNnDlTDz30\n",
              "kDZs2OCz5p577vGbc/r06T5rXnvtNXk8HrndbpWWlrZ4xv/8z//UkiVL9PLLL8vr9eqTTz7RL37x\n",
              "C11xxRVnXP/EE0/4zVJRUaGoqCg9+uij6tWrl99jO3275557WjRX9+7dNWvWLH311Vctfixnk5KS\n",
              "4heBCxYsUGpqalD2D9iCUAEugC+//FL79u1TXl6eIiIiJElXXnmlJk2apKioqKZ1S5Ys0eWXX64F\n",
              "CxZo7dq18ng8QZth8+bNSkhI0F133aXQ0FB17NhR/fv31wMPPNDifbzyyis6fPiwXnzxRe3cuVOb\n",
              "Nm1qdm2HDh109913KyIiQtu2bQt43vnz52v06NGaPHmyioqK1NILvW/atEljx47VgAED5HK5dNll\n",
              "l2nEiBH6/ve/36LvP378uMaPH6+rr75azz77bMBzN+f2229XSkqKfvrTnwZlf7m5uVq6dKlqa2sl\n",
              "SYcOHdJrr72mzMzMoOwfsAWhAlwA3bp109VXX63c3FyVlpZq586damxs9FljjFFRUZHuv/9+TZw4\n",
              "UdHR0Wd8e6W1vve972nv3r3Ky8vTq6++qs8++yzgfcyfP1/jxo3T97//fV1//fVnfdWnvr5eL774\n",
              "or788kv169cvoJ9z8OBBvf7668rOzlZ2drbKy8v1pz/9qUXfO3LkSP3617/WU089pbffflter7fF\n",
              "P9cYo/vvv191dXV66aWXFBISEtDc5/Lcc89p0aJF2rNnz3nvKyUlRf37929666mkpEQTJkxQ9+7d\n",
              "z3vfgE0IFeACWb9+vcaMGaMFCxYoLS1N3bt317Rp01RXVydJeuONN3TgwAFlZ2crJCREkydP1uLF\n",
              "i3XixIkW/4x33nlH4eHhPtu3b5ukpaVp06ZNOn78uKZOnaqYmBilpqbq1VdfbdG+P/zwQ7399tvK\n",
              "ycmRJOXk5GjlypU6fPiwz7pf/OIXCg8P1yWXXKIHHnhAzzzzjO644w6fNcuXL/ebc926dU33FxcX\n",
              "KyoqSuPGjVNycrK+973vNftW0z/Lz89XUVGRtm3bph/+8IeKiIjQrbfeqr17957zewsKCrR582at\n",
              "WbNGXbp08bv/28d2+lZeXt6iuSRp0KBBysjI0I9//OMWf8/Z5OXlqaioSA0NDVq4cKHy8vKCsl/A\n",
              "JoQKcIF069ZNc+bM0datW3X06FEtWbJEixYtUmFhoaRTr1YMHz5cKSkpkqQpU6boiy++0MqVK1v8\n",
              "M4YOHaojR474bA8++KDP/b/+9a918OBBVVdX69Zbb1V6enqL/rFdsGCBYmNjdfvtt0s6dZ7JJZdc\n",
              "4ndy77Rp03TkyBF9/fXXyszM1B//+EfV19f7rLn77rv95rzlllskSXV1dVqyZIkefPDBplc0srOz\n",
              "9eqrr+qTTz4555wul0v33XefysrKdPjw4aZXr+64446zvn20ZMkSPf/883r11Vd9zks502M7fevb\n",
              "t+85Zzrd3LlztXXrVq1evdrvvo4dO+rkyZN+t588eVIdO3b0uz09PV0fffSR5s6dq7CwMN14440B\n",
              "zQK0B4QK0Abcbrfuuusu3XrrrXrvvffk8Xi0du1a7dixQ1FRUYqKitL1118vSa06qbYlrrzySj39\n",
              "9NM6efKkdu3adda1f//737V06VJ9/vnnuuqqqxQVFaX4+HgdP35cxcXFfm9jSVKXLl30wgsv6MCB\n",
              "A3rhhRdaPNfLL7+sw4cP64UXXmg6Fvn5+WpoaPA7ebQlUlJS9O///u+qrKxs9reH3n77bT388MP6\n",
              "7W9/q8GDBwf8MwJx5ZVX6sknn9S0adP8Xi2Li4s7YzSWl5crPj7e7/ZOnTpp8uTJmjlzJq+m4DuL\n",
              "UAEugK+//lqPP/64du7cqbq6OjU0NGjdunVav369brrpJhUVFal79+7at2+f3n///aZt+fLl2rRp\n",
              "k09I1NfXq7a21mdryYmmf/jDH7R48WJ99tlnMsbI6/WqsLBQl156qa677rqzfu9vf/tbHT9+XO++\n",
              "+67PfH/+85+bIutM3G63fvrTn+qpp57S0aNHW3Ss5s+fr7Fjx+rDDz9s+jm7du1Sfn6+SkpKzviK\n",
              "w+l++ctfau3atU2/XePxeDR//nylpqY2nch8uv3792vixIn62c9+pgkTJrRoxvP1ox/9SJL8fpsp\n",
              "MzNTa9eu1fLly3XixAkdP35cL7zwgnbv3q177733jPuaPn26/vjHP3ISLb67DADHHTt2zEyZMsUk\n",
              "Jiaazp07m7CwMJOammrmzZtnamtrTWRkpHn66afP+L0DBw40eXl5xhhjevfubST5beXl5WbmzJmm\n",
              "Q4cO5vLLL/fZxo0bZ4wx5s9//rMZO3asiYqKMpdddpnp0aOHue2228yGDRvOOf/AgQNNVlbWGe+b\n",
              "MGGCGT16tDHGmBEjRpgZM2b43F9fX28SExNNQUGBMcaYSZMmmdDQUL85H3nkEfP+++8bSWbTpk1+\n",
              "P6e6utq43W7z0ksvnXXWRYsWmeHDh5uIiAhz+eWXm549e5qMjAxz8ODBpjW9e/c2ixYtMsYYM3ny\n",
              "ZCPJb55vt2XLljU9to4dO/rd/8wzz5zz+E2aNMn827/9m89tq1evNpLMiBEjfG5fs2aNueGGG0xE\n",
              "RITp3r27GTlypN/xkGT+9Kc/nfFnlZaWmp49e55zJqC9cBnTwt/5AwAAuMB46wcAAFiLUAEgSWf8\n",
              "GPnOnTtb93HszX3kfefOnR078fhcxowZ0+xM5zpRGcDZ8dYPAACwFq+oAAAAaxEqAADAWoQKAACw\n",
              "1nciVJ577rm2HgEAADjgOxEqH3/8cVuPAAAAHPCdCBUAAPDdRKgAAABrESoAAMBahAoAALAWoQIA\n",
              "AKxFqAAAAGsRKgAAwFqECgAAsBahAgAArEWoAAAAaxEqAADAWoQKAACwlqOhMnXqVPXp00cul0vv\n",
              "v/9+s+sWL16svn37Kj4+XtnZ2Tp58qSTYwEAgHbC0VD5wQ9+oE2bNql3797Nrjl48KB+8pOfaOPG\n",
              "jaqoqNDnn3+uhQsXOjkWAABoJxwNlZtuukkxMTFnXbNixQqNHz9eUVFRcrlcysvL0+9+97tm19fV\n",
              "1cnr9fpsDQ0NwR4dAABYILStB/B4PD6vuPTp00cej6fZ9YWFhZo9e7bPbUOHDnVktj6Pr3Vkv5JU\n",
              "Oe8Ox/YNALj4OPVvVlv/e9XuTqYtKCjQ0aNHfba0tLS2HgsAADigzV9RiY2N1UcffdT0dWVlpWJj\n",
              "Y5td73a75Xa7fW4LCQlxbD4AANB22vwVlfT0dJWVlenQoUMyxqioqEj33ntvW48FAAAs4Gio5Obm\n",
              "KiYmRp988oluv/12JSQkSJKysrJUVlYmSYqLi9Ps2bM1fPhwJSQkqEePHsrNzXVyLAAA0E44+tZP\n",
              "cXHxGW8vKSnx+To7O1vZ2dlOjgIAANqhNn/rBwAAoDmECgAAsBahAgAArEWoAAAAaxEqAADAWoQK\n",
              "AACwFqECAACsRagAAABrESoAAMBahAoAALAWoQIAAKxFqAAAAGsRKgAAwFqECgAAsBahAgAArEWo\n",
              "AAAAaxEqAADAWoQKAACwFqECAACsRagAAABrESoAAMBahAoAALAWoQIAAKxFqAAAAGsRKgAAwFqE\n",
              "CgAAsBahAgAArEWoAAAAaxEqAADAWoQKAACwFqECAACsRagAAABrESoAAMBahAoAALAWoQIAAKxF\n",
              "qAAAAGsRKgAAwFqECgAAsBahAgAArEWoAAAAaxEqAADAWoQKAACwFqECAACsRagAAABrESoAAMBa\n",
              "hAoAALAWoQIAAKxFqAAAAGsRKgAAwFqECgAAsBahAgAArEWoAAAAaxEqAADAWoQKAACwFqECAACs\n",
              "RagAAABrESoAAMBahAoAALAWoQIAAKxFqAAAAGsRKgAAwFqOhkp5ebmGDRumxMREDRkyRHv27PFb\n",
              "09jYqPz8fKWkpGjAgAEaNWqUKioqnBwLAAC0E46GSm5urnJycrR//3499thjyszM9FtTVlamv/zl\n",
              "L/rggw+0c+dO3XLLLXriiSecHAsAALQTjoVKTU2Ntm/froyMDElSenq6qqqq/F4tcblcqqurU21t\n",
              "rYwx8nq9iomJcWosAADQjoQ6teOqqipFR0crNPTUj3C5XIqNjZXH41FCQkLTujvvvFPr169XVFSU\n",
              "unTpop49e2rDhg3N7reurk51dXU+tzU0NDjzIAAAQJtq85Npt2/frt27d+vTTz/VZ599pltuuUV5\n",
              "eXnNri8sLFRYWJjPtnXr1gs4MQAAuFAcC5VevXqpurpa9fX1kiRjjDwej2JjY33WLV26VDfffLPC\n",
              "w8PVoUMHTZo0SevXr292vwUFBTp69KjPlpaW5tTDAAAAbcixUImMjNSgQYO0bNkySdLKlSsVExPj\n",
              "87aPJMXFxemtt97SiRMnJElr1qxR//79m92v2+1W165dfbaQkBCnHgYAAGhDjp2jIknFxcXKzMzU\n",
              "3Llz1bVrV5WWlkqSsrKyNH78eI0fP16PPPKIPvzwQ11zzTXq2LGjoqKiVFRU5ORYAACgnXA0VJKS\n",
              "krRlyxa/20tKSpr+7Ha7tWjRIifHAAAA7VSbn0wLAADQHEIFAABYi1ABAADWIlQAAIC1CBUAAGAt\n",
              "QgUAAFiLUAEAANYiVAAAgLUIFQAAYC1CBQAAWItQAQAA1iJUAACAtQgVAABgLUIFAABYi1ABAADW\n",
              "IlQAAIC1CBUAAGAtQgUAAFiLUAEAANYiVAAAgLUIFQAAYC1CBQAAWItQAQAA1iJUAACAtQgVAABg\n",
              "LUIFAABYi1ABAADWIlQAAIC1CBUAAGAtQgUAAFiLUAEAANYiVAAAgLUIFQAAYC1CBQAAWItQAQAA\n",
              "1iJUAACAtQgVAABgLUIFAABYi1ABAADWIlQAAIC1CBUAAGAtQgUAAFiLUAEAANYiVAAAgLUIFQAA\n",
              "YC1CBQAAWItQAQAA1iJUAACAtQgVAABgLUIFAABYi1ABAADWIlQAAIC1CBUAAGAtQgUAAFiLUAEA\n",
              "ANYiVAAAgLUIFQAAYC1CBQAAWItQAQAA1iJUAACAtQgVAABgLUIFAABYy9FQKS8v17Bhw5SYmKgh\n",
              "Q4Zoz549Z1y3a9cujRw5Uv369VO/fv20atUqJ8cCAADtRKiTO8/NzVVOTo4yMzO1YsUKZWZmatu2\n",
              "bT5r/vGPf2jChAlaunSpbrzxRjU0NOirr75yciwAANBOOPaKSk1NjbZv366MjAxJUnp6uqqqqlRR\n",
              "UeGz7sUXX9TQoUN14403SpJCQkLUo0ePZvdbV1cnr9frszU0NDj1MAAAQBtyLFSqqqoUHR2t0NBT\n",
              "L9q4XC7FxsbK4/H4rNu7d6/cbrfGjRungQMH6oEHHtDhw4eb3W9hYaHCwsJ8tq1btzr1MAAAQBsK\n",
              "OFTeeOONoA5QX1+vN998U8XFxdqxY4d69uyphx56qNn1BQUFOnr0qM+WlpYW1JkAAIAdAg6VOXPm\n",
              "KCkpSc8995y8Xm+z63r16qXq6mrV19dLkowx8ng8io2N9VkXGxurUaNGqWfPnnK5XMrIyNA777zT\n",
              "7H7dbre6du3qs4WEhAT6MAAAQDsQcKj85S9/0UsvvaTdu3crMTFRDz/8sPbu3eu3LjIyUoMGDdKy\n",
              "ZcskSStXrlRMTIwSEhJ81t19993atm1bU/T87//+r6655prWPBYAAPAd06pzVK699lotWrRIr7/+\n",
              "utasWaMBAwbotttu065du3zWFRcXq7i4WImJiZo3b55KS0slSVlZWSorK5N06hWVJ554QsOGDdOA\n",
              "AQP01ltvqaio6DwfFgAA+C5o1a8nv/nmm/rVr36lXbt26ZFHHtGUKVP09ttv61/+5V98fqsnKSlJ\n",
              "W7Zs8fv+kpISn6/vv/9+3X///a0ZBQAAfIcFHCr9+vVT9+7dNXXqVE2cOLHp/JAf/OAHWrx4cdAH\n",
              "BAAAF6+AQ2XZsmUaPHjwGe977bXXznsgAACAbwV8jsq7777r88mxX375pRYtWhTUoQAAAKRWhMr8\n",
              "+fMVERHR9HW3bt00f/78oA4FAAAgtSJUjDF+t/ER9gAAwAkBh0p0dLSWL1/e9PXvf/97RUdHB3Uo\n",
              "AAAAqRUn0z777LOaMGGCpk+fLkm67LLLtHr16qAPBgAAEHCoJCcna+/evfrb3/4m6dRnpfAR9gAA\n",
              "wAmt+sA3l8ul8PBw1dfX69NPP5Ukv2v4AAAAnK+AQ+V//ud/NHXqVHXs2FEdOpw6xcXlcqmmpibo\n",
              "wwEAgItbwKHy1FNPadu2bUpKSnJiHgAAgCYB/9ZP9+7diRQAAHBBBBwqd911l5599lnV1NTI6/U2\n",
              "bQAAAMEW8Fs/M2bMkCTl5+fL5XLJGCOXy8WHvgEAgKALOFQaGxudmAMAAMBPwG/9SKcuTPib3/xG\n",
              "knTkyBFVV1cHdSgAAACplRclnDx5smbNmiXp1NWT//Vf/zXYcwEAAAQeKgsXLtQ777yjrl27SpLi\n",
              "4+N1+PDhoA8GAAAQcKi43W5deumlPreFhrbqA24BAADOKuBQ6dGjh/bv3y+XyyXp1CfV8vH5AADA\n",
              "Ca26evJ9992nffv2qVevXuratavWrFnjxGwAAOAiF3CoJCQk6K9//av+9re/yRjD1ZMBAIBjAg4V\n",
              "j8cjSbr88ssliasnAwAAxwQcKoMHD276RNra2lr94x//ULdu3bh6MgAACLqAQ+WffxV51apV+uCD\n",
              "D4I2EAAAwLda9cm0p5s4caLWrl0bjFkAAAB8BPyKyulXSm5oaNBf//pXrp4MAAAcEXCohIeHN52j\n",
              "EhISor59++q///u/nZgNAABc5Lh6MgAAsNZ5n6MCAADglIBfUenQoUPTx+efzhgjl8ulhoaGoAwG\n",
              "AAAQcKjMmTNHx48f10MPPSRJKioq0qWXXqof//jHwZ4NAABc5AIOlVdeeUXvvvtu09dPP/20Bg8e\n",
              "rBkzZgR1MAAAgIDPUfnmm298PoW2pqZG33zzTVCHAgAAkFrxisp//Md/6JprrtHYsWMlSa+//rpm\n",
              "zZoV7LkAAAACD5Xc3FwNHz5c69evlyTl5+crNTU16IMBAAAEHCqS1K1bN1199dUaOXKk6uvrdeLE\n",
              "CXXq1CnYswEAgItcwOeorFixQkOHDtWDDz4oSdqzZ4/uuuuuYM8FAAAQeKgUFhbqvffeU3h4uCTp\n",
              "mmuu0ccffxzsuQAAAAIPlZCQEHXr1s3nNt72AQAATgg4VLp06aLPP/+86dNp161bp4iIiKAPBgAA\n",
              "EPDJtM8884zGjBmjAwcO6MYbb9TBgwe1du1aJ2YDAAAXuYBCpbGxUQ0NDVq/fr02b94sY4yGDRvW\n",
              "dL4KAABAMAUUKh06dFBOTo4++OADjRkzxqmZAAAAJLXiHJW+ffuqoqLCiVkAAAB8BHyOyldffaWB\n",
              "Awdq2LBh6ty5c9Ptq1atCupgAAAALQ6VnJwcLVy4UJMmTdL48eN1xRVXODkXAABAy0Nl+/btkqRJ\n",
              "kyZp0KBBeu+99xwbCgAAQGrFOSqSZIwJ9hwAAAB+WvyKyvHjx7Vr1y4ZY1RbW9v0528NGDDAkQEB\n",
              "AMDFK6BQGT9+fNPXp//Z5XLpwIEDwZ0MAABc9FocKpWVlQ6OAQAA4K9V56gAAABcCIQKAACwFqEC\n",
              "AACsRagAAABrESoAAMBahAoAALAWoQIAAKxFqAAAAGsRKgAAwFqOhkp5ebmGDRumxMREDRkyRHv2\n",
              "7Gl2rTFGN998s8LDw50cCQAAtCOOhkpubq5ycnK0f/9+PfbYY8rMzGx27X/9138pPj7eyXEAAEA7\n",
              "41io1NTUaPv27crIyJAkpaenq6qqShUVFX5r9+zZoz/84Q96/PHHz7nfuro6eb1en62hoSHo8wMA\n",
              "gLbnWKhUVVUpOjpaoaGnrnvocrkUGxsrj8fjs+7kyZPKzs5WcXGxQkJCzrnfwsJChYWF+Wxbt251\n",
              "5DEAAIC21eYn086ePVsTJ05Uv379WrS+oKBAR48e9dnS0tIcnhIAALSFUKd23KtXL1VXV6u+vl6h\n",
              "oaEyxsjj8Sg2NtZn3YYNG+TxePT888+rvr5eXq9Xffr00bZt29SjRw+//brdbrndbp/bWvJKDAAA\n",
              "aH8ce0UlMjJSgwYN0rJlyyRJK1euVExMjBISEnzWbdy4UR9//LEqKyu1adMmde3aVZWVlWeMFAAA\n",
              "cHFx9K2f4uJiFRcXKzExUfPmzVNpaakkKSsrS2VlZU7+aAAA8B3g2Fs/kpSUlKQtW7b43V5SUnLG\n",
              "9X369NGRI0ecHAkAALQjbX4yLQAAQHMIFQAAYC1CBQAAWItQAQAA1iJUAACAtQgVAABgLUIFAABY\n",
              "i1ABAADWIlQAAIC1CBUAAGAtQgUAAFiLUAEAANYiVAAAgLUIFQAAYC1CBQAAWItQAQAA1iJUAACA\n",
              "tQgVAABgLUIFAABYi1ABAADWIlQAAIC1CBUAAGAtQgUAAFiLUAEAANYiVAAAgLUIFQAAYC1CBQAA\n",
              "WItQAQAA1iJUAACAtQgVAABgLUIFAABYi1ABAADWIlQAAIC1CBUAAGAtQgUAAFiLUAEAANYiVAAA\n",
              "gLUIFQAAYC1CBQAAWItQAQAA1iJUAACAtQgVAABgLUIFAABYi1ABAADWIlQAAIC1CBUAAGAtQgUA\n",
              "AFiLUAEAANYiVAAAgLUIFQAAYC1CBQAAWItQAQAA1iJUAACAtQgVAABgLUIFAABYi1ABAADWIlQA\n",
              "AIC1CBUAAGAtQgUAAFiLUAEAANYiVAAAgLUIFQAAYC1HQ6W8vFzDhg1TYmKihgwZoj179viteeut\n",
              "t5SWlqaUlBSlpqZq+vTpamxsdHIsAADQTjgaKrm5ucrJydH+/fv12GOPKTMz02/NFVdcoZdeekl7\n",
              "9+7Vu+++q82bN2vp0qVOjgUAANoJx0KlpqZG27dvV0ZGhiQpPT1dVVVVqqio8Fl37bXXKi4uTpJ0\n",
              "ySWXaODAgaqsrGx2v3V1dfJ6vT5bQ0ODUw8DAAC0IcdCpaqqStHR0QoNDZUkuVwuxcbGyuPxNPs9\n",
              "hw4d0ooVKzRu3Lhm1xQWFiosLMxn27p1a9DnBwAAbc+ak2m9Xq/uvPNOTZ8+Xdddd12z6woKCnT0\n",
              "6FGfLS0t7QJOCgAALpRQp3bcq1cvVVdXq76+XqGhoTLGyOPxKDY21m/tN998o9GjR2vChAnKz88/\n",
              "637dbrfcbrfPbSEhIUGdHQAA2MGxV1QiIyM1aNAgLVu2TJK0cuVKxcTEKCEhwWfdsWPHNHr0aI0e\n",
              "PVpPPvmkU+MAAIB2yNG3foqLi1VcXKzExETNmzdPpaWlkqSsrCyVlZVJkp577jlt3bpVq1at0sCB\n",
              "AzVw4ED97Gc/c3IsAADQTjj21o8kJSUlacuWLX63l5SUNP15xowZmjFjhpNjAACAdsqak2kBAAD+\n",
              "GaECAACsRagAAABrESoAAMBahAoAALAWoQIAAKxFqAAAAGsRKgAAwFqECgAAsBahAgAArEWoAAAA\n",
              "axEqAADAWoQKAACwFqECAACsRagAAABrESoAAMBahAoAALAWoQIAAKxFqAAAAGsRKgAAwFqECgAA\n",
              "sBahAgAArEWoAAAAaxEqAADAWoQKAACwFqECAACsRagAAABrESoAAMBahAoAALAWoQIAAKxFqAAA\n",
              "AGsRKgAAwFqECgAAsBahAgAArEWoAAAAaxEqAADAWoQKAACwFqECAACsRagAAABrESoAAMBahAoA\n",
              "ALAWoQIAAKxFqAAAAGsRKgAAwFqECgAAsBahAgAArEWoAAAAaxEqAADAWoQKAACwFqECAACsRagA\n",
              "AABrESoAAMBahAoAALAWoQIAAKxFqAAAAGsRKgAAwFqECgAAsBahAgAArEWoAAAAaxEqAADAWoQK\n",
              "AACwlqOhUl5ermHDhikxMVFDhgzRnj17zrhu8eLF6tu3r+Lj45Wdna2TJ086ORYAAGgnHA2V3Nxc\n",
              "5eTkaP/+/XrssceUmZnpt+bgwYP6yU9+oo0bN6qiokKff/65Fi5c6ORYAACgnXAsVGpqarR9+3Zl\n",
              "ZGRIktLT01VVVaWKigqfdStWrND48eMVFRUll8ulvLw8/e53v2t2v3V1dfJ6vT5bQ0ODUw8DAAC0\n",
              "oVCndlxVVaXo6GiFhp76ES6XS7GxsfJ4PEpISGha5/F41Lt376av+/TpI4/H0+x+CwsLNXv2bJ/b\n",
              "kpOTlZ+fH+RHIE0M+h7/T37+Ogf37pyGhgZt3bpVaWlpCgkJaetxLjoc/7bDsW87HPuWceLfrIaG\n",
              "Bt1ww9OOHfvevXvrRz/60VnXOBYqTikoKPCLErfbLbfb3UYTXVy8Xq/CwsL0xhtvqGvXrm09zkWH\n",
              "4992OPZth2Pfdmw49o6FSq9evVRdXa36+nqFhobKGCOPx6PY2FifdbGxsfroo4+avq6srPRbczqi\n",
              "BACAi4dj56hERkZq0KBBWrZsmSRp5cqViomJ8XnbRzp17kpZWZkOHTokY4yKiop07733OjUWAABo\n",
              "Rxz9rZ/i4mIVFxcrMTFR8+bNU2lpqSQpKytLZWVlkqS4uDjNnj1bw4cPV0JCgnr06KHc3FwnxwIA\n",
              "AO2Eo+eoJCUlacuWLX63l5SU+HydnZ2t7OxsJ0dBkLjdbs2cOZO339oIx7/tcOzbDse+7dhw7F3G\n",
              "GNNmPx0AAOAs+Ah9AABgLUIFAABYi1ABAADWIlQAAIC1CBU0acnVrhsbG5Wfn6+UlBQNGDBAo0aN\n",
              "8rl+05o1a5ScnKy+fftq4sSJ8nq9F/IhtFvne+wrKysVEhKigQMHNm2nf5AimtfSYz9t2jT1799f\n",
              "ycnJmjJlik6cONF0P8/71jnfY8/zvvWmTp2qPn36yOVy6f3332923eLFi9W3b1/Fx8crOztbJ0+e\n",
              "bNF9QWWA/2/UqFGmtLTUGGPMyy+/bK677jq/Na+88opJS0szJ06cMMYY89RTT5kf/vCHxhhjvvnm\n",
              "GxMZGWk+/PBDY4wxjzzyiJk2bdqFGb6dO99jf/DgQRMWFnahxv1OacmxX7hwoRk1apSpq6szjY2N\n",
              "Jisry/z85z83xvC8Px/ne+x53rfehg0bTFVVlendu7fZsWPHGdccOHDAREdHm+rqatPY2GjuvPNO\n",
              "8/zzz5/zvmDjFRVIavnVrl0ul+rq6lRbWytjjLxer2JiYiRJr732mq699lolJydLkh5++OGzXgkb\n",
              "pwTj2KN1WnrsP/jgA916663q1KmTXC6XxowZo9/85jeSeN63VjCOPVrvpptuOud/P1asWKHx48cr\n",
              "KipKLpdLeXl5Tc/ts90XbIQKJJ39atenu/POOzVy5EhFRUUpOjpa69at05w5cySd+UrY317vCc0L\n",
              "xrGXpL///e8aMmSIBg0apDlz5qihoeGCPo72qKXHfvDgwSorK5PX69XJkye1fPlyVVZWSuJ531rB\n",
              "OPYSz3snnem5/e3fz9nuCzZCBQHZvn27du/erU8//VSfffaZbrnlFuXl5bX1WBeFsx376Ohoffrp\n",
              "p9q2bZvefPNNbdy4Ub/85S/beOLvjszMTI0ePVojRozQiBEjlJiY2PQPLJx1tmPP8/7iQKhAku/V\n",
              "riU1e7XrpUuX6uabb1Z4eLg6dOigSZMmaf369ZJOXQn7448/blpbWVnp839MOLNgHHu3263IyEhJ\n",
              "UkREhCZPnqyNGzde2AfSDrX02LtcLs2aNUs7duzQ5s2blZKSotTUVEk871srGMee572zzvTc/vbv\n",
              "52z3BRuhAkktv9p1XFyc3nrrraaz7tesWaP+/ftLkkaPHq333ntP+/btkyTNnz+fK2G3QDCOfU1N\n",
              "TdMZ93V1dVq1apWuvfbaC/go2qeWHvva2lp9/fXXkqQvvvhC8+bN0/Tp0yXxvG+tYBx7nvfOSk9P\n",
              "V1lZmQ4dOiRjjIqKipqe22e7L+gcOUUX7dK+ffvM0KFDTd++fc3gwYPNzp07jTHGTJkyxaxevdoY\n",
              "Y0xtba3JysoyycnJ5uqrrza33Xab+eijj5r2sXr1apOUlGTi4+PNhAkTzJEjR9rksbQ353vsV65c\n",
              "aVJTU82AAQNMSkqKefTRR01tbW2bPZ72pCXH/tChQyY5OdmkpKSY5ORks2DBAp998LxvnfM99jzv\n",
              "Wy8nJ8f07NnThISEmMjISBMfH2+M8T32xpz6rau4uDgTFxdnJk+e3PRbh+e6L5i4KCEAALAWb/0A\n",
              "AABrESoAAMBahAoAALAWoQIAAKxFqAAAAGsRKgAAwFqECgAAsBahAgAArEWoAAAAaxEqAADAWv8P\n",
              "lklVZqI2jcQAAAAASUVORK5CYII=\n",
              "\">\n",
              "      </div>\n",
              "      <script type=\"text/javascript\">\n",
              "        (() => {\n",
              "          const chartElement = document.getElementById(\"chart-a8a89254-8f3f-49bb-8014-d93d4a85e6d2\");\n",
              "          async function getCodeForChartHandler(event) {\n",
              "            const chartCodeResponse =  await google.colab.kernel.invokeFunction(\n",
              "                'getCodeForChart', [\"chart-a8a89254-8f3f-49bb-8014-d93d4a85e6d2\"], {});\n",
              "            const responseJson = chartCodeResponse.data['application/json'];\n",
              "            await google.colab.notebook.addCell(responseJson.code, 'code');\n",
              "          }\n",
              "          chartElement.onclick = getCodeForChartHandler;\n",
              "        })();\n",
              "      </script>\n",
              "      <style>\n",
              "        .colab-quickchart-chart-with-code  {\n",
              "            display: block;\n",
              "            float: left;\n",
              "            border: 1px solid transparent;\n",
              "        }\n",
              "\n",
              "        .colab-quickchart-chart-with-code:hover {\n",
              "            cursor: pointer;\n",
              "            border: 1px solid #aaa;\n",
              "        }\n",
              "      </style>"
            ]
          },
          "metadata": {}
        },
        {
          "output_type": "display_data",
          "data": {
            "text/plain": [
              "<google.colab._quickchart_helpers.SectionTitle at 0x7c22ba4cea10>"
            ],
            "text/html": [
              "<h4 class=\"colab-quickchart-section-title\">2-d distributions</h4>\n",
              "<style>\n",
              "  .colab-quickchart-section-title {\n",
              "      clear: both;\n",
              "  }\n",
              "</style>"
            ]
          },
          "metadata": {}
        },
        {
          "output_type": "display_data",
          "data": {
            "text/plain": [
              "from matplotlib import pyplot as plt\n",
              "_df_2.plot(kind='scatter', x='PARKING_SPACE_QTY', y='SALES_AREA_SIZE_NUM', s=32, alpha=.8)\n",
              "plt.gca().spines[['top', 'right',]].set_visible(False)"
            ],
            "text/html": [
              "      <div class=\"colab-quickchart-chart-with-code\" id=\"chart-a4aa66f6-df50-4b80-a032-5f4306535f1c\">\n",
              "        <img style=\"width: 180px;\" src=\"data:image/png;base64,iVBORw0KGgoAAAANSUhEUgAAAjIAAAGlCAYAAADgRxw/AAAAOnRFWHRTb2Z0d2FyZQBNYXRwbG90\n",
              "bGliIHZlcnNpb24zLjEwLjAsIGh0dHBzOi8vbWF0cGxvdGxpYi5vcmcvlHJYcgAAAAlwSFlzAAAP\n",
              "YQAAD2EBqD+naQAALMtJREFUeJzt3Xl0VGWe//FPpQoCQgBpSScQkgxLiCGGJBCW2BohoIgCGZg+\n",
              "LqSFJmwDuAUbGpcW0BacbhmZthWUiCwDtIijEQfbDTkoiNAhIDRIQEJCCCKjkICkSCXP7w+O9aMg\n",
              "W4WqhAvv1zl1TtV9ntz63msd/fjc597HZowxAgAAsKCAxi4AAACgvggyAADAsggyAADAsggyAADA\n",
              "sggyAADAsggyAADAsggyAADAsggyAADAsq6JILNgwYLGLgEAAPjBNRFkDh8+3NglAAAAP7gmggwA\n",
              "ALg6EWQAAIBlEWQAAIBlEWQAAIBlEWQAAIBlEWQAAIBlEWQAAIBlEWQAAIBlEWQAAIBlEWQAAIBl\n",
              "EWTqqay8QidOO1VWXtHYpQAAcM1yNHYBVvN9qVMrvszXB7u/09nyCjVvYtedsSFK7xehG1oGNnZ5\n",
              "AABcU/w+IvPQQw8pMjJSNptNubm51fbLyspS165d1blzZ40fP17l5eV1amtI35c69eCqHfrvrQU6\n",
              "43TJEWDTGadLK7Ye1tSVO3TitLNR6gIA4Frl9yDzb//2b/r8888VERFRbZ9Dhw7pqaee0qZNm3Tg\n",
              "wAF99913evXVV2tta2grvszXgeOlatcyUNe3aKoWgQ5d36Kp2rUM1IHjpVqxhVW2AQBoSH4PMrfe\n",
              "eqvCwsJq7PPWW29p2LBhCgkJkc1m06RJk7Rq1apa26ridDpVUlLi8aqouPx5LGXlFfpg93dq5rDL\n",
              "Yfc8bQ57gAIddq3fc4w5MwAANKArYrJvQUGBx4hNZGSkCgoKam2ryty5c9W6dWuP11dffXXZNZ52\n",
              "unS2vEJNHVWfskBHgM6eq9Bpp+uyvwsAANTNFRFkfGnmzJk6deqUx6t3796Xvd+WgQ41b2LXOVdl\n",
              "le1OV6WaN7WrZSDzpwEAaChXRJAJDw/X4cP/f35Jfn6+wsPDa22rSmBgoFq1auXxstvtl11jsyZ2\n",
              "DY79pcpcFXJVeIYZV0WlnK4K3dk9RM2aXP53AQCAurkigszIkSOVnZ2tY8eOyRijhQsX6t577621\n",
              "raH9pl+kugQH6fvTTv1w5pzOOF364cw5fX/aqa7BQUrvV/2EZgAA4Ht+DzITJ05UWFiYjhw5ojvu\n",
              "uENdunSRJI0bN07Z2dmSpE6dOmn27Nm6+eab1aVLF7Vr104TJ06sta2h3dAyUC/dn6D0PhFq2cwh\n",
              "V6VRy2YOpfeJ0F/uT+A5MgAANDCbMcY0dhH+lpmZqfnz5/t0n2Xl5yf2tgx0cDkJAIBGwszUemrW\n",
              "xE6AAQCgkV0Rc2QAAADqgyADAAAsiyADAAAsiyADAAAsiyADAAAsiyADAAAsiyADAAAsiyADAAAs\n",
              "iyADAAAsiyADAAAsiyADAAAsiyADAAAsiyADAAAsiyADAAAsiyADAAAsiyADAAAsiyADAAAsiyAD\n",
              "AAAsiyADAAAsiyADAAAsiyADAAAsiyADAAAsiyADAAAsiyADAAAsiyADAAAsiyADAAAsiyADAAAs\n",
              "iyADAAAsiyADAAAsiyADAAAsiyADAAAsiyADAAAsiyADAAAsiyADAAAsiyADAAAsiyADAAAsiyAD\n",
              "AAAsiyADAAAsiyADAAAsiyADAAAsiyADAAAsiyADAAAsiyADAAAsiyADAAAsiyADAAAsiyADAAAs\n",
              "iyADAAAsiyADAAAsiyADAAAsiyADAAAsiyADAAAsiyADAAAsiyADAAAsiyADAAAsiyADAAAsiyAD\n",
              "AAAsiyADAAAsiyADAAAsiyADAAAsiyADAAAsiyADAAAsy+9BJi8vT8nJyYqKilJSUpL27NlzSZ/K\n",
              "yko99thjio2NVXR0tDIyMnTu3DlJUn5+vux2u+Lj492vgwcP+rtsAABgAX4PMhMnTtSECRO0f/9+\n",
              "zZgxQ2PGjLmkT1ZWlnJycpSTk6O9e/cqICBACxYscLcHBQUpNzfX/ercubO/ywYAABbg1yBz/Phx\n",
              "bd++Xenp6ZKkkSNHqrCwUAcOHPDot3PnTg0cOFBNmzaVzWbTnXfeqeXLl9frO51Op0pKSjxeFRUV\n",
              "l30sAADgyuPXIFNYWKjQ0FA5HA5Jks1mU3h4uAoKCjz69ezZU9nZ2SopKVF5ebnefPNN5efnu9vP\n",
              "nDmjpKQkJSYmas6cOTUGk7lz56p169Yer6+++sovxwcAABrXFTHZd8yYMRo8eLBSUlKUkpKiqKgo\n",
              "d/gJDQ1VUVGRtm3bpo8//libNm3SCy+8UO2+Zs6cqVOnTnm8evfu3VCHAgAAGpBfg0zHjh1VXFws\n",
              "l8slSTLGqKCgQOHh4R79bDabZs2apR07dmjz5s2KiYlR9+7dJUmBgYEKDg6WJLVt21Zjx47Vpk2b\n",
              "qv3OwMBAtWrVyuNlt9v9dIQAAKAx+TXIBAcHKzExUStWrJAkrV27VmFhYerSpYtHv7KyMv3444+S\n",
              "pBMnTmjevHmaPn26pPPzbMrLyyWdn//y9ttvKyEhwZ9lAwAAi3D4+wsWLVqkMWPG6LnnnlOrVq20\n",
              "ZMkSSdK4ceM0bNgwDRs2TKdOndJtt92mgIAAVVZW6uGHH9bQoUMlSZ9//rn+8Ic/yG63y+VyacCA\n",
              "AXriiSf8XTYAALAAmzHGNHYR/paZman58+c3dhkAAMDHrojJvgAAAPVBkAEAAJZFkAEAAJZFkAEA\n",
              "AJZFkAEAAJZFkAEAAJZFkAEAAJZFkAEAAJZFkAEAAJZFkAEAAJZFkAEAAJZFkAEAAJZFkAEAAJZF\n",
              "kAEAAJZFkAEAAJZFkAEAAJZFkAEAAJZFkAEAAJZFkAEAAJZFkAEAAJZFkAEAAJZFkAEAAJZFkAEA\n",
              "AJZFkAEAAJZFkAEAAJZFkAEAAJZFkAEAAJbl8KZzdnZ2je3Dhg27rGIAAAC84VWQSUtLU1xcnNq2\n",
              "bStjjEebzWYjyAAAgAblVZB56qmntHr1av3yl7/U2LFjNWjQIH/VBQAAUCuv5sjMnj1b+/bt09ix\n",
              "Y/X666+rW7dumjVrloqLi/1VHwAAQLW8GpGRzl9CGjRokAYNGqT3339fv/3tb9WiRQv97ne/80d9\n",
              "AAAA1fI6yHz//fdaunSpli5dqo4dO+qll15SWlqaH0oDAAComVdB5l//9V+1f/9+paen6+9//7va\n",
              "t2/vr7oAAABqZTMX335Ug4CAALVu3fr8H9ps7u3GGNlsNv3www++r9AHMjMzNX/+/MYuAwAA+JhX\n",
              "IzKHDh3yVx0AAABe8yrIRERE+KsOAAAAr3kVZBISEjwuKdlsNgUHB+v222/XQw89JLvd7vMCAQAA\n",
              "quNVkHnxxRcv2XbixAllZWXpu+++07x583xVFwAAQK28CjIpKSlVbr/77rvVp08fggwAAGhQPln9\n",
              "OjAwUAEBLKQNAAAalk/Sx65du9S8eXNf7AoAAKDOvH4g3oWTfaXzc2T279+vN99806eFAQAA1Mar\n",
              "IHPxUgQ2m03t2rVTnz591LZtW1/WBQAAUCuvgszo0aP9VQcAAIDXvAoyc+bMqbbNZrPpqaeeuuyC\n",
              "AAAA6sqrIFNaWnrJNmOM3n77bR0+fJggAwAAGpRXQeZPf/qTx+ePP/5Yv//97xUaGqply5b5tDAA\n",
              "AIDaeBVkfpabm6vp06fr6NGj+uMf/6jhw4f7ui4AAIBaefUcmfz8fI0aNUppaWm67777tGvXLkIM\n",
              "AABoNF6NyHTr1k1hYWH693//d5WWluqll17yaH/ooYd8WhwAAEBNvAoy9913n2w2m/bt23dJ28UP\n",
              "ygMAAPA3r4LMG2+8Uad+X3zxhW6++eb61AMAAFBnflnp8cEHH/THbgEAADz4JcgYY/yxWwAAAA9+\n",
              "CTLMlwEAAA3BL0EGAACgIXBpCQAAWJZfgszUqVP9sVsAAAAPXgWZkSNHut/PmDHDoy0lJcX9PiMj\n",
              "4zLLAgAAqJ1XQebbb791v//oo4882kpKSnxTEQAAQB3V+9LSxfNguFMJAAA0NK+CzIVhpa7BJS8v\n",
              "T8nJyYqKilJSUpL27NlzSZ/Kyko99thjio2NVXR0tDIyMnTu3Dl3+7p16xQdHa2uXbtqxIgRjP4A\n",
              "AABJXgaZffv2KTExUYmJiR7vExIS9M0331T5NxMnTtSECRO0f/9+zZgxQ2PGjLmkT1ZWlnJycpST\n",
              "k6O9e/cqICBACxYskCSdPn1aGRkZeuedd5SXl6f27dvrmWee8f5IAQDAVcertZbWr1/v1c6PHz+u\n",
              "7du368MPP5R0frLw1KlTdeDAAXXp0sXdb+fOnRo4cKCaNm0qSbrzzjs1a9Ys/e53v9P69euVkJCg\n",
              "6OhoSdLkyZN1++23609/+lOV3+l0OuV0Oj22VVRUeFU3AACwBq+CzIV3Jl3s2LFjl2wrLCxUaGio\n",
              "HI7zX2Oz2RQeHq6CggKPINOzZ08tWrRIU6dOVfPmzfXmm28qPz9fklRQUKCIiAh338jISBUXF8vl\n",
              "crn3e6G5c+dq9uzZHtv69u3rzWECAACL8OrS0nXXXVftCthDhgypdxFjxozR4MGDlZKSopSUFEVF\n",
              "RVUZUupi5syZOnXqlMerd+/e9a4NAABcubwKMm3bttVzzz2nKVOmyOVyebRV9TTfjh07ukdPfu5T\n",
              "UFCg8PBwj342m02zZs3Sjh07tHnzZsXExKh79+6SpPDwcB0+fNjdNz8/32OU52KBgYFq1aqVx8tu\n",
              "t3tzmAAAwCK8CjLBwcHatm2b8vPzlZKSou+++87dVtVdTMHBwUpMTNSKFSskSWvXrlVYWJjHZSVJ\n",
              "Kisr048//ihJOnHihObNm6fp06dLkgYPHqycnBzt27dPkvTyyy/r3nvv9aZsAABwlfL6OTKtW7fW\n",
              "unXrNGDAAPXs2VNbtmyRVP36SosWLdKiRYsUFRWlefPmacmSJZKkcePGKTs7W5J06tQpJScnq3v3\n",
              "7rrllls0adIkDR06VJIUFBSkxYsXKy0tTV26dNGRI0f01FNP1etgAQDA1cVmvFjhMTExUTk5Oe7P\n",
              "7777rsaPH6/Zs2frtdde82i7kmRmZmr+/PmNXQYAAPAxr2bUXpx5hg8frujoaI0YMUL79+/3aWEA\n",
              "AAC18SrIzJkz55Jt3bp105dffqmXX37ZZ0UBAADUhVdzZH6et3KxoKCgS1bDBgAA8DevRmSuv/76\n",
              "Ku9OMsbIZrPphx9+8FlhAAAAtfEqyOTm5vqpDAAAAO95FWQuXCrgZydPnlSbNm18VQ8AAECdeTVH\n",
              "5sUXX9TevXslSZWVlbr77rvVtm1btWvXzv08GQAAgIbiVZBZvHixOnfuLElas2aNDh48qOLiYr3x\n",
              "xhtM9gUAAA3OqyDjcDjUtGlTSdInn3yi3/zmN/rlL3+pu+66S6WlpX4pEAAAoDpeBRmXy+V+KN4X\n",
              "X3yh5ORkd1t5eblvKwMAAKiFV5N9U1NTdc899yg4OFilpaX61a9+JUk6duyYAgMD/VIgAABAdbwa\n",
              "kXnhhRfUp08fNWnSRB988IEcjvM5KC8vT5mZmX4pEAAAoDpejcg4HA5Nmzbtku233HKLx+cZM2bo\n",
              "+eefv7zKAAAAauHViExdffTRR/7YLQAAgAe/BJmLV8kGAADwB78EmarWYwIAAPA1vwQZAACAhsCl\n",
              "JQAAYFmXHWQqKyv13nvvKS0tzb3tww8/vNzdAgAA1Mqr268vlJeXp6ysLC1fvlzh4eG6//773W3t\n",
              "2rXzSXEAAAA18SrInD17VmvWrNHixYt14MABjRo1SgEBAax8DQAAGoVXQSYkJETx8fGaNm2a7rrr\n",
              "LjkcDq1du9ZftQEAANTIqzkyaWlp2r17t1atWqUNGzb4qyYAAIA68SrILF26VPn5+RowYICefPJJ\n",
              "hYeH6+TJk8rLy/NXfQAAANXy+q6loKAgTZgwQVu3btX777+vBx54QMnJyUpKSvJHfQAAANW6rNuv\n",
              "b7rpJr344os6evSopk+f7quaAAAA6sSrIDN37lz3+zVr1rjfN2nSRF9++aXvqgIAAKgDr4LMheHl\n",
              "wlAjicm/AACgwXkVZC5ceuDiZQhYlgAAADQ0r4LMhataX7zCNSteAwCAhubVA/GOHDmizMzMS94b\n",
              "Y1RUVOT76gAAAGrgVZCZMmVKle8lafLkyb6pCAAAoI68CjJPP/20v+oAAADw2mU9R+Zn7777rhIS\n",
              "EnyxKwAAgDrzKshs3bpV3bt3V1BQkMaPH69Dhw6pX79+evDBB/Xoo4/6q0YAAIAqeRVkHnnkEU2e\n",
              "PFnbtm1TeHi4+vTpo7i4OH3zzTd64IEH/FUjAABAlWzGiwfA9OjRQzt37nR/Dg0N1ZEjR2S32/1S\n",
              "nK9kZmZq/vz5jV0GAADwMa9GZC4OLKGhoVd8iAEAAFcvr+5a2rdvnxITE6v9nJOT47vKAAAAauFV\n",
              "kFm/fr2/6gAAAPCaV0EmJSWlyu0VFRV67733fFIQAABAXV3Wc2S++eYbTZ8+XR06dNCzzz7rq5oA\n",
              "AADqxKsRGUn66aef9Le//U2LFy/WoUOHdPbsWW3ZskXR0dH+qA8AAKBaXo3IjB8/Xh07dlR2drZ+\n",
              "//vfq6CgQG3atCHEAACARuHViMzq1avVq1cvTZw4UXfccYdsNptsNpu/agMAAKiRVyMyxcXFSk9P\n",
              "15w5cxQREaEnn3xS5eXl/qoNAACgRl4FmZYtWyojI0ObN2/WBx98oLKyMp07d07Jycl6+eWX/VUj\n",
              "AABAlep911JMTIz+/Oc/q6ioSNOmTdP777/vbnM6nT4pDgAAoCaXdfu1JDkcDo0cOdIjyPTr1+9y\n",
              "dwsAAFCryw4yVfFiHUoAAIB680uQ4U4mAADQEPwSZAAAABoCl5YAAIBl+SXI9O3b1x+7BQAA8OBV\n",
              "kPnnP/+pEydOuD+vWbNGaWlpmjZtmk6fPu3e/sorr/iuQgAAgGp4FWR++9vfup8Rk5ubq4yMDPXr\n",
              "10/Hjh3Tww8/7JcCAQAAquPVWks//fSTOnToIEl66623lJ6erhkzZsjlcikhIcEvBQIAAFTHqxEZ\n",
              "h+P/556tW7cqJSXFvd1ut/u2MgAAgFp4NSLTtm1bZWdnq3379tqyZYtWrlwpSXK5XCxLAAAAGpxX\n",
              "QWbBggW67777VFRUpDlz5qhdu3aSpHXr1ikpKckvBQIAAFTHZq6Bh75kZmZq/vz5jV0GAADwMa/m\n",
              "yCxdutT9/osvvvBoe+GFF3xTEQAAQB15FWQWLFjgfv/ggw96tP33f/93lX+Tl5en5ORkRUVFKSkp\n",
              "SXv27LmkT2VlpTIzMxUTE6O4uDj1799fBw4ckCTl5+fLbrcrPj7e/Tp48KA3ZQMAgKuUV0HmwqtQ\n",
              "F1+Rqu4K1cSJEzVhwgTt379fM2bM0JgxYy7pk52drS+++EI7d+7Url27lJqaqscff9zdHhQUpNzc\n",
              "XPerc+fO3pQNAACuUl4FmQtXtb54heuqVrw+fvy4tm/frvT0dEnSyJEjVVhY6B5tufBvnU6nysrK\n",
              "ZIxRSUmJwsLCvCnNzel0qqSkxONVUVFRr30BAIArm1d3LR0/flz/9V//dcl7Sfr+++8v6V9YWKjQ\n",
              "0FD382dsNpvCw8NVUFCgLl26uPsNHTpUGzZsUEhIiIKCgtShQwdt3LjR3X7mzBklJSWpoqJCaWlp\n",
              "euKJJ6p9bs3cuXM1e/Zsj22s/QQAwNXJqxGZQYMGaceOHdqxY4fH+x07dmjgwIH1LmL79u3avXu3\n",
              "ioqKdPToUaWmpmrSpEmSpNDQUBUVFWnbtm36+OOPtWnTphonFs+cOVOnTp3yePXu3bvetQEAgCuX\n",
              "VyMyS5Ysqbbt6NGjl2zr2LGjiouL5XK55HA4ZIxRQUGBwsPDPfotW7ZMAwYMUJs2bSRJo0eP1u23\n",
              "3y5JCgwMVHBwsKTzD+QbO3asVq5cqenTp1dZR2BgoAIDAz228dRhAACuTl6NyNSkqss3wcHBSkxM\n",
              "1IoVKyRJa9euVVhYmMdlJUnq1KmTPv30U507d07S+QfsxcbGSjp/Cau8vFzS+fkvb7/9Nus6AQAA\n",
              "ST4MMtXdtbRo0SItWrRIUVFRmjdvnntUZ9y4ccrOzpYkTZkyRf/yL/+iHj16KC4uTp988oleeeUV\n",
              "SdLnn3+uhIQE9ejRQ4mJiQoJCdETTzzhq7IBAICF+ezJvj9P4r0S8WRfAACuTl7Nkdm1a1e1bT9f\n",
              "/gEAAGgoXgWZ4cOHV9vWrFmzyy4GAADAG14FmUOHDvmrDgAAAK9d9mTfyspKvffee0pLS/NBOQAA\n",
              "AHXn1YjMhfLy8pSVlaXly5crPDxc999/vy/rAgAAqJVXQebs2bNas2aNFi9erAMHDmjUqFEKCAjQ\n",
              "li1b/FUfAABAtbwKMiEhIYqPj9e0adN01113yeFwaO3atf6qDQAAoEZezZFJS0vT7t27tWrVKm3Y\n",
              "sMFfNQEAANSJV0Fm6dKlys/P14ABA/Tkk08qPDxcJ0+eVF5enr/qAwAAqJbXdy0FBQVpwoQJ2rp1\n",
              "q95//32NHj1aycnJSkpK8kd9AAAA1ar3XUuS1KJFC0VERCgrK0tOp9NXNQEAANSJVyMyAwcOVG5u\n",
              "riTp6NGj6tWrl/7+979rxowZOnjwoD/qAwAAqJZXQaaoqEjx8fGSpJUrVyolJUXr16/X5s2btXLl\n",
              "Sn/UBwAAUC2vgkzz5s3d7zdv3qwhQ4ZIkq6//nrZ7XbfVgYAAFALr4JMQECAjhw5otOnT2vjxo1K\n",
              "SUlxt509e9bnxQEAANTEq8m+jz/+uBISEuRwONS/f39FRUVJOj86ExkZ6Y/6AAAAquVVkBkxYoSS\n",
              "k5P13XffKS4uzr09MjJSr776qs+LAwAAqInXt1+HhIQoJCTEY1v79u19VhAAAEBdef1APAAAgCsF\n",
              "QQYAAFgWQQYAAFgWQQYAAFgWQQYAAFgWQQYAAFgWQQYAAFgWQQYAAFgWQQYAAFgWQQYAAFgWQQYA\n",
              "AFgWQQYAAFgWQQYAAFgWQQYAAFgWQQYAAFgWQQYAAFgWQQYAAFgWQQYAAFgWQQYAAFgWQQYAAFgW\n",
              "QQYAAFgWQQYAAFgWQQYAAFgWQQYAAFgWQQYAAFgWQQYAAFgWQQYAAFgWQQYAAFgWQQYAAFgWQQYA\n",
              "AFgWQQYAAFgWQQYAAFgWQQYAAFgWQQYAAFgWQQYAAFgWQQYAAFgWQQYAAFgWQQYAAFgWQQYAAFgW\n",
              "QQYAAFgWQQYAAFgWQQYAAFgWQQYAAFgWQQYAAFiW34NMXl6ekpOTFRUVpaSkJO3Zs+eSPpWVlcrM\n",
              "zFRMTIzi4uLUv39/HThwwN2+bt06RUdHq2vXrhoxYoRKSkr8XTYAALAAvweZiRMnasKECdq/f79m\n",
              "zJihMWPGXNInOztbX3zxhXbu3Kldu3YpNTVVjz/+uCTp9OnTysjI0DvvvKO8vDy1b99ezzzzjL/L\n",
              "BgAAFuDXIHP8+HFt375d6enpkqSRI0eqsLDQY7RFkmw2m5xOp8rKymSMUUlJicLCwiRJ69evV0JC\n",
              "gqKjoyVJkydP1qpVq6r9TqfTqZKSEo9XRUWFn44QAAA0Joc/d15YWKjQ0FA5HOe/xmazKTw8XAUF\n",
              "BerSpYu739ChQ7VhwwaFhIQoKChIHTp00MaNGyVJBQUFioiIcPeNjIxUcXGxXC6Xe78Xmjt3rmbP\n",
              "nu2xrW/fvv44PAAA0MiuiMm+27dv1+7du1VUVKSjR48qNTVVkyZNqte+Zs6cqVOnTnm8evfu7eOK\n",
              "AQDAlcCvIzIdO3b0GD0xxqigoEDh4eEe/ZYtW6YBAwaoTZs2kqTRo0fr9ttvlySFh4fro48+cvfN\n",
              "z8/3GOW5WGBgoAIDAz222e12Hx4VAAC4Uvh1RCY4OFiJiYlasWKFJGnt2rUKCwvzuKwkSZ06ddKn\n",
              "n36qc+fOSTp/l1JsbKwkafDgwcrJydG+ffskSS+//LLuvfdef5YNAAAswq8jMpK0aNEijRkzRs89\n",
              "95xatWqlJUuWSJLGjRunYcOGadiwYZoyZYr27t2rHj16qEmTJgoJCdHChQslSUFBQVq8eLHS0tLk\n",
              "crkUGxurpUuX+rtsAABgATZjjGnsIvwtMzNT8+fPb+wyAACAj10Rk30BAADqgyADAAAsiyADAAAs\n",
              "iyADAAAsiyADAAAsiyADAAAsiyADAAAsiyADAAAsiyADAAAsiyADAAAsiyADAAAsiyADAAAsiyAD\n",
              "AAAsiyADAAAsiyADAAAsiyADAAAsiyADAAAsiyADAAAsiyADAAAsiyADAAAsiyADAAAsiyADAAAs\n",
              "iyADAAAsiyADAAAsiyADAAAsiyADAAAsiyADAAAsiyADAAAsiyADAAAsiyADAAAsiyADAAAsiyAD\n",
              "AAAsiyADAAAsiyADAAAsiyADAAAsiyADAAAsiyADAAAsiyADAAAsiyADAAAsiyADAAAsiyADAAAs\n",
              "iyADAADqpay8QidOO1VWXtFoNTga7ZsBAIAlfV/q1Iov8/XB7u90trxCzZvYdWdsiNL7ReiGloEN\n",
              "WgsjMgAAoM6+L3XqwVU79N9bC3TG6ZIjwKYzTpdWbD2sqSt36MRpZ4PWQ5ABAAB1tuLLfB04Xqp2\n",
              "LQN1fYumahHo0PUtmqpdy0AdOF6qFVsON2g9BBkAAFAnZeUV+mD3d2rmsMth94wQDnuAAh12rd9z\n",
              "rEHnzBBkAABAnZx2unS2vEJNHVXHh0BHgM6eq9Bpp6vBaiLIAACAOmkZ6FDzJnadc1VW2e50Vap5\n",
              "U7taBjbcvUQEGQAAUCfNmtg1OPaXKnNVyFXhGWZcFZVyuip0Z/cQNWtib7CauP0aAADU2W/6RWrr\n",
              "oR914HipAh12BToC5HSdDzFdg4OU3i+iQethRAYAANTZDS0D9dL9CUrvE6GWzRxyVRq1bOZQep8I\n",
              "/eX+hAZ/jgwjMgAAwCs3tAzUI4OiNOm2zjrtdKlloKNBLyddiCADAADqpVkTe6MFmJ9xaQkAAFgW\n",
              "QQYAAFgWQQYAAFgWQQYAAFgWQQYAAFgWQQYAAFgWQQYAAFgWQQYAAFgWQQYAAFgWQQYAAFiWzRhj\n",
              "GrsIfxsxYoQiIyMbu4xrQkVFhb766iv17t1bdnvjPrb6WsT5bzyc+8bDuW88/j73ERERevjhh2vs\n",
              "c00EGTSckpIStW7dWqdOnVKrVq0au5xrDue/8XDuGw/nvvFcCeeeS0sAAMCyCDIAAMCyCDIAAMCy\n",
              "CDLwqcDAQD399NMKDAxs7FKuSZz/xsO5bzyc+8ZzJZx7JvsCAADLYkQGAABYFkEGAABYFkEGAABY\n",
              "FkEGdZaXl6fk5GRFRUUpKSlJe/bsuaRPZWWlMjMzFRMTo7i4OPXv318HDhxwt69bt07R0dHq2rWr\n",
              "RowYoZKSkoY8BMu63HOfn58vu92u+Ph49+vgwYMNfRiWVNdz/9hjjyk2NlbR0dHKyMjQuXPn3O38\n",
              "7uvncs89v/v6e+ihhxQZGSmbzabc3Nxq+2VlZalr167q3Lmzxo8fr/Ly8jq1+ZQB6qh///5myZIl\n",
              "xhhj1qxZY3r16nVJn//5n/8xvXv3NufOnTPGGPPMM8+YX//618YYY0pLS01wcLDZu3evMcaYKVOm\n",
              "mMcee6xhire4yz33hw4dMq1bt26ocq8qdTn3r776qunfv79xOp2msrLSjBs3zvzHf/yHMYbf/eW4\n",
              "3HPP777+Nm7caAoLC01ERITZsWNHlX2+/fZbExoaaoqLi01lZaUZOnSoeemll2pt8zVGZFAnx48f\n",
              "1/bt25Weni5JGjlypAoLCz1GWyTJZrPJ6XSqrKxMxhiVlJQoLCxMkrR+/XolJCQoOjpakjR58mSt\n",
              "WrWqYQ/Egnxx7lE/dT33O3fu1MCBA9W0aVPZbDbdeeedWr58uSR+9/Xli3OP+rv11ltr/ffHW2+9\n",
              "pWHDhikkJEQ2m02TJk1y/7ZravM1ggzqpLCwUKGhoXI4HJLO/0czPDxcBQUFHv2GDh2q2267TSEh\n",
              "IQoNDdUnn3yiOXPmSJIKCgoUERHh7hsZGani4mK5XK6GOxAL8sW5l6QzZ84oKSlJiYmJmjNnjioq\n",
              "Khr0OKyorue+Z8+eys7OVklJicrLy/Xmm28qPz9fEr/7+vLFuZf43ftTVb/tn//51NTmawQZ+NT2\n",
              "7du1e/duFRUV6ejRo0pNTdWkSZMau6xrQk3nPjQ0VEVFRdq2bZs+/vhjbdq0SS+88EIjV3z1GDNm\n",
              "jAYPHqyUlBSlpKQoKirK/R9g+FdN557f/bWBIIM66dixo8f/RRpjVFBQoPDwcI9+y5Yt04ABA9Sm\n",
              "TRsFBARo9OjR2rBhgyQpPDxchw8fdvfNz8/3+D8uVM0X5z4wMFDBwcGSpLZt22rs2LHatGlTwx6I\n",
              "BdX13NtsNs2aNUs7duzQ5s2bFRMTo+7du0vid19fvjj3/O79q6rf9s//fGpq8zWCDOokODhYiYmJ\n",
              "WrFihSRp7dq1CgsLU5cuXTz6derUSZ9++qn7roF169YpNjZWkjR48GDl5ORo3759kqSXX35Z9957\n",
              "bwMehTX54twfP37cfceA0+nU22+/rYSEhAY8Cmuq67kvKyvTjz/+KEk6ceKE5s2bp+nTp0vid19f\n",
              "vjj3/O79a+TIkcrOztaxY8dkjNHChQvdv+2a2nzOL1OIcVXat2+f6du3r+natavp2bOn2bVrlzHG\n",
              "mIyMDPPuu+8aY4wpKysz48aNM9HR0eamm24ygwYNMgcPHnTv49133zXdunUznTt3NsOHDzcnT55s\n",
              "lGOxmss992vXrjXdu3c3cXFxJiYmxkydOtWUlZU12vFYSV3O/bFjx0x0dLSJiYkx0dHR5pVXXvHY\n",
              "B7/7+rncc8/vvv4mTJhgOnToYOx2uwkODjadO3c2xniee2PO3zXWqVMn06lTJzN27Fj3XZO1tfkS\n",
              "ay0BAADL4tISAACwLIIMAACwLIIMAACwLIIMAACwLIIMcJWKjIxUt27dFB8fr5iYGP31r3+VJJWW\n",
              "lqply5bKyMjw6P/ZZ5+pefPmio+PV1xcnPr06aMvv/zS3T5r1iw98sgj7s/Lly9XRESEdu/erc8+\n",
              "+0zx8fHuNpvNpoEDB3rs/4YbbvB44urq1auVlJSkrl27qlevXrrlllu0du3aGo/p5MmTSk9PV2xs\n",
              "rOLi4hQbG6uVK1dWWf+vfvUr7dq1y/23S5Yskc1mu+Q5Ii6XS7Nnz1Z0dLRiY2MVHx+vCRMm6OTJ\n",
              "k1UuOtinT58aa5TO3/qelJSkbt26qVOnTho/frxOnjwpSRoyZIh7XzabTTfddJPi4+N1yy236NZb\n",
              "b9Wrr77q3k95ebni4+P11ltv1fqdwDXLL/dCAWh0Fy72lp+fb1q1amV27txpXnvtNXPrrbeaNm3a\n",
              "mNLSUnf/DRs2mB49erg//+UvfzE33nij+/PTTz9tHn74YWOMMQsWLDBdu3Y13377bZV/K8lERkaa\n",
              "Dz74wL3tF7/4hTl06JAxxpjXXnvNdOvWzezZs8fdvm/fPvdif9WZMmWKeeSRR0xlZaUxxpiSkhKz\n",
              "f//+Kmt44YUXTGJiovvzzTffbFJTU83o0aM99vnAAw+Yu+++2/zwww/GGGMqKyvNm2++aQ4ePFiv\n",
              "RQfXr19v2rdvb3JycowxxpSXl5upU6eavn37moqKCo++ksyPP/7o/nzw4EETGhpq8vPzjTHGPPnk\n",
              "k+b+++/36vuBaw1BBrhKXbxqbVJSklmzZo3p27evef/9982wYcPM4sWL3e0XB4F//vOf5rrrrnN/\n",
              "/jnIzJo1y/To0cMUFxdX+7eSzLJly0x8fLw7dFwYZDp06GDWr1/v9TENHz7cPP/881W2XVzDnj17\n",
              "TIsWLYwx50NS+/btTVFRkWndurU5deqUMcaYvLw807x5c/P9999Xuc/6BJmbb77Z/PWvf/XY5nQ6\n",
              "TYcOHTyCnTGXBhljjFm4cKFJTU0127ZtMxEREe6ABaBqXFoCrgFff/219u3bp65du6qwsFB33HGH\n",
              "MjIylJWVVe3fvPXWW5c8iXPFihVavXq1PvvsM4WEhNT4nUOHDlXLli3dl35+dvz4cRUVFdXpEs3F\n",
              "Hn74YT3//PPq2bOnpk6dqnXr1lXbd/Xq1erZs6ckKSsrS7/5zW/Uvn17DRgwQKtXr5Yk5eTkqGvX\n",
              "rrrhhhuq3U9paanHpaVRo0bVWGNOTo769evnsa1p06bq2bOncnNzaz3GiRMnqkmTJho0aJAWLlyo\n",
              "66+/vta/Aa5lLPYBXMXuueceNW/eXNddd51ef/11LVu2TA888IDsdruGDBmiiRMnau/evbrxxhsl\n",
              "Sd98843i4+N17NgxuVwubd261WN/vXr10tdff61169YpPT291u9//vnnlZ6erl//+tc19uvfv79O\n",
              "nDihc+fO6ZtvvqmxX0FBgTZu3KjNmzdr4sSJSktLc8//+bl+SYqKitLSpUvlcrm0bNkybdy4UZI0\n",
              "duxYPfPMM5owYUKt9UtSUFBQnQJIXTRv3rxO/R577DE98sgjGjx4sE++F7iaEWSAq9jf/vY393/Y\n",
              "y8vLNXnyZDVp0sQ9SvLTTz8pKytLf/7znyVJ3bp1U25urrvvqFGjtGXLFtlsNklSdHS0/vM//1MD\n",
              "Bw5UZWWlHnjggRq/Pzk5WXFxcXrllVfc24KDg9WhQwd99dVXuuOOOyRJGzZsUH5+vseE4eq0aNFC\n",
              "Q4YM0ZAhQ3T33Xfr9ttvdweZn+u/0DvvvKOTJ0+6v8sYo6NHj2r37t1KTExUXl6e/u///k+/+MUv\n",
              "av3uukhMTNSWLVs81vQ5d+6c/vGPf+ipp56q0z7sdrvsdrtP6gGudlxaAq4R2dnZ6tSpk4qKipSf\n",
              "n6/8/Hx9+eWXWr58uXthvZ81adJECxYs0JEjR/TOO+94tN1444365JNPNHPmTC1ZsqTW733uuec0\n",
              "d+5cOZ1O97Y//OEPevTRR90LKUrSmTNnat3Xhx9+6F4gUJL+8Y9/qHPnzjX+TVZWll588UX3MR8+\n",
              "fFiZmZnKyspSly5dNHLkSGVkZLjvKjLGaO3atfr2229rracqjz/+uJ599ll3oHK5XJo2bZpuu+02\n",
              "9erVq177BFA9RmSAa0RWVtYl8ztuvPFGdejQQe+9957atm3r0Xbdddfpj3/8o2bNmqW0tDSPtujo\n",
              "aH366adKTU1VRUXFJSsSXygmJkZ33XWXXn/9dfe2CRMmqEWLFkpPT9epU6fUrl07NWvWzD2yUp2v\n",
              "v/5a06ZNkzFGAQEBCg0Nda+OXJWjR4/qk08+0RtvvOGxfdSoUUpNTdXzzz+v119/Xc8++6z69Okj\n",
              "h8OhyspK3XrrrUpNTdXJkyfdc2QutGnTJgUFBVX5nUOGDNHChQs1btw4lZSUqLi4WMOHD9eyZctq\n",
              "PDYA9cOikQDgR5999plGjRqlxYsX684772zscoCrDkEGAABYFpeWAFxRcnNzNWbMmEu2jx49Wo8+\n",
              "+mjDF1SF//3f/9Xjjz9+yfaZM2fqnnvuaYSKgGsXIzIAAMCyuGsJAABYFkEGAABYFkEGAABYFkEG\n",
              "AABYFkEGAABYFkEGAABYFkEGAABY1v8DHVSN3yKr5QMAAAAASUVORK5CYII=\n",
              "\">\n",
              "      </div>\n",
              "      <script type=\"text/javascript\">\n",
              "        (() => {\n",
              "          const chartElement = document.getElementById(\"chart-a4aa66f6-df50-4b80-a032-5f4306535f1c\");\n",
              "          async function getCodeForChartHandler(event) {\n",
              "            const chartCodeResponse =  await google.colab.kernel.invokeFunction(\n",
              "                'getCodeForChart', [\"chart-a4aa66f6-df50-4b80-a032-5f4306535f1c\"], {});\n",
              "            const responseJson = chartCodeResponse.data['application/json'];\n",
              "            await google.colab.notebook.addCell(responseJson.code, 'code');\n",
              "          }\n",
              "          chartElement.onclick = getCodeForChartHandler;\n",
              "        })();\n",
              "      </script>\n",
              "      <style>\n",
              "        .colab-quickchart-chart-with-code  {\n",
              "            display: block;\n",
              "            float: left;\n",
              "            border: 1px solid transparent;\n",
              "        }\n",
              "\n",
              "        .colab-quickchart-chart-with-code:hover {\n",
              "            cursor: pointer;\n",
              "            border: 1px solid #aaa;\n",
              "        }\n",
              "      </style>"
            ]
          },
          "metadata": {}
        },
        {
          "output_type": "display_data",
          "data": {
            "text/plain": [
              "<google.colab._quickchart_helpers.SectionTitle at 0x7c22bb7f5d50>"
            ],
            "text/html": [
              "<h4 class=\"colab-quickchart-section-title\">Time series</h4>\n",
              "<style>\n",
              "  .colab-quickchart-section-title {\n",
              "      clear: both;\n",
              "  }\n",
              "</style>"
            ]
          },
          "metadata": {}
        },
        {
          "output_type": "display_data",
          "data": {
            "text/plain": [
              "from matplotlib import pyplot as plt\n",
              "import seaborn as sns\n",
              "def _plot_series(series, series_name, series_index=0):\n",
              "  palette = list(sns.palettes.mpl_palette('Dark2'))\n",
              "  xs = series['SALES_AREA_SIZE_NUM']\n",
              "  ys = series['PARKING_SPACE_QTY']\n",
              "  \n",
              "  plt.plot(xs, ys, label=series_name, color=palette[series_index % len(palette)])\n",
              "\n",
              "fig, ax = plt.subplots(figsize=(10, 5.2), layout='constrained')\n",
              "df_sorted = _df_3.sort_values('SALES_AREA_SIZE_NUM', ascending=True)\n",
              "_plot_series(df_sorted, '')\n",
              "sns.despine(fig=fig, ax=ax)\n",
              "plt.xlabel('SALES_AREA_SIZE_NUM')\n",
              "_ = plt.ylabel('PARKING_SPACE_QTY')"
            ],
            "text/html": [
              "      <div class=\"colab-quickchart-chart-with-code\" id=\"chart-fad20c5e-e63d-4173-ac5f-50573ccdcb35\">\n",
              "        <img style=\"width: 180px;\" src=\"data:image/png;base64,iVBORw0KGgoAAAANSUhEUgAAA/MAAAITCAYAAABLz0yVAAAAOnRFWHRTb2Z0d2FyZQBNYXRwbG90\n",
              "bGliIHZlcnNpb24zLjEwLjAsIGh0dHBzOi8vbWF0cGxvdGxpYi5vcmcvlHJYcgAAAAlwSFlzAAAP\n",
              "YQAAD2EBqD+naQAAccNJREFUeJzt3Xdc1YXi//H3OYetgFtxgDlxixscuPcGb5aW5s5MzYF1q1vZ\n",
              "bTjL9tCs1MwEVNx7ixPFvQeIe4GLec7vj77xu2SZKPABeT0fj/N4yDkfDu9z73lgL88y2Ww2mwAA\n",
              "AAAAQI5hNnoAAAAAAABIH2IeAAAAAIAchpgHAAAAACCHIeYBAAAAAMhhiHkAAAAAAHIYYh4AAAAA\n",
              "gByGmAcAAAAAIIch5gEAAAAAyGFyRcxPmzbN6AkAAAAAAGSYXBHz586dM3oCAAAAAAAZJlfEPAAA\n",
              "AAAATxNiHgAAAACAHIaYBwAAAAAghyHmAQAAAADIYYh5AAAAAAByGGIeAAAAAIAchpgHAAAAACCH\n",
              "IeYBAAAAAMhhiHkAAAAAAHIYYh4AAAAAgByGmAcAAAAAIIch5gEAAAAAyGGIeQAAAAAAchhiHgAA\n",
              "AACAHIaYBwAAAAAghyHmAQAAAADIYYh5AAAAAABymEyP+eHDh6t06dIymUzat2/f3x43Y8YMlS9f\n",
              "XmXLltXAgQOVlJT0SJcBAAAAAJDbZHrMBwYGasuWLfLy8vrbY86cOaO3335bmzdv1smTJ3X58mV9\n",
              "9913/3jZ0+bq/dtGTwAAAAAA5ACZHvNNmjRRyZIlH3pMcHCwOnfurGLFislkMmnIkCGaO3fuP172\n",
              "VxISEhQXF5fmlJKSkqG3KTOcjr2m+r99rOGb5ul07DWj5wAAAAAAsrFs8Zr5qKioNI/cly5dWlFR\n",
              "Uf942V/56KOP5O7unua0c+fOzBufQdadP6pEa4pCT+1V0wVTNGrzfJ27fd3oWQAAAACAbChbxHxG\n",
              "euONNxQbG5vmVK9ePaNn/aMBVRppWadhalHSW1abTb+d3KMmIVM0dmuIom/fMHoeAAAAACAbsTN6\n",
              "gCR5enrq1KlTqV+fPXtWnp6e/3jZX3F0dJSjo2Oa8ywWSwYvzhzVC5XUT636au/VaE3Zu1obYo5r\n",
              "7vFdCj4ZoWfL19Hw6s1UPG8+o2cCAAAAAAyWLR6ZDwgIUFhYmC5duiSbzaZvvvlGPXv2/MfLnlY+\n",
              "hUtpdut+Wtj+ZTUuXk5J1hTNPrZDjUIm6c3wRbp4N9boiQAAAAAAA2V6zA8ePFglS5bU+fPn1aZN\n",
              "G5UrV06SNGDAAIWFhUmSypQpo/fee08NGzZUuXLlVLhwYQ0ePPgfL3va1SnqpbltBii43SA1KPaM\n",
              "Eq0p+ulouBqFTNI7Oxbryj3e/R4AAAAAciOTzWazGT0is40aNUpTp041esYT23rxlCZHrNKuK+ck\n",
              "SU4We/XxbqCXq/mrkHNeg9cBAAAAALJKtniaPR5NQ4+yCm0/RL+07i+fwqUUn5Kkbw9tlm/wBH24\n",
              "e7luxN81eiIAAAAAIAsQ8zmMyWRSkxLlFdZhqH5u9ZJqFCqp+8lJ+urARvnOn6CJe1bqZsI9o2cC\n",
              "AAAAADIRMZ9DmUwmNS9ZUUs6vqKZLV5UlQIeupucqM/2r5ff/Amasne1YhPuGz0TAAAAAJAJiPkc\n",
              "zmQyqZVnZa3oPFzfN+8t7/zFdDspQZ/sWyu/4Amatm+tbifGGz0TAAAAAJCBiPmnhMlkUjuvqlrV\n",
              "Zbi+afq8KuQrotjEeE3au1q+wRP1xf4NupuUYPRMAAAAAEAGIOafMmaTWR2fqa7VXUbqS//nVNa9\n",
              "sG4l3NPHe1bId/5EfX1go+4lJRo9EwAAAADwBIj5p5TFbFaXMjW0rutrmtbkWZV2LagbCXf1we7l\n",
              "8gueqO8Pbdb95CSjZwIAAAAAHgMx/5SzmM0KKOujDd1HaUqjQJXKm1/X4u/ovZ1L1Sh4on44vFXx\n",
              "RD0AAAAA5CjEfC5hZ7bo2fJ1tClgjCY27K4SefLp8v3b+s+OxWoUMkk/H92uhJRko2cCAAAAAB4B\n",
              "MZ/L2Jster5CPW0OGKOPfLuqmIubLt2L07/DF6pJyGTNObZTSdYUo2cCAAAAAB6CmM+lHCx2esG7\n",
              "gbYEjNX79TurqLOrYu7e0rhtofIPmaJ5J3YrmagHAAAAgGyJmM/lnOzs9VJlP20JDNK79TqqkFNe\n",
              "Rd25odFbgtU0dKqCT0YoxWo1eiYAAAAA4H8Q85AkOdvZa0CVRtoWGKS36rRXAcc8Onv7ukZu/k3N\n",
              "F36ihaf3EfUAAAAAkE0Q80jDxd5BQ6o1UXiPIL1eu63yObroVOxVDdv4q1ot+lRLzuyX1UbUAwAA\n",
              "AICRiHn8pTz2jhpWvanCA4M01qeV3B2cdPzWFQ3Z8ItaL/pMy88dlM1mM3omAAAAAORKxDweytXB\n",
              "SSNqttC2wHF6rWYLudo76ujNSxq4brbahX2uVVGHiXoAAAAAyGLEPB6Ju6OzRvu00rYe4zS8ejPl\n",
              "sXPQwRsX1G/tz+q45EutjT5K1AMAAABAFiHmkS75HV0UVLuNwnuM0yvVmsrZzl6R186rz5of1Xnp\n",
              "V9oYc5yoBwAAAIBMRszjsRRwyqM36rRVeOA4Da7aRE4We+29Gq1eq35Q92XfaOuFk0Q9AAAAAGQS\n",
              "Yh5PpJBzXr1dt722BQZpQOWGcrTYadeVc3p25XT1WPGdtl86bfREAAAAAHjqEPPIEEVcXPVu/U7a\n",
              "EjBWfSv5ysFs0fZLZxS4/Dv1XDFduy+fM3oiAAAAADw1iHlkKI887vpvgy7aEjBWL1SsL3uzRVsu\n",
              "nlTXZV+r16ofFHE1yuiJAAAAAJDjEfPIFMXz5tNHft20qftoPVehriwmszbGHFfnJV+pz+oftf/a\n",
              "eaMnAgAAAECORcwjU5VyLaBJDQO0sfto/atcbZlNJq09f1TtF3+h/mt/1qHrF4yeCAAAAAA5DjGP\n",
              "LFHaraCmNu6hDd1GqXtZH5lNJq2MOqw2YZ9p0LrZOnrzktETAQAAACDHIOaRpcq4F9ZnTZ7V2q6v\n",
              "qcszNWSSScvOHVSrhdM0dMMvOnHritETAQAAACDbI+ZhiPL5iujLps9pddcR6lC6mmyyKezMfjVf\n",
              "8ImGbfxVp2KvGj0RAAAAALItYh6G8s5fTN8266VVXYarjWdl2WTTwtP71GzBVI3c9JvOxl03eiIA\n",
              "AAAAZDvEPLKFygWKa0aLF7W806tqVaqSrDabgk9FyD90ikZvCVbU7RtGTwQAAACAbIOYR7ZSrVAJ\n",
              "zWzZR4s7vqJmJSoqxWbVvBO71SRkssZtDVXMnVtGTwQAAAAAwxHzyJZ8CpfSrNYvaVGHl9WkeHkl\n",
              "26yac3ynGoVM0pvhC3XxbqzREwEAAADAMMQ8srXaRbz0S5v+Cmk3WH7FyijJmqKfjm5Xo5BJ+s/2\n",
              "MF2+F2f0RAAAAADIcsQ8coT6xZ7Rb+0GaV7bgapXtLQSUpL1w5Ft8gueqPE7l+jq/dtGTwQAAACA\n",
              "LEPMI0dp6FFWIe0Ga26b/qpd2FMJKcn67tAW+QVP1Ae7lutG/F2jJwIAAABApiPmkeOYTCY1Ll5e\n",
              "Czu8rFmtXlKNQiV1PzlJXx/cKN/5EzRhz0rdTLhn9EwAAAAAyDTEPHIsk8mkZiUraknHV/Rjyz6q\n",
              "WqC47iYn6vP96+U7f4ImRaxSbMJ9o2cCAAAAQIYj5pHjmUwmtSxVScs7v6rpzV9QpfzFdCcpQdMi\n",
              "18k3eII+3bdWtxPjjZ4JAAAAABmGmMdTw2Qyqa1XFa3sMlzfNuulivmKKi4xXpP3rlaD+RP0eeR6\n",
              "3UlKMHomAAAAADwxYh5PHbPJrA6lq2l11xH6yv85lXMvrNjE+5oQsVK+8yfoqwMbdS8p0eiZAAAA\n",
              "APDYiHk8tcwmszqXqaG1XV/TZ02e1TNuhXQz4Z4+3L1cfsET9d3BzbqfTNQDAAAAyHmIeTz1LGaz\n",
              "upf10fpur+mTRj3k5VpA1+LvaPyupWoYPEkzDm9VfHKS0TMBAAAA4JER88g17MwW9ShfWxu6j9ak\n",
              "hgEqmTefrty/rXd2LFajkEn66Ui4ElKSjZ4JAAAAAP+ImEeuY2+26LkKdbWp+xh97NtNHi7uunQv\n",
              "Tm9uX6TGIZM0+9gOJRL1AAAAALIxYh65loPFTr2962tL4Fj9t0EXFXVx04W7sXp92wL5h07Rr8d3\n",
              "KcmaYvRMAAAAAHgAMY9cz9Fip76VfLUlYKzerddRhZ3zKvrOTY3ZGqKmoVMVfHKPkol6AAAAANkI\n",
              "MQ/8H2c7ew2o0kjbAoP0dt32KuiUR+duX9fIzfPVfMEnWnBqn1KsVqNnAgAAAAAxD/yZs52DBldt\n",
              "om2BQXqjdlvlc3TR6bhrenXTr2q58FMtPrNfVhtRDwAAAMA4xDzwN/LYO+qV6k21vcc4javVRu4O\n",
              "zjoRe0Uvb/hFrRZO09KzB4h6AAAAAIYg5oF/kNfeUa/WaKbwHuM0qmZLudo76tityxq8fo7ahn2u\n",
              "lecOyWazGT0TAAAAQC5CzAOPyM3BSaN8Wiq8xziNqNFcee0ddfjGRfVfN0sdFn+htdFHiXoAAAAA\n",
              "WYKYB9Ipn6OLxtZqrfDAIA2r3lQudg7afz1Gfdb8qE5LvtKGmONEPQAAAIBMRcwDjym/Ux69Xrut\n",
              "wnsEaUjVJnKy2GvftWj1XvWDui37RlsunCTqAQAAAGQKYh54QgWd8uqtuu21LTBIA6s0kqPFTruv\n",
              "nFPPldMVuPw7hV86bfREAAAAAE8ZYh7IIEVcXPVOvY7aGhiklyr5ycFs0Y7LZ9Rj+Xd6dsX32nn5\n",
              "rNETAQAAADwliHkggxVzcdP7DTprS2CQXvRuIHuzRVsvnlL3Zd+o18oZ2nMlyuiJAAAAAHI4Yh7I\n",
              "JMXzuOtD367aHDBGz1eoJzuTWRsvnFCXpV/pxdUzFXntvNETAQAAAORQxDyQyUrmza+JDbtrY8Bo\n",
              "PVu+tiwms9adP6YOi7/QS2t+0sHrMUZPBAAAAJDDEPNAFvFyLagpjXpofbdRCijrI7PJpNXRR9Q2\n",
              "7HMNWDtLh29cNHoiAAAAgByCmAeyWBn3QprW5Fmt6/qaupSpIZNMWhF1SK0XTdOQ9XN07OZloycC\n",
              "AAAAyOaIecAg5fIV0Zf+z2lN15HqVLq6JGnJ2QNqufBTvbJxrk7FXjV4IQAAAIDsipgHDFYxf1F9\n",
              "3ex5reoyQu28qsgmmxadjlSzBVM1YtM8nYm7ZvREAAAAANkMMQ9kE5ULeOj75i9oRedX1bpUJVlt\n",
              "NoWc2qumoVM1est8nbt93eiJAAAAALIJYh7IZqoWLKEfWvbRko6vqHnJikqxWTXvxB75h0xR0NZQ\n",
              "nb9z0+iJAAAAAAxGzAPZVM3CpfRzq5e0qMNQ+Rcvr2SbVb8c36nGIZP17/CFunA31uiJAAAAAAxC\n",
              "zAPZXO0inprTpr9C2w9RQ4+ySrKm6Oej29UoeKLe3h6mS/fijJ4IAAAAIIsR80AOUa9oac1rO1C/\n",
              "tR2o+kWfUaI1RTOPbFPD4Il6b+cSXb1/2+iJAAAAALIIMQ/kMH4eZRXcbpB+bTNAdYp4KSElWd8f\n",
              "2iLf+RP1313LdD3+jtETAQAAAGQyYh7IgUwmkxoVL6cF7Ydodut+qlmolOJTkvTNwU3ynT9RH+1e\n",
              "oZvxd42eCQAAACCTEPNADmYymdS0RAUt7jhUP7Xsq+oFS+hecqK+PLBBvsETNSlilW4l3DN6JgAA\n",
              "AIAMRswDTwGTyaQWpby1tNMw/dDiRVUu4KE7SQmaFrlOfsETNXXvGsUlxhs9EwAAAEAGIeaBp4jJ\n",
              "ZFJrz8pa0flVfdestyrmK6q4xHhN3bdGvvM/1meR63QnKcHomQAAAACeEDEPPIXMJrPal66q1V1H\n",
              "6Oumz6u8exHFJsZrYsQq+c6foC/3b9Bdoh4AAADIsYh54ClmNpnV6ZnqWtN1pD5v0lNl3ArpZsI9\n",
              "fbRnhfyCJ+rbg5t0PznR6JkAAAAA0omYB3IBi9msbmVral231/Rp4x7yci2g6/F39f6uZfILnqjp\n",
              "h7bofnKS0TMBAAAAPCJiHshF7MwWBZarrQ3dR2tywwCVyptfV+/f0bs7l6hRyCT9eCRcCSnJRs8E\n",
              "AAAA8A+IeSAXsjdb1LNCXW3sPlof+3VT8TzuunwvTm9tX6RGwZM0++gOJRL1AAAAQLZFzAO5mIPF\n",
              "Tr0r1tfmgLH6oEEXFXVx08V7sXo9fIGahE7W3OO7lGRNMXomAAAAgD8h5gHI0WKnPpV8tTVgrN6r\n",
              "30lFnF11/s4tjd0aoqahUzT/xB4lE/UAAABAtkHMA0jlZGev/pUbamvgWP2nbgcVcsqrc7dv6LUt\n",
              "89VswScKPbVXKVar0TMBAACAXI+YB/AAZzsHDaraWNsCg/RmnXbK7+iiM3HXNHzTPLVY+IkWnY6U\n",
              "1UbUAwAAAEYh5gH8LRd7B71czV/hPcbp9dpt5O7grJOxV/XKxrlqtXCalpw9QNQDAAAABiDmAfyj\n",
              "vPaOGla9mcJ7jNMYn1Zyc3DSsVuXNWT9HLVZ9JlWnDskm81m9EwAAAAg1yDmATwyNwcnjazZQuGB\n",
              "4zSyZgvltXfUkZuXNGDdLLVf/IXWRB8h6gEAAIAskOkxf+LECfn5+alChQqqW7euDh069MAxVqtV\n",
              "Y8aMUdWqVeXt7a3+/fsrMTFRknT27FlZLBbVrFkz9XTq1KnMng3gIdwdnTXGp5XCe4zTq9WbycXO\n",
              "QQeux6jvmp/UccmXWn/+GFEPAAAAZKJMj/nBgwdr0KBBOn78uMaNG6e+ffs+cMyMGTMUERGhiIgI\n",
              "HTlyRGazWdOmTUu93NXVVfv27Us9lS1bNrNnA3gE+R1dNK52G4X3CNLLVf3lbGevyGvn9cLqmeq6\n",
              "9GttvnCCqAcAAAAyQabG/JUrV7R792717t1bkhQQEKDo6GidPHkyzXGRkZFq2bKlHBwcZDKZ1K5d\n",
              "O82aNeuxfmZCQoLi4uLSnFJS+HxsIDMVdMqrN+u207bAIA2q0kiOFjvtuRql51bOUODyb7XtIs+m\n",
              "AQAAADJSpsZ8dHS0PDw8ZGdnJ0kymUzy9PRUVFRUmuNq166tsLAwxcXFKSkpSb/99pvOnj2bevnd\n",
              "u3dVt25d1apVS+PHj39onH/00Udyd3dPc9q5c2em3D4AaRV2dtV/6nXUtsAg9avkJ0eLnXZcPqt/\n",
              "rfhe/1r+nXZcOmP0RAAAAOCpkC3eAK9v375q27at/P395e/vrwoVKqT+A4CHh4diYmK0a9curVmz\n",
              "Rps3b9aUKVP+9rreeOMNxcbGpjnVq1cvq24KAElFXdw0vkFnbQ4Yqz7eDWRvtmjbpdMKWP6tnl85\n",
              "Q3uunDN6IgAAAJCjZWrMlypVShcvXlRycrIkyWazKSoqSp6enmmOM5lMevfdd7V3715t27ZNlStX\n",
              "VpUqVSRJjo6OKlKkiCSpQIEC6tevnzZv3vy3P9PR0VFubm5pThaLJZNuIYCHKZ7HXR/4dtWWgLHq\n",
              "XbG+7ExmbbpwQl2Wfq3eq37Q3qvRRk8EAAAAcqRMjfkiRYqoVq1amj17tiQpJCREJUuWVLly5dIc\n",
              "Fx8fr5s3b0qSrl27po8//lhBQUGSfn/dfVJSkqTfXw8fGhoqHx+fzJwNIIOVyJtPH/t106aAMepZ\n",
              "vo4sJrM2xBxXpyVfqu+aH3XgWozREwEAAIAcxWTL5LeaPnbsmPr27avr16/Lzc1NM2fOVLVq1TRg\n",
              "wAB17txZnTt31uXLl9W0aVOZzWZZrVaNGDFCQ4YMkSSFhobqP//5jywWi5KTk9W8eXNNnjxZjo6O\n",
              "j7xh1KhRmjp1ambdRADpdCbumqbtW6fQ03tl/b9fQW08K2u0T0tVLlDc4HUAAABA9pfpMZ8dEPNA\n",
              "9nQq9qo+3bdWC09HyqbffxV1KF1No2q2VMX8RQ1eBwAAAGRf2eIN8ADkTmXdC+tz/55a222kOj9T\n",
              "XZK09OwBtVz4qV7ZMFcnb10xeCEAAACQPRHzAAxXIV9RfdX0ea3uMlLtvarKJpsWnYlU84WfaPim\n",
              "eTode83oiQAAAEC2QswDyDYqFSim75r31srOw9XGs7KsNptCT+1VswVTNWrzfJ27fd3oiQAAAEC2\n",
              "QMwDyHaqFCyuGS1e1LJOw9SipLdSbFb9dnKP/EOmaOzWEEXfvmH0RAAAAMBQxDyAbKt6oZL6qVVf\n",
              "hXUcKv8SFZRss2ru8V1qEjpFb2xboAt3bhk9EQAAADAEMQ8g26tV2FNzWvfTgvZD1MijnJKsKZp1\n",
              "bIcahUzSW9sX6dK9OKMnAgAAAFmKmAeQY9QtWlq/th2g4HaD1KDYM0q0pujHI+FqGDxR7+xYrCv3\n",
              "bhs9EQAAAMgSxDyAHKdBsTKa33aQ5rUZoLpFvJSQkqwZh7fKL3ii3t+5VNfu3zF6IgAAAJCpiHkA\n",
              "OZLJZFLD4uUU2n6I5rTuJ5/CpRSfkqRvD22Wb/AEfbh7uW7E3zV6JgAAAJApiHkAOZrJZJJ/iQoK\n",
              "6zBUP7d6STUKldT95CR9dWCjfOdP0MQ9K3Uz4Z7RMwEAAIAMRcwDeCqYTCY1L1lRSzq+opktXlSV\n",
              "Ah66m5yoz/avl9/8CZqyd7ViE+4bPRMAAADIEMQ8gKeKyWRSK8/KWt75VX3fvLe88xfT7aQEfbJv\n",
              "rfyCJ2javrW6nRhv9EwAAADgiRDzAJ5KZpNZ7byqalWX4fqm6fOqkK+IYhPjNWnvavkGT9QX+zfo\n",
              "blKC0TMBAACAx0LMA3iqmU1mdXymulZ3Gakv/HuqjFsh3Uq4p4/3rJDv/In65sAm3U9ONHomAAAA\n",
              "kC7EPIBcwWI2q2uZmlrX7TV92vhf8nItqBsJd/Xf3cvkFzxR0w9t0f3kJKNnAgAAAI+EmAeQq9iZ\n",
              "LQosV0sbu4/SlEaBKpU3v67ev6N3dy5Ro+CJmnl4m+KJegAAAGRzxDyAXMnObNGz5etoU8AYTfDr\n",
              "rhJ58uny/dt6e0eYGodM1s9HtyshJdnomQAAAMBfIuYB5Gr2Zot6VaynTQFj9KFvVxVzcdPFe7H6\n",
              "d/hCNQmZrDnHdirJmmL0TAAAACANYh4AJDla7PSidwNtCRir8fU7qaizq2Lu3tK4baHyD5mieSd2\n",
              "K5moBwAAQDZBzAPA/3Cys1e/yg21JTBI79brqEJOeRV154ZGbwlW09CpCj4ZoRSr1eiZAAAAyOWI\n",
              "eQD4C8529hpQpZG2BQbprTrtVcAxj87evq6Rm39T84WfaOHpfUQ9AAAADEPMA8BDuNg7aEi1Jgrv\n",
              "EaTXa7dVPkcXnYq9qmEbf1WrRZ9qyZn9stqIegAAAGQtYh4AHkEee0cNq95U4YFBGuvTSu4OTjp+\n",
              "64qGbPhFrRd9puXnDspmsxk9EwAAALkEMQ8A6eDq4KQRNVtoW+A4vVazhVztHXX05iUNXDdb7cI+\n",
              "1+qow0Q9AAAAMh0xDwCPwd3RWaN9Wmlbj3EaXr2Z8tg56OCNC3pp7c/quORLrTt/jKgHAABApiHm\n",
              "AeAJ5Hd0UVDtNgrvMU5Dq/nL2c5ekdfO68XVM9Vl6dfaGHOcqAcAAECGI+YBIAMUcMqjf9dpp/DA\n",
              "cRpcpbEcLXaKuBqlXqt+UPdl32jrhZNGTwQAAMBThJgHgAxUyDmv3q7XQdsCg9S/ckM5Wuy068o5\n",
              "Pbtyunos/07bL502eiIAAACeAsQ8AGSCoi5ueq9+J20JGKu+lXzlYLYo/NJpBS7/Tj1XTNfuy+eM\n",
              "nggAAIAcjJgHgEzkkcdd/23QRVsCxuqFivVlb7Zoy8WT6rrsa/Va9YMirkYZPREAAAA5EDEPAFmg\n",
              "eN58+sivmzZ1H63nKtSVxWTWxpjj6rzkK/VZ/aP2Xztv9EQAAADkIMQ8AGShUq4FNKlhgDZ2H61/\n",
              "lasts8mkteePqv3iL9R/7c86dP2C0RMBAACQAxDzAGCA0m4FNbVxD23oNkrdy/rIJJNWRh1Wm7DP\n",
              "NGjdbB29ecnoiQAAAMjGiHkAMFAZ98L6rMmzWtftNXV5poZMMmnZuYNqtXCahm74RSduXTF6IgAA\n",
              "ALIhYh4AsoHy+Yroy6bPaXXXEepQuppssinszH41X/CJXt34q07HXjV6IgAAALIRYh4AshHv/MX0\n",
              "bbNeWtVluNp4VpZNNi04vU9NF0zVa5t/09m460ZPBAAAQDZAzANANlS5QHHNaPGilnUappalvGW1\n",
              "2TT/ZIT8Q6dozJZgRd++YfREAAAAGIiYB4BsrHqhkvqxZV8t7viKmpaooBSbVb+e2K3GIZP1+rYF\n",
              "irlzy+iJAAAAMAAxDwA5gE/hUprdup8WdXhZTYqXV7LNqtnHdqhxyCS9Gb5QF+/GGj0RAAAAWYiY\n",
              "B4AcpHYRL/3Spr9C2g2Wb7EySrSm6Kej29UoZJL+sz1Ml+/FGT0RAAAAWYCYB4AcqH6xZzS/3SDN\n",
              "aztQ9YqWVkJKsn44sk1+wRM1fucSXbt/x+iJAAAAyETEPADkYA09yiqk3WDNbdNftQp7KiElWd8d\n",
              "2iLf4An6YNdy3Yi/a/REAAAAZAJiHgByOJPJpMbFy2tRh5c1q9VLqlGopO4nJ+nrgxvlO3+CJuxZ\n",
              "qZsJ94yeCQAAgAxEzAPAU8JkMqlZyYpa0vEV/diyj6oWKK67yYn6fP96+c6foMl7Vys24b7RMwEA\n",
              "AJABiHkAeMqYTCa1LFVJyzu/qunNX1Cl/MV0JylBn+5bK9/gCfp031rdTow3eiYAAACeADEPAE8p\n",
              "k8mktl5VtLLLcH3TrJcq5CuiuMR4Td67Wg3mT9AX+9frTlKC0TMBAADwGIh5AHjKmU1mdSxdTau7\n",
              "jNSX/s+prHthxSbe18d7Vspv/kR9fWCj7iUlGj0TAAAA6UDMA0AuYTGb1aVMDa3r+pqmNXlWpV0L\n",
              "6kbCXX2we7n8gifqu4ObdT+ZqAcAAMgJiHkAyGUsZrMCyvpoQ/dRmtooUJ55C+ha/B2N37VUDYMn\n",
              "acbhrYpPTjJ6JgAAAB6CmAeAXMrObNG/ytfRxoDRmtiwu0rkyacr92/rnR2L1Shkkn46Eq6ElGSj\n",
              "ZwIAAOAvEPMAkMvZmy16vkI9bQ4Yo498u8rDxV2X7sXpze2L1DhkkmYf26FEoh4AACBbIeYBAJIk\n",
              "B4udXvBuoC2BY/XfBl1U1NlVF+7G6vVtC+QfOkW/Ht+lJGuK0TMBAAAgYh4A8CeOFjv1reSrLYFB\n",
              "erdeRxV2zqvoOzc1ZmuImoZOVfDJPUom6gEAAAxFzAMA/pKznb0GVGmkbYFBertuexV0yqNzt69r\n",
              "5Ob5ar7gEy04tU8pVqvRMwEAAHIlYh4A8FDOdg4aXLWJtgUG6Y3abZXP0UWn467p1U2/quXCT7X4\n",
              "zH5ZbUQ9AABAViLmAQCPJI+9o16p3lThgUEKqtVa7g5OOhF7RS9v+EWtFk7TsrMHiXoAAIAsQswD\n",
              "ANLF1cFJw2s0V3iP1zWqZku52jvq2K3LGrR+ttqFfa5VUYdls9mMngkAAPBUI+YBAI/FzcFJo3xa\n",
              "KrzHOI2o0Vx57Bx06MZF9Vv7szos/kJro48S9QAAAJmEmAcAPJF8ji4aW6u1tvcYp1eqNZWLnYP2\n",
              "X49RnzU/qtOSr7Qh5jhRDwAAkMGIeQBAhsjvlEdv1GmrbYFBGly1iZws9tp3LVq9V/2gbsu+0ZYL\n",
              "J4l6AACADELMAwAyVCHnvHq7bnttCwzSwCqN5Gix0+4r59Rz5XQFLv9O4ZdOGz0RAAAgxyPmAQCZ\n",
              "ooiLq96p11FbA4P0UiU/OZgt2nH5jHos/07Prvheuy6fNXoiAABAjkXMAwAyVTEXN73foLO2BIzV\n",
              "i94NZG+2aOvFU+q27Bv1WjlDe65EGT0RAAAgxyHmAQBZonjefPrQt6s2B4zR8xXqyc5k1sYLJ9Rl\n",
              "6Vd6cfVMRV47b/REAACAHIOYBwBkqZJ582tiw+7aGDBaz5avLYvJrHXnj6nD4i/Ub81POng9xuiJ\n",
              "AAAA2V66Yj40NDSzdgAAchkv14Ka0qiH1ncbpYCyPjKbTFoVfURtwz7XwHWzdOTGJaMnAgAAZFvp\n",
              "ivn3339fL7zwgmJjYzNrDwAglynjXkjTmjyrdV1fU5cyNWSSScvPHVKrRZ/q5fW/6Pity0ZPBAAA\n",
              "yHbSFfO7du1S6dKl5ePjo9WrV2fWJgBALlQuXxF96f+c1nQdqY6lq0mSFp/drxYLPtWwjb/qVOxV\n",
              "gxcCAABkHyabzWZL7zft2bNHrVq1UqlSpWSxWFLPj4iIyNBxGWXUqFGaOnWq0TMAAOlw+MZFTd27\n",
              "RiuiDkmSzCaTupWpqZE1W+gZt0IGrwMAADBWumM+Ojpa/fr1k729vcaMGZMm5v39/TN8YEYg5gEg\n",
              "5zpwLUZT963R6ugjkiSLyazAcrU0okZzeboWMHgdAACAMdIV899//73ee+89vfPOOxo4cGBm7spQ\n",
              "xDwA5Hz7rkZr6r41Wnf+mCTJzmTWv8rX0fAazVQyb36D1wEAAGQtu/QcPGfOHG3evFnPPPNMZu0B\n",
              "AOAv1SxcSj+3ekl7rkRp6t7V2njhhH45vlPzT+7RcxXqalj1Ziqex93omQAAAFkiXW+AZ7PZCHkA\n",
              "gKFqF/HUnDb9Fdp+iBp6lFWSNUU/H92uRsET9fb2MF2+F2f0RAAAgEyXrpi/fft2Zu0AACBd6hUt\n",
              "rXltB+q3tgNVv2hpJVpTNPPINvkFT9R7O5fo6n3+zgIAAE+vdD3NPiUlRbdv39bfvczezc0tQ0YB\n",
              "APCo/DzKyrdYGW29eEqTIlZpz9UofX9oi2Yd3aG+lXz1crUmKuiU1+iZAAAAGSpdb4BnNptlMpnS\n",
              "xPwfX5tMJqWkpGTKyCfFG+ABQO5gs9m08cIJTY5YrX3XoiVJLnYO6lfZT4OrNFZ+pzwGLwQAAMgY\n",
              "6XqafY0aNZSSkiKr1Zp6+uPr7BryAIDcw2QyqWmJClrccah+atlX1QqW0L3kRH2xf4N8gydqUsQq\n",
              "3Uq4Z/RMAACAJ5aumDeZTJm1AwCADGMymdSilLeWdRqmGc1fUOUCHrqTlKBpkevkFzxRn+xbo7jE\n",
              "eKNnAgAAPLZ0xbyHh0dm7QAAIMOZTCa18aqiFZ1f1bfNeqlivqKKS4zXlL1r5Dt/gj6PXK87SQlG\n",
              "zwQAAEi3dL1m/g+rV6/Wvn375OzsLD8/P9WqVSsztmUYXjMPAJAkq82qpWcPaureNToRe0WSlN/R\n",
              "RUOqNlHfSr7KY+9o8EIAAIBHk65H5mNjY+Xn56d+/fpp69atWrNmjbp06aI+ffpIklauXJkpIwEA\n",
              "yAhmk1mdnqmuNV1H6vMmPfWMWyHdTLinj/askF/wRH17cJPuJycaPRMAAOAfpeuR+cGDB8vR0VFT\n",
              "pkyRvb29JCkxMVFjxozRrVu3tH79ekVHR2fa2MfFI/MAgL+SbE3RglP79GnkWp27fUOSVNg5r16p\n",
              "1lS9K9aXk529wQsBAAD+Wrpivly5cjp+/LjM5rQP6CcnJ6tAgQJasmSJmjRpkuEjnxQxDwB4mCRr\n",
              "ikJORmha5DpF37kpSSrq4qZXqzfTcxXqytFiZ/BCAACAtNL1NHt7e/sHQl6S7Ozs5OHh8Zchf+LE\n",
              "Cfn5+alChQqqW7euDh069MAxVqtVY8aMUdWqVeXt7a3+/fsrMfH/P81xyZIl8vb2Vvny5dW9e3fF\n",
              "xcWlZzYAAA9lb7aoZ4W62th9tD7266biedx1+V6c3tq+SI1DJmn20R1KTEk2eiYAAECqdMW8q6ur\n",
              "9u/f/8D5kZGRcnNz+8vvGTx4sAYNGqTjx49r3Lhx6tu37wPHzJgxQxEREYqIiNCRI0dkNps1bdo0\n",
              "SdKdO3fUv39/LVy4UCdOnFDx4sX1/vvvp2c2AACPxMFip94V62tzwFh90KCLirq46cLdWL0evkBN\n",
              "Qidr7vFdSrKmGD0TAAAgfTH/n//8Rx06dNC3336ryMhIRUZG6ptvvlGHDh30zjvvPHD8lStXtHv3\n",
              "bvXu3VuSFBAQoOjoaJ08eTLNcZGRkWrZsqUcHBxkMpnUrl07zZo1S5K0fPly+fj4yNvbW5I0dOhQ\n",
              "zZ079283JiQkKC4uLs0pJYX/8AIAPDpHi536VPLV1oCxeq9+JxVxdtX5O7c0dmuImoZO0fwTe5RM\n",
              "1AMAAAOlK+Y7duyo77//XrNnz5afn5/8/Pz0yy+/6Pvvv1fHjh0fOD46OloeHh6ys/v9tYYmk0me\n",
              "np6KiopKc1zt2rUVFhamuLg4JSUl6bffftPZs2clSVFRUfLy8ko9tnTp0rp48aKSk//66Y4fffSR\n",
              "3N3d05x27tyZnpsJAIAkycnOXv0rN9TWwLH6T90OKuiUR+du39BrW+ar2YJPFHpqr1KsVqNnAgCA\n",
              "XChdMS9Jbdu21ebNm3X37l3dvXtXmzZtUrt27dIcM3/+/HRdZ9++fdW2bVv5+/vL399fFSpUSP0H\n",
              "gPR64403FBsbm+ZUr169x7ouAAAkydnOQYOqNlZ44Dj9u0475Xd00Zm4axq+aZ5aLPxEYacjZbUR\n",
              "9QAAIOukO+YfxUcffSRJKlWqVJpH0W02m6KiouTp6ZnmeJPJpHfffVd79+7Vtm3bVLlyZVWpUkWS\n",
              "5OnpqXPnzqUee/bs2TSP9v+Zo6Oj3Nzc0pwsFktm3EwAQC7jYu+godX8Fd5jnMbVaiN3B2edjL2q\n",
              "oRvnqtXCaVp69gBRDwAAskSmxPwfn3ZXpEgR1apVS7Nnz5YkhYSEqGTJkipXrlya4+Pj43Xz5u8f\n",
              "BXTt2jV9/PHHCgoKkvT7MwEiIiJ09OhRSdJXX32lnj17ZsZsAAAeSV57R71ao5nCe4zTGJ9WcnNw\n",
              "0rFblzV4/Ry1DftcK84dUjo++RUAACDdMuWDc00mU+qfv/32W/Xt21cffvih3NzcNHPmTEnSgAED\n",
              "1LlzZ3Xu3FmxsbFq2rSpzGazrFarRowYoU6dOkn6/R30p0+frq5duyo5OVlVq1bVTz/9lBmzAQBI\n",
              "FzcHJ42s2UJ9K/nq+0NbNOPwVh2+cVED1s1StYIlNNqnpVqU9E7z9yIAAEBGMNky4aGDWrVqKSIi\n",
              "IqOv9rGNGjVKU6dONXoGAOApdzP+rr77v6i/l5woSapRqKTG+LRS0xIViHoAAJBhMvVp9gAA5Cb5\n",
              "nfJoXO02Cu8RpJer+svZzl6R187rhdUz1XXp19p84QR/RwIAgAyRYTF/9+7d1D9/+OGHGXW1AADk\n",
              "OAWd8urNuu20LTBIg6o0kqPFTnuuRum5lTMUuPxbbbt4yuiJAAAgh0tXzPv6+qb++YUXXkhzWePG\n",
              "jVP//OePqgMAIDcq7Oyq/9TrqG2BQepXyU+OFjvtuHxW/1rxvf61/DvtvHzW6IkAACCHSlfMx8fH\n",
              "p/750KFDaS7jaYMAAPy1oi5uGt+gszYHjFUf7wayN1u07dJpdV/2jZ5fOUN7rpz75ysBAAD4H4/9\n",
              "NPs/xztv6gMAwMMVz+OuD3y7akvAWPWqUE92JrM2XTihLku/1gurZmrf1WijJwIAgBwiXTH/v8FO\n",
              "vAMA8HhK5M2nCQ27a1PAGD1bvo4sJrPWxxxTxyVf6qU1P+ng9RijJwIAgGwuXR9NZ2dnJzc3N0lS\n",
              "XFxc6p9tNpvu3LmjpKSkzFn5hPhoOgBAdnYm7pqm7Vun0NN7Zf2/v5bbelbRKJ+WqlzAw+B1AAAg\n",
              "O7JLz8GnTvHuuwAAZLRn3Arp0yb/0qs1mumTfWu16HSkVkQd0oqoQ+pYuppeq9lSFfMXNXomAADI\n",
              "RtL1NPv8+fPLZrPJy8srzclmsyl//vyZtREAgFyhrHthfeHfU2u7jVSn0tUlSUvOHlDLhZ/qlQ1z\n",
              "dfLWFYMXAgCA7CJdMR8UFKQ9e/Y8cH5ERITGjRuXYaMAAMjNKuQrqq+bPa/VXUaqvVdV2WTTojOR\n",
              "ar7wEw3fNE+nY68ZPREAABgsXa+Zr1WrliIiIv7ysipVqjzwcXXZBa+ZBwDkZIeuX9DUfWu0Muqw\n",
              "JMliMiugrI9G1GwuL9eCBq8DAABGSNcj88nJyX9/RebH/pQ7AADwEFUKFteMFi9qaadhalHSWyk2\n",
              "q347uUf+IVM0dmuIzt+5afREAACQxdJV4ElJSYqLi3vg/NjY2Gz7TvYAADwtahQqqZ9a9VVYx6Hy\n",
              "L1FByTar5h7fpcYhk/XGtgW6cOeW0RMBAEAWSVfM9+zZUy+88IJu3vz/jwDcvHlTL730knr27Jnh\n",
              "4wAAwINqFfbUnNb9tKD9EDXyKKcka4pmHduhRiGT9Nb2Rbp078F/eAcAAE+XdMX8W2+9pXz58qlU\n",
              "qVLy8fGRj4+PSpUqJVdXV7311luZtREAAPyFukVL69e2AzS/3SDVL/qMEq0p+vFIuBoGT9S7Oxbr\n",
              "yr3bRk8EAACZJF1vgPeHU6dOpb4RXq1atVS2bFklJyfLzi5dH1ufZXgDPADA085ms2nbxVOavHe1\n",
              "dl05J0lystirTyVfDa3WRAWd8hq8EAAAZKTHivn/dfjwYU2fPl1z5szR5cuXM2pXhiLmAQC5hc1m\n",
              "06YLJzR572rtvRotSXKxc9BLlfw0pGpj5XfKY/BCAACQER7rLejv3Lmj6dOnq0GDBvLx8ZGjo6PW\n",
              "rFmT0dsAAEA6mUwm+ZeooLAOQ/VTy76qXrCE7iUn6ssDG9Rg/gRN3LNSNxPuGT0TAAA8oXTF/Nat\n",
              "W9WvXz+VKlVKK1as0Ntvvy0PDw999NFHqlatWmZtBAAA6WQymdSilLeWdhqmH1q8qCoFPHQ3OVGf\n",
              "7V8vv/kTNHXvGsUlxhs9EwAAPKZ0Pc3ebDarZcuW+vnnn1WsWDFJUpkyZXT69OlMG5gReJo9ACC3\n",
              "s9qsWhl1WFP2rtHRm5ckSe4OThpUpbH6VW4oVwcngxcCAID0SNcj8zNmzND9+/dVt25dvfnmmzpx\n",
              "4kRm7QIAABnIbDKrnVdVreoyXN80fV7l3YsoNjFek/aulm/wRH2xf4PuJiUYPRMAADyidMX8Sy+9\n",
              "pM2bN2vNmjVKTk5WkyZNdOnSJX3//fdpPnseAABkT2aTWR2fqa41XUfqC/+eKuNWSLcS7unjPSvk\n",
              "O3+ivjmwSfeTE42eCQAA/sETvZt9SkqKlixZohkzZmjdunW6c+dORm7LMDzNHgCAv5ZsTdHC05H6\n",
              "ZN9anbt9XZJU2DmvXqnWVL0q1peznb3BCwEAwF9J1yPzBw4cUJ06deTm5qbmzZsrJiZGXbp0UVhY\n",
              "GE+5BwAgB7IzWxRYrpY2dh+lKY0CVSpvfl29f0fv7lyiRsETNfPwNsUnJxk9EwAA/Em6Yv6VV15R\n",
              "r169tGPHDjVq1EhBQUGpl3l4eGT4OAAAkDXszBY9W76ONnYfrQl+3VU8j7su37+tt3eEqXHIZM06\n",
              "ul2JKclGzwQAAP8nXU+zr1GjhiIjI1O/rlWrliIiIjJlWEbiafYAAKRPQkqy5p3Yrc8i1+nSvThJ\n",
              "Uok8+TSiZnP1KFdb9maLwQsBAMjd0vXIvMXCX9wAAOQGjhY7vejdQFsCxmp8/U4q4uyqmLu3FLQ1\n",
              "VP4hU/Tbid1KtqYYPRMAgFwrXY/Mu7i4yNvbO/Xro0ePpvk6uz5KzyPzAAA8mfvJSZp9bLu+3L9R\n",
              "1+J/f8Pb0q4F9ZpPS3V9poYs5nQ9PgAAAJ6QXXoOXr58eWbtAAAA2Ziznb0GVmmsXhXq66ej4fr6\n",
              "wCadvX1dIzbN02eR6zSqZkt1LF2NqAcAIIs80UfT5RQ8Mg8AQMa6m5SgmUfC9c3BTbqVcE+SVCFf\n",
              "EY2q2VLtS1eV2UTUAwCQmdL1N+2vv/6qU6dOpX796quvKl++fKpdu7aOHDmS4eMAAED2lMfeUcOq\n",
              "N1V4YJDG+rSSu4OTjt+6oiEbflHrRZ9p+bmDygWPFwAAYJh0xfyHH36oYsWKSZKWLl2qhQsXauXK\n",
              "lerXr59GjRqVKQMBAED25ergpBE1W2hb4Di9VrOFXO0ddfTmJQ1cN1vtwj7X6qjDRD0AAJkgXTFv\n",
              "MpmUJ08eSdKKFSv00ksvqX79+nrllVd08eLFTBkIAACyP3dHZ432aaVtPcZpePVmymPnoIM3Luil\n",
              "tT+r45Ivte78MaIeAIAMlK6Yt1qtqX/evn27/Pz8/vIyAACQO+V3dFFQ7TYK7zFOQ6v5y9nOXpHX\n",
              "zuvF1TPVZenX2hRzgqgHACADpOvd7GvWrKnRo0fLw8NDZ86ckb+/vyTp1q1bmbENAADkUAWc8ujf\n",
              "ddppUJXG+vrARv14NFwRV6P0/KoZqle0tEb7tFJDj7JGzwQAIMdK1yPzX3zxhRITE7V161YFBwfL\n",
              "2dlZkrRr1y717ds3M/YBAIAcrJBzXr1dr4O2BQapf+WGcrTYaefls3p2xffqsfw7bb902uiJAADk\n",
              "SJny0XTTpk3TiBEjMvpqHxsfTQcAQPZw8W6svti/QXOP71SiNUWS1Lh4OY2u2Up1inoZvA4AgJwj\n",
              "Uz4E9qeffsqMqwUAADmcRx53feDbRZsDxqp3xfqyM5m1+cJJdV32tXqv+kF7r0YbPREAgBwhU2Ke\n",
              "N7YBAAAPUyJvPn3s102bA8aoZ/k6spjM2hBzXJ2WfKk+q3/U/mvnjZ4IAEC2likxbzKZMuNqAQDA\n",
              "U6aUawFNbhSojd1Hq0e5WjKbTFp7/qjaL/5C/df+rEPXLxg9EQCAbClTYh4AACA9SrsV1CeN/6UN\n",
              "3UapW5maMsmklVGH1SbsMw1aN1tHb14yeiIAANkKT7MHAADZRhn3wvrcv6fWdXtNXZ6pIZNMWnbu\n",
              "oFotnKahG37RiVtXjJ4IAEC2kCkx/+OPP2bG1QIAgFyifL4i+rLpc1rddYQ6lK4mm2wKO7NfzRd8\n",
              "olc3/qrTsVeNnggAgKHSFfMLFizQlClTUr/29vZWgQIFVKBAAf3666+p59eoUSPjFgIAgFzLO38x\n",
              "fdusl1Z1Ga42npVlk00LTu9T0wVT9drm33Q27rrREwEAMES6Yv7TTz9V586dU792cHDQ3r17tXnz\n",
              "Zk2fPj3DxwEAAEhS5QLFNaPFi1rWaZhalvKW1WbT/JMR8g+dojFbghV9+4bREwEAyFJ26Tn4/v37\n",
              "Kl++fOrXhQoVkpeXlyQpPj4+Y5cBAAD8SfVCJfVjy77aezVaU/au1oaY4/r1xG4Fn4xQzwp19Wr1\n",
              "ZiqRN5/RMwEAyHTpemQ+NjY2zdfr1q1L/fPVq7x2DQAAZA2fwqU0u3U/LWz/shoXL6dkm1Wzj+1Q\n",
              "45BJejN8kS7ejf3nKwEAIAdLV8y7u7vr2LFjD5x/7Ngxubm5ZdgoAACAR1GnqJfmthmg4HaD5Fus\n",
              "jBKtKfrpaLgahUzSOzsW68q920ZPBAAgU6Qr5keNGqVu3bpp9erVio2NVWxsrFavXq2AgACNGjUq\n",
              "szYCAAA8VINiZTS/3SDNaztQ9YqWVkJKsmYc3iq/4Ikav3OJrt2/Y/REAAAyVLpeM9+zZ0/duXNH\n",
              "/fr104ULFyRJJUqU0Ntvv63nnnsuUwYCAAA8qoYeZeVXrIw2XzipyXtXK+JqlL47tEWzju1QX28/\n",
              "vVytiQo45TF6JgAAT8xks9lsj/ONf7xGvnDhwhk6KDOMGjVKU6dONXoGAADIQjabTetjjmvK3tWK\n",
              "vHZekpTHzkH9KjfUoKqNld/RxeCFAAA8vnTFfFRU1EMv9/T0fOJBmYGYBwAg97LZbFp7/qgmR6zW\n",
              "wRu/P7PQ1d5R/as00sDKjeTu6GzwQgAA0i9dMV+4cGGZTCb977eYTCYlJCTozp07SklJyZSRT4qY\n",
              "BwAANptNK6MOa8re1Tpy85Ikyc3BSYOqNFb/yg3l6uBk8EIAAB5dut4A7+rVq7py5YquXr2qq1ev\n",
              "6sKFC3rrrbfk4uKil156KbM2AgAAPDGTyaS2XlW0sstwfdOslyrkK6K4xHhN3rtavsET9cX+9bqb\n",
              "lGD0TAAAHkm6Yv5/zZ07V5UqVdKGDRu0bt06TZ8+PSN3AQAAZAqzyayOpatpdZeR+tL/OZV1L6xb\n",
              "Cff08Z6V8p0/UV8f2Kh7SYlGzwQA4KHS9W72krRq1Sq9/vrrcnV11axZs+Tr65sZuwAAADKVxWxW\n",
              "lzI11LF0NS08E6lP9q7R2dvX9cHu5fr24Ga9Ut1fvSs2kLOdvdFTAQB4QLpeM9+6dWudOnVK48eP\n",
              "V6dOnR643M3NLUPHZRReMw8AAP5JsjVFoaf26tN96xR154YkqYizq4ZVb6rnK9STE1EPAMhG0hXz\n",
              "ZvP/f1b+X70RHm+ABwAAcroka4rmn9yjafvWKebuLUlSMRc3Da/RXM+WryNHS7qf2AgAQIZL12vm\n",
              "rVZr6iklJeWBrwEAAHI6e7NFz1eop80BY/SRb1d5uLjr0r04/Tt8oZqETNacYzuVZOW/ewAAxnrs\n",
              "N8ADAAB4mjlY7PSCdwNtDhij9+t3VlFnV8XcvaVx20LVJGSyfj2+S8lEPQDAIOl6mr2Pj49MJtPf\n",
              "Xh4REZEhozIaT7MHAABP6n5ykuYc26EvD2zQ1ft3JElergX1Ws0W6lqmhuzMFmMHAgBylXTF/MaN\n",
              "Gx96ub+//xMPygzEPAAAyCj3kxP189Ht+nL/Rt1IuCtJKuNWSK/VbKnOz1SXxcwTHwEAmS9d7+BS\n",
              "uHBhVa5c+S8v++GHH7JtzAMAAGQUZzsHDa7aRL0r1tePR8L19cFNOh13Ta9u+lWfRa7TKJ+W6lC6\n",
              "qswmoh4AkHnS9bdMhw4dFBUV9cD5P/74o959992M2gQAAJDt5bF31CvVmyo8MEhBtVrL3cFJJ2Kv\n",
              "6OUNv6jVwmladvagrDar0TMBAE+pdMX8+PHj1bp1a129ejX1vFmzZuntt9/WmjVrMnwcAABAdufq\n",
              "4KThNZorvMfrGlWzpVztHXXs1mUNWj9b7cI+16qow0rHqxoBAHgk6Xqa/QsvvKCbN2+qTZs22rBh\n",
              "gxYvXqw33nhDa9euVYUKFTJrIwAAQLbn5uCkUT4t1a+yn74/tEXTD23RoRsX1W/tz6pesIRG+7RS\n",
              "85IVH/pmwgAAPKp0xbwkDR8+XLdu3ZKvr6/i4uK0du1aVaxYMTO2AQAA5Dj5HF00tlZr9a/cUN8e\n",
              "3KyZR7Zp//UY9Vnzo3wKl9IYn1ZqUrw8UQ8AeCLpejf7UaNGSZJsNptmz56tunXrytvbO/Xy7PqO\n",
              "8bybPQAAMMq1+3f09cFN+ulIuOJTkiRJdYt4abRPKzX0KEvUAwAeS7oemXd3d0/987BhwzJ8DAAA\n",
              "wNOmkHNevV23vQZXaayvDmzQrGM7tOvKOfVcOV31iz6jMbVaybdYGaNnAgBymHQ9Mp9T8cg8AADI\n",
              "Li7di9MX+9frl2M7lWhNkSQ18iin0T4tVbdoaWPHAQByjAz5ANRFixbJx8cnI64KAADgqVbMxU3/\n",
              "bdBFWwLG6kXvBrI3W7Tl4kl1W/aNeq2coT1XHvwYYAAA/ixdMb9jxw5VqVJFrq6uGjhwoM6cOSNf\n",
              "X1+9+uqreu211zJrIwAAwFOneN58+tC3qzYHjNHzFerJzmTWxgsn1GXpV3px9UxFXjtv9EQAQDaW\n",
              "rpgfOXKkhg4dql27dsnT01P169dX9erVdezYMb344ouZtREAAOCpVTJvfk1s2F0bA0brX+Vqy2wy\n",
              "ad35Y+qw+Av1W/OTDl2/YPREAEA2lK7XzNeoUUORkZGpX3t4eOj8+fOyWCyZMi6j8Jp5AACQU5yO\n",
              "vaZpkWu14PQ+Wf/vP9PaeVXRqJqtVKlAMYPXAQCyi3Q9Mv/naPfw8Mj2IQ8AAJCTlHEvpGlNntW6\n",
              "rq+pS5kaMsmk5ecOqdWiT/Xy+l90/NZloycCALKBdD0y7+LikuZz5Y8ePZrm64iIiIxdl0F4ZB4A\n",
              "AORUx25e1if71mjJ2QOSJJNM6lKmhl6r2UJl3QsbvA4AYJR0fc788uXLM2sHAAAA/kLF/EX1TbNe\n",
              "OnzjoqbuXaMVUYe08PQ+hZ2JVPcyPhpRs7mecStk9EwAQBZLV8z7+/v/5fkpKSlavHhxhgwCAADA\n",
              "gyoX8ND0Fi/owLUYTd23Rqujjyj4VIQWnN6nwHK1NKJGc3m6FjB6JgAgizzR58wfO3ZMQUFBKlGi\n",
              "hP773/9m1CYAAAD8jWqFSmhmyz5a0vEVNStRUSk2q+ad2K0mIZM1bmuoYu7cMnoiACALpOs185J0\n",
              "7949zZs3T9OnT9eZM2d0//59hYeHp3ntfHbDa+YBAMDTas+Vc5qyd402XTghSbI3W/R8hbp6pXoz\n",
              "Fc/jbvA6AEBmSdcj8wMHDlSpUqUUFham119/XVFRUcqXL1+2DnkAAICnWe0iXvqlTX+Fth+ihh5l\n",
              "lWRN0U9Ht6txyCS9vT1Ml+/FGT0RAJAJ0hXzv/76q6pXr67BgwerY8eOsrOzk8lkyqxtAAAAeET1\n",
              "ipbWvLYD9VvbgapftLQSUpI188g2+QVP1Hs7l+jq/dtGTwQAZKB0xfzFixfVu3dvjR8/Xl5eXnrr\n",
              "rbeUlJSUWdsAAACQTn4eZRXcbrDmtumv2oU9lZCSrO8PbZHv/In6765luh5/x+iJAIAMkK6Yz5s3\n",
              "r+rXr68xY8ZoyZIlio+PV2Jiovz8/PTVV1/95fecOHFCfn5+qlChgurWratDhw49cIzVatWoUaNU\n",
              "uXJlVa9eXc2aNdPJkyclSWfPnpXFYlHNmjVTT6dOnXqMmwoAAJA7mEwmNS5eXgs7vKzZrfupZqFS\n",
              "ik9J0jcHN8l3/kR9vGeFbsbfNXomAOAJpCvmv/rqKzVq1EgTJkxQkyZN5Ofnp5iYGI0ePVpLly79\n",
              "y+8ZPHiwBg0apOPHj2vcuHHq27fvA8eEhYVp69atioyM1P79+9WiRQv9+9//Tr3c1dVV+/btSz2V\n",
              "LVs2fbcSAAAgFzKZTGpaooIWdxyqn1r2VbWCJXQvOVFf7N8g3+CJmhSxSrcS7hk9EwDwGNId8/v3\n",
              "79eOHTu0efNmTZ06VXZ2dgoICPjLmL9y5Yp2796t3r17S5ICAgIUHR2d+qj7H0wmkxISEhQfHy+b\n",
              "zaa4uDiVLFnysW5QQkKC4uLi0pxSUlIe67oAAACeBiaTSS1KeWtZp2Ga0fwFVS7goTtJCZoWuU5+\n",
              "wRP1yb41ikuMN3omACAd0hXz9vb28vT0lCRVq1ZNd+8+/OlZ0dHR8vDwkJ2dnaTf/yLx9PRUVFRU\n",
              "muM6deqkpk2bqlixYvLw8NDatWs1fvz41Mvv3r2runXrqlatWho/fvxD4/yjjz6Su7t7mtPOnTvT\n",
              "czMBAACeSiaTSW28qmhF51f1bbNeqpivqOIS4zVl7xr5zp+gzyPX605SgtEzAQCPIF0xHx8frwMH\n",
              "Dmj//v3av3//A18/rt27d+vgwYOKiYnRhQsX1KJFCw0ZMkSS5OHhoZiYGO3atUtr1qzR5s2bNWXK\n",
              "lL+9rjfeeEOxsbFpTvXq1XvsbQAAAE8bs8msDqWraXXXEfrK/zmVcy+s2MT7mhCxUr7zJ+irAxt1\n",
              "LynR6JkAgIcw2Ww226MeXLp06b/9KDqTyaTTp0+nOe/KlSsqV66cbty4ITs7O9lsNnl4eGjLli0q\n",
              "V65c6nHDhg1T8eLFU18nf+jQIbVu3VoxMTEP/Jy5c+fql19+0eLFix91tkaNGqWpU6c+8vEAAAC5\n",
              "SYrVqkVnIvXJvrU6E3dNklTQKY9eqdZUL3jXl7Odg8ELAQB/lq5H5s+ePaszZ8785enPIS9JRYoU\n",
              "Ua1atTR79mxJUkhIiEqWLJkm5CWpTJkyWrdunRITf/8X4CVLlqhq1aqSfv8HgT8+/i4hIUGhoaHy\n",
              "8fFJ/y0FAADAX7KYzepe1kfru72mTxr1kJdrAV2Pv6vxu5aqYfAkzTi8VfHJfBwxAGQn6Xpk/nEc\n",
              "O3ZMffv21fXr1+Xm5qaZM2eqWrVqGjBggDp37qzOnTsrISFBw4YN05YtW2Rvb69ixYrpm2++UZky\n",
              "ZRQaGqr//Oc/slgsSk5OVvPmzTV58mQ5Ojo+8gYemQcAAHh0SdYUBZ+M0LTItTp/55YkqaiLm16t\n",
              "3kzPVagrR4udsQMBAJkf89kBMQ8AAJB+iSnJ+u3EHk2LXKeL92IlScXzuGt49eb6V/naciDqAcAw\n",
              "6XqaPQAAAHIPB4udenvX15bAsfpvgy4q6uKmC3dj9Xr4AjUJnay5x3cpycpHAAOAEYh5AAAAPJSj\n",
              "xU59K/lqa8BYvVe/kwo759X5O7c0dmuImoZO0fwTe5RM1ANAliLmAQAA8Eic7OzVv3JDbQsM0n/q\n",
              "dlBBpzw6d/uGXtsyX80WfKLQU3uVYrUaPRMAcgViHgAAAOnibOegQVUbKzxwnP5dp53yO7roTNw1\n",
              "Dd80Ty0WfqKw05Gy2oh6AMhMxDwAAAAei4u9g4ZW81d4j3EaV6uN3B2cdTL2qoZunKtWC6dp6dkD\n",
              "RD0AZBJiHgAAAE8kr72jXq3RTOE9xmm0T0u5OTjp2K3LGrx+jtqGfa6V5w4pF3yAEgBkKWIeAAAA\n",
              "GcLNwUmv1WypbYFBGlGjufLaO+rwjYvqv26W2i/+QmujjxL1AJBBiHkAAABkqHyOLhpbq7XCA4M0\n",
              "rHpTudg56MD1GPVZ86M6LflK688fI+oB4AkR8wAAAMgU+Z3y6PXabRXeI0hDqjaRk8Ve+65F64XV\n",
              "M9V16dfafOEEUQ8Aj4mYBwAAQKYq6JRXb9Vtr/AeQRpYpZEcLXbaczVKz62cocDl3yn80mmjJwJA\n",
              "jkPMAwAAIEsUdnbVO/U6altgkPpV8pOD2aIdl8+ox/Lv9K/l32nn5bNGTwSAHIOYBwAAQJYq6uKm\n",
              "8Q06a0tgkPp4N5C92aJtl06r+7Jv9PzKGdpz5ZzREwEg2yPmAQAAYIjiedz1gW9XbQ4Yo14V6snO\n",
              "ZNamCyfUZenXemHVTO27Gm30RADItoh5AAAAGKpk3vya0LC7NgWM0bPl68hiMmt9zDF1XPKlXlrz\n",
              "kw5ejzF6IgBkO8Q8AAAAsgVP1wKa0ihQG7qPUmDZWjKbTFodfURtwz7XgLWzdPjGRaMnAkC2QcwD\n",
              "AAAgW3nGrZA+bfIvre82Sl3L1JRJJq2IOqTWi6ZpyPo5OnbzstETAcBwxDwAAACypbLuhfWFf0+t\n",
              "7TZSnUpXlyQtOXtALRd+qlc2ztXJW1cMXggAxiHmAQAAkK1VyFdUXzd7Xqu7jFQ7ryqyyaZFpyPV\n",
              "fOEnGrFpnk7HXjN6IgBkOWIeAAAAOUKlAsX0ffMXtKLzq2pdqpKsNptCTu1VswVTNXrLfJ27fd3o\n",
              "iQCQZYh5AAAA5ChVC5bQDy37aGmnYWpesqJSbFbNO7FH/iFTFLQ1VOfv3DR6IgBkOmIeAAAAOVKN\n",
              "QiX1c6uXFNZxqPxLVFCyzapfju9U45DJemPbAl24c8voiQCQaYh5AAAA5Gi1CntqTut+WtB+iBp5\n",
              "lFOSNUWzju1Qo5BJemv7Il26F2f0RADIcMQ8AAAAngp1i5bWr20HaH67Qapf9BklWlP045FwNQye\n",
              "qHd3LNaVe7eNnggAGYaYBwAAwFPFt1gZBbcbpHltBqhOES8lpCRr+uGt8gueqPd3LdP1+DtGTwSA\n",
              "J0bMAwAA4KljMpnUsHg5LWg/RHNa95NP4VKKT0nStwc3yXf+RH20e4Vuxt81eiYAPDZiHgAAAE8t\n",
              "k8kk/xIVFNZhqH5q2VfVC5bQveREfXlggxrMn6BJEat0K+Ge0TMBIN2IeQAAADz1TCaTWpTy1tJO\n",
              "w/RDixdVuYCH7iYnalrkOvnOn6Cpe9coLjHe6JkA8MiIeQAAAOQaJpNJrT0ra0XnV/Vds96qmK+o\n",
              "biclaOq+NfKd/7E+i1ynO0kJRs8EgH9EzAMAACDXMZvMal+6qlZ3HaGvmz6v8u5FFJsYr4kRq9Rg\n",
              "/gR9uX+D7hL1ALIxYh4AAAC5ltlkVqdnqmtN15H6vElPlXErpFsJ9/TRnhXyC56obw5s0v3kRKNn\n",
              "AsADiHkAAADkehazWd3K1tS6bq/p08b/kpdrQV2Pv6v/7l4mv+CJmn5oi+4nJxk9EwBSEfMAAADA\n",
              "/7EzWxRYrpY2dB+lyQ0DVCpvfl29f0fv7lyiRsETNfPwNiWkJBs9EwCIeQAAAODP7M0W9axQVxu7\n",
              "j9bHft1UPI+7Lt+/rbd3hKlR8CTNOrpdiUQ9AAMR8wAAAMDfcLDYqXfF+tocMFYf+nZVMRc3XbwX\n",
              "qzfCF6pJ6GT9cnynkqwpRs8EkAsR8wAAAMA/cLTY6UXvBtoSMFbj63dSEWdXnb9zS0FbQ+UfMkW/\n",
              "nditZKIeQBYi5gEAAIBH5GRnr36VG2prYJDeqddBhZzyKurODY3aEqymoVMVcmqvUqxWo2cCyAWI\n",
              "eQAAACCdnO3sNbBKY20LDNKbddopv6OLzt6+rhGb5qnFwk+06HQkUQ8gUxHzAAAAwGNysXfQy9X8\n",
              "Fd5jnF6v3UbuDs46GXtVr2ycq9aLpmnJ2QOy2oh6ABmPmAcAAACeUF57Rw2r3kzbe4zTGJ9WcnNw\n",
              "0rFblzVk/Ry1WfSZVpw7JJvNZvRMAE8RYh4AAADIIK4OThpZs4XCA8dpZM0WymvvqCM3L2nAullq\n",
              "F/a5VkcdJuoBZAhiHgAAAMhg7o7OGuPTSuE9xunV6s3kYueggzcu6KW1P6vjki+17vwxoh7AEyHm\n",
              "AQAAgEyS39FF42q30fYe4zS0mr+c7ewVee28Xlw9U12Wfq1NMSeIegCPhZgHAAAAMlkBpzz6d512\n",
              "Cg8cp8FVGsvRYqeIq1F6ftUMBSz/VlsvnjJ6IoAchpgHAAAAskgh57x6u14HbQsMUv/KDeVosdPO\n",
              "y2f17Irv1WP5d9px6YzREwHkEMQ8AAAAkMWKurjpvfqdtCVgrPp4+8rBbFH4pdMKWP6tnls5XXuu\n",
              "nDN6IoBsjpgHAAAADOKRx10f+HbR5oCx6l2xvuxMZm2+cFJdln6t3qt+0N6r0UZPBJBNEfMAAACA\n",
              "wUrkzaeP/bppc8AY9SxfRxaTWRtijqvTki/Vd82POnAtxuiJALIZYh4AAADIJkq5FtDkRoHa2H20\n",
              "epSrJbPJpDXRR9Vu8efqv/ZnHb5xweiJALIJYh4AAADIZkq7FdQnjf+lDd1GqVuZmjLJpJVRh9V6\n",
              "0WcavH6Ojt68ZPREAAYj5gEAAIBsqox7YX3u31Prur2mzs9Ul0kmLT17QK0WTtMrG+bqxK0rRk8E\n",
              "YBBiHgAAAMjmyucroq+aPq9VXUaovVdV2WTTojORar7gE7268Vedjr1q9EQAWYyYBwAAAHKISgWK\n",
              "6bvmvbWy83C18awsm2xacHqfmi6YqlGb5+vc7etGTwSQRYh5AAAAIIepUrC4ZrR4Ucs6DVPLUt6y\n",
              "2mz67eQeNQmZojFbghV9+4bREwFkMmIeAAAAyKGqFyqpH1v21eKOr6hpiQpKsVn164ndahwyWa9v\n",
              "W6ALd24ZPRFAJiHmAQAAgBzOp3ApzW7dTwvbv6zGxcsp2WbV7GM71Chkkt4MX6SLd2ONnggggxHz\n",
              "AAAAwFOiTlEvzW0zQMHtBqlBsWeUaE3RT0fD1Shkkt7ZsVhX7t02eiKADELMAwAAAE+ZBsXKKLjd\n",
              "YM1rO1B1i3gpISVZMw5vlV/wRL2/c6mu3b9j9EQAT4iYBwAAAJ5SDT3KKrT9EP3Sur9qFfZUfEqS\n",
              "vj20Wb7BE/Th7uW6EX/X6IkAHhMxDwAAADzFTCaTmpQor0UdXtbPrV5SjUIldT85SV8d2Cjf+RM0\n",
              "cc9K3Uy4Z/RMAOlEzAMAAAC5gMlkUvOSFbWk4yua2eJFVSngobvJifps/3r5zZ+gyXtXKzbhvtEz\n",
              "ATwiYh4AAADIRUwmk1p5VtaKzsP1ffPeqpS/mG4nJejTfWvlFzxB0/at1e3EeKNnAvgHxDwAAACQ\n",
              "C5lMJrXzqqqVXYbrm2a9VCFfEcUmxmvS3tXyDZ6oL/av192kBKNnAvgbxDwAAACQi5lNZnUsXU2r\n",
              "u4zUl/7Pqax7Yd1KuKeP96yU7/yJ+vrARt1LSjR6JoA/IeYBAAAAyGI2q0uZGlrX9TVNa/KsSrsW\n",
              "1I2Eu/pg93L5BU/U94c2635yktEzAfwfYh4AAABAKovZrICyPtrQfZSmNgqUZ94CuhZ/R+/tXKpG\n",
              "wRP1w+GtiifqAcMR8wAAAAAeYGe26F/l62hjwGhNbNhdJfLk0+X7t/WfHYvVKGSSfj66XQkpyUbP\n",
              "BHItYh4AAADA37I3W/R8hXraHDBGH/l2VTEXN126F6d/hy9Uk5DJmnNsp5KsKUbPBHIdYh4AAADA\n",
              "P3Kw2OkF7wbaEjBW79fvrKLOroq5e0vjtoXKP2SK5p3YrWSiHsgyxDwAAACAR+ZkZ6+XKvtpS2CQ\n",
              "3q3XUYWc8irqzg2N3hKspqFTFXwygqgHsgAxDwAAACDdnO3sNaBKI20LDNJbddqrgGMenb19XSM3\n",
              "/6YWCz/VwtP7lGK1Gj0TeGoR8wAAAAAem4u9g4ZUa6LwHkF6vXZb5XN00anYqxq28Ve1WvSplpzZ\n",
              "L6uNqAcyGjEPAAAA4InlsXfUsOpNFR4YpKBareXu4KTjt65oyIZf1HrRZ1p29iBRD2QgYh4AAABA\n",
              "hnF1cNLwGs21LXCcXqvZQq72jjp685IGrZ+tdmGfa1XUYdlsNqNnAjkeMQ8AAAAgw7k7Omu0Tytt\n",
              "6zFOI2o0Vx47Bx26cVH91v6sjku+1Nroo0Q98ASIeQAAAACZJr+ji8bWaq3wHuP0SrWmcrazV+S1\n",
              "8+qz5kd1XvqVNsYcJ+qBx0DMAwAAAMh0BZzy6I06bRUeOE6DqzaRk8Vee69Gq9eqH9R92TfaeuEk\n",
              "UQ+kAzEPAAAAIMsUcs6rt+u217bAIA2o3FCOFjvtunJOz66crh4rvtP2S6eNngjkCMQ8AAAAgCxX\n",
              "xMVV79bvpK2BQepbyVcOZou2XzqjwOXfqeeK6dp1+azRE4FsjZgHAAAAYJhiLm76b4Mu2hIwVi9U\n",
              "rC97s0VbLp5Ut2XfqNeqHxRxNcroiUC2RMwDAAAAMFzxvPn0kV83beo+Ws9VqCuLyayNMcfVeclX\n",
              "6rP6R+2/dt7oiUC2QswDAAAAyDZKuRbQpIYB2th9tP5VrrbMJpPWnj+q9ou/UP+1P+vQ9QtGTwSy\n",
              "BWIeAAAAQLZT2q2gpjbuoQ3dRqt7WR+ZTSatjDqsNmGfadC62Tpy45LREwFDEfMAAAAAsq0y7oX0\n",
              "WZNntbbra+ryTA2ZZNKycwfVatGnenn9Lzp+67LREwFDZHrMnzhxQn5+fqpQoYLq1q2rQ4cOPXCM\n",
              "1WrVqFGjVLlyZVWvXl3NmjXTyZMnUy9fsmSJvL29Vb58eXXv3l1xcXGZPRsAAABANlI+XxF92fQ5\n",
              "rek6Uh1LV5MkLT67Xy0WfKphG3/VqdirBi8Eslamx/zgwYM1aNAgHT9+XOPGjVPfvn0fOCYsLExb\n",
              "t25VZGSk9u/frxYtWujf//63JOnOnTvq37+/Fi5cqBMnTqh48eJ6//33M3s2AAAAgGyoYv6i+qZZ\n",
              "L63qMkJtPavIJpsWnt6nZgumauSm33Qm7prRE4Eskakxf+XKFe3evVu9e/eWJAUEBCg6OjrNo+6S\n",
              "ZDKZlJCQoPj4eNlsNsXFxalkyZKSpOXLl8vHx0fe3t6SpKFDh2ru3LmZORsAAABANle5gIemt3hB\n",
              "yzu9qlalKslqsyn4VISahk7V6C3Birp9w+iJQKayy8wrj46OloeHh+zsfv8xJpNJnp6eioqKUrly\n",
              "5VKP69Spk9avX69ixYrJ1dVVJUqU0MaNGyVJUVFR8vLySj22dOnSunjxopKTk1Ov938lJCQoISEh\n",
              "zXkpKSmZcfMAAAAAGKxaoRKa2bKP9l6N1tS9a7Q+5pjmnditkJMRerZ8HQ2v0Vwl8uYzeiaQ4bLF\n",
              "G+Dt3r1bBw8eVExMjC5cuKAWLVpoyJAhj3VdH330kdzd3dOcdu7cmcGLAQAAAGQnPoVLaVbrl7So\n",
              "w8tqUry8km1WzTm+U41CJunN8IW6cDfW6IlAhsrUmC9VqlTqo+iSZLPZFBUVJU9PzzTH/fzzz2re\n",
              "vLny5csns9msPn36aP369ZIkT09PnTt3LvXYs2fPpnm0/8/eeOMNxcbGpjnVq1cvk24hAAAAgOyk\n",
              "dhEv/dKmv0LaDZZfsTJKsqbop6Pb1Thkkv6zPUyX7/Fm2ng6ZGrMFylSRLVq1dLs2bMlSSEhISpZ\n",
              "smSap9hLUpkyZbRu3TolJiZK+v3d66tWrSpJatu2rSIiInT06FFJ0ldffaWePXv+7c90dHSUm5tb\n",
              "mpPFYsmMmwcAAAAgm6pf7Bn91m6Q5rUdqPpFSyshJVk/HNkmv+CJGr9zia7ev230ROCJmGw2my0z\n",
              "f8CxY8fUt29fXb9+XW5ubpo5c6aqVaumAQMGqHPnzurcubMSEhI0bNgwbdmyRfb29ipWrJi++eYb\n",
              "lSlTRtLv73YfFBSk5ORkVa1aVT/99JPc3d0fecOoUaM0derUzLqJAAAAALIxm82mLRdPanLEau25\n",
              "GiVJcrazV19vP71crYkKOOUxeCGQfpke89kBMQ8AAADAZrNpQ8xxTd67WpHXzkuSXOwc1K+ynwZX\n",
              "aaz8RD1ykGzxBngAAAAAkNlMJpOalayoJR1f0Y8t+6hawRK6l5yoL/ZvkG/wRE2KWKXYhPtGzwQe\n",
              "CTEPAAAAIFcxmUxqWaqSlnUaphnNX1Cl/MV0JylB0yLXyTd4gj7Zt0ZxifFGzwQeipgHAAAAkCuZ\n",
              "TCa18aqilV2G69tmvVQxX1HFJcZryt418p0/QZ9HrtedpASjZwJ/iZgHAAAAkKuZTWZ1KF1Nq7uO\n",
              "0Ff+z6mce2HFJt7XhIiV8p0/QV8d2Kh7SYlGzwTSIOYBAAAAQL9HfecyNbS262v6rMmzesatkG4m\n",
              "3NOHu5fLL3iivju4WfeTiXpkD8Q8AAAAAPwPi9ms7mV9tL7ba/qkUQ95uRbQtfg7Gr9rqRoGT9KM\n",
              "w1sVn5xk9EzkcsQ8AAAAAPwFO7NFPcrX1obuozWpYYBK5s2nK/dv650di9UwZJJ+OhKuhJRko2ci\n",
              "lyLmAQAAAOAh7M0WPVehrjZ1H6OPfbvJw8Vdl+/F6c3ti9Q4ZJJmH9uhRKIeWYyYBwAAAIBH4GCx\n",
              "U2/v+toSOFb/bdBFRV3cdOFurF7ftkD+oVP06/FdSrKmGD0TuQQxDwAAAADp4GixU99KvtoSMFbv\n",
              "1uuows55FX3npsZsDVHT0KkKPrlHyUQ9MhkxDwAAAACPwdnOXgOqNNK2wCC9Xbe9Cjrl0bnb1zVy\n",
              "83w1X/CJFpzapxSr1eiZeEoR8wAAAADwBJztHDS4ahOFB47Tv+u0U35HF52Ou6ZXN/2qlgs/Vdjp\n",
              "SFltRD0yFjEPAAAAABnAxd5BQ6v5K7zHOI2r1UbuDs46EXtFQzfOVauF07T07AGiHhmGmAcAAACA\n",
              "DJTX3lGv1mim8B7jNNqnpdwcnHTs1mUNXj9HbcM+18pzh2Sz2YyeiRyOmAcAAACATODm4KTXarbU\n",
              "tsAgjajRXHntHXX4xkX1XzdLHRZ/obXRR4l6PDZiHgAAAAAyUT5HF42t1VrhgUEaVr2pXOwctP96\n",
              "jPqs+VGdlnylDTHHiXqkGzEPAAAAAFkgv1MevV67rcJ7BGlI1SZysthr37Vo9V71g7ot+0ZbLpwk\n",
              "6vHIiHkAAAAAyEIFnfLqrbrtFd4jSAOrNJKjxU67r5xTz5XTFbj8O4VfOm30ROQAxDwAAAAAGKCw\n",
              "s6veqddRWwOD9FIlPzmYLdpx+Yx6LP9Oz674XjsvnzV6IrIxYh4AAAAADFTMxU3vN+isLYFBetG7\n",
              "gezNFm29eErdl32jXitnaM+VKKMnIhsi5gEAAAAgGyiex10f+nbV5oAx6lWhnuxMZm28cEJdln6l\n",
              "F1bN1L6r0UZPRDZCzAMAAABANlIyb35NaNhdmwLG6NnydWQxmbU+5pg6LvlSL635SQevxxg9EdkA\n",
              "MQ8AAAAA2ZCnawFNaRSo9d1GKaCsj8wmk1ZHH1HbsM81YO0sHb5x0eiJMBAxDwAAAADZWBn3QprW\n",
              "5Fmt7zZKXcvUlEkmrYg6pNaLpmnI+jk6dvOy0RNhAGIeAAAAAHKAsu6F9YV/T63tNlKdSleXJC05\n",
              "e0AtF36qVzbO1clbVwxeiKxEzAMAAABADlIhX1F93ex5reoyQu28qsgmmxadjlTzhZ9oxKZ5OhN3\n",
              "zeiJyALEPAAAAADkQJULeOj75i9oRedX1bpUJVltNoWc2qumoVM1est8nbt93eiJyETEPAAAAADk\n",
              "YFULltAPLftoaadhal6yolJsVs07sUf+IVMUtDVU5+/cNHoiMgExDwAAAABPgRqFSurnVi9pUYeh\n",
              "8i9eXsk2q345vlONQybr3+ELdeFurNETkYGIeQAAAAB4itQu4qk5bfortP0QNfQoqyRrin4+ul2N\n",
              "gifq7e1hunQvzuiJyADEPAAAAAA8heoVLa15bQdqfrtBql/0GSVaUzTzyDY1DJ6od3cs1pV7t42e\n",
              "iCdAzAMAAADAU8y3WBkFtxukX9sMUJ0iXkpISdb0w1vlFzxR7+9apuvxd4yeiMdAzAMAAADAU85k\n",
              "MqlR8XJa0H6IZrfuJ5/CpRSfkqRvD26S7/yJ+mj3Ct2Mv2v0TKQDMQ8AAAAAuYTJZFLTEhUU1mGo\n",
              "fmrZV9ULltC95ER9eWCDfIMnalLEKt1KuGf0TDwCYh4AAAAAchmTyaQWpby1tNMw/dDiRVUu4KE7\n",
              "SQmaFrlOvvMnaOreNYpLjDd6Jh6CmAcAAACAXMpkMqm1Z2Wt6PyqvmvWWxXzFdXtpARN3bdGvvM/\n",
              "1meR63QnKcHomfgLxDwAAAAA5HJmk1ntS1fV6q4j9HXT51XevYhiE+M1MWKVfOdP0Jf7N+guUZ+t\n",
              "EPMAAAAAAEm/R32nZ6prTdeR+rxJT5VxK6SbCff00Z4V8gueqG8PbtL95ESjZ0LEPAAAAADgTyxm\n",
              "s7qVral13V7Tp417yMu1gK7H39X7u5bJL3iiph/aovvJSUbPzNWIeQAAAADAX7IzWxRYrrY2dB+t\n",
              "yQ0DVCpvfl29f0fv7lyiRiGT9OORcCWkJBs9M1ci5gEAAAAAD2Vvtqhnhbra2H20PvbrpuJ53HX5\n",
              "Xpze2r5IjYInadbR7Uok6rMUMQ8AAAAAeCQOFjv1rlhfmwPG6oMGXVTUxU0X78XqjfCFahI6Wb8c\n",
              "36kka4rRM3MFYh4AAAAAkC6OFjv1qeSrrQFj9V79Tiri7Krzd24paGuomoZO0fwTe5RM1GcqYh4A\n",
              "AAAA8Fic7OzVv3JDbQ0M0jv1OqiQU16du31Dr22Zr2YLPlHIqb1KsVqNnvlUIuYBAAAAAE/E2c5e\n",
              "A6s01rbAIL1Zp53yO7roTNw1jdg0Ty0WfqJFpyNltRH1GYmYBwAAAABkCBd7B71czV/hPcbp9dpt\n",
              "5O7grJOxV/XKxrlqtXCalpw9QNRnEGIeAAAAAJCh8to7alj1ZtreY5zG+LSSm4OTjt26rCHr56jN\n",
              "os+04twh2Ww2o2fmaMQ8AAAAACBTuDo4aWTNFgoPHKeRNVsor72jjty8pAHrZqld2OdaE32EqH9M\n",
              "xDwAAAAAIFO5OzprjE8rhfcYp1erN5OLnYMO3rigvmt+UsclX2r9+WNEfToR8wAAAACALJHf0UXj\n",
              "arfR9h7j9HJVfznb2Svy2nm9sHqmui79WptiThD1j4iYBwAAAABkqQJOefRm3XbaFhikQVUaydFi\n",
              "pz1Xo/T8qhkKWP6ttl48ZfTEbI+YBwAAAAAYorCzq/5Tr6O2BQapXyU/OVrstPPyWT274nv9a/l3\n",
              "2nHpjNETsy1iHgAAAABgqKIubhrfoLO2BIxVH29f2Zst2nbptAKWf6vnVk7XnivnjJ6Y7RDzAAAA\n",
              "AIBswSOPuz7w7aItAWPVu2J92ZnM2nzhpLos/Vq9V/2gvVejjZ6YbRDzAAAAAIBspUTefPrYr5s2\n",
              "BYxRz/J1ZDGZtSHmuDot+VJ91/yoA9dijJ5oOGIeAAAAAJAteboW0ORGgdrQfZR6lKsls8mkNdFH\n",
              "1W7x5+q/9mcdvnHB6ImGIeYBAAAAANnaM26F9Enjf2lDt1HqVqamTDJpZdRhtV70mQavn6OjNy8Z\n",
              "PTHLEfMAAAAAgByhjHthfe7fU2u7jVTnZ6pLkpaePaBWC6fplQ1zdfLWFYMXZh1iHgAAAACQo1TI\n",
              "V1RfNX1eq7uMVHuvqrLJpkVnItV84ScavmmeTsdeM3pipiPmAQAAAAA5UqUCxfRd895a2Xm42nhW\n",
              "ltVmU+ipvWq2YKpGbZ6vc7evGz0x0xDzAAAAAIAcrUrB4prR4kUt6zRMLUp6K8Vm1W8n96hJyBSN\n",
              "3Rqi6Ns3jJ6Y4Yh5AAAAAMBToXqhkvqpVV+FdRwq/xIVlGKzau7xXWoSOkWvb1ugJGuK0RMzDDEP\n",
              "AAAAAHiq1CrsqTmt+2lh+5fVuHg5JVlTFH3npuzNFqOnZRg7owcAAAAAAJAZ6hT10tw2A7T90mm5\n",
              "OTgbPSdDEfMAAAAAgKdag2JljJ6Q4XiaPQAAAAAAOQwxDwAAAABADkPMAwAAAACQwxDzAAAAAADk\n",
              "MMQ8AAAAAAA5DDEPAAAAAEAOQ8wDAAAAAJDDEPMAAAAAAOQwxDwAAAAAADkMMQ8AAAAAQA5DzAMA\n",
              "AAAAkMMQ8wAAAAAA5DDEPAAAAAAAOQwxDwAAAABADkPMAwAAAACQwxDzAAAAAADkMMQ8AAAAAAA5\n",
              "DDEPAAAAAEAOQ8wDAAAAAJDDmGw2m83oEZmte/fuKl26tNEzgHRLSUnRzp07Va9ePVksFqPnAE+M\n",
              "+zSeRtyv8bThPo2nUU67X3t5eWnEiBEPPSZXxDyQU8XFxcnd3V2xsbFyc3Mzeg7wxLhP42nE/RpP\n",
              "G+7TeBo9jfdrnmYPAAAAAEAOQ8wDAAAAAJDDEPMAAAAAAOQwxDyQjTk6Ouqdd96Ro6Oj0VOADMF9\n",
              "Gk8j7td42nCfxtPoabxf8wZ4AAAAAADkMDwyDwAAAABADkPMAwAAAACQwxDzAAAAAADkMMQ8YIAT\n",
              "J07Iz89PFSpUUN26dXXo0KEHjrFarRo1apQqV66s6tWrq1mzZjp58mTq5UuWLJG3t7fKly+v7t27\n",
              "Ky4uLitvAvCAJ71fnz17VhaLRTVr1kw9nTp1KqtvBpDqUe/TY8aMUdWqVeXt7a3+/fsrMTEx9XJ+\n",
              "VyO7edL7Nb+rkd0MHz5cpUuXlslk0r59+/72uBkzZqh8+fIqW7asBg4cqKSkpEe6LFuzAchyzZo1\n",
              "s82cOdNms9ls8+fPt9WpU+eBYxYsWGCrV6+eLTEx0Waz2Wzvv/++rUePHjabzWa7ffu2rUiRIrYj\n",
              "R47YbDab7ZVXXrGNGTMma8YDf+NJ79dnzpyxubu7Z9Vc4B89yn36u+++szVr1syWkJBgs1qttgED\n",
              "BtgmTpxos9n4XY3s6Unv1/yuRnazceNGW3R0tM3Ly8u2d+/evzzm9OnTNg8PD9vFixdtVqvV1qlT\n",
              "J9sXX3zxj5dldzwyD2SxK1euaPfu3erdu7ckKSAgQNHR0WkedZckk8mkhIQExcfHy2azKS4uTiVL\n",
              "lpQkLV++XD4+PvL29pYkDR06VHPnzs3aGwL8j4y4XwPZyaPepyMjI9WyZUs5ODjIZDKpXbt2mjVr\n",
              "liR+VyP7yYj7NZDdNGnS5B//WyI4OFidO3dWsWLFZDKZNGTIkNTfxw+7LLsj5oEsFh0dLQ8PD9nZ\n",
              "2Un6PW48PT0VFRWV5rhOnTqpadOmKlasmDw8PLR27VqNHz9ekhQVFSUvL6/UY0uXLq2LFy8qOTk5\n",
              "624I8D8y4n4tSXfv3lXdunVVq1YtjR8/XikpKVl6O4A/POp9unbt2goLC1NcXJySkpL022+/6ezZ\n",
              "s5L4XY3sJyPu1xK/q5Hz/NXv4z/u9w+7LLsj5oFsavfu3Tp48KBiYmJ04cIFtWjRQkOGDDF6FvBE\n",
              "Hna/9vDwUExMjHbt2qU1a9Zo8+bNmjJlisGLgYfr27ev2rZtK39/f/n7+6tChQqpoQTkVA+7X/O7\n",
              "Gsg+iHkgi5UqVSrNIzM2m01RUVHy9PRMc9zPP/+s5s2bK1++fDKbzerTp4/Wr18vSfL09NS5c+dS\n",
              "jz179myaf2kHslpG3K8dHR1VpEgRSVKBAgXUr18/bd68OWtvCPB/HvU+bTKZ9O6772rv3r3atm2b\n",
              "KleurCpVqkjidzWyn4y4X/O7GjnRX/0+/uN+/7DLsjtiHshiRYoUUa1atTR79mxJUkhIiEqWLKly\n",
              "5cqlOa5MmTJat25d6rvHLlmyRFWrVpUktW3bVhERETp69Kgk6auvvlLPnj2z8FYAaWXE/frKlSup\n",
              "7x6bkJCg0NBQ+fj4ZOGtAP6/R71Px8fH6+bNm5Kka9eu6eOPP1ZQUJAkflcj+8mI+zW/q5ETBQQE\n",
              "KCwsTJcuXZLNZtM333yT+vv4YZdle8a99x6Qex09etTWoEEDW/ny5W21a9e27d+/32az2Wz9+/e3\n",
              "LVq0yGaz2Wzx8fG2AQMG2Ly9vW3VqlWztWrVynbq1KnU61i0aJGtYsWKtrJly9q6dOliu3XrliG3\n",
              "BfjDk96vQ0JCbFWqVLFVr17dVrlyZduwYcNs8fHxht0e4FHu05cuXbJ5e3vbKleubPP29rZ9/fXX\n",
              "aa6D39XIbp70fs3vamQ3gwYNspUoUcJmsVhsRYoUsZUtW9Zms6W9T9tsv39KQ5kyZWxlypSx9evX\n",
              "L/WTdf7psuzMZLPZbEb/gwIAAAAAAHh0PM0eAAAAAIAchpgHAAAAACCHIeYBAAAAAMhhiHkAAAAA\n",
              "AHIYYh4AgMcQGhqq2rVrq2bNmvL29lbz5s1ltVpTL+/Tp4/c3Nx09+7dNN9XunRp7du374Hr69u3\n",
              "r0qUKKGaNWumnmbOnClJOnDggJo3b64aNWqoatWqqlu3rg4ePPiPG2/fvq28efOqf//+ac7fsGGD\n",
              "nJ2dVbNmTVWvXl3169fX9u3bUy9/9913Vbhw4TRbPvjggzTX8Xe3768kJSVp+PDhqlKlimrUqKHK\n",
              "lStr6tSpkn7/PN98+fJJksLCwtL8zJo1a6pEiRJycnJ6YPcfp27duj30Z/ft21cODg46ffp06nlj\n",
              "xozRu+++K0n68ccf1bVr1wf+96lZs2bqPpPJpC5duqQ55p133pHJZNLChQv/8fYDAJAZ7IweAABA\n",
              "TnPx4kUNGjRIe/bskZeXlyQpIiJCJpNJkhQXF6fFixerRo0amj9/vvr27ftI1zt27FiNHDnygfOf\n",
              "e+45vf/++6nhGh0dLUdHx3+8vnnz5ql27doKDQ3VtGnTlDdv3tTLKlasmPqPCl988YX69eunw4cP\n",
              "p17eq1cvffrpp395vem9fdOmTdOFCxcUGRkpOzs7xcfH69SpUw8c17lzZ3Xu3Dn161u3bqlu3boa\n",
              "P378X+5+VCVKlNCbb76puXPnpuv7/uDu7q7jx4/r8uXLKlq0qKxWq+bOnatq1ao91vUBAJAReGQe\n",
              "AIB0unz5siwWiwoUKJB6Xq1atVJjfu7cuWrZsqVGjRqlGTNmPPHPO3/+vEqUKJH6dalSpVSkSJF/\n",
              "/L4ZM2Zo3LhxatKkiebNm/e3x7Vo0ULnzp175D3pvX3nz59XkSJFZGf3+2MITk5OqlKlykO/x2q1\n",
              "qlevXmrRosUDzyxIr0GDBmnr1q2KiIh47Ovo3bu3fv75Z0nSmjVr5OPjk+b/fwAAshoxDwBAOlWv\n",
              "Xl2NGjWSl5eXunXrpkmTJikmJib18hkzZqhfv37q2LGjTpw4oWPHjj3S9U6aNCnNU8g3b94sSXr7\n",
              "7bfVrFkztWjRQm+++ab27t37j9d1+PBhRUdHq02bNurfv/9Dozs4OFg9e/ZMc96cOXPSbPnffwxI\n",
              "7+0bOHCgFi9erEqVKmngwIH69ddflZKS8tDveeedd3Tjxg199tlnac4/duxYml1jx4596PVIkrOz\n",
              "s9555x2NGzfuH4/9O3369NFPP/0kSfrhhx/Ur1+/x74uAAAyAjEPAEA6mc1mhYSEaNu2bWrbtq22\n",
              "bt2qKlWq6OTJkzpw4IAuXryo1q1by97eXr1799YPP/zwSNc7duxY7du3L/XUuHFjSdLo0aN1+vRp\n",
              "DRgwQDdu3FDjxo0f+ki79Htwv/jii7JYLGrfvr3OnDmjI0eOpF7+RxQXK1ZM06ZN07///e8039+r\n",
              "V680W5599llJeqzbV6VKFZ06dUpffvmlvLy89M4776R5Ov2fLVq0SDNmzFBISIgcHBzSXPbH0+z/\n",
              "OE2aNOmhP/sPffv2VUxMjFavXp3m/D+eTfFnfz6/ZMmSKlmypJYsWaI9e/aoVatWj/RzAQDILLxm\n",
              "HgCAx+Tt7S1vb28NHjxYbdu2VVhYmKKionT79m2VKVNG0u9v/ma1WvXBBx+kPs38cRQtWlTPPfec\n",
              "nnvuOXl5eWnOnDmpgf1nSUlJmjVrluzt7fXLL79Iku7du6cZM2Zo8uTJkv5/FCclJWno0KHq1auX\n",
              "wsPD/zZu/zBjxozHun0ODg5q3ry5mjdvrgEDBsjDw0M3btx44Lhjx46pf//+WrhwoYoXL/5I/9s8\n",
              "CovFog8//FCvv/66mjZtmnp+4cKFdf369TTHXrt27S9fxvDSSy/ppZde0pAhQ2Q283gIAMBY/E0E\n",
              "AEA6xcTEaOvWralf37x5U2fOnFHZsmU1e/Zsbd++XWfPntXZs2cVExMjT09PLV269LF/3oIFC5SU\n",
              "lCRJSk5O1v79+1W2bNm/PT4sLExlypRRTExM6o7t27dr1qxZqdfzB3t7e02bNk3nz5//x3dmT0xM\n",
              "fKzbt2nTJl28eDH16z179qhAgQKp72L/h9u3b6tbt25677331KhRo4dueRxdu3aVo6OjQkNDU8+r\n",
              "X7++jh07lvqmegkJCZoxY4Zat279l98/ZswYDRkyJMO3AQCQXjwyDwBAOiUnJ2v8+PE6c+aMXFxc\n",
              "lJycrD59+ighIUFeXl7y9vZOc3yvXr00Y8aM1I83a9Omjezt7VMv/+Nj4SZNmqQff/wxzfeNHTtW\n",
              "oaGhev311+Xo6KiUlBTVq1dP77333t/umzFjhnr16pXmvEqVKqlEiRJavHjxA2/c5uLiog8++EDv\n",
              "vvtu6se0zZkzRxs2bEg9plmzZvL19X2k2/dnUVFRGjlypOLj4+Xg4KC8efNq0aJFDzy6/eWXX+rY\n",
              "sWP6/vvv9f3336e5bNmyZZL+/8sD/uDq6pr63gKPYsKECWrSpEnq1wULFtRvv/2moUOH6t69e7Ja\n",
              "rWrbtq2GDx/+wPc6Ojo+0evuAQDISCabzWYzegQAAAAAAHh0PM0eAAAAAIAchqfZAwCQQw0ZMiT1\n",
              "Kfr/Kzw8XM7Ozlm65cqVK3/5OvNWrVo98jvOP67p06friy++eOD8zz//PPUTAQAAeNrwNHsAAAAA\n",
              "AHIYnmYPAAAAAEAOQ8wDAAAAAJDDEPMAAAAAAOQwxDwAAAAAADkMMQ8AAAAAQA5DzAMAAAAAkMMQ\n",
              "8wAAAAAA5DD/D6WRkkqb2qiFAAAAAElFTkSuQmCC\n",
              "\">\n",
              "      </div>\n",
              "      <script type=\"text/javascript\">\n",
              "        (() => {\n",
              "          const chartElement = document.getElementById(\"chart-fad20c5e-e63d-4173-ac5f-50573ccdcb35\");\n",
              "          async function getCodeForChartHandler(event) {\n",
              "            const chartCodeResponse =  await google.colab.kernel.invokeFunction(\n",
              "                'getCodeForChart', [\"chart-fad20c5e-e63d-4173-ac5f-50573ccdcb35\"], {});\n",
              "            const responseJson = chartCodeResponse.data['application/json'];\n",
              "            await google.colab.notebook.addCell(responseJson.code, 'code');\n",
              "          }\n",
              "          chartElement.onclick = getCodeForChartHandler;\n",
              "        })();\n",
              "      </script>\n",
              "      <style>\n",
              "        .colab-quickchart-chart-with-code  {\n",
              "            display: block;\n",
              "            float: left;\n",
              "            border: 1px solid transparent;\n",
              "        }\n",
              "\n",
              "        .colab-quickchart-chart-with-code:hover {\n",
              "            cursor: pointer;\n",
              "            border: 1px solid #aaa;\n",
              "        }\n",
              "      </style>"
            ]
          },
          "metadata": {}
        },
        {
          "output_type": "display_data",
          "data": {
            "text/plain": [
              "from matplotlib import pyplot as plt\n",
              "import seaborn as sns\n",
              "def _plot_series(series, series_name, series_index=0):\n",
              "  palette = list(sns.palettes.mpl_palette('Dark2'))\n",
              "  counted = (series['SALES_AREA_SIZE_NUM']\n",
              "                .value_counts()\n",
              "              .reset_index(name='counts')\n",
              "              .rename({'index': 'SALES_AREA_SIZE_NUM'}, axis=1)\n",
              "              .sort_values('SALES_AREA_SIZE_NUM', ascending=True))\n",
              "  xs = counted['SALES_AREA_SIZE_NUM']\n",
              "  ys = counted['counts']\n",
              "  plt.plot(xs, ys, label=series_name, color=palette[series_index % len(palette)])\n",
              "\n",
              "fig, ax = plt.subplots(figsize=(10, 5.2), layout='constrained')\n",
              "df_sorted = _df_4.sort_values('SALES_AREA_SIZE_NUM', ascending=True)\n",
              "_plot_series(df_sorted, '')\n",
              "sns.despine(fig=fig, ax=ax)\n",
              "plt.xlabel('SALES_AREA_SIZE_NUM')\n",
              "_ = plt.ylabel('count()')"
            ],
            "text/html": [
              "      <div class=\"colab-quickchart-chart-with-code\" id=\"chart-7bc3c8ce-fd60-47ce-9ae8-f5c5b9cf0b67\">\n",
              "        <img style=\"width: 180px;\" src=\"data:image/png;base64,iVBORw0KGgoAAAANSUhEUgAAA/MAAAITCAYAAABLz0yVAAAAOnRFWHRTb2Z0d2FyZQBNYXRwbG90\n",
              "bGliIHZlcnNpb24zLjEwLjAsIGh0dHBzOi8vbWF0cGxvdGxpYi5vcmcvlHJYcgAAAAlwSFlzAAAP\n",
              "YQAAD2EBqD+naQAAKTFJREFUeJzt3X+U1nWd///HBcjkj0Tb+JU4sICIgIoiVGrirwLbxJDa7OAm\n",
              "CQgnO1qsP3JbvqIdtbIsslqrnSy1KANSsvaPrbYiyEMKWIm/QHAAQdZNwSxwYK7vH36cbeKHMzrD\n",
              "8GJvt3Ouc7yu92ve83zr+1x1n+s976lUq9VqAAAAgGJ06ugBAAAAgNYR8wAAAFAYMQ8AAACFEfMA\n",
              "AABQGDEPAAAAhRHzAAAAUBgxDwAAAIUR8wAAAFCY/T7mZ8+e3dEjAAAAQJva72P+qaee6ugRAAAA\n",
              "oE3t9zEPAAAA+xsxDwAAAIUR8wAAAFAYMQ8AAACFEfMAAABQGDEPAAAAhRHzAAAAUBgxDwAAAIUR\n",
              "8wAAAFAYMQ8AAACFEfMAAABQGDEPAAAAhRHzAAAAUBgxDwAAAIUR8wAAAFAYMQ8AAACFEfMAAABQ\n",
              "GDEPAAAAhRHzAAAAUBgxDwAAAIUR8wAAAFAYMQ8AAACFEfMAAABQGDEPAAAAhRHzAAAAUBgxDwAA\n",
              "AIUR8wAAAFAYMQ8AAACFEfMAAABQGDEPAAAAhRHzAAAAUBgxDwAAAIUR8wAAAFAYMQ8AAACFEfMA\n",
              "AABQGDEPAAAAhRHzAAAAUBgxDwAAAIUR8wAAAFAYMQ8AAACFEfMAAABQGDEPAAAAhRHzAAAAUBgx\n",
              "DwAAAIUR8wAAAFAYMQ8AAACFEfMAAABQGDEPAAAAhRHzAAAAUBgxDwAAAIUR8wAAAFAYMQ8AAACF\n",
              "EfMAAABQGDEPAAAAhRHzAAAAUBgxDwAAAIUR8wAAAFAYMQ8AAACFEfMAAABQGDEPAAAAhWnXmL/s\n",
              "ssvSr1+/VCqVLF++fLfr6urqctRRR2XAgAGZOnVqGhoamm2vVqs588wzc9hhh7XnuAAAAFCEdo35\n",
              "973vffn1r3+dvn377nbN6tWrM3PmzCxcuDArV67MM888k69//evN1nzhC1/IgAED2nNUAAAAKEa7\n",
              "xvxpp52WPn367HHN3LlzM27cuPTq1SuVSiXTp0/PnDlzmrY//PDDueeee/KJT3yiPUcFAACAYnTp\n",
              "6AHq6+ubfXLfr1+/1NfXJ0kaGhoyderU1NXVpXPnzq+6r23btmXbtm3NXtuxY0fbDgwAAAAdbJ++\n",
              "Ad51112X888/P8ccc0yL1t90003p1q1bs8eSJUvaeUoAAADYuzo85mtra/PUU081PV+zZk1qa2uT\n",
              "JL/85S9z6623pl+/fjn11FOzZcuW9OvXL//93/+9y31dc8012bx5c7PHqFGj9spxAAAAwN7S4ZfZ\n",
              "T5gwIaeeempmzZqVnj175rbbbssFF1yQJFm4cGHTujVr1mT48OFZs2bNbvdVU1OTmpqaZq+15PJ8\n",
              "AAAAKEm7fjI/bdq09OnTJ+vWrcuYMWMycODAJMmUKVOyYMGCJEn//v1z3XXX5ZRTTsnAgQPTvXv3\n",
              "TJs2rT3HAgAAgKJVqtVqtaOHaE8zZszILbfc0tFjAAAAQJvp8N+ZBwAAAFpHzAMAAEBhxDwAAAAU\n",
              "RswDAABAYcQ8AAAAFEbMAwAAQGHEPAAAABRGzAMAAEBhxDwAAAAURswDAABAYcQ8AAAAFEbMAwAA\n",
              "QGHEPAAAABRGzAMAAEBhxDwAAAAURswDAABAYcQ8AAAAFEbMAwAAQGHEPAAAABRGzAMAAEBhxDwA\n",
              "AAAURswDAABAYcQ8AAAAFEbMAwAAQGHEPAAAABRGzAMAAEBhxDwAAAAURswDAABAYcQ8AAAAFEbM\n",
              "AwAAQGHEPAAAABRGzAMAAEBhxDwAAAAURswDAABAYcQ8AAAAFEbMAwAAQGHEPAAAABRGzAMAAEBh\n",
              "xDwAAAAURswDAABAYcQ8AAAAFEbMAwAAQGHEPAAAABRGzAMAAEBhxDwAAAAURswDAABAYcQ8AAAA\n",
              "FEbMAwAAQGHEPAAAABRGzAMAAEBhxDwAAAAURswDAABAYcQ8AAAAFEbMAwAAQGHEPAAAABRGzAMA\n",
              "AEBhxDwAAAAURswDAABAYcQ8AAAAFEbMAwAAQGHEPAAAABRGzAMAAEBhxDwAAAAURswDAABAYcQ8\n",
              "AAAAFEbMAwAAQGHEPAAAABRGzAMAAEBhxDwAAAAURswDAABAYcQ8AAAAFEbMAwAAQGHEPAAAABRG\n",
              "zAMAAEBhxDwAAAAURswDAABAYcQ8AAAAFEbMAwAAQGHEPAAAABSmXWP+sssuS79+/VKpVLJ8+fLd\n",
              "rqurq8tRRx2VAQMGZOrUqWloaEiS/PznP8+oUaMyZMiQDB06NFdddVUaGxvbc2QAAADY57VrzL/v\n",
              "fe/Lr3/96/Tt23e3a1avXp2ZM2dm4cKFWblyZZ555pl8/etfT5Icfvjh+d73vpcVK1bkwQcfzOLF\n",
              "i3PHHXe058gAAACwz2vXmD/ttNPSp0+fPa6ZO3duxo0bl169eqVSqWT69OmZM2dOkuSEE05I//79\n",
              "kyRveMMbMnz48KxZs2a3+9q2bVu2bNnS7LFjx442Ox4AAADYF3T478zX19c3++S+X79+qa+v32nd\n",
              "xo0bM3fu3LznPe/Z7b5uuummdOvWrdljyZIl7TI3AAAAdJQOj/mW2LJlS84999xcddVVOemkk3a7\n",
              "7pprrsnmzZubPUaNGrUXJwUAAID216WjB6itrc2qVauanq9Zsya1tbVNz1944YWMHTs25513XmbM\n",
              "mLHHfdXU1KSmpqbZa507d27bgQEAAKCDdfgn8xMmTMiCBQuycePGVKvV3HbbbbnggguSJH/6058y\n",
              "duzYjB07Nv/6r//awZMCAADAvqFdY37atGnp06dP1q1blzFjxmTgwIFJkilTpmTBggVJkv79++e6\n",
              "667LKaeckoEDB6Z79+6ZNm1akmT27NlZsmRJ5s+fn+HDh2f48OG54YYb2nNkAAAA2OdVqtVqtaOH\n",
              "aE8zZszILbfc0tFjAAAAQJvp8MvsAQAAgNYR8wAAAFAYMQ8AAACFEfMAAABQGDEPAAAAhRHzAAAA\n",
              "UBgxDwAAAIUR8wAAAFAYMQ8AAACFEfMAAABQGDEPAAAAhRHzAAAAUBgxDwAAAIUR8wAAAFAYMQ8A\n",
              "AACFEfMAAABQGDEPAAAAhRHzAAAAUBgxDwAAAIUR8wAAAFAYMQ8AAACFEfMAAABQGDEPAAAAhRHz\n",
              "AAAAUBgxDwAAAIUR8wAAAFAYMQ8AAACFEfMAAABQGDEPAAAAhRHzAAAAUBgxDwAAAIUR8wAAAFAY\n",
              "MQ8AAACFEfMAAABQGDEPAAAAhRHzAAAAUBgxDwAAAIUR8wAAAFAYMQ8AAACFEfMAAABQGDEPAAAA\n",
              "hRHzAAAAUBgxDwAAAIUR8wAAAFAYMQ8AAACFEfMAAABQGDEPAAAAhRHzAAAAUBgxDwAAAIUR8wAA\n",
              "AFAYMQ8AAACFEfMAAABQGDEPAAAAhRHzAAAAUBgxDwAAAIUR8wAAAFAYMQ8AAACFEfMAAABQGDEP\n",
              "AAAAhRHzAAAAUBgxDwAAAIUR8wAAAFAYMQ8AAACFEfMAAABQmC6v5YtWrFiRdevW5cADD8yxxx6b\n",
              "ww47rI3HAgAAAHanxTH/wgsv5HOf+1y+8Y1v5KCDDkrPnj2zdevWrFq1KqNGjcrVV1+ds846qz1n\n",
              "BQAAANKKmD/jjDPyoQ99KMuWLUvPnj2bXm9sbMzChQtz2223ZeXKlZk2bVq7DAoAAAC8rMUxv2jR\n",
              "otTU1Oz0eqdOnTJ69OiMHj0627Zta9PhAAAAgJ21+AZ4uwr517IGAAAAeH1aHPPvec97snjx4l1u\n",
              "e/755/P5z38+X/va19psMAAAAGDXWnyZ/Y033phrrrkmK1asyMiRI5tugPfoo49m/fr1ufTSS3Px\n",
              "xRe356wAAABAWhHzxx13XH784x9n7dq1+eUvf5l169bloIMOysSJE3PqqaemS5fX9FfuAAAAgFZq\n",
              "dYE/99xzufDCC5u99rvf/S7HHXdcmw0FAAAA7F6Lf2f+FZMmTWrRawAAAED7aPEn85s2bcrGjRvz\n",
              "l7/8Jb///e9TrVaTJJs3b86LL77YbgMCAAAAzbU45ufMmZMvfvGLefrppzNu3Lim17t165arrrqq\n",
              "XYYDAAAAdtbimL/88stz+eWX51Of+lRmzpzZnjMBAAAAe9DqG+DNnDkzjY2N2bhxY7Zv3970em1t\n",
              "bZsOBgAAAOxaq2+A9+1vfzuHHXZYjj322IwYMSIjRozISSedtMu1l112Wfr165dKpZLly5fvdp91\n",
              "dXU56qijMmDAgEydOjUNDQ0t2gYAAAD/F1Wqr9zJroUGDBiQn/zkJzn66KNfde2vfvWr9O/fP6ee\n",
              "emruueeeDB8+fKc1q1evzimnnJKlS5emZ8+eOe+88zJmzJhceumle9zWUjNmzMgtt9zSmkPc66rV\n",
              "av6y3Q8pAAAA2tOBXQ5IpVLp6DHaRKsvs3/zm9/copBPktNOO+1V18ydOzfjxo1Lr169kiTTp0/P\n",
              "jTfemEsvvXSP23Zl27Zt2bZtW7PXduzY0aJZO9Jftjdk0F3/X0ePAQAAsF97/MLrc9ABXTt6jDbR\n",
              "6svs3/ve9+aLX/xiNm3alC1btjQ9Xqv6+vr07du36Xm/fv1SX1//qtt25aabbkq3bt2aPZYsWfKa\n",
              "ZwMAAIB9Uas/mf/kJz+Z5OXL1yuVSqrVaiqVyj7xCfg111yTGTNmNHuthDvvH9jlgDx+4fUdPQYA\n",
              "AMB+7cAuB3T0CG2m1THf2NjYpgPU1tZm1apVTc/XrFnTdGf8PW3blZqamtTU1DR7rXPnzm06b3uo\n",
              "VCr7zaUeAAAAtL9WX2bf1iZMmJAFCxZk48aNqVarue2223LBBRe86jYAAAD4v6rVMd+pU6d07tx5\n",
              "p8euTJs2LX369Mm6desyZsyYDBw4MEkyZcqULFiwIEnSv3//XHfddTnllFMycODAdO/ePdOmTXvV\n",
              "bQAAAPB/Vav/NN2LL77Y9M9/+ctfcscdd2THjh258sor23y4tlDCn6YDAACA1mj1J/MHH3xw0+PN\n",
              "b35zZsyYkblz57bHbAAAAMAuvO7fmX/00Ufz7LPPtsUsAAAAQAu0+m72hx9+eCqVSpJk+/btSZJb\n",
              "b721bacCAAAAdqvVMb98+fL//eIuXdKrV68i/vwbAAAA7C9aHfN9+/bNn//856aoP/zww3PQQQe1\n",
              "9VwAAADAbrQ65hcvXpwJEyakV69eSZJnnnkm8+bNy9vf/vY2Hw4AAADYWatj/pW7159yyilJXo77\n",
              "j3/847n//vvbfDgAAABgZ62+m/1f/vKXppBPkpNPPjlbt25t06EAAACA3Wt1zB9yyCH56U9/2vT8\n",
              "Zz/7WQ4++OA2HQoAAADYvVZfZv+lL30p559/ftMd7BsbGzN//vw2HwwAAADYtVbH/NNPP50HHngg\n",
              "zzzzTJKkZ8+eWbJkSZsPBgAAAOxaqy+znzlzZrp3755hw4Zl2LBhefOb35yZM2e2x2wAAADALrQ6\n",
              "5v9WpVLJjh072mIWAAAAoAVaHfNvfOMbs3jx4qbnixYtyhvf+MY2HQoAAADYvVb/zvxnP/vZjB8/\n",
              "PoMHD06SPPHEE/nhD3/Y5oMBAAAAu9bqmH/729+eRx55JL/5zW+SvPx35g877LC2ngsAAADYjVbH\n",
              "fJIcfvjhefe7393WswAAAAAt8LpvgAcAAADsXWIeAAAACiPmAQAAoDBiHgAAAAoj5gEAAKAwYh4A\n",
              "AAAKI+YBAACgMGIeAAAACiPmAQAAoDBiHgAAAAoj5gEAAKAwYh4AAAAKI+YBAACgMGIeAAAACiPm\n",
              "AQAAoDBiHgAAAAoj5gEAAKAwYh4AAAAKI+YBAACgMGIeAAAACiPmAQAAoDBiHgAAAAoj5gEAAKAw\n",
              "Yh4AAAAKI+YBAACgMGIeAAAACiPmAQAAoDBiHgAAAAoj5gEAAKAwYh4AAAAKI+YBAACgMGIeAAAA\n",
              "CiPmAQAAoDBiHgAAAAoj5gEAAKAwYh4AAAAKI+YBAACgMGIeAAAACiPmAQAAoDBiHgAAAAoj5gEA\n",
              "AKAwYh4AAAAKI+YBAACgMGIeAAAACiPmAQAAoDBiHgAAAAoj5gEAAKAwYh4AAAAKI+YBAACgMGIe\n",
              "AAAACiPmAQAAoDBiHgAAAAoj5gEAAKAwYh4AAAAKI+YBAACgMGIeAAAACiPmAQAAoDBiHgAAAAoj\n",
              "5gEAAKAwYh4AAAAKI+YBAACgMO0a80888UROPvnkDBo0KCNHjszDDz+805rGxsZcccUVGTZsWAYP\n",
              "HpzJkyfnpZdeatr+mc98JkOGDMnw4cPztre9LUuWLGnPkQEAAGCf164xP23atFxyySV5/PHHc/XV\n",
              "V2fSpEk7ramrq8vSpUuzdOnSPPLII+nUqVNmz56dJFm+fHm++tWvZsmSJVm+fHk++tGP5qMf/Wh7\n",
              "jgwAAAD7vHaL+U2bNuWBBx7IhRdemCSZMGFC1q5dm5UrVzZb99BDD+Xss89O165dU6lUcs455+TO\n",
              "O+9MklQqlTQ0NOTFF19Mkjz//PPp06fPbr/ntm3bsmXLlmaPHTt2tNMRAgAAQMdot5hfu3Ztevfu\n",
              "nS5duiR5Ocxra2tTX1/fbN2IESOyYMGCbNmyJQ0NDbn77ruzZs2aJMnxxx+fj3/84/n7v//79OnT\n",
              "J1/4whdy66237vZ73nTTTenWrVuzh8vyAQAA2N90+A3wJk2alLFjx2b06NEZPXp0Bg0a1PQDgNWr\n",
              "V2f+/PlZuXJl1q1bl49//OP5wAc+sNt9XXPNNdm8eXOzx6hRo/bWoQAAAMBe0W4xf+SRR2bDhg3Z\n",
              "vn17kqRaraa+vj61tbXN1lUqlcyaNSvLli3L4sWLM2TIkAwdOjRJMm/evBx77LF5y1vekiT58Ic/\n",
              "nEWLFjW7Qd5fq6mpyaGHHtrs0blz5/Y6RAAAAOgQ7RbzPXr0yIknnpi77rorycth3qdPnwwcOLDZ\n",
              "uq1bt+a5555Lkjz77LP59Kc/nauuuipJ0r9//yxatCh/+tOfkiT33XdfBg0alK5du7bX2AAAALDP\n",
              "69KeO//a176WSZMm5cYbb8yhhx6a22+/PUkyZcqUjBs3LuPGjcvmzZtz+umnp1OnTmlsbMzll1+e\n",
              "c889N0kyfvz4/Pa3v81JJ52UmpqaHHzwwfnud7/bniMDAADAPq9SrVarHT1Ee5oxY0ZuueWWjh4D\n",
              "AAAA2kyH3wAPAAAAaB0xDwAAAIUR8wAAAFAYMQ8AAACFEfMAAABQGDEPAAAAhRHzAAAAUBgxDwAA\n",
              "AIUR8wAAAFAYMQ8AAACFEfMAAABQGDEPAAAAhRHzAAAAUBgxDwAAAIUR8wAAAFAYMQ8AAACFEfMA\n",
              "AABQGDEPAAAAhRHzAAAAUBgxDwAAAIUR8wAAAFAYMQ8AAACFEfMAAABQGDEPAAAAhRHzAAAAUBgx\n",
              "DwAAAIUR8wAAAFAYMQ8AAACFEfMAAABQGDEPAAAAhRHzAAAAUBgxDwAAAIUR8wAAAFAYMQ8AAACF\n",
              "EfMAAABQGDEPAAAAhRHzAAAAUBgxDwAAAIUR8wAAAFAYMQ8AAACFEfMAAABQGDEPAAAAhRHzAAAA\n",
              "UBgxDwAAAIUR8wAAAFAYMQ8AAACFEfMAAABQGDEPAAAAhRHzAAAAUBgxDwAAAIUR8wAAAFAYMQ8A\n",
              "AACFEfMAAABQGDEPAAAAhRHzAAAAUBgxDwAAAIUR8wAAAFAYMQ8AAACFEfMAAABQGDEPAAAAhRHz\n",
              "AAAAUBgxDwAAAIUR8wAAAFAYMQ8AAACFEfMAAABQGDEPAAAAhRHzAAAAUBgxDwAAAIUR8wAAAFAY\n",
              "MQ8AAACFEfMAAABQGDEPAAAAhRHzAAAAUBgxDwAAAIUR8wAAAFAYMQ8AAACFEfMAAABQGDEPAAAA\n",
              "hWnXmH/iiSdy8sknZ9CgQRk5cmQefvjhndY0NjbmiiuuyLBhwzJ48OBMnjw5L730UtP2+vr6nHvu\n",
              "uTn66KMzZMiQ3Hrrre05MgAAAOzz2jXmp02blksuuSSPP/54rr766kyaNGmnNXV1dVm6dGmWLl2a\n",
              "Rx55JJ06dcrs2bOTJNVqNePHj8+HPvShPPbYY1mxYkX+8R//sT1HBgAAgH1eu8X8pk2b8sADD+TC\n",
              "Cy9MkkyYMCFr167NypUrm6176KGHcvbZZ6dr166pVCo555xzcueddyZJfvazn6Wmpibvf//7m9b3\n",
              "7NmzvUYGAACAIrRbzK9duza9e/dOly5dkiSVSiW1tbWpr69vtm7EiBFZsGBBtmzZkoaGhtx9991Z\n",
              "s2ZNkmTFihXp3r17LrjggpxwwgkZP358nnzyyd1+z23btmXLli3NHjt27GivQwQAAIAO0eE3wJs0\n",
              "aVLGjh2b0aNHZ/To0Rk0aFDTDwC2b9+en//855k5c2aWLVuWMWPG7PEy+5tuuindunVr9liyZMne\n",
              "OhQAAADYK9ot5o888shs2LAh27dvT/Ly77/X19entra22bpKpZJZs2Zl2bJlWbx4cYYMGZKhQ4cm\n",
              "SWpra3PCCSc0Pf+nf/qnLF26NA0NDbv8ntdcc002b97c7DFq1Kj2OkQAAADoEO0W8z169MiJJ56Y\n",
              "u+66K0kyb9689OnTJwMHDmy2buvWrXnuueeSJM8++2w+/elP56qrrkqSnHPOOVm3bl3Wr1+fJPnJ\n",
              "T36SY445JgcccMAuv2dNTU0OPfTQZo/OnTu31yECAABAh+jSnjv/2te+lkmTJuXGG2/MoYcemttv\n",
              "vz1JMmXKlIwbNy7jxo3L5s2bc/rpp6dTp05pbGzM5ZdfnnPPPTdJcvDBB+e2227LP/zDP6RaraZb\n",
              "t2753ve+154jAwAAwD6vUq1Wqx09RHuaMWNGbrnllo4eAwAAANpMh98ADwAAAGgdMQ8AAACFEfMA\n",
              "AABQGDEPAAAAhRHzAAAAUBgxDwAAAIUR8wAAAFAYMQ8AAACFEfMAAABQGDEPAAAAhRHzAAAAUBgx\n",
              "DwAAAIUR8wAAAFAYMQ8AAACFEfMAAABQGDEPAAAAhRHzAAAAUBgxDwAAAIUR8wAAAFAYMQ8AAACF\n",
              "EfMAAABQGDEPAAAAhRHzAAAAUBgxDwAAAIUR8wAAAFAYMQ8AAACFEfMAAABQGDEPAAAAhRHzAAAA\n",
              "UBgxDwAAAIUR8wAAAFAYMQ8AAACFEfMAAABQGDEPAAAAhRHzAAAAUBgxDwAAAIUR8wAAAFAYMQ8A\n",
              "AACFEfMAAABQGDEPAAAAhRHzAAAAUBgxDwAAAIUR8wAAAFAYMQ8AAACFEfMAAABQGDEPAAAAhRHz\n",
              "AAAAUBgxDwAAAIUR8wAAAFAYMQ8AAACFEfMAAABQGDEPAAAAhRHzAAAAUBgxDwAAAIUR8wAAAFAY\n",
              "MQ8AAACFEfMAAABQGDEPAAAAhRHzAAAAUBgxDwAAAIWpVKvVakcP0Z7OP//89OvXr6PHgFbbsWNH\n",
              "lixZklGjRqVz584dPQ60Cec1+yPnNfsb5zT7o9LO6759++byyy/f45r9PuahVFu2bEm3bt2yefPm\n",
              "HHrooR09DrQJ5zX7I+c1+xvnNPuj/fG8dpk9AAAAFEbMAwAAQGHEPAAAABRGzMM+qqamJtdee21q\n",
              "amo6ehRoM85r9kfOa/Y3zmn2R/vjee0GeAAAAFAYn8wDAABAYcQ8AAAAFEbMAwAAQGHEPHSAJ554\n",
              "IieffHIGDRqUkSNH5uGHH95pTWNjY2bMmJEhQ4bkuOOOyxlnnJGVK1c2bb/vvvsyePDgHHXUUTn/\n",
              "/POzZcuWvXkI0MzrPafXrFmTzp07Z/jw4U2PVatW7e3DgGZael5fccUVGTZsWAYPHpzJkyfnpZde\n",
              "atruvZp9yes9p71Xsy+67LLL0q9fv1QqlSxfvny36+rq6nLUUUdlwIABmTp1ahoaGlq0bZ9WBfa6\n",
              "M844o3r77bdXq9Vq9Qc/+EH1pJNO2mnND3/4w+qoUaOqL730UrVarVY/9alPVd///vdXq9Vq9YUX\n",
              "Xqj26NGj+sgjj1Sr1Wr10ksvrV5xxRV7Z3jYhdd7Tq9evbrarVu3vTUutEhLzuuvf/3r1TPOOKO6\n",
              "bdu2amNjY3XKlCnVz372s9Vq1Xs1+57Xe057r2Zf9Mtf/rK6du3aat++favLli3b5Zonn3yy2rt3\n",
              "7+qGDRuqjY2N1XPPPbf65S9/+VW37et8Mg972aZNm/LAAw/kwgsvTJJMmDAha9eubfape5JUKpVs\n",
              "27YtW7duTbVazZYtW9KnT58kyX/8x3/khBNOyODBg5MkH/nIRzJnzpy9eyDw/7TFOQ37mpae1w89\n",
              "9FDOPvvsdO3aNZVKJeecc07uvPPOJN6r2be0xTkN+6LTTjvtVf//xNy5czNu3Lj06tUrlUol06dP\n",
              "b3o/3tO2fZ2Yh71s7dq16d27d7p06ZLk5cCpra1NfX19s3XnnntuTj/99PTq1Su9e/fOz372s1x/\n",
              "/fVJkvr6+vTt27dpbb9+/bJhw4Zs37597x0I/D9tcU4nyYsvvpiRI0fmxBNPzPXXX58dO3bs1eOA\n",
              "v9bS83rEiBFZsGBBtmzZkoaGhtx9991Zs2ZNEu/V7Fva4pxOvFdTpl29H79y7u9p275OzMM+6oEH\n",
              "Hsgf/vCHrF+/Pk8//XTOOuusTJ8+vaPHgtdsT+d07969s379+vz2t7/NT3/60yxcuDCf//znO3hi\n",
              "eHWTJk3K2LFjM3r06IwePTqDBg1qiiUo0Z7Oae/VsG8R87CXHXnkkc0+malWq6mvr09tbW2zdXfc\n",
              "cUfOPPPMHHbYYenUqVMuuuii/Nd//VeSpLa2Nk899VTT2jVr1jT7aTvsTW1xTtfU1KRHjx5Jkje9\n",
              "6U25+OKLs3Dhwr17IPBXWnpeVyqVzJo1K8uWLcvixYszZMiQDB06NIn3avYtbXFOe6+mVLt6P37l\n",
              "3N/Ttn2dmIe9rEePHjnxxBNz1113JUnmzZuXPn36ZODAgc3W9e/fPz//+c+b7iB73333ZdiwYUmS\n",
              "sWPHZunSpXn00UeTJF/96ldzwQUX7MWjgP/VFuf0pk2bmu4cu23btsyfPz8nnHDCXjwKaK6l5/XW\n",
              "rVvz3HPPJUmeffbZfPrTn85VV12VxHs1+5a2OKe9V1OqCRMmZMGCBdm4cWOq1Wpuu+22pvfjPW3b\n",
              "53Xcvffg/65HH320+ra3va161FFHVUeMGFH93e9+V61Wq9XJkydX77333mq1Wq1u3bq1OmXKlOrg\n",
              "wYOrxx57bPWd73xnddWqVU37uPfee6tHH310dcCAAdXzzjuv+vzzz3fIsUC1+vrP6Xnz5lWHDh1a\n",
              "Pe6446pDhgypfvSjH61u3bq1w44HqtWWndcbN26sDh48uDpkyJDq4MGDq//2b//WbB/eq9mXvN5z\n",
              "2ns1+6JLLrmkesQRR1Q7d+5c7dGjR3XAgAHVarX5eV2tvvyXGvr371/t379/9eKLL2766zqvtm1f\n",
              "VqlWq9WO/oECAAAA0HIuswcAAIDCiHkAAAAojJgHAACAwoh5AAAAKIyYB4DXYP78+RkxYkSGDx+e\n",
              "wYMH58wzz0xjY2PT9osuuiiHHnpoXnzxxWZf169fvyxfvnyn/U2aNClHHHFEhg8f3vS4/fbbkyS/\n",
              "//3vc+aZZ+b444/PsGHDMnLkyPzhD3941RlfeOGFHHLIIZk8eXKz13/xi1/kwAMPzPDhw3Pcccfl\n",
              "rW99a+6///6m7bNmzUr37t2bzXLDDTc028fujm9XGhoactlll2Xo0KE5/vjjM2TIkNxyyy1JXv57\n",
              "vocddliSZMGCBc2+5/Dhw3PEEUfkDW94w05zv/IYP378Hr/3pEmT0rVr1zz55JNNr11xxRWZNWtW\n",
              "kuRb3/pW3vve9+7072f48OFN81UqlZx33nnN1lx77bWpVCq55557XvX4AaA9dOnoAQCgNBs2bMgl\n",
              "l1ySBx98MH379k2SLF26NJVKJUmyZcuW/OhHP8rxxx+fH/zgB5k0aVKL9nvllVfmYx/72E6vf/CD\n",
              "H8ynPvWppnBdu3ZtampqXnV/3//+9zNixIjMnz8/s2fPziGHHNK07eijj276ocKXv/zlXHzxxVmx\n",
              "YkXT9okTJ+aLX/ziLvfb2uObPXt2nn766Tz00EPp0qVLtm7dmlWrVu20bty4cRk3blzT8+effz4j\n",
              "R47M9ddfv8u5W+qII47IJz/5ycyZM6dVX/eKbt265fHHH88zzzyTnj17prGxMXPmzMmxxx77mvYH\n",
              "AG3BJ/MA0ErPPPNMOnfunDe96U1Nr5144olNMT9nzpycffbZmTFjRurq6l7391u3bl2OOOKIpudH\n",
              "HnlkevTo8apfV1dXl6uvvjqnnXZavv/97+923VlnnZWnnnqqxfO09vjWrVuXHj16pEuXlz9DeMMb\n",
              "3pChQ4fu8WsaGxszceLEnHXWWTtdWdBal1xySRYtWpSlS5e+5n1ceOGFueOOO5IkP/3pT3PCCSc0\n",
              "++8PAHubmAeAVjruuONy6qmnpm/fvhk/fnxuvvnmrF+/vml7XV1dLr744rznPe/JE088kccee6xF\n",
              "+7355pubXUK+cOHCJMnMmTNzxhln5KyzzsonP/nJLFu27FX3tWLFiqxduzZjxozJ5MmT9xjdc+fO\n",
              "zQUXXNDste985zvNZvnrHwa09vimTp2aH/3oRznmmGMyderUfO9738uOHTv2+DXXXntt/vjHP+ZL\n",
              "X/pSs9cfe+yxZnNdeeWVe9xPkhx44IG59tprc/XVV7/q2t256KKL8u1vfztJ8s1vfjMXX3zxa94X\n",
              "ALQFMQ8ArdSpU6fMmzcvixcvztixY7No0aIMHTo0K1euzO9///ts2LAh73rXu3LAAQfkwgsvzDe/\n",
              "+c0W7ffKK6/M8uXLmx7veMc7kiT//M//nCeffDJTpkzJH//4x7zjHe/Y4yftycvB/aEPfSidO3fO\n",
              "u9/97qxevTqPPPJI0/ZXorhXr16ZPXt2/uVf/qXZ10+cOLHZLB/4wAeS5DUd39ChQ7Nq1ap85Stf\n",
              "Sd++fXPttdc2u5z+b917772pq6vLvHnz0rVr12bbXrnM/pXHzTffvMfv/YpJkyZl/fr1+c///M9m\n",
              "r79yNcXf+tvX+/Tpkz59+uS+++7Lgw8+mHe+850t+r4A0F78zjwAvEaDBw/O4MGDM23atIwdOzYL\n",
              "FixIfX19XnjhhfTv3z/Jyzd/a2xszA033NB0mflr0bNnz3zwgx/MBz/4wfTt2zff+c53mgL7bzU0\n",
              "NOTOO+/MAQcckO9+97tJkj//+c+pq6vL5z73uST/G8UNDQ35yEc+kokTJ+Y3v/nNbuP2FXV1da/p\n",
              "+Lp27ZozzzwzZ555ZqZMmZLevXvnj3/8407rHnvssUyePDn33HNP3vKWt7To301LdO7cOTfeeGM+\n",
              "8YlP5PTTT296vXv37vmf//mfZmufffbZXf4aw4c//OF8+MMfzvTp09Opk89DAOhY/pcIAFpp/fr1\n",
              "WbRoUdPz5557LqtXr86AAQNy11135f7778+aNWuyZs2arF+/PrW1tfnxj3/8mr/fD3/4wzQ0NCRJ\n",
              "tm/fnt/97ncZMGDAbtcvWLAg/fv3z/r165vmuP/++3PnnXc27ecVBxxwQGbPnp1169a96p3ZX3rp\n",
              "pdd0fL/61a+yYcOGpucPPvhg3vSmNzXdxf4VL7zwQsaPH5/rrrsup5566h5neS3e+973pqamJvPn\n",
              "z2967a1vfWsee+yxppvqbdu2LXV1dXnXu961y6+/4oorMn369DafDQBayyfzANBK27dvz/XXX5/V\n",
              "q1fnoIMOyvbt23PRRRdl27Zt6du3bwYPHtxs/cSJE1NXV9f0583GjBmTAw44oGn7K38W7uabb863\n",
              "vvWtZl935ZVXZv78+fnEJz6Rmpqa7NixI6NGjcp111232/nq6uoyceLEZq8dc8wxOeKII/KjH/1o\n",
              "pxu3HXTQQbnhhhsya9aspj/T9p3vfCe/+MUvmtacccYZefvb396i4/tb9fX1+djHPpatW7ema9eu\n",
              "OeSQQ3Lvvffu9On2V77ylTz22GP5xje+kW984xvNtv3kJz9J8r+/HvCKN77xjU33FmiJz3zmMznt\n",
              "tNOanv/d3/1d7r777nzkIx/Jn//85zQ2Nmbs2LG57LLLdvrampqa1/V79wDQlirVarXa0UMAAAAA\n",
              "LecyewAAACiMy+wBoFDTp09vukT/r/3mN7/JgQceuFdn2bRp0y5/z/yd73xni+84/1r9+7//e778\n",
              "5S/v9Pqtt97a9BcBAGB/4zJ7AAAAKIzL7AEAAKAwYh4AAAAKI+YBAACgMGIeAAAACiPmAQAAoDBi\n",
              "HgAAAAoj5gEAAKAw/z92bg+no/Q90wAAAABJRU5ErkJggg==\n",
              "\">\n",
              "      </div>\n",
              "      <script type=\"text/javascript\">\n",
              "        (() => {\n",
              "          const chartElement = document.getElementById(\"chart-7bc3c8ce-fd60-47ce-9ae8-f5c5b9cf0b67\");\n",
              "          async function getCodeForChartHandler(event) {\n",
              "            const chartCodeResponse =  await google.colab.kernel.invokeFunction(\n",
              "                'getCodeForChart', [\"chart-7bc3c8ce-fd60-47ce-9ae8-f5c5b9cf0b67\"], {});\n",
              "            const responseJson = chartCodeResponse.data['application/json'];\n",
              "            await google.colab.notebook.addCell(responseJson.code, 'code');\n",
              "          }\n",
              "          chartElement.onclick = getCodeForChartHandler;\n",
              "        })();\n",
              "      </script>\n",
              "      <style>\n",
              "        .colab-quickchart-chart-with-code  {\n",
              "            display: block;\n",
              "            float: left;\n",
              "            border: 1px solid transparent;\n",
              "        }\n",
              "\n",
              "        .colab-quickchart-chart-with-code:hover {\n",
              "            cursor: pointer;\n",
              "            border: 1px solid #aaa;\n",
              "        }\n",
              "      </style>"
            ]
          },
          "metadata": {}
        },
        {
          "output_type": "display_data",
          "data": {
            "text/plain": [
              "<google.colab._quickchart_helpers.SectionTitle at 0x7c22c0386390>"
            ],
            "text/html": [
              "<h4 class=\"colab-quickchart-section-title\">Values</h4>\n",
              "<style>\n",
              "  .colab-quickchart-section-title {\n",
              "      clear: both;\n",
              "  }\n",
              "</style>"
            ]
          },
          "metadata": {}
        },
        {
          "output_type": "display_data",
          "data": {
            "text/plain": [
              "from matplotlib import pyplot as plt\n",
              "_df_5['PARKING_SPACE_QTY'].plot(kind='line', figsize=(8, 4), title='PARKING_SPACE_QTY')\n",
              "plt.gca().spines[['top', 'right']].set_visible(False)"
            ],
            "text/html": [
              "      <div class=\"colab-quickchart-chart-with-code\" id=\"chart-35522893-b6ce-48e9-a992-72d3550c53c6\">\n",
              "        <img style=\"width: 180px;\" src=\"data:image/png;base64,iVBORw0KGgoAAAANSUhEUgAAAqIAAAFuCAYAAABaw3qhAAAAOnRFWHRTb2Z0d2FyZQBNYXRwbG90\n",
              "bGliIHZlcnNpb24zLjEwLjAsIGh0dHBzOi8vbWF0cGxvdGxpYi5vcmcvlHJYcgAAAAlwSFlzAAAP\n",
              "YQAAD2EBqD+naQAAS71JREFUeJzt3XdclQX///HX4bBUBFRUQARDUNw4MAfIUEstx52ZlpqUpqaW\n",
              "W6q7YdMwNW04KkdqubJypaUyBFNRcS9cCO6JiAMZ5/cHxe/mq6bkOIz38/G4/uCan4tzP+77dV/n\n",
              "HDSYTCYTIiIiIiKPmIW5BxARERGR4kkhKiIiIiJmoRAVEREREbNQiIqIiIiIWShERURERMQsFKIi\n",
              "IiIiYhYKURERERExC4WoiIiIiJiFQlREREREzEIhKiIiIiJmoRAVEREREbNQiIrIIxUUFIS1tTV2\n",
              "dnbY29tTu3Ztpk+fnrs9MjISg8FAt27dbjl29OjRGI1G7OzsKF26NB4eHgwdOpT09PTcfWbNmoWb\n",
              "m1ue4xYuXIidnR1Tp07NneHtt9/O3V6lShWMRiPbt2/Pc5y/vz+jR4/Osy42NpaOHTtSoUIF7Ozs\n",
              "cHd35+mnn2bJkiX3dP9Hjx7l+eefx9XVFTs7O1xdXWnXrh2nTp0CICoqCoPBgJ2dHXZ2djg7O9O1\n",
              "a1eSk5PznCcwMBCDwcC+fftuuUZmZiYTJkygfv362NnZ4eTkRMOGDZkwYQI3b97MvWdbW9vc6/y9\n",
              "bNiw4Z7uY+vWrXTo0IGyZctSsmRJatSowaeffkpmZiYAn3zySZ7zGgwGSpQokftz27ZtqVy5MuPG\n",
              "jctz3suXL1OlShU++eSTe5pDRAo3haiIPHKjRo0iLS2NS5cu8cYbb9CnTx+ioqIAmDx5MuXKlePn\n",
              "n3/mzJkztxzbtGlT0tLSuHLlCsuWLePHH3/k008/veO1wsPDeeWVV1i0aBH9+/e/435ly5ZlyJAh\n",
              "/zj33Llzad26NQ0aNCA+Pp4rV66wb98++vXrx+LFi+/p3tu1a0fp0qXZvXs3aWlpbNu2ja5du2Iw\n",
              "GPLsl5KSkrv9xIkT9OzZM3fbnj17WLduHeXKlWPKlCl5jsvOzqZjx45MnjyZjz/+mNOnT3Pu3Dm+\n",
              "++47Nm/enBu8AF999RVpaWl5lqZNm971HiIiIvD396dmzZrs3buXlJQUpk2bxowZM+jcuTMmk4m3\n",
              "3nor95wpKSkArFy5MnfdypUr+eGHH3j33XeJj4/PPXf//v3x8vLijTfeuKffp4gUciYRkUcoMDDQ\n",
              "9N///jfPunLlypnGjRtnOnnypMnS0tL0448/mipWrGj68MMP8+z33nvvmZo3b55nXefOnU1PPfVU\n",
              "7s8zZ840VapUyZSRkWHq27evydXV1bRt27Z/nMHDw8M0ZswYk6Ojo2nRokW565s3b2567733TCaT\n",
              "yZSWlmZydHTM/fnfOH/+vAkwbd269Y77REZGmgBTRkZG7rovv/zSZGdnl/vzgAEDTLVq1TJ98cUX\n",
              "JgcHB1NaWlruth9++MFkZWVl2rdv3z/O4uHhYfr222//1X1Uq1bN1L1791vW792712RpaWlauHBh\n",
              "nvUZGRkmwBQZGXnLMe+9956pWrVqprS0NNOsWbNM5cuXN508efJfzSUihY+eiIqI2WRmZjJnzhwu\n",
              "XryIn58f33zzDWXLluXZZ58lNDSUb775hqysrNseazKZiI+PJzo6mho1auTZlp6eTvv27dm4cSOb\n",
              "Nm3C19f3rrM4OTnx3nvvMXLkSG7cuHHL9vXr15OSkkKPHj3+1b0ClCtXjjp16tCvXz9mzpzJzp07\n",
              "yc7O/sdjjh8/zrx582jcuDEAaWlpzJkzh1deeYUePXqQnp7ODz/8kLv/ihUr8PPzw8fH51/P+U8S\n",
              "EhJISEggNDT0lm01atSgcePGLFu27J7P98477+Ds7MwLL7zA66+/zuzZs3FxcXmAE4tIQaYQFZFH\n",
              "bty4cTg6OuLs7MzEiROZOXMmzZs359tvvyU0NBQrKyteeeUVjh8/zvLly/Mcu3HjRhwdHSlRogQN\n",
              "GzakVatWt3yO88qVK0RERPDss8/e8nnRfzJw4EBsbW1v+dwiwLlz5wCoVKlS7roVK1bg6OiIg4MD\n",
              "tra2HDt27K7XiIyMpG3btkyZMoXGjRvj5OTEiBEj8nzOFXLCuEyZMjRv3hxPT09mz54N5Hw8ICMj\n",
              "gxdffJEyZcrQpUuXPG/Pnz179p7v+fXXX8fR0THP8n/nuJffw/9yc3O77Ucq7sRoNPLDDz+wdu1a\n",
              "evbsSZs2be75WBEp/BSiIvLIjRgxgpSUFM6fP8/WrVvp1asXS5Ys4eTJk/Tp0weAqlWrEhwczOTJ\n",
              "k/Mc26RJk9zPT06bNo2YmBguXbqUZx8nJyd+++03xo4dy3//+997nsvKyooJEybw6aefcvLkyTzb\n",
              "ypcvD+Q8ofzbU089RUpKClu3biU9PR2TyXTXa5QrV44PPviAuLg4Ll++zIwZM/j2228ZM2ZMnv3O\n",
              "nz/PpUuXOHbsGHPmzMkNvylTptC5c2fKlCkDwCuvvML27dtzv2RUoUKFPDP+ky+++IKUlJQ8i42N\n",
              "zT8e8/fv4cSJE7fdfvz4cSpWrHhP1/+bm5sbTk5O9/TkWkSKFoWoiBQIfwdnQEAAzs7OODs7s2nT\n",
              "JlavXs2hQ4du2d/S0pK+ffsSGBjIa6+9dsv2li1bEhERwbRp0+jfv/9d3wL/W9u2bQkMDCQsLCzP\n",
              "+mbNmuHg4JDnbfD7ZWNjQ6dOnWjVqlWeL+zcSWxsLDt37mTp0qW5v6MuXboA///399RTT7F582YO\n",
              "HDjwwOb8X9WqVcPLyyv3Ce3/OnDgAHFxcTz55JMP5doiUvQoREXE7BISEoiIiGDWrFls3749d0lI\n",
              "SMDNze2Wb4b/r/fff5/ly5ezfv36W7b5+fkRExPDihUreP7553P/dNHdTJgwgYULF7J///7cdXZ2\n",
              "dkyaNInw8HA+/PBDjh8/jslk4saNG8TGxt7Tef/+KwE7d+4kPT2drKws1q5dS2RkJC1atLjr8ZMn\n",
              "T6ZOnTokJCTk+T19/vnnLFq0iPPnz9OtWzdatWpF+/bt+f3337l69Somk4ldu3bRs2fPe/r4wL3M\n",
              "sXDhQt566y3OnDlDRkZG7p+1atq0Kc8999x9X0NEigeFqIiY3ZQpU/D29qZHjx65T/qcnZ1xdXVl\n",
              "2LBhzJo1i+vXr9/2WC8vL1588UVGjRp12+01atRg/fr17Nixg/bt23P16tW7zlO9enUGDhzIhQsX\n",
              "8qzv1asXq1atIi4uDl9fX+zs7KhevTqLFi1iyZIleHh4/ON5ra2tOX/+PF26dMHJyYly5coxePBg\n",
              "wsLCGD58+D8ee+7cORYvXkxYWFie35GzszP9+/enTJkyTJ8+HQsLC5YuXUq/fv0ICwujfPnylC9f\n",
              "npdeeomGDRvm+SLQoEGDbvk7ogsWLLjr76d169bExMSwa9cufHx8KFGiBAEBAQQGBrJixQqsrKzu\n",
              "eg4REQCD6V4+1CQiInIHmZmZdO7cmXPnzrFq1Srs7e3NPZKIFBJ6IioiIvfF0tKShQsX0rFjR2Ji\n",
              "Ysw9jogUInoiKiLyANWqVeuOn8M8ceIEDg4Oj3ii/CsK9yAihYNCVERERETMQm/Ni4iIiIhZKERF\n",
              "RERExCwKXYhOmjTJ3COIiIiIyANQ6EL0QfwxZhERERExv0IXoiIiIiJSNChERURERMQsFKIiIiIi\n",
              "YhYKURERERExC4WoiIiIiJiFQlREREREzEIhKiIiIiJmoRAVEREREbNQiIqIiIiIWeQrRF9//XWq\n",
              "VKmCwWBg+/btd9xv+vTpeHt7U7VqVV555RUyMjLuaZuIiIiIFB/5CtFnn32W2NhYPDw87rjP0aNH\n",
              "eeedd4iJieHQoUOcOXOGb7755q7bCiqTyWTuEURERESKpHyFaIsWLXBzc/vHfX766Sc6dOiAs7Mz\n",
              "BoOB/v37M2/evLtuu5309HRSU1PzLFlZWfkZ+b6cunydJyeu46etx8nMyn5k1xUREREpDh74Z0ST\n",
              "kpLyPDGtUqUKSUlJd912O2PGjMHBwSHPEhcX96BHvqOZ6xNJOJPGiEU7aDkhmoVbkslQkIqIiIg8\n",
              "EAX6y0pvvvkmly9fzrM0btz4kV1/cEtv3mzrQ7lS1hy7cI1RP+2k5fhoFmxOUpCKiIiI3KcHHqLu\n",
              "7u4cO3Ys9+fExETc3d3vuu12bGxssLe3z7MYjcYHPfIdlbKxpF9gVWLCgnmrnQ9OdtYkXbxG2OJd\n",
              "BI+LYn5cEjczFaQiIiIi/8YDD9HOnTuzdOlSTp8+jclkYurUqXTr1u2u2wqyktaW9G1RlZhRIbz9\n",
              "VA2c7Gw4fuk6b/ycE6Q/blKQioiIiORXvkK0X79+uLm5cfz4cZ588km8vLwA6NOnD0uXLgXA09OT\n",
              "999/n+bNm+Pl5UX58uXp16/fXbcVBiWsjfQJ8CRmVDDvPF2T8qVtOJFynbd+yQnSuRuPkZ756L5M\n",
              "JSIiIlKYGUyF7O8TDRs2jAkTJph7DABuZGTx46YkpkYf5uyVdABcHWx5NdiL5xq5YWP56D5GICIi\n",
              "IlLYFOgvKxV0tlZGXvZ/jHWjghndviYV7W04efkG7/y6m6DPopi9IZEbGXpCKiIiInI7CtEHwNbK\n",
              "SGjzx4geGcwHHWvhbG/Lqcs3eHfJHoI+i2LW+qMKUhEREZH/QyH6ANlaGXmxaRWiRwXxYcdauDjY\n",
              "cjr1BqOX7SXws0hmKkhFREREcilEHwIbSyM9m1YhamQQH3WqjauDLWdS03l/2V4CxkYyPVZBKiIi\n",
              "IqIQfYhsLI30aOJB1MhgPvlPHSo5luDclXQ+XL4X//BIvos5wvWbClIREREpnhSij4C1pQUvPO5O\n",
              "5IggxjxTB7cyJTifls5HK/YRMDaCb9cd4drNTHOPKSIiIvJIKUQfIWtLC55vnBOk4Z3rULlsCc6n\n",
              "3eTj3/YREB7JtOjDClIREREpNhSiZmBltKCrnzsRw4MY+2xd3MuW5MLVm4xZuR//8EimRB3marqC\n",
              "VERERIo2hagZWRkteK5RZdYOD+SzZ+viUa4kF6/eJHzVfvzDI5gcdYg0BamIiIgUUQrRAsDKaEGX\n",
              "RpVZOyyQ8V3q8ZhTKS5dy2DsqgP4h0fwdeQhrtzIMPeYIiIiIg+UQrQAsTRa0LmhG6uHtuDzrvXw\n",
              "dCpFyrUMPvv9AAFjI/kq4qCCVERERIoMhWgBZGm04D/13Vg9LJCJXX3xLJ8TpOP+SMA/PJIv1h4k\n",
              "VUEqIiIihZxCtAAzWhjoVL8Sq4cGMqmbL14V7Lh8PYMJqxPw/zSCiWsSuHxdQSoiIiKFk0K0EDBa\n",
              "GOjoW4nfh7Tgy+fr413BjtQbmUxccxD/8Ag+X60gFRERkcJHIVqIGC0MtK/nyu9DWvDVC/WpVtGO\n",
              "KzcymbT2IP6fRjDhjwOkXLtp7jFFRERE7olCtBCysDDwdF1XVg1uweTuDfBxLs2V9Ey+iDiEf3gk\n",
              "435XkIqIiEjBpxAtxCwsDLSr48JvrwcwtUdOkKalZ/JVZE6Qfvb7fi5dVZCKiIhIwaQQLQIsLAy0\n",
              "qf13kDakpos9aemZfB15GP/wCMJX7eeiglREREQKGIVoEZITpM6seN2fb3o2pJarPVdvZjElKidI\n",
              "x6zcx4W0dHOPKSIiIgIoRIskg8HAE7WcWf6aP9+92Ijaley5djOLadFH8A+PZMxv+zivIBUREREz\n",
              "U4gWYQaDgVY1K7JskD/TezWirpsD1zOymLbuCAHhkXy8Yi/nrihIRURExDwUosWAwWCgZY2KLBnY\n",
              "nJmhftSr7Mj1jCy+jTlKwNgIPly+l7NXbph7TBERESlmFKLFiMFgINinAr8OaMasl/zwrezIjYxs\n",
              "psceJSA8kg+W7eVsqoJUREREHg2FaDFkMBgIql6BXwY04/uXG9PA3ZH0zGxmrD9KwNhIRi/dwxkF\n",
              "qYiIiDxkCtFizGAwEFitPItfbcac3o1p5FGG9MxsZv2ZSMDYSN5bspvTlxWkIiIi8nBYmnsAMT+D\n",
              "wUCAd3n8vZz48/AFJq5JYHPiJb7fcIx5ccl0a1yZV4Oq4uJQwtyjioiISBGiEJVcBoOB5l5ONKta\n",
              "jg2HLzBx7UHijl5k9oZjzI9L5jk/NwYEeeHqqCAVERGR+6cQlVsYDAaaeTnRzMspJ0jXJLDp6EXm\n",
              "bkxiweZknmtUmQHBXlRSkIqIiMh90GdE5R81rVqOBf2aMr9vE5p6liMjy8QPm5II+iySN3/exfFL\n",
              "18w9ooiIiBRSClG5J008yzGvbxMW9mtKc6+cIJ0Xl0TQZ1G8sXgnyRcVpCIiIpI/ClHJl8aPleWH\n",
              "Pk1Y1L8p/l5OZGabmL85meBxUYT9tJOkCwpSERERuTcKUflX/KqUZW6fx1n8alMCvHOCdMGWZILH\n",
              "RzFy0Q6OXbhq7hFFRESkgFOIyn1p6FGWOb0fZ/GrzQisVp6sbBOLth4nZHw0wxfuIPG8glRERERu\n",
              "TyEqD0RDjzJ8/3JjfhnQjKDqOUG6OP44IeOjGLZwO0cVpCIiIvJ/KETlgarvXoZZLzXm14HNCfGp\n",
              "QLYJfo4/QcvxUQxdsJ3D59LMPaKIiIgUEApReSh8KzsyI9SPpYOa06pGTpD+su0ErSdEM3j+Ng6d\n",
              "VZCKiIgUdwpReajqujnyXS8/lg3yp1WNimSbYMn2k7T+PJrX523j0Nkr5h5RREREzEQhKo9EHTcH\n",
              "vuvViOWv+fNEzYqYTLB0x0laf76OQT/Gk3BGQSoiIlLcKETlkapdyYFvXmzEitf9aVPLGZMJlu88\n",
              "xZMT1zHwh3gOnFaQioiIFBcKUTGLWq4OTO3ZkJWDA2hbOydIV+zKCdIBP2xl/+lUc48oIiIiD5lC\n",
              "VMyqhos9U3o0ZNWQAJ6q44LBAL/tOk2biTH0n7OVvScVpCIiIkWVQlQKBB9ne77u3oDfh7Tg6bo5\n",
              "Qbpqz2nafRFD39lb2H3isrlHFBERkQdMISoFSrWKpfnqhQb8MaQF7eu5YjDAH3vP8PSXsbyiIBUR\n",
              "ESlSFKJSIHlXLM2Xz9dn9dAWdPR1xcIAq/8K0j7fb2bXcQWpiIhIYacQlQLNq0JpJnWrz+phgfyn\n",
              "fiUsDLBm31nafxXLy7M2syM5xdwjioiIyL+kEJVCoWp5Oz7v6suaYYE881eQRuw/S8ev1/PSzDi2\n",
              "K0hFREQKHYWoFCqe5e2Y0NWXtcOD6NzADaOFgcgD5+j09Xp6zYgjPumSuUcUERGRe6QQlULpMadS\n",
              "jH+uHmuHBdKlYU6QRiec45nJf9Jz+ia2Hrto7hFFRETkLhSiUqhVcSrFZ13qETE8kOca5QRpzMHz\n",
              "dJ6ygZ7TN7ElUUEqIiJSUClEpUjwKFeKsc/WI2pEEN38KmP5V5A+O3UD3b/bSNxRBamIiEhBk+8Q\n",
              "PXjwIM2aNaNatWr4+fmxZ8+eW/bJzs5mxIgR1K5dGx8fH3r37s3NmzcBSExMxGg04uvrm7scPnz4\n",
              "/u9EBKhctiSfdq5L5Iggnm/sjqWFgfWHLvDctA08/81GNh65YO4RRURE5C/5DtF+/frRt29fEhIS\n",
              "CAsLIzQ09JZ9pk+fTnx8PPHx8ezbtw8LCwsmTZqUu7106dJs3749d6latep93YTI/1W5bEnGPFOH\n",
              "qJFBvPC4O1ZGAxuOXKDbNxvp9s0GNhxWkIqIiJhbvkL07NmzbNmyhR49egDQuXNnkpOTOXToUJ79\n",
              "duzYQatWrbC2tsZgMNC2bVvmzJnz4KYWuUduZUryyX/qEDUymB5N3LE2WrDxyEWe/3Yjz03bwJ+H\n",
              "z2Mymcw9poiISLGUrxBNTk7GxcUFS0tLAAwGA+7u7iQlJeXZr2HDhixdupTU1FQyMjJYuHAhiYmJ\n",
              "uduvXr2Kn58fDRo04IMPPiArK+u210tPTyc1NTXPcqd9Rf5JJccSfNQp5wlpzyYeWBstiDt6kRe+\n",
              "3UTXaRtZf0hBKiIi8qg9lC8rhYaG0qZNGwIDAwkMDKRatWq58eri4sKJEyfYvHkza9asISYmhvHj\n",
              "x9/2PGPGjMHBwSHPEhcX9zBGlmLC1bEEH3aqTfSoIHo19cDa0oK4xIt0/24TXaZuIObgOQWpiIjI\n",
              "I2Iw5eN/dc+ePYuXlxcXL17E0tISk8mEi4sLsbGxeHl53fG4+fPn8/XXXxMTE3PLtnnz5vHjjz+y\n",
              "bNmyW7alp6eTnp6eZ90777yT5/OmIvfj9OUbTI0+zI9xSdzMzAaggbsjQ1pVI8DbCYPBYOYJRURE\n",
              "iq58PRGtUKECDRo0YO7cuQAsXrwYNze3WyL0xo0bXLqU8y/cnD9/nk8//ZRRo0YBOTGbkZEB5ITm\n",
              "zz//TP369W97PRsbG+zt7fMsRqMxf3co8g+cHWwZ3aEWMaOCeal5FWwsLYhPSuHFGXE8M+VPog6c\n",
              "1RNSERGRhyRfT0QBDhw4QGhoKBcuXMDe3p6ZM2dSp04d+vTpQ4cOHejQoQNnzpwhKCgICwsLsrOz\n",
              "GTx4MP379wfg559/5t1338VoNJKZmUlISAjjxo3Dxsbmnq4/bNgwJkyYkP87FbkHZ1NvMG3dEX7Y\n",
              "dIwbGTlPSOtVdmRIS2+CqpfXE1IREZEHKN8ham4KUXkUzl65wbfrjjBn4/8EqZsDg1t5E1y9goJU\n",
              "RETkAdC/rCRyGxVK2/Lfp2oSMyqEvi08KWFlZMfxy7w8awsdv17Pmr1n9Ja9iIjIfVKIivyD8qVt\n",
              "eKtdDWLCgukX6ElJayM7j1+mz+wttP8qlj/2nFaQioiI/EsKUZF74GRnw5ttaxAzKphXg6pSytrI\n",
              "7hOp9J2zlae+iOV3BamIiEi+KURF8qGcnQ1hbXyICQthwF9BuvdUKv3mbKXdF7Gs2n2K7GwFqYiI\n",
              "yL1QiIr8C2VLWTOqjQ+xYSEMCvbCzsaSfadS6T83nnZfxPDbLgWpiIjI3ShERe5DmVLWjHiyOrFh\n",
              "wbwe4kVpG0v2n77CgB/iaTsphhU7FaQiIiJ3ohAVeQAcS1oz7InqxIaF8HpLb0rbWnLgzBUG/hhP\n",
              "m0nrWLbjJFkKUhERkTwUoiIPkENJK4a1rkZsWAhDWuUEacKZNF6bt40nJ65jyfYTClIREZG/KERF\n",
              "HgKHElYMaZUTpENbVcPe1pJDZ9MYPH87T3werSAVERFBISryUDmUsGJwK29i3whheOtqOJSw4vC5\n",
              "qwyev53Wn0fzy7bjZGZlm3tMERERs1CIijwC9rZWvNbSm9iwYEY+WR3HklYcOXeVoQt20PrzdSze\n",
              "qiAVEZHiRyEq8giVtrViYLAXsWEhjHyyOmVKWnH0/FWGL9pBqwnR/KQgFRGRYkQhKmIGdjaWDAz2\n",
              "IiYshLA2PpQtZU3ihWuMWLSDlhOiWbglmQwFqYiIFHEKUREzsrOx5NWgqsSMCubNtj6UK2XNsQvX\n",
              "GPXTTkLGR7Fgc5KCVEREiiyFqEgBUMrGkn6BVYkJC+atdj442VmTfPE6YYt3ETwuivlxSdzMVJCK\n",
              "iEjRohAVKUBKWlvSt0VVYkaF8PZTNXCys+H4peu88XNOkP64SUEqIiJFh0JUpAAqYW2kT4AnMaOC\n",
              "eefpmpQvbcOJlOu89UtOkM7deIz0zCxzjykiInJfFKIiBVgJayO9/R8jZlQw7z5dkwp/Benbv+4m\n",
              "+LMo5ihIRUSkEFOIihQCtlZGXvZ/jHWjghndviYV7W04efkG7/y6m6DPopi9IZEbGQpSEREpXBSi\n",
              "IoWIrZWR0OaPET0ymA861sLZ3pZTl2/w7pI9BH0Wxaz1RxWkIiJSaChERQohWysjLzatQvSoID7s\n",
              "WAsXB1tOp95g9LK9BH4WyUwFqYiIFAIKUZFCzMbSSM+mVYgaGcRHnWrj6mDLmdR03l+2l4CxkUyP\n",
              "VZCKiEjBpRAVKQJsLI30aOJB1MhgPvlPHSo5luDclXQ+XL4X//BIvos5wvWbClIRESlYFKIiRYi1\n",
              "pQUvPO5O5IggxjxTB7cyJTifls5HK/YRMDaCb9cd4drNTHOPKSIiAihERYoka0sLnm+cE6ThnetQ\n",
              "uWwJzqfd5OPf9hEQHsm06MMKUhERMTuFqEgRZmW0oKufOxHDgxj7bF3cy5bkwtWbjFm5H//wSKZE\n",
              "HeZquoJURETMQyEqUgxYGS14rlFl1g4P5LNn6+JRriQXr94kfNV+/MMjmBx1iDQFqYiIPGIKUZFi\n",
              "xMpoQZdGlVk7LJDxXerxmFMpLl3LYOyqA/iHR/B15CGu3Mgw95giIlJMKERFiiFLowWdG7qxemgL\n",
              "Pu9aD0+nUqRcy+Cz3w8QMDaSL9ceVJCKiMhDpxAVKcYsjRb8p74bq4cFMrGrL57lc4J0/OoE/MMj\n",
              "+WLtQVIVpCIi8pAoREUEo4WBTvUrsXpoIJO6+eJVwY7L1zOYsDoB/08jmLgmgcvXFaQiIvJgKURF\n",
              "JJfRwkBH30r8PqQFXz5fH+8KdqTeyGTimoP4h0fw+eoELl9TkIqIyIOhEBWRWxgtDLSv58rvQ1rw\n",
              "1Qv1qVbRjis3Mpm0NidIJ/xxgJRrN809poiIFHIKURG5IwsLA0/XdWXV4BZM7t4AH+fSXEnP5IuI\n",
              "Q/iHRzLudwWpiIj8ewpREbkrCwsD7eq48NvrAUztkROkaemZfBWZE6Sf/b6fS1cVpCIikj8KURG5\n",
              "ZxYWBtrU/jtIG1LTxZ609Ey+jjyMf3gE4av2c1FBKiIi90ghKiL5lhOkzqx43Z9vejaklqs9V29m\n",
              "MSUqJ0jHrNzHhbR0c48pIiIFnEJURP41g8HAE7WcWf6aP9++2Ijaley5djOLadFH8A+PZMxv+ziv\n",
              "IBURkTtQiIrIfTMYDLSuWZFlg/yZ3qsRdd0cuJ6RxbR1RwgIj+TjFXs5d0VBKiIieSlEReSBMRgM\n",
              "tKxRkSUDmzMz1I96fwXptzFHCRgbwYfL93L2yg1zjykiIgWEQlREHjiDwUCwTwV+HdicmS/54VvZ\n",
              "kRsZ2UyPPUpAeCQfLNvL2VQFqYhIcacQFZGHxmAwEFy9Ar8MaMb3Lzemgbsj6ZnZzFh/lICxkYxe\n",
              "uoczClIRkWJLISoiD53BYCCwWnkWv9qMOb0b09CjDOmZ2cz6M5GAsZG8t2Q3py8rSEVEihtLcw8g\n",
              "IsWHwWAgwLs8/l5OrD90gUlrE9iceInvNxxjXlwy3RpX5tWgqrg4lDD3qCIi8ggoREXkkTMYDPh7\n",
              "O9HcqxwbDl9g4tqDxB29yOwNx5gfl8xzfm4MCPLC1VFBKiJSlClERcRsDAYDzbycaObllBOkaxLY\n",
              "dPQiczcmsWBzMs81qsyAYC8qKUhFRIokfUZURAqEplXLsaBfU+b3bUJTz3JkZJn4YVMSQZ9F8ubP\n",
              "u0i+eM3cI4qIyAOmEBWRAqWJZznm9W3Cwn5Nae6VE6Tz4pIIHhfFG4t3KkhFRIoQhaiIFEiNHyvL\n",
              "D32asKh/U/y9nMjMNjF/czLB46II+2knSRcUpCIihZ1CVEQKNL8qZZnb53EWv9qUAO+cIF2wJZng\n",
              "8VGMXLSDYxeumntEERH5lxSiIlIoNPQoy5zej7P41WYEVitPVraJRVuPEzI+muELd5B4XkEqIlLY\n",
              "5DtEDx48SLNmzahWrRp+fn7s2bPnln2ys7MZMWIEtWvXxsfHh969e3Pz5s3c7cuXL8fHxwdvb2+e\n",
              "eeYZUlNT7+8uRKTYaOhRhu9fbswvA5oRVD0nSBfHHydkfBTDFm7nqIJURKTQyHeI9uvXj759+5KQ\n",
              "kEBYWBihoaG37DN9+nTi4+OJj49n3759WFhYMGnSJADS0tLo3bs3v/76KwcPHsTV1ZUPP/zwvm9E\n",
              "RIqX+u5lmPVSY34d2JwQnwpkm+Dn+BO0HB/F0AXbOXwuzdwjiojIXeQrRM+ePcuWLVvo0aMHAJ07\n",
              "dyY5OZlDhw7l2W/Hjh20atUKa2trDAYDbdu2Zc6cOQCsXLmS+vXr4+PjA8CAAQOYN2/eba+Xnp5O\n",
              "ampqniUrKyvfNykiRZdvZUdmhPqxdFBzWtXICdJftp2g9YRoBs/fxqGzClIRkYIqXyGanJyMi4sL\n",
              "lpY5fwffYDDg7u5OUlJSnv0aNmzI0qVLSU1NJSMjg4ULF5KYmAhAUlISHh4euftWqVKFU6dOkZmZ\n",
              "ecv1xowZg4ODQ54lLi4uv/coIsVAXTdHvuvlx7JB/rSqUZFsEyzZfpLWn0fz+rxtHDp7xdwjiojI\n",
              "//FQvqwUGhpKmzZtCAwMJDAwkGrVquXGa368+eabXL58Oc/SuHHjhzCxiBQVddwc+K5XI5a/5s8T\n",
              "NStiMsHSHSdp/fk6Bv0YT8IZBamISEGRrxCtXLlynqeXJpOJpKQk3N3d8+xnMBgYPXo027Zt488/\n",
              "/6RmzZrUqlULAHd3d44dO5a7b2JiYp6nrP/LxsYGe3v7PIvRaMz3TYpI8VO7kgPfvNiIFa/706aW\n",
              "MyYTLN95iicnrmPgD/EcOK0gFRExt3yFaIUKFWjQoAFz584FYPHixbi5ueHl5ZVnvxs3bnDp0iUA\n",
              "zp8/z6effsqoUaMAaNOmDfHx8ezfvx+AyZMn061bt/u+ERGR26nl6sDUng1ZOTiAtrVzgnTFrpwg\n",
              "HfDDVvaf1l/tEBExF4PJZDLl54ADBw4QGhrKhQsXsLe3Z+bMmdSpU4c+ffrQoUMHOnTowJkzZwgK\n",
              "CsLCwoLs7GwGDx5M//79c8+xdOlSRo0aRWZmJrVr1+b777/HwcHhnq4/bNgwJkyYkL+7FBH5y/7T\n",
              "qXy59hC/7T7F3//t16aWM6+39Kamq715hxMRKWbyHaLmphAVkQch4cwVvlh7kBW7/n+QPlGzIq+3\n",
              "9KZ2pXv7P8YiInJ/9C8riUixVK1iab56oQF/DGlB+3quGAzwx94zPP1lLK/M3sLuE5fNPaKISJGn\n",
              "EBWRYs27Ymm+fL4+q4e2oKNvTpCu/itI+3y/mV3HFaQiIg+LQlREBPCqUJpJ3eqzemggnXxdsTDA\n",
              "mn1naf9VLC/P2syO5BRzjygiUuQoREVE/odXBTsmdqvPmmGBPFO/EhYGiNh/lo5fr+elmXFsV5CK\n",
              "iDwwClERkdvwLG/HhK6+rB0eROcGbhgtDEQeOEenr9fTa0Yc8UmXzD2iiEihpxAVEfkHjzmVYvxz\n",
              "9Vg7LJBnG+YEaXTCOZ6Z/Cc9p29i67GL5h5RRKTQUoiKiNyDKk6lGNelHhHDA3muUU6Qxhw8T+cp\n",
              "G+g5fRNbEhWkIiL5pRAVEckHj3KlGPtsPaJGBNHNrzKWfwXps1M30P27jcQdVZCKiNwrhaiIyL9Q\n",
              "uWxJPu1cl8gRQTzfOCdI1x+6wHPTNvD8NxvZeOSCuUcUESnwFKIiIvehctmSjHmmLlEjg3jhcXes\n",
              "jAY2HLlAt2820u2bDWw4rCAVEbkThaiIyAPgVqYkn/ynDlEjg+nRJCdINx65yPPfbuS5aRv489B5\n",
              "Ctm/qCwi8tApREVEHqBKjiX4qFMdokcG07OJB9ZGC+KOXuSF7zbx3LQNrFeQiojkUoiKiDwEro4l\n",
              "+LBTbaJHBdGrqQfWlhZsTrxE9+820WXqBmIOnlOQikixpxAVEXmIXBxK8H7H2qwbGUxosypYW1qw\n",
              "5dglek6Po/OUP4lOUJCKSPGlEBUReQScHWwZ3aEWMaOCeal5FWwsLYhPSqHXjDj+M/lPog6cVZCK\n",
              "SLGjEBUReYQq2tvyXvucIO3t/xi2VhZsT04hdOZmOk3+k8j9ClIRKT4UoiIiZlDB3pZ3nq7JulHB\n",
              "9PkrSHckp/DSrM10+no9a/edUZCKSJGnEBURMaMKpW15++maxIwKoW8LT0pYGdlx/DK9v99Ch6/W\n",
              "s2avglREii6FqIhIAVC+tA1vtatBTFgw/QI9KWltZNeJy/SZvYX2X8Xyx57TClIRKXIUoiIiBYiT\n",
              "nQ1vtq1BzKhg+gdWpaS1kd0nUuk7ZytPfRHLqt2nyc5WkIpI0aAQFREpgMrZ2fBGWx9iw0IYEFSV\n",
              "UtZG9p5Kpf/crbT7IoZVu08pSEWk0FOIiogUYGVLWTOqTU6QDgr2ws7Gkv2nr9B/bjztvojht10K\n",
              "UhEpvBSiIiKFQJlS1ox4sjqxYcG8FuJF6b+CdMAP8bSdFMOKnQpSESl8FKIiIoWIY0lrhj9Rndiw\n",
              "EF5v6U1pW0sOnLnCwB/jaTNpHct2nCRLQSoihYRCVESkEHIoacWw1tWIDQthSKucIE04k8Zr87bx\n",
              "5MR1LNl+QkEqIgWeQlREpBBzKGHFkFY5QTq0VTXsbS05dDaNwfO388Tn0QpSESnQFKIiIkWAQwkr\n",
              "BrfyJvaNEIa3roZDCSsOn7vK4Pnbaf15NL9sO05mVra5xxQRyUMhKiJShNjbWvFaS29iw4IZ+WR1\n",
              "HEtaceTcVYYu2EHrz9exeKuCVEQKDoWoiEgRVNrWioHBXsSGhTDyyeqUKWnF0fNXGb5oB60mRPOT\n",
              "glRECgCFqIhIEWZnY8nAYC9iwkIIa+ND2VLWJF64xohFO2g5IZqFW5LJUJCKiJkoREVEigE7G0te\n",
              "DapKzKhg3mjrQ7lS1hy7cI1RP+0kZHwUCzYnKUhF5JFTiIqIFCOlbCzpH1iVmLBg3mrng5OdNckX\n",
              "rxO2eBfB46KYH5fEzUwFqYg8GgpREZFiqKS1JX1bVCVmVAhvP1UDJzsbjl+6zhs/5wTpj5sUpCLy\n",
              "8ClERUSKsRLWRvoEeBIzKpi3n6pB+dI2nEi5zlu/5ATp3I3HSM/MMveYIlJEKURFRCRPkL77dE0q\n",
              "/BWkb/+6m+DPopijIBWRh0AhKiIiuWytjLzs/xjrRgUzun1NKtrbcPLyDd75dTdBn0Uxe0MiNzIU\n",
              "pCLyYChERUTkFrZWRkKbP0b0yGDe71ALZ3tbTl2+wbtL9hD4WSSz1h9VkIrIfVOIiojIHdlaGenV\n",
              "rArRo4L4sGMtXBxsOZOazuhlewn8LJKZClIRuQ8KURERuSsbSyM9m1YhamQQH3WqjetfQfr+sr0E\n",
              "jI1keqyCVETyTyEqIiL3zMbSSI8mHkSODOLj/9SmkmMJzl1J58Ple/EPj+S7mCNcv6kgFZF7oxAV\n",
              "EZF8s7E00v1xDyJHBDHmmTq4lSnB+bR0Plqxj4CxEXy77gjXbmaae0wRKeAUoiIi8q9ZW1rwfGN3\n",
              "IkcEEd757yC9yce/7SMgPJJp0YcVpCJyRwpRERG5b1ZGC7r65QTp2M51cS9bkgtXbzJm5X78wyOZ\n",
              "EnWYq+kKUhHJSyEqIiIPjJXRguf8KrN2eCCfPVsXj3IluXj1JuGr9uMfHsHkqEOkKUhF5C8KURER\n",
              "eeCsjBZ0aVSZtcMCGd+lHlXKleTStQzGrjqAf3gEX0ce4sqNDHOPKSJmphAVEZGHxtJoQeeGbqwZ\n",
              "FsiE5+rh6VSKlGsZfPb7AfzDI/ly7UEFqUgxphAVEZGHztJowTMN3Fg9LJCJXX3xLF+Ky9czGL86\n",
              "Af/wSL5Ye5BUBalIsaMQFRGRR8ZoYaBT/UqsHhrIpG6+VP0rSCesTsD/0wgmrkng8nUFqUhxoRAV\n",
              "EZFHzmhhoKNvJf4YGsgXz9fHu4IdqTcymbjmIP7hEUxYncDlawpSkaJOISoiImZjtDDQoZ4rvw9p\n",
              "wVcv1KdaRTuu3Mjki7V/BekfB0i5dtPcY4rIQ5LvED148CDNmjWjWrVq+Pn5sWfPnlv2yc7OZtiw\n",
              "YdSsWZO6desSHBzMoUOHAEhMTMRoNOLr65u7HD58+P7vRERECi0LCwNP13Vl1eAWTO7egOoVS3Ml\n",
              "PZMvIg7hHx7JuN8PcOmqglSkqMl3iPbr14++ffuSkJBAWFgYoaGht+yzdOlS1q9fz44dO9i5cyct\n",
              "W7bkrbfeyt1eunRptm/fnrtUrVr1vm5CRESKBgsLA+3quLBycABTujfAx7k0aemZfBV5CP/wCMau\n",
              "2s9FBalIkZGvED179ixbtmyhR48eAHTu3Jnk5OTcp51/MxgMpKenc+PGDUwmE6mpqbi5ueV7uPT0\n",
              "dFJTU/MsWVlZ+T6PiIgULhYWBtrWceG31wOY2qMhNV3suXozi8lRhwkIjyBcQSpSJOQrRJOTk3Fx\n",
              "ccHS0hLICU53d3eSkpLy7Ne+fXuCgoJwdnbGxcWFtWvX8sEHH+Ruv3r1Kn5+fjRo0IAPPvjgjnE5\n",
              "ZswYHBwc8ixxcXH5vUcRESmkLCwMtKntzIrX/fmmZ0NqueYE6ZSow/iHRzBm5T4upKWbe0wR+Zce\n",
              "ypeVtmzZwu7duzlx4gQnT56kZcuW9O/fHwAXFxdOnDjB5s2bWbNmDTExMYwfP/6253nzzTe5fPly\n",
              "nqVx48YPY2QRESnADAYDT9RyZvlr/nz7YiNqV7Ln2s0spkUfwT88kk9+28d5BalIoZOvEK1cuTKn\n",
              "Tp0iMzPn3wk2mUwkJSXh7u6eZ7/Zs2cTEhKCo6MjFhYW9OrVi8jISABsbGyoUKECAGXLluXll18m\n",
              "JibmttezsbHB3t4+z2I0GvN9kyIiUjQYDAZa16zIskH+TO/ViLpuDlzPyOKbdUcICI/k4xV7OXdF\n",
              "QSpSWOQrRCtUqECDBg2YO3cuAIsXL8bNzQ0vL688+3l6ehIREcHNmzmf31m+fDm1a9cGcj5nmpGR\n",
              "87fh0tPT+fnnn6lfv/5934iIiBQfBoOBljUqsmRgc2aG+lHvryD9NuYoAWMj+HD5Xs5euWHuMUXk\n",
              "Lgwmk8mUnwMOHDhAaGgoFy5cwN7enpkzZ1KnTh369OlDhw4d6NChA+np6QwaNIjY2FisrKxwdnZm\n",
              "6tSpeHp68vPPP/Puu+9iNBrJzMwkJCSEcePGYWNjc0/XHzZsGBMmTPhXNysiIkWTyWQiKuEck9Yc\n",
              "ZHtyCgA2lha88Lg7rwZWpYK9rXkHFJHbyneImptCVERE7sRkMrHu4HkmrUkgPikFyAnS5xu782pQ\n",
              "VSoqSEUKFP3LSiIiUmQYDAYCq5Vn8avNmNO7MQ09ypCemc2sPxMJGBvJe0t2c/qy3rIXKSgszT2A\n",
              "iIjIg2YwGAjwLo+/lxPrD11g0toENide4vsNx5gXl0xXv8q8GlQVV8cS5h5VpFhTiIqISJFlMBjw\n",
              "93aiuVc5Nhy+wMS1B4k7epE5G4+xYHMyz/m5MSDIS0EqYiYKURERKfIMBgPNvJxo5uWUE6RrEth0\n",
              "9CJzNyaxYHMyXRpVZkBQVdzKlDT3qCLFij4jKiIixUrTquVY0K8p8/s2oalnOTKyTPy4KYngcVG8\n",
              "+fMuki9eM/eIIsWGQlRERIqlJp7lmNe3CQv6NqFZ1ZwgnReXE6RvLN6pIBV5BBSiIiJSrD3uWY4f\n",
              "X2nCov5N8fdyIjPbxPzNyQSPi2LUTztIuqAgFXlYFKIiIiKAX5WyzO3zOItfbUqAd06QLtxynODx\n",
              "UYxctINjF66ae0SRIkchKiIi8j8aepRlTu/HWfxqM1pUK09WtolFW48TMj6a4Qt3kHheQSryoChE\n",
              "RUREbqOhRxlmv9yYXwY0I6h6TpAujj9OyPgohi3YzpFzaeYeUaTQU4iKiIj8g/ruZZj1UmN+Hdic\n",
              "EJ8KZJvg520naDUhmqELtnNYQSryrylERURE7oFvZUdmhPqxZGBzWv4VpL9sO0HrCdEMnr+NQ2cV\n",
              "pCL5pRAVERHJh3qVHZke6seyQf60qlGRbBMs2X6S1p9H89q8bRw8c8XcI4oUGgpRERGRf6GOmwPf\n",
              "9WrE8tf8eaJmRUwmWLbjJE9MXMegH+NJUJCK3JVCVERE5D7UruTANy82YsXr/jxZKydIl+88xZMT\n",
              "1zHwh3gOnFaQityJQlREROQBqOXqwLSejVg5OIC2tZ0xmWDFrpwgfXXuVvadSjX3iCIFjkJURETk\n",
              "AarhYs+UHg1ZNSSAp+q4ALBy92naToqh/5yt7D2pIBX5m0JURETkIfBxtufr7g34fUgLnqrrgsEA\n",
              "q/acpt0XMfSdvYXdJy6be0QRs1OIioiIPETVnUvz9QsN+GNIC9rXc8VggD/2nuHpL2Pp872CVIo3\n",
              "haiIiMgj4F2xNF8+X5/VQ1vQ0TcnSNfs+ztIN7PruIJUih+FqIiIyCPkVaE0k7rVZ/XQQDr5umJh\n",
              "gDX7ztL+q1henrWZHckp5h5R5JFRiIqIiJiBVwU7Jnarz5phgTxTvxIWBojYf5aOX68ndGYc25Iu\n",
              "mXtEkYdOISoiImJGnuXtmNDVl7XDg+jcwA2jhYGoA+f4z+Q/6TUjjngFqRRhClEREZEC4DGnUox/\n",
              "rh5rhwXybMOcII1OOMczk/+k5/RNbD120dwjijxwClEREZECpIpTKcZ1qUfE8ECea5QTpDEHz9N5\n",
              "ygZ6fLeJzYkKUik6FKIiIiIFkEe5Uox9th5RI4Lo5lcZSwsDsYfO02XqBrp/t5G4owpSKfwUoiIi\n",
              "IgVY5bIl+bRzXSJHBPF845wgXX/oAs9N28Dz32xk45EL5h5R5F9TiIqIiBQClcuWZMwzdYkaGcQL\n",
              "j7tjZTSw4cgFun2zka7TNrDhsIJUCh+FqIiISCHiVqYkn/ynDlEjg+nRJCdINx29yPPfbuS5aRv4\n",
              "89B5TCaTuccUuScKURERkUKokmMJPupUh+iRwfRs4oG10YK4oxd54btNPDdtA+sVpFIIKERFREQK\n",
              "MVfHEnzYqTbRo4Lo1dQDa0sLNideovt3m+gydQMxB88pSKXAUoiKiIgUAS4OJXi/Y23WjQwmtFkV\n",
              "rC0t2HLsEj2nx9F5yp9EJyhIpeBRiIqIiBQhzg62jO5Qi5hRwbzUvAo2lhbEJ6XQa0Yc/5n8J1EH\n",
              "zipIpcBQiIqIiBRBFe1tea99TpD29n8MWysLtienEDpzM50m/0nkfgWpmJ9CVEREpAirYG/LO0/X\n",
              "ZN2oYPr8FaQ7klN4adZmOn29nrX7zihIxWwUoiIiIsVAhdK2vP10TWJGhdC3hSclrIzsOH6Z3t9v\n",
              "ocNX61mzV0Eqj55CVEREpBgpX9qGt9rVICYsmH6BnpS0NrLrxGX6zN5C+69i+WPPaQWpPDIKURER\n",
              "kWLIyc6GN9vWIGZUMP0Dq1LS2sjuE6n0nbOVp76IZdXu02RnK0jl4VKIioiIFGPl7Gx4o60PsWEh\n",
              "DAiqSilrI3tPpdJ/7lbafRHDqt2nFKTy0ChERUREhLKlrBnVJidIBwV7YWdjyf7TV+g/N552X8Tw\n",
              "2y4FqTx4ClERERHJVaaUNSOerE5sWDCvhXhR+q8gHfBDPG0nxbB850kFqTwwClERERG5hWNJa4Y/\n",
              "UZ3YsBBeb+lNaRtLDpy5wqAft/HkxHUs23GSLAWp3CeFqIiIiNyRQ0krhrWuRmxYCINbelPa1pKD\n",
              "Z9N4bV5OkC7ZfkJBKv+aQlRERETuyqGkFUP/CtKhraphb2vJobNpDJ6/nSc+j+bXbQpSyT+FqIiI\n",
              "iNwzhxJWDG7lTewbIQxvXQ2HElYcPneVIQu203pCNL9sO05mVra5x5RCQiEqIiIi+WZva8VrLb2J\n",
              "DQtmxBPVcCxpxZHzVxm6YAetP1/H4q0KUrk7haiIiIj8a6VtrRgU4k1sWAgjn6xOmZJWHD1/leGL\n",
              "dtBqQjSLtiQrSOWOFKIiIiJy3+xsLBkY7EVMWAhhbXwoW8qaxAvXGPnTTkLGR7NwSzIZClL5PxSi\n",
              "IiIi8sDY2VjyalBVYkYF80ZbH8qVsibp4jVG/bSTkPFRLNicpCCVXApREREReeBK2VjSP7AqMWHB\n",
              "vNXOByc7a5IvXids8S6Cx0UxLy6Jm5kK0uIu3yF68OBBmjVrRrVq1fDz82PPnj237JOdnc2wYcOo\n",
              "WbMmdevWJTg4mEOHDuVuX758OT4+Pnh7e/PMM8+Qmpp6f3chIiIiBVJJa0v6tqhKzKgQ3n6qBk52\n",
              "Nhy/dJ03f84J0h83KUiLs3yHaL9+/ejbty8JCQmEhYURGhp6yz5Lly5l/fr17Nixg507d9KyZUve\n",
              "eustANLS0ujduze//vorBw8exNXVlQ8//PC+b0REREQKrhLWRvoEeBIzKpi3n6pB+dI2nEi5zlu/\n",
              "5ATp3I3HSM/MMveY8ojlK0TPnj3Lli1b6NGjBwCdO3cmOTk5z9NOAIPBQHp6Ojdu3MBkMpGamoqb\n",
              "mxsAK1eupH79+vj4+AAwYMAA5s2bd9vrpaenk5qammfJytJ/SEVERAqr/w3Sd5+uSYW/gvTtX3cT\n",
              "/FkUczYkKkiLkXyFaHJyMi4uLlhaWgI5wenu7k5SUlKe/dq3b09QUBDOzs64uLiwdu1aPvjgAwCS\n",
              "kpLw8PDI3bdKlSqcOnWKzMzMW643ZswYHBwc8ixxcXH5vkkREREpWGytjLzs/xjrRgUzun1NKtrb\n",
              "cPLyDd5ZsofAsVHM3pDIjQwFaVH3UL6stGXLFnbv3s2JEyc4efIkLVu2pH///vk+z5tvvsnly5fz\n",
              "LI0bN34IE4uIiIg52FoZCW3+GNEjg3m/Qy2c7W05nXqDd5fsIfCzSGatP6ogLcLyFaKVK1fO8/TS\n",
              "ZDKRlJSEu7t7nv1mz55NSEgIjo6OWFhY0KtXLyIjIwFwd3fn2LFjufsmJibmecr6v2xsbLC3t8+z\n",
              "GI3GfN+kiIiIFGy2VkZ6NatC1MggPuxYCxcHW86kpjN62V5ajI1kRqyCtCjKV4hWqFCBBg0aMHfu\n",
              "XAAWL16Mm5sbXl5eefbz9PQkIiKCmzdvAjnfkq9duzYAbdq0IT4+nv379wMwefJkunXrdt83IiIi\n",
              "IoWfrZWRnk1zgvSjTrVxdbDl7JV0Pli+l4CxkUxXkBYpBpPJZMrPAQcOHCA0NJQLFy5gb2/PzJkz\n",
              "qVOnDn369KFDhw506NCB9PR0Bg0aRGxsLFZWVjg7OzN16lQ8PT2BnG/Vjxo1iszMTGrXrs3333+P\n",
              "g4PDPV1/2LBhTJgwIf93KiIiIoVOemYWP209zuTIw5xIuQ6Ak50N/QM96f64ByWs9U5pYZbvEDU3\n",
              "haiIiEjxczMzm8Xxx/k68hDHL/0dpNb0beFJjyYelLS+9SN+UvDpX1YSERGRAs/a0oLnG7sTOSKI\n",
              "8M51cCtTgvNpN/nkt/0EhEcyLfow127e+hd4pGBTiIqIiEihYWW0oKtfTpCO7VwX97IluXD1JmNW\n",
              "7sc/PJIpUYe5mq4gLSwUoiIiIlLoWBkteM6vMmuHB/LZs3XxKFeSi1dvEr5qP/7hEXwdeYg0BWmB\n",
              "pxAVERGRQsvKaEGXRpVZOyyQ8V3qUaVcSS5dy+Cz3w/kBumVGxnmHlPuQCEqIiIihZ6l0YLODd1Y\n",
              "MyyQCc/Vw9OpFCm5QRrJl2sPKkgLIIWoiIiIFBmWRgueaeDG6mGBTOzqi2f5Uly+nsH41Qk0/zSC\n",
              "SWsOkqogLTAUoiIiIlLkGC0MdKpfidVDA5nUzZeq5UuReiOTz9ck4P9pBBPXJHD5uoLU3BSiIiIi\n",
              "UmQZLQx09K3EH0MD+eL5+nhXsCP1RiYT1xzEPzyCCasTuHxNQWouClEREREp8owWBjrUc+X3IS34\n",
              "6oX6VKtox5UbmXyx9q8g/eMAKddumnvMYkchKiIiIsWGhYWBp+u6smpwCyZ3b0D1iqW5kp7JFxGH\n",
              "8A+PZNzvB7h0VUH6qChERUREpNixsDDQro4LKwcHMKV7A3ycS5OWnslXkYfwD49g7Kr9XFSQPnQK\n",
              "URERESm2LCwMtK3jwm+vBzC1R0Nquthz9WYWk6MOExAeQbiC9KFSiIqIiEixZ2FhoE1tZ1a87s83\n",
              "PRtSyzUnSKdEHcY/PIIxK/dxIS3d3GMWOQpRERERkb8YDAaeqOXM8tf8+fbFRtSuZM+1m1lMiz6C\n",
              "f3gkn/y2j/MK0gdGISoiIiLyfxgMBlrXrMiyQf5M79WIum4OXM/I4pt1RwgIj+TjFXs5d0VBer8U\n",
              "oiIiIiJ3YDAYaFmjIksGNmdmqB/1/grSb2OOEjA2gg+X7+XslRvmHrPQUoiKiIiI3IXBYCDYpwK/\n",
              "DmzOzJf88K3syI2MbKbHHiUgPJL3l+3hbKqCNL8UoiIiIiL3yGAwEFy9Ar8MaMb3Lzemgbsj6ZnZ\n",
              "zFyfSMDYSEYv3cMZBek9U4iKiIiI5JPBYCCwWnkWv9qMOb0b09CjDOmZ2cz6MydI31uym9OXFaR3\n",
              "Y2nuAUREREQKK4PBQIB3efy9nFh/6AKT1iawOfES3284xry4ZLr6VebVoKq4OpYw96gFkkJURERE\n",
              "5D4ZDAb8vZ1o7lWODYcvMHHNQeISLzJn4zEWbE7mOT83Xg3yopKCNA+FqIiIiMgDYjAYaOblRNOq\n",
              "5dhw5AKT1hxk09GLzN2YxILNyXRpVJkBQVVxK1PS3KMWCApRERERkQfMYDDQrKoTzao6sfGvIN1w\n",
              "5AI/bkpi0ZZknm2YE6SVyxbvINWXlUREREQeoiae5ZjXtwkL+jahWdVyZGSZmBeXRPC4KN5YvJPk\n",
              "i9fMPaLZKERFREREHoHHPcvx4ytNWNS/Kf5eTmRmm5i/OZngcVGM+mkHSReKX5AqREVEREQeIb8q\n",
              "ZZnb53EWv9qUAO+cIF245TjB46MYuWgHxy5cNfeIj4xCVERERMQMGnqUZU7vx1n8ajNaVCtPVraJ\n",
              "RVuPEzI+muELd3D0fNEPUoWoiIiIiBk19CjD7Jcb8/OAZgRVzwnSxfHHaTk+imELtnPkXJq5R3xo\n",
              "FKIiIiIiBUAD9zLMeqkxvw5sTohPBbJN8PO2E7SaEM3QBds5XASDVCEqIiIiUoD4VnZkRqgfSwY2\n",
              "p+VfQfrLthO0nhDN4PnbOHT2irlHfGAUoiIiIiIFUL3KjkwP9WPZIH9a1ahItgmWbD9J68/X8dq8\n",
              "bRw8U/iDVCEqIiIiUoDVcXPgu16NWP6aP0/UrIjJBMt2nOSJiesY9GM8CYU4SBWiIiIiIoVA7UoO\n",
              "fPNiI1a87s+TtXKCdPnOUzw5cR0Df4hn/+lUc4+YbwpRERERkUKklqsD03o24rfXA2hb2xmTCVbs\n",
              "OkWbiTG8Oncr+04VniBViIqIiIgUQjVd7ZnSoyGrhgTwVB0XAFbuPk3bSTH0n7OVvScLfpAqREVE\n",
              "REQKMR9ne77u3oDfh7TgqbouGAywas9p2n0RQ9/ZW9h94rK5R7wjhaiIiIhIEVDduTRfv5ATpO3r\n",
              "uWIwwB97z/D0l7H0+X5LgXxCqhAVERERKUKqVSzNl8/XZ/XQFnT0zQnSNfvOsPN4irlHu4WluQcQ\n",
              "ERERkQfPq0JpJnWrz2sh3szdeIxnGriZe6RbKERFREREijCvCnaM7lDL3GPclt6aFxERERGzUIiK\n",
              "iIiIiFkoREVERETELBSiIiIiImIWClERERERMQuFqIiIiIiYhUJURERERMxCISoiIiIiZqEQFRER\n",
              "ERGzUIiKiIiIiFkoREVERETELAwmk8lk7iHy45lnnqFKlSqP7HpZWVnExcXRuHFjjEbjI7uuPBh6\n",
              "/Qo/vYaFn17Dwk+vYeFmjtfPw8ODwYMH33W/Qheij1pqaioODg5cvnwZe3t7c48j+aTXr/DTa1j4\n",
              "6TUs/PQaFm4F+fXTW/MiIiIiYhYKURERERExC4WoiIiIiJiFQvQubGxseO+997CxsTH3KPIv6PUr\n",
              "/PQaFn56DQs/vYaFW0F+/fRlJRERERExCz0RFRERERGzUIiKiIiIiFkoREVERETELBSiIiIiImIW\n",
              "ClERERERMYv7CtEqVapQvXp1fH19qVmzJl9//TUAV65cwc7Ojt69e+fZPyoqihIlSuDr60vdunV5\n",
              "/PHH2bhxY+720aNHM2TIkNyf58yZg4eHB7t37yYqKgpfX9/cbQaDgVatWuU5v5OTE4mJibk/z58/\n",
              "Hz8/P7y9vWnUqBEBAQEsXrz4H+8pJSWFHj16ULt2berWrUvt2rX58ccfbzu/v78/O3fuzD125syZ\n",
              "GAwGYmJi8pwzMzOT999/Hx8fH2rXro2vry99+/YlJSWFxMREjEYjvr6+ucvjjz/+jzMCLF++HD8/\n",
              "P6pXr46npyevvPIKKSkpALRr1y73XAaDgTp16uDr60tAQAAtWrTgm2++yT1PRkYGvr6+/PTTT3e9\n",
              "poiIiMgDZboPHh4epm3btplMJpMpMTHRZG9vb9qxY4fp22+/NbVo0cLk6OhounLlSu7+kZGRpnr1\n",
              "6uX+/OWXX5pq1KiR+/N7771nGjx4sMlkMpkmTZpk8vb2Nh05cuS2xwKmKlWqmFatWpW7rly5cqaj\n",
              "R4+aTCaT6dtvvzVVr17dtGfPntzt+/fvN40dO/Yf72ngwIGmIUOGmLKzs00mk8mUmppqSkhIuO0M\n",
              "48ePNzVo0CD35+bNm5tatmxp6tWrV55zvvjii6ann37adPHiRZPJZDJlZ2ebFi5caDp8+LDp6NGj\n",
              "JgcHh3+c6f9auXKlydXV1RQfH28ymUymjIwM06BBg0xNmjQxZWVl5dkXMF26dCn358OHD5tcXFxM\n",
              "iYmJJpPJZHr77bdNL7zwQr6uLyIiIvIgPLC35j08PKhevToJCQlMnz6dsLAwWrRowYIFC+54TMuW\n",
              "LTl27Ngt699//31mzJjBunXreOyxx+54/AcffMAbb7yB6TZ/CnX06NFMnDiRmjVr5q6rXr06I0eO\n",
              "/Mf7OH78OC4uLhgMBgBKly6Nt7f3bfdt06YNBw4cAODAgQMcPXqU2bNn8+uvv5KamgrAoUOHWLRo\n",
              "ETNnzqRMmTJAztPcLl264Onp+Y+z3MlHH33Ef//7X+rXrw+ApaUl48ePJzk5mdWrV//jsZ6enrz3\n",
              "3nv07t2bLVu2MGfOHL766qt/NYeIiIjI/XhgIbpr1y7279+Pt7c3ycnJPPnkk/Tu3Zvp06ff8Zif\n",
              "fvqJbt265Vk3d+5c5s+fT1RUFM7Ozv94zfbt22NnZ5f71vnfzp49y4kTJ+7pLe7/a/DgwYSHh9Ow\n",
              "YUMGDRrE8uXL77jv/PnzadiwIQDTp0+nZ8+euLq6EhISwvz58wGIj4/H29sbJyenO57nypUred6a\n",
              "7969+z/OGB8fT9OmTfOss7a2pmHDhmzfvv2u99ivXz+srKxo3bo1U6dOzQ1kERERkUfJ8n5P0LVr\n",
              "V0qUKEHJkiWZMWMGs2fP5sUXX8RoNNKuXTv69evHvn37qFGjBpDz5NDX15fTp0+TmZnJpk2b8pyv\n",
              "UaNG7Nq1i+XLl9OjR4+7Xj88PJwePXrQpUuXf9wvODiY8+fPc/PmzdynmHfaLykpiejoaP7880/6\n",
              "9etHp06dcj//+vf8ANWqVeP7778nMzOT2bNnEx0dDcDLL7/Mhx9+SN++fe86P+Q8db2XgLwXJUqU\n",
              "uKf9RowYwZAhQ2jTps0Dua6IiIhIft13iC5YsCA3zDIyMhgwYABWVla5TymvXbvG9OnTGTduHJDz\n",
              "9vj27dtz9+3evTsbNmzIfSvcx8eHzz//nFatWpGdnc2LL774j9dv1qwZdevWZcqUKbnrKlSoQKVK\n",
              "lYiLi+PJJ58EIDIyksTExDxfeLqTUqVK0a5dO9q1a8fTTz/NE088kRuif8//v3799VdSUlJyr2Uy\n",
              "mTh58iS7d++mQYMGHDx4kAsXLlCuXLm7XvteNGjQgA0bNuS+NQ9w8+ZNtm7dyjvvvHNP5zAajRiN\n",
              "xgcyj4iIiMi/8UD/fNPSpUvx9PTkxIkTJCYmkpiYyMaNG5kzZw4ZGRl59rWysmLSpEkcP36cX3/9\n",
              "Nc+2GjVqsHbtWt58801mzpx51+t+8sknjBkzhvT09Nx17777LkOHDmX//v25665evXrXc/3xxx9c\n",
              "unQp9+etW7dStWrVfzxm+vTpTJw4Mfeejx07xrBhw5g+fTpeXl507tyZ3r17536r3WQysXjxYo4c\n",
              "OXLXeW7nrbfe4qOPPsoN4szMTIYPH05QUBCNGjX6V+cUERERedTu+4no/5o+ffotn2+sUaMGlSpV\n",
              "YtmyZZQtWzbPtpIlS/Lxxx8zevRoOnXqlGebj48PERERtGzZkqysLLy8vO543Zo1a/LUU08xY8aM\n",
              "3HV9+/alVKlS9OjRg8uXL1O+fHlsbW1zn2zeya5duxg+fDgmkwkLCwtcXFyYO3fuHfc/efIka9eu\n",
              "ZdasWXnWd+/enZYtWxIeHs6MGTP46KOPePzxx7G0tCQ7O5sWLVrQsmVLUlJScj8j+r9iYmIoXbr0\n",
              "ba/Zrl07pk6dSp8+fUhNTeXUqVN07NiR2bNn/+O9iYiIiBQkBtPtvnIuhUpUVBTdu3fnu+++o23b\n",
              "tuYeR0REROSeKERFRERExCwe6FvzhcX27dsJDQ29ZX2vXr0YOnToox/oNn777TfeeuutW9a/+eab\n",
              "dO3a1QwTiYiIiDxYeiIqIiIiImbxQL81LyIiIiJyrxSiIiIiImIWClERERERMQuFqIiIiIiYhUJU\n",
              "RERERMxCISoiIiIiZqEQFRERERGz+H88vHQ6P8z8HgAAAABJRU5ErkJggg==\n",
              "\">\n",
              "      </div>\n",
              "      <script type=\"text/javascript\">\n",
              "        (() => {\n",
              "          const chartElement = document.getElementById(\"chart-35522893-b6ce-48e9-a992-72d3550c53c6\");\n",
              "          async function getCodeForChartHandler(event) {\n",
              "            const chartCodeResponse =  await google.colab.kernel.invokeFunction(\n",
              "                'getCodeForChart', [\"chart-35522893-b6ce-48e9-a992-72d3550c53c6\"], {});\n",
              "            const responseJson = chartCodeResponse.data['application/json'];\n",
              "            await google.colab.notebook.addCell(responseJson.code, 'code');\n",
              "          }\n",
              "          chartElement.onclick = getCodeForChartHandler;\n",
              "        })();\n",
              "      </script>\n",
              "      <style>\n",
              "        .colab-quickchart-chart-with-code  {\n",
              "            display: block;\n",
              "            float: left;\n",
              "            border: 1px solid transparent;\n",
              "        }\n",
              "\n",
              "        .colab-quickchart-chart-with-code:hover {\n",
              "            cursor: pointer;\n",
              "            border: 1px solid #aaa;\n",
              "        }\n",
              "      </style>"
            ]
          },
          "metadata": {}
        },
        {
          "output_type": "display_data",
          "data": {
            "text/plain": [
              "from matplotlib import pyplot as plt\n",
              "_df_6['SALES_AREA_SIZE_NUM'].plot(kind='line', figsize=(8, 4), title='SALES_AREA_SIZE_NUM')\n",
              "plt.gca().spines[['top', 'right']].set_visible(False)"
            ],
            "text/html": [
              "      <div class=\"colab-quickchart-chart-with-code\" id=\"chart-955aa875-ec94-4630-b1e9-c8c27f85dcb9\">\n",
              "        <img style=\"width: 180px;\" src=\"data:image/png;base64,iVBORw0KGgoAAAANSUhEUgAAAqIAAAFuCAYAAABaw3qhAAAAOnRFWHRTb2Z0d2FyZQBNYXRwbG90\n",
              "bGliIHZlcnNpb24zLjEwLjAsIGh0dHBzOi8vbWF0cGxvdGxpYi5vcmcvlHJYcgAAAAlwSFlzAAAP\n",
              "YQAAD2EBqD+naQAARFJJREFUeJzt3WlclXX+//H3YRE3RMUFEAGB4665r6nooc3KnGydTBn3ysRx\n",
              "muZnNS1TY9PM1D/MNbdcasxyctSWKRHccjfXNA87ioqogCjbget/4yDJuIGih+X1fDzODa7zPdf1\n",
              "uTgkr67DAZNhGIYAAACAO8zJ0QMAAACgeiJEAQAA4BCEKAAAAByCEAUAAIBDEKIAAABwCEIUAAAA\n",
              "DkGIAgAAwCEIUQAAADgEIQoAAACHIEQBAADgEIQoAAAAHIIQBVCu4uPj9fTTT8vHx0d169aVj4+P\n",
              "Bg8erBMnTpRYN3LkSJlMJn333XdX7CMgIEDz58+/6v7ffPNNOTs7q27duiVuEydOLF7z73//Wz17\n",
              "9lT9+vXl4eGhNm3a6LXXXivTebzxxhsymUyaM2fOFfeFhISoRo0aqlu3rurVq6d27dpp7ty5JdaE\n",
              "hYXJ1dX1ijn//ve/l1hXWFiowMBA1a5dW+fOnSv1fIWFhZo2bZpatWold3d3NWzYUN27d9fnn39e\n",
              "vObyz+O0adOumKVu3bqqUaOGTCaTkpOTrzi3y2+X7/dawsLCZDKZ9NFHH5XY/tprrykkJKTE5+9q\n",
              "z0dYWJiGDx9e/LHJZJLJZNKRI0dKrIuKipLJZJKvr++NP1EAKjRCFEC5Gjx4sNzd3XXw4EFlZWXp\n",
              "p59+0pNPPimTyVS85syZM1qxYoU8PT01a9asMh+jd+/eysrKKnGbMWOGJGnr1q0aPny4pk6dqrS0\n",
              "NKWlpemLL75Qy5YtS71/m82mefPmydPTU7Nnz77qmpdffllZWVlKT0/XG2+8oeeee04bNmwosebJ\n",
              "J5+8Ys6XX365xJpvv/1WSUlJcnNz06JFi0o94z/+8Q8tXLhQX3zxhTIzM3Xs2DH985//VIMGDa66\n",
              "/pVXXrlilpiYGHl5eWnixIlq3rz5Fed2+e3JJ58s1VyNGjXSm2++qbNnz5b6XK6nbdu2V0T+7Nmz\n",
              "1a5du3LZPwDHIkQBlJszZ87oyJEjmjBhgho2bChJatq0qUaOHCkvL6/idQsXLlSdOnU0e/Zsff31\n",
              "10pKSiq3GX788UcFBwdr6NChcnFxkaurq9q3b68RI0aUeh9fffWVTp8+rc8++0z79+/X5s2br7nW\n",
              "yclJTzzxhBo2bKidO3eWed5Zs2bp/vvv16hRozRnzhwZhlGqx23evFmDBw9Wx44dZTKZVLt2bQ0Y\n",
              "MED33ntvqR6fnZ2tIUOGqEOHDvrwww/LPPe13HfffWrbtq1ef/31ctnf+PHjtWTJEuXk5EiSTp48\n",
              "qW+//VZhYWHlsn8AjkWIAig3np6e6tChg8aPH69FixZp//79KiwsLLHGMAzNmTNHzz77rB599FF5\n",
              "e3tf9eXvm9WvXz/9/PPPmjBhgtasWaOUlJQy72PWrFl66KGHdO+996pnz57XvWprs9n02Wef6cyZ\n",
              "M2rTpk2ZjhMfH6/vvvtOY8eO1dixY2W1WvXDDz+U6rEhISFavHix3n77bUVHRyszM7PUxzUMQ88+\n",
              "+6xyc3O1fPlyOTs7l2nuG4mIiNC8efN06NChW95X27Zt1b59++IfDZg/f74eeeQRNWrU6Jb3DcDx\n",
              "CFEA5SoqKkoPPPCAZs+erR49eqhRo0Z66aWXlJubK0n673//q7i4OI0dO1bOzs4aNWqUFixYoLy8\n",
              "vFIfY9u2bapfv36J26WXtXv06KHNmzcrOztbkyZNkq+vr9q1a6c1a9aUat+HDx9WdHS0xo0bJ0ka\n",
              "N26cVq5cqdOnT5dY989//lP169dXzZo1NWLECL333nt68MEHS6xZsWLFFXNGRkYW3z937lx5eXnp\n",
              "oYceUuvWrdWvX79r/ijA/5oyZYrmzJmjnTt36vHHH1fDhg0VGhqqn3/++YaPnTp1qn788UetXbtW\n",
              "7u7uV9x/6dwuv1mt1lLNJUldunTR8OHDNXny5FI/5nomTJigOXPmqKCgQB9//LEmTJhQLvsF4HiE\n",
              "KIBy5enpqb/85S/asWOHMjIytHDhQs2bN0/vvvuuJPvVxr59+6pt27aSpNGjRystLU0rV64s9TF6\n",
              "9eql9PT0Erff/e53Je5fvHix4uPjdeLECYWGhmrYsGGliqnZs2fLz89P9913nyT7z3nWrFnzijdP\n",
              "vfTSS0pPT9e5c+cUFham77//XjabrcSaJ5544oo5LRaLJCk3N1cLFy7U7373u+IrkmPHjtWaNWt0\n",
              "7NixG85pMpn09NNPa/Xq1Tp9+nTx1ecHH3zwui/vL1y4UDNmzNCaNWtK/Fzo1c7t8pvZbL7hTJeb\n",
              "Nm2aduzYof/85z9X3Ofq6qr8/Pwrtufn58vV1fWK7cOGDVNsbKymTZsmDw8P3X333WWaBUDFRYgC\n",
              "uG3c3Nw0dOhQhYaGas+ePUpKStLXX3+tn376SV5eXvLy8lLPnj0l6abetFQaTZs21TvvvKP8/Hwd\n",
              "OHDgumsvXLigJUuW6NSpU/Lx8ZGXl5eCgoKUnZ2tuXPnXvFjBpLk7u6umTNnKi4uTjNnziz1XF98\n",
              "8YVOnz6tmTNnFn8upkyZooKCgivenFMabdu21e9//3slJCRc89330dHRev755/Xpp5+qa9euZT5G\n",
              "WTRt2lSvvfaaXnrppSuudgcGBl71fwqsVquCgoKu2F6jRg2NGjVKb7zxBldDgSqGEAVQbs6dO6f/\n",
              "+7//0/79+5Wbm6uCggJFRkYqKipK/fv315w5c9SoUSMdOXJEe/fuLb6tWLFCmzdvLhGKNptNOTk5\n",
              "JW6leSPPqlWrtGDBAqWkpMgwDGVmZurdd99VrVq11K1bt+s+9tNPP1V2drZ2795dYr6NGzcWR/TV\n",
              "uLm56fXXX9fbb7+tjIyMUn2uZs2apcGDB+vw4cPFxzlw4ICmTJmi+fPnX/WK4eXef/99ff3118Xv\n",
              "Tk9KStKsWbPUrl274jeKXe7o0aN69NFH9de//lWPPPJIqWa8VeHh4ZJ0xW8DCAsL09dff60VK1Yo\n",
              "Ly9P2dnZmjlzpg4ePKinnnrqqvt6+eWX9f333/MmJaCqMQCgnGRlZRmjR482WrZsadStW9fw8PAw\n",
              "2rVrZ/ztb38zcnJyjCZNmhjvvPPOVR/bqVMnY8KECYZhGIa/v78h6Yqb1Wo13njjDcPJycmoU6dO\n",
              "idtDDz1kGIZhbNy40Rg8eLDh5eVl1K5d22jcuLFxzz33GBs2bLjh/J06dTLGjBlz1fseeeQR4/77\n",
              "7zcMwzAGDBhgvPrqqyXut9lsRsuWLY2pU6cahmEYI0eONFxcXK6Y84UXXjD27t1rSDI2b958xXFO\n",
              "nDhhuLm5GcuXL7/urPPmzTP69u1rNGzY0KhTp47RrFkzY/jw4UZ8fHzxGn9/f2PevHmGYRjGqFGj\n",
              "DElXzHPptmzZsuJzc3V1veL+995774afv5EjRxrPPPNMiW3/+c9/DEnGgAEDSmxfu3at0bt3b6Nh\n",
              "w4ZGo0aNjJCQkCs+H5KMH3744arHWrRokdGsWbMbzgSgYjMZRil/VwgAAABQjnhpHgAAAA5BiAKo\n",
              "Vq72Zy7r1q1b4f5c5LX+JGfdunVv2xu7buSBBx645kw3eiMYAFwNL80DAADAIbgiCgAAAIcgRAEA\n",
              "AOAQlS5EIyIiHD0CAAAAykGlC9HExERHjwAAAIByUOlCFAAAAFUDIQoAAACHIEQBAADgEIQoAAAA\n",
              "HIIQBQAAgEMQogAAAHAIQhQAAAAOQYgCAADAIQhRAAAAOESZQnTSpEkKCAiQyWTS3r17r7luwYIF\n",
              "MpvNCgoK0tixY5Wfn1+q+wAAAFB9lClEH3vsMW3evFn+/v7XXBMfH68///nP2rRpk2JiYnTq1Cl9\n",
              "/PHHN7wPAAAAt4dhGI4e4arKFKL9+/eXr6/vddd8+eWXGjJkiLy8vGQymTRhwgT961//uuF9V5Ob\n",
              "m6vMzMwSt4KCgrKMDAAAUG3l2Qr16fZE3f/hJp27kOfoca5Q7j8jmpSUVOKKaUBAgJKSkm5439W8\n",
              "++678vDwKHHbsWNHeY8MAABQpeTaCrRsW6JC/hGlV786qF9OndfSbYmOHusKFfrNSlOnTlVGRkaJ\n",
              "W48ePRw9FgAAQIWUayvQ0q0JCvlHtF5bdVApGTlq4u6mNx5uq3H9Ax093hVcynuHfn5+io2NLf44\n",
              "ISFBfn5+N7zvatzc3OTm5lZim7OzczlPDAAAULnl5Bfo853Jmh0dq5OZOZIkr3o19VxIkJ7s3lw1\n",
              "XStmP5X7FdFhw4Zp9erVOnnypAzD0Jw5c/TUU0/d8D4AAACUTU5+gT7ZEq8B/4jSG6sP6WRmjrw9\n",
              "aurtR9op+o8hGtknoMJGqFTGK6Ljx4/X119/rZMnT+q+++6Tu7u7YmJiNGbMGA0ZMkRDhgxRYGCg\n",
              "3nrrLfXt21eSFBISovHjx0vSde8DAABA6eTkF+iz7UmasyFWqedzJUk+HjX13MBgPdHNV24uFTc+\n",
              "L2cyKur7+a9hypQp+uCDDxw9BgAAwB2XnVegT7cnau7GOJ0uCtBm9Wvp+YFBeqxr5QnQS8r9Z0QB\n",
              "AABQvi4F6JwNcUrL+jVAJw4K1rAuvqrhUqHff35NhCgAAEAFdTHPpmXbEvXxxjilZdl/D6hvg1qa\n",
              "ODBYj1biAL2EEAUAAKhgLuTatHRbouZtjNOZol9E79ewtiYODNZvujSTq3PlDtBLCFEAAIAK4kKu\n",
              "TUu2JmrepjidLQpQf097gA7tXHUC9BJCFAAAwMGycm1a/GOC5m+K07mL+ZKkAM/amjjIrKGdfORS\n",
              "xQL0EkIUAADAQc7n5NsDdHO80osCNLBRHU0cFKwhd1XdAL2EEAUAALjDMnPytXiLPUAzsosCtHEd\n",
              "TRpk1sN3+cjZyeTgCe8MQhQAAOAOycjO1ydbErRgc5wyc2ySpKDGdTTJYtZDHatPgF5CiAIAANxm\n",
              "Gdn5Wrg5Xgu3xOt8UYCam9TVixazHuzgXe0C9BJCFAAA4DbJuJivBVviteiyAG3ZtK4mWcwa3N5b\n",
              "TtU0QC8hRAEAAMpZ+sU8Ldgcr0+2JOh8rj1AWzV11ySLWQ+096r2AXoJIQoAAFBOzl0oCtAfE5RV\n",
              "FKCtvdwVbjHrvnYE6P8iRAEAAG7R2Qt5mr8pTot/TNCFvAJJUhvvegq3BOvetgTotRCiAAAAN+lM\n",
              "Vq7mbYrXkq0JulgUoG296yk81Kx72jQlQG+AEAUAACijM1m5+nhTnJZuTSwO0HY+9TQ5tKVC2zSR\n",
              "yUSAlgYhCgAAUEppWbn6eKM9QLPz7QHaoZmHwi1mWQjQMiNEAQAAbiD1fI4+3hCnZdsTlZNfKEm6\n",
              "y9dD4aFmDWxFgN4sQhQAAOAaUs/naO6GOH16eYA2r6/JoWaFtGxMgN4iQhQAAOB/pGbmaPaGWH22\n",
              "PUm5NnuAdvarr3CLWQMI0HJDiAIAABQ5mZGjORti9dmOJOUVBWhX/wYKt5jVz9yIAC1nhCgAAKj2\n",
              "TmRka050rP61M7k4QLv5N9Dk0JbqG+xJgN4mhCgAAKi2UtKzNTs6Vp/vTFZegT1AewQ0VHioWX2C\n",
              "CNDbjRAFAADVzvH0bM2OjtGKnceKA7RnC3uA9g4kQO8UQhQAAFQbx85d1KzoWH2xK1n5BYYkqVdg\n",
              "Q4VbWqp3kKeDp6t+CFEAAFDlJZ+9qFnRMfpy97HiAO0T5Klwi1k9AwlQRyFEAQBAlZV89qJmRtkD\n",
              "1FZoD9C7gxspPNSs7gENHTwdCFEAAFDlJJ25qBlRVv17z/HiAO1nbqRwi1ndCNAKgxAFAABVRkLa\n",
              "Bc2IitFXPx1XQVGA9m/ZWOEWs7r6N3DwdPhfhCgAAKj04tMuaMb6GK3a+2uAhrRqrEkWs7r4EaAV\n",
              "FSEKAAAqrbjTWcUBWtSfGtiqscJDW6pT8/oOnQ03RogCAIBKJyY1SzPWW7V6X0pxgFpaN9Eki1l3\n",
              "EaCVBiEKAAAqjZjU8/pofYxW70uRURSgoW2aKtxiVgdfD8cOhzIjRAEAQIVnPXVe09fHaO3+XwP0\n",
              "nrb2AG3fjACtrAhRAABQYf1y8rymr7fqmwMnigP0vnZNNcliVjsfArSyI0QBAECFc+Rkpj6KjNHX\n",
              "B04Ub3ugvZdeHGRWW596DpwM5YkQBQAAFcbhE5maHmnVtwdPFm8b3MEeoG28CdCqhhAFAAAOdygl\n",
              "Q9MjrfrvoVOSJJNJGtzBW5MGmdXKy93B0+F2IUQBAIDDHDxuD9Dvf/41QB/q6KMXBwWrZVMCtKoj\n",
              "RAEAwB134FiGIiKtWnf41wB9uChAzQRotUGIAgCAO2b/sXRFrLMq8kiqJMnJJA25y0cTB5kV3KSu\n",
              "g6fDnUaIAgCA225fcroiIq1af1mAPtKpmSYOClZQYwK0uiJEAQDAbfNT0jlFRFoV/ctpSfYAHdq5\n",
              "mSYODFYgAVrtEaIAAKDc7U60B+jGo/YAdXYy6TdFARrQqI6Dp0NFQYgCAIByszvxrD5cZ9Uma5ok\n",
              "e4A+2tn+Ery/JwGKkghRAABwy3YmnFXEOqs2x9gD1MXJpGFdfPXCwGD5edZ28HSoqAhRAABw07bH\n",
              "nVFEpFU/xp6RZA/Qx7v56vmQYDVvSIDi+ghRAABQZtvizihinVVb4+wB6ups0mNdm+v5kCACFKVG\n",
              "iAIAgFIxDENbiwJ0e/xZSfYAfaJbcz0/MFjN6tdy8ISobAhRAABwXYZhaGvsGX24zqodCfYAreHs\n",
              "pCe7N9dzIUHyIUBxkwhRAABwVYZhaEvMGUVEHtXOhHOS7AH6VA97gHp7EKC4NWUOUavVqpEjRyot\n",
              "LU0eHh765JNP1K5duxJrCgsL9fLLL+u7776TzWZT3759NXv2bNWoUUMJCQkKCgpShw4ditevXLlS\n",
              "QUFBt342AADglhmGoU3WNEVEWrU7sShAXZz02x5+mjAgSF4eNR08IaqKMofo+PHjNW7cOIWFhenL\n",
              "L79UWFiYdu7cWWLNggULtGfPHu3Zs0eurq4aN26cIiIi9Mc//lGS5O7urr1795bLCQAAgPJhGIY2\n",
              "WtP04bqj+ikpXZLk5uKkp3v46bmQIDWtR4CifDmVZXFqaqp27dql4cOHS5KGDRum5ORkxcTElFi3\n",
              "b98+hYaGqkaNGjKZTHrggQe0dOnS8psaAACUG8MwFPVLqn4z60eNXLhDPyWly83FSaP6ttCmlwfq\n",
              "zSHtiFDcFmW6IpqcnCxvb2+5uNgfZjKZ5Ofnp6SkJAUHBxev69q1q+bOnauJEyeqVq1aWrFihRIS\n",
              "Eorvv3Dhgrp3766CggINHTpUr776qpydna84Xm5urnJzc0tsKygoKMvIAADgGi4FaERkjPYlp0uS\n",
              "aro6aXhPf40bEKgm7sQnbq/b8malsLAwJSYmasCAAapVq5ZCQ0P1/fffS5K8vb11/PhxNWnSRGfP\n",
              "ntWTTz6p999/Xy+//PIV+3n33Xf11ltvldjWq1ev2zEyAADVhmEYWn8kVRGRVu0/liHJHqDP9vLX\n",
              "uP5Bauzu5uAJUV2YDMMwSrs4NTVVwcHBOnv2rFxcXGQYhry9vbV58+YSV0T/1/LlyzVz5kxt2rTp\n",
              "ivv+9a9/6bPPPtOaNWuuuO9qV0T//Oc/KyIiorQjAwCAIoZhaN3hVE2PtOrAcXuA1nJ11oje/hrb\n",
              "P1CN6hKguLPKdEW0SZMm6tKli5YtW6awsDCtXLlSvr6+V0RoTk6OsrOz1aBBA6Wlpelvf/ub3n77\n",
              "bUn2mG3QoIFcXV2Vm5urf//73+rcufNVj+fm5iY3t5L/UVztJXwAAHBthmHo+59PaXqkVYdSMiVJ\n",
              "tWs4a0TvAI3t10KeBCgcpMwvzc+dO1dhYWGaNm2a6tWrp0WLFkmSxowZoyFDhmjIkCHKyMhQSEiI\n",
              "nJycVFhYqPDwcD388MOSpM2bN+v111+Xs7OzbDabBg0apFdffbV8zwoAAKiw0B6gEZFWHT5hD9A6\n",
              "NZw1ok+AxvYLVMM6NRw8Iaq7Mr00XxFMmTJFH3zwgaPHAACgwiosNPTfQycVEWnVkZPnJUl13Vw0\n",
              "so+/xtwdqAYEKCoI/rISAABVRGGhoW8PntRH60sG6O/6Bmj03S1UvzYBioqFEAUAoJIrLDT0zcET\n",
              "mh5p1dFTWZIk96IAHUWAogIjRAEAqKQKCg19feCEPoq0yppaFKA1XTSqbwuN6ttCHrVdHTwhcH2E\n",
              "KAAAlUxBoaG1+1P00foYxRQFaL2aLhp9d6DC+gbIoxYBisqBEAUAoJIoKDS0Zl+Kpq+3Ku70BUmS\n",
              "Ry1Xjb67hcL6BqheTQIUlQshCgBABWcrKNTqfSmasT5GcWn2AK1f21Vj7m6hkX0C5E6AopIiRAEA\n",
              "qKBsBYVatTdFM6NiFF8UoA1qu2pMv0CN7BOgum58G0flxlcwAAAVjK2gUF/9dFwzomKUeOaiJHuA\n",
              "ju0fqBG9CVBUHXwlAwBQQeQXFOqrPfYATTprD9CGdWpoXP9APdvLX3UIUFQxfEUDAOBg+QWFWrn7\n",
              "mGZGxyj5bLYkybMoQIcToKjC+MoGAMBB8myFWrnnmGasj9HxdHuANqpbQ+P7B+mZXn6qXYNv06ja\n",
              "+AoHAOAOy7MV6ovdyZoVFXtZgLppwoBAPdPTX7VqODt4QuDOIEQBALhDcm0FWrHrmGZHxSglI0eS\n",
              "1NjdTRMGBOm3PfwIUFQ7hCgAALdZrq1AK3Yma1Z0rE4UBWgTdzc9FxKkp3v4qaYrAYrqiRAFAOA2\n",
              "yckv0Oc7kzU7OlYnM+0B6lWvpp4LCdKT3ZsToKj2CFEAAMpZTn6Blu9I0uwNsTqVmStJ8vawB+gT\n",
              "3QhQ4BJCFACAcpKTX6DPtidpzoZYpZ63B6iPR009NzBYT3TzlZsLAQpcjhAFAOAWZecV6NPtiZq7\n",
              "MU6niwK0Wf1aen5gkB7rSoAC10KIAgBwky4F6JwNcUrL+jVAXxgYrMe6+qqGi5ODJwQqNkIUAIAy\n",
              "uphn07Jtifp4Y5zSsvIkSb4NamniwGA92oUABUqLEAUAoJQu5Nq0dFui5m2M05kL9gBt3rCWXhxo\n",
              "1m+6NJOrMwEKlAUhCgDADVzItWnJ1kTN2xSns0UB6u9ZWy8MDNZvOhOgwM0iRAEAuIasXJsW/5ig\n",
              "+ZvidO5iviQpwLO2Jg4ya2gnH7kQoMAtIUQBAPgf53Py7QG6OV7pRQHaolEdvTgoWEPuIkCB8kKI\n",
              "AgBQJDMnX4u32AM0I9seoIGN7QH6cEcCFChvhCgAoNrLyM7XJ1sStGBznDJzbJKkoMZ1NMli1kMd\n",
              "feTsZHLwhEDVRIgCAKqtjOx8Ldwcr4Vb4nW+KECDm9TVJItZD3bwJkCB24wQBQBUOxkX87VgS7wW\n",
              "XRagLZvW1YuDzBpMgAJ3DCEKAKg20i/macHmeH2yJUHnc+0B2qqpuyZZzHqgvZecCFDgjiJEAQBV\n",
              "3rkLeZq/OU6Lf0xUVlGAtvZyV7jFrPvaEaCAoxCiAIAq6+yFPM3fFKfFPyboQl6BJKmNdz2FW4J1\n",
              "b1sCFHA0QhQAUOWcycrVvE3xWrI1QReLArStdz2Fh5p1T5umBChQQRCiAIAqIy0rV/M2xmnptsTi\n",
              "AG3nU0+TQ1sqtE0TmUwEKFCREKIAgEovLStXH2+M09KticrOtwdoh2YeCreYZSFAgQqLEAUAVFqp\n",
              "53P08YY4LdueqJz8QknSXb4eCg81a2ArAhSo6AhRAEClk5qZozkb4vTp9kTl2ooCtHl9TQ41K6Rl\n",
              "YwIUqCQIUQBApZGamaPZG2L12fak4gDt7Fdf4RazBhCgQKVDiAIAKryTGTmasyFWn+1IUl5RgHb1\n",
              "b6Bwi1n9zI0IUKCSIkQBABXWiYxszY6O1fKdycUB2s2/gSaHtlTfYE8CFKjkCFEAQIWTkm4P0M93\n",
              "JiuvwB6gPQIaKjzUrD5BBChQVRCiAIAK43h6tmZFxeiLXceKA7RnC3uA9g4kQIGqhhAFADjcsXMX\n",
              "NSs6Vl/sSlZ+gSFJ6hXYUOGWluod5Ong6QDcLoQoAMBhks9e1KzoGH25+1hxgPYJ8lS4xayegQQo\n",
              "UNURogCAOy7pzEXNjIrRyj3HZCu0B2jfYE+FW1qqR4uGDp4OwJ1CiAIA7pikMxc1I8qqlXuOq6Ao\n",
              "QPuZGyncYla3AAIUqG4IUQDAbZeQdkEzomL01U+/Bmj/lo0VbjGrq38DB08HwFEIUQDAbROfdkEf\n",
              "rbfqP3tTigN0QMvGCg81q4sfAQpUd4QoAKDcxZ3O0oz1MVq197iK+lMDWzVWeGhLdWpe36GzAag4\n",
              "CFEAQLmJSc3SjPVWrd6XUhygltZNNMli1l0EKID/QYgCAG5ZTOp5TY+M0Zr9KTKKAjS0jT1AO/rW\n",
              "d+hsACouQhQAcNOsp85r+voYrb0sQO9p21ThFrPaN/Nw7HAAKjynsj7AarWqT58+atmypbp3765D\n",
              "hw5dsaawsFAvvfSS2rdvr9atW2v06NHKy8srvn/t2rVq3bq1zGazHn30UWVmZt7aWQAA7qhfTp7X\n",
              "C5/t0b0fbtSaffYIva9dU3096W7NG9GNCAVQKmUO0fHjx2vcuHE6evSo/vSnPyksLOyKNQsWLNCe\n",
              "PXu0Z88eHT58WE5OToqIiJAkZWVlafTo0Vq1apWsVqt8fHz09ttv3/KJAABuvyMnM/X8p7t134cb\n",
              "9fX+EzIM6f52XvpmUj/Nfbab2vkQoABKr0whmpqaql27dmn48OGSpGHDhik5OVkxMTEl1u3bt0+h\n",
              "oaGqUaOGTCaTHnjgAS1dulSS9O2336pz585q3bq1JOn555/Xv/71r6seLzc3V5mZmSVuBQUFZT5J\n",
              "AMCtOXwiU88t2637P9ykbw6clCQN7uClb8P7ac6zXdXWp56DJwRQGZUpRJOTk+Xt7S0XF/uPlppM\n",
              "Jvn5+SkpKanEuq5du2r16tXKzMxUfn6+VqxYoYSEBElSUlKS/P39i9cGBAToxIkTstlsVxzv3Xff\n",
              "lYeHR4nbjh07ynqOAICbdCglQ+OX7tIDEZv07cGTMpmkBzt667+T+2vWM13VxpsABXDzbsublcLC\n",
              "wpSYmKgBAwaoVq1aCg0N1ffff1/m/UydOlVTpkwpse3Pf/5zeY0JALiGg8czFBFp1Q8/n5Ike4B2\n",
              "8NYki1ktm7o7eDoAVUWZQrR58+bFVy9dXFxkGIaSkpLk5+dXYp3JZNKbb76pN998U5K0fPlytWvX\n",
              "TpLk5+enH374oXhtQkJCiausl3Nzc5Obm1uJbc7OzmUZGQBQBgeO2QN03eFfA/Thjj56cVCwzAQo\n",
              "gHJWppfmmzRpoi5dumjZsmWSpJUrV8rX11fBwcEl1uXk5OjcuXOSpLS0NP3tb3/Tyy+/LEm6//77\n",
              "tWfPHh05ckSSNGvWLD311FO3fCIAgJu3/1i6Rn+yUw/P2Kx1h0/JySQN7eSjH34/QNOf7kyEArgt\n",
              "yvzS/Ny5cxUWFqZp06apXr16WrRokSRpzJgxGjJkiIYMGaKMjAyFhITIyclJhYWFCg8P18MPPyxJ\n",
              "cnd31/z58zV06FDZbDa1b99eixcvLt+zAgCUyt7kdEWsO6qoX05LkpxM0iOdmmnioGAFNa7r4OkA\n",
              "VHUmw7j0K4grhylTpuiDDz5w9BgAUKn9lHROEZFWRV8WoEM7N9PEgcEKJEAB3CH8ZSUAqEZ2J9oD\n",
              "dONRe4A6O5n0m6IADWhUx8HTAahuCFEAqAZ2JZxVRKRVm6xpkuwB+mhn+0vw/p4EKADHIEQBoArb\n",
              "mXBWEeus2hxjD1AXJ5OGdfHVCwOD5edZ28HTAajuCFEAqIK2x51RRKRVP8aekWQP0Me7+er5kGA1\n",
              "b0iAAqgYCFEAqEK2xp5RRORRbYs7K0lydTbpsa7N9XxIEAEKoMIhRAGgkjMMQ1vjzihinVXb438N\n",
              "0Ce6NddzIUHybUCAAqiYCFEAqKQMw9DW2DP6cJ1VOxLsAVrD2UlPdrcHqE/9Wg6eEACujxAFgErG\n",
              "MAxtibG/BL8zwf5X7Go4O+mpHvYA9fYgQAFUDoQoAFQShmFokzVNEZFW7U4sClAXJ/22h58mDAiS\n",
              "l0dNB08IAGVDiAJABWcYhjZa0/ThuqP6KSldkuTm4qSne/jpuZAgNa1HgAKonAhRAKigDMNQ9NHT\n",
              "ilhn1d7kdEn2AH2mp78mDAhUEwIUQCVHiAJABWMYhqJ+SVXEOqv2HcuQJNV0ddLwnv4aNyBQTdwJ\n",
              "UABVAyEKABWEYRhafyRVEZFW7b8sQJ/t5a9x/YPU2N3NwRMCQPkiRAHAwQzD0LrDqZoeadWB4/YA\n",
              "reXqrBG9/TW2f6Aa1SVAAVRNhCgAOIhhGPr+51OaHmnVoZRMSVLtGs4a0TtAY/u1kCcBCqCKI0QB\n",
              "4A4rLLQHaESkVYdP2AO0Tg1njegToLH9AtWwTg0HTwgAdwYhCgB3SGGhof8eOqmISKuOnDwvyR6g\n",
              "YX0DNObuQDUgQAFUM4QoANxmhYWGvj14UtMjrfrllD1A67q56Hd9AzT67haqX5sABVA9EaIAcJsU\n",
              "Fhr65uAJTY+06uipLEmSe1GAjiJAAYAQBYDyVlBo6OsDJ/RRpFXW1KIAremiUX1baFTfFvKo7erg\n",
              "CQGgYiBEAaCcFBQaWrs/RdMjrYo9fUGSVK+mi0bd3UK/69tCHrUIUAC4HCEKALeooNDQmn0pmr7e\n",
              "qriiAPWo5arRd7dQWN8A1atJgALA1RCiAHCTbAWFWr0vRTPWxyguzR6g9Wu7aszdLTSyT4DcCVAA\n",
              "uC5CFADKyFZQqFV7UzQzKkbxlwXo2H6BGtHbnwAFgFIiRAGglGwFhfrqp+OaERWjxDMXJUkNartq\n",
              "bP9AjegdoLpu/JMKAGXBv5oAcAP5BYX6ao89QJPO2gO0YZ0aGtc/UM/28lcdAhQAbgr/egLANeQX\n",
              "FGrl7mOaGR2j5LPZkiTPogAdToACwC3jX1EA+B95tkKt3HNMM9bH6Hi6PUAb1a2h8f2D9EwvP9Wu\n",
              "wT+dAFAe+NcUAIrk2Qr1xe5kzYqKvSxA3TRhQKCe6emvWjWcHTwhAFQthCiAai/XVqAVu45pdlSM\n",
              "UjJyJEmN3d00YUCQftvDjwAFgNuEEAVQbeXaCrRiZ7JmRcfqRFGANnF303MhQXq6h59quhKgAHA7\n",
              "EaIAqp2c/AJ9vjNZs6NjdTLTHqBe9WrquZAgPdm9OQEKAHcIIQqg2sjJL9C/diRpzoZYncrMlWQP\n",
              "0OcHBumJbgQoANxphCiAKi8nv0CfbbcHaOp5e4D6eNTUcwOD9UQ3X7m5EKAA4AiEKIAqKzuvQJ9u\n",
              "T9TcjXE6XRSgzerX0vMDg/RYVwIUAByNEAVQ5VzMs+nTbUmauzFOaVm/BugLA4P1WFdf1XBxcvCE\n",
              "AACJEAVQhVzMs2nZtkR9vDFOaVl5kiTfBrU0cWCwHu1CgAJARUOIAqj0LuTatHRbouZtjNOZC/YA\n",
              "bd6wll4caNZvujSTqzMBCgAVESEKoNLKyrVpydYEzd8Ur7NFAervWVsvDAzWbzoToABQ0RGiACqd\n",
              "rFybFv+YoPmb4nTuYr4kKcCztiYOMmtoJx+5EKAAUCkQogAqjfM5+fYA3Ryv9KIAbdGojl4cFKwh\n",
              "dxGgAFDZEKIAKrzMnHx9siVBCzbHKyPbHqCBjeroRUuwHu5IgAJAZUWIAqiwMrIvBWicMnNskqSg\n",
              "xnU0yWLWQx195OxkcvCEAIBbQYgCqHAysvO1cHO8Fm6J1/miAA1uUleTLGY92MGbAAWAKoIQBVBh\n",
              "ZFzM14It8Vp0WYCaiwJ0MAEKAFUOIQrA4dIv5mnB5nh9siVB53PtAdqqqbsmWcx6oL2XnAhQAKiS\n",
              "CFEADnPuQp7mb47T4h8TlVUUoK293BVuMeu+dgQoAFR1hCiAO+7shTzN3xSnxT8m6EJegSSpjXc9\n",
              "hVuCdW9bAhQAqgtCFMAdcyYrV/M2xWvJ1gRdLArQtt71FB5q1j1tmhKgAFDNEKIAbru0rFzN2xin\n",
              "pdsSiwO0nU89TQ5tqdA2TWQyEaAAUB2VOUStVqtGjhyptLQ0eXh46JNPPlG7du1KrCksLNRLL72k\n",
              "7777Ti4uLvL09NS8efMUHByshIQEBQUFqUOHDsXrV65cqaCgoFs/GwAVyunzuZq3KU5LtyYqO98e\n",
              "oB2aeSjcYpaFAAWAaq/MITp+/HiNGzdOYWFh+vLLLxUWFqadO3eWWLN69Wpt2bJF+/btk6urq955\n",
              "5x298sorWrFihSTJ3d1de/fuLZcTAFDxpJ7P0ccb4rRse6Jy8gslSXf5eig81KyBrQhQAIBdmUI0\n",
              "NTVVu3bt0vfffy9JGjZsmCZOnKiYmBgFBwcXrzOZTMrNzVVOTo5cXFyUmZkpX1/fMg+Xm5ur3Nzc\n",
              "EtsKCgrKvB8Ad0ZqZo7mbIjTp9sTlWsrCtDm9TU51KyQlo0JUABACWUK0eTkZHl7e8vFxf4wk8kk\n",
              "Pz8/JSUllQjRhx9+WFFRUfLy8pK7u7uaNWumDRs2FN9/4cIFde/eXQUFBRo6dKheffVVOTs7X3G8\n",
              "d999V2+99VaJbb169SrTCQK4/U5l5mjOhlh9tj2pOEA7+9VXuMWsAQQoAOAanG7HTnft2qWDBw/q\n",
              "+PHjSklJkcVi0YQJEyRJ3t7eOn78uHbu3Kl169Zp06ZNev/996+6n6lTpyojI6PErUePHrdjZAA3\n",
              "4WRGjt5cfUj9/h6lRVsSlGsrVFf/Bloyqof+/VwfhfAyPADgOsp0RbR58+Y6ceKEbDabXFxcZBiG\n",
              "kpKS5OfnV2LdkiVLNGjQINWvX1+SNHLkSN17772SJDc3NzVp0kSS1LBhQ40aNUqfffaZXn755SuO\n",
              "5+bmJjc3txLbrnblFMCddSIjW7OjY7V8Z7Lyiq6AdvNvoMmhLdU32JP4BACUSpmuiDZp0kRdunTR\n",
              "smXLJNnf7e7r61viZXlJCgwM1Pr165WXlydJWrt2rdq3by/J/nOm+fn5kuw/A/rvf/9bnTt3vuUT\n",
              "AXD7paRn68+rDmrA36O1ZGui8myF6hHQUJ+O6akvJvTW3eZGRCgAoNTK/K75uXPnKiwsTNOmTVO9\n",
              "evW0aNEiSdKYMWM0ZMgQDRkyRC+88IIOHz6su+66S66urvLy8tKcOXMkSZs3b9brr78uZ2dn2Ww2\n",
              "DRo0SK+++mr5nhWAcnU8PVuzomK0Yley8gsMSVKPFg01OdSs3oFcAQUA3ByTYRiGo4coiylTpuiD\n",
              "Dz5w9BhAtXDs3EXNio7VF5cFaK/Ahgq3tFTvIE8HTwcAqOz4y0oArpB89qJmRcfoy93HigO0T5Cn\n",
              "wi1m9QwkQAEA5YMQBVAs6cxFzYyK0co9x2QrtAdo32BPhVtaqkeLhg6eDgBQ1RCiAJR05qJmRFm1\n",
              "cs9xFRQFaD9zI4VbzOoWQIACAG4PQhSoxhLSLmhGVIy++unXAO3fsrHCLWZ19W/g4OkAAFUdIQpU\n",
              "Q/FpF/TReqv+szelOEAHtGys8FCzuvgRoACAO4MQBaqRuNNZmrE+Rqv2HldRf2pgq8aaZDGrMwEK\n",
              "ALjDCFGgGohJzdKM9Vat3pdSHKCW1k00yWLWXc3rO3Q2AED1RYgCVVhM6nlNj4zRmv0puvQbg0Pb\n",
              "2AO0o299h84GAAAhClRB1lPnNX19jNZeFqD3tG2qcItZ7Zt5OHY4AACKEKJAFfLLyfOavt6qbw6c\n",
              "KA7Q+9o11SSLWe18CFAAQMVCiAJVwJGTmZoeadU3B04Wb7u/nZcmWcxq61PPgZMBAHBthChQiR0+\n",
              "YQ/Qbw/+GqCDO3jpxUFmtfEmQAEAFRshClRCh1IyND3Sqv8eOiVJMpmkwR28NWmQWa283B08HQAA\n",
              "pUOIApXIweMZioi06oeffw3QBzt4a5LFrJZNCVAAQOVCiAKVwIFj9gBdd/jXAH24o49eHBQsMwEK\n",
              "AKikCFGgAtt/LF0R66yKPJIqSXIySUPu8tHEQWYFN6nr4OkAALg1hChQAe1NTlfEuqOK+uW0JHuA\n",
              "PtKpmSYOClZQYwIUAFA1EKJABfJT0jlFRFoVfVmADu3cTBMHBiuQAAUAVDGEKFAB7E60B+jGo/YA\n",
              "dXYy6TdFARrQqI6DpwMA4PYgRAEH2pVwVhGRVm2ypkmyB+ijne0vwft7EqAAgKqNEAUcYGfCWUWs\n",
              "s2pzjD1AXZxMGtbFVy8MDJafZ20HTwcAwJ1BiAJ30Pa4M4qItOrH2DOS7AH6eDdfPR8SrOYNCVAA\n",
              "QPVCiAJ3wNbYM4qIPKptcWclSa7OJj3WtbmeDwkiQAEA1RYhCtwmhmFoa9wZRayzanv8rwH6RLfm\n",
              "ei4kSL4NCFAAQPVGiALlzDAM/RhrD9AdCfYAreHspCe72wPUp34tB08IAEDFQIgC5cQwDG2JOaMP\n",
              "1x3VrsRzkuwB+lQPe4B6exCgAABcjhAFbpFhGNpkTVNEpFW7LwWoi5Oe7t5cEwhQAACuiRAFbpJh\n",
              "GNpw9LQiIq36KSldkuTm4qSne/jpuZAgNa1X07EDAgBQwRGiQBkZhqHoo6cVsc6qvcnpkuwB+kxP\n",
              "f00YEKgmBCgAAKVCiAKlZBiGon5JVcQ6q/Ydy5Ak1XS1B+j4AYFq4k6AAgBQFoQocAOGYWj9kVRF\n",
              "RFq1/7IAfbaXv8b1D1JjdzcHTwgAQOVEiALXYBiG1h1O1fRIqw4ctwdoLVdnjejtr7H9A9WoLgEK\n",
              "AMCtIESB/2EYhr7/+ZSmR1p1KCVTklS7hrOe7e2vcf0C5UmAAgBQLghRoEhhoT1AIyKtOnzCHqB1\n",
              "ajhrRJ8Aje0XqIZ1ajh4QgAAqhZCFNVeYaGh/x46qYhIq46cPC/JHqBhfQM05u5ANSBAAQC4LQhR\n",
              "VFuFhYa+PXhS0yOt+uWUPUDrurkorE+ARt/dggAFAOA2I0RR7RQWGvrm4AlNj7Tq6KksSZK7m4t+\n",
              "1zdAo+5uofq1CVAAAO4EQhTVRkGhoa8PnNBHkVZZU4sCtKaLRvVtoVF9W8ijtquDJwQAoHohRFHl\n",
              "FRQaWrs/RdMjrYo9fUGSVK+mi0bd3UK/69tCHrUIUAAAHIEQRZVVUGhozb4UTV9vVVxRgHrUctXo\n",
              "u1sorG+A6tUkQAEAcCRCFFWOraBQq/elaMb6GMWl2QO0fm1Xjbm7hUb2CZA7AQoAQIVAiKLKsBUU\n",
              "atXeFM1Yb1XCmYuS7AE6tl+gRvT2J0ABAKhgCFFUeraCQn3103HNiIpRYlGANqjtqrH9AzWid4Dq\n",
              "uvFlDgBARcR3aFRa+QWF+mqPPUCTztoDtGGdGhrXP1DP9vJXHQIUAIAKje/UqHTyCwq1cvcxzYyO\n",
              "UfLZbEmSZ1GADidAAQCoNPiOjUojz1aolXuOacb6GB1Ptwdoo7o1NL5/kJ7p5afaNfhyBgCgMuE7\n",
              "Nyq8PFuhvtidrFlRsZcFqJsmDAjUMz39VauGs4MnBAAAN4MQRYWVayvQil3HNDsqRikZOZKkxu5u\n",
              "mjAgSL/t4UeAAgBQyRGiqHBybQVasTNZs6JjdaIoQJu4u+m5kCA93cNPNV0JUAAAqgJCFBVGTn6B\n",
              "Pt+ZrNnRsTqZaQ9Qr3o19VxIkJ7s3pwABQCginEq6wOsVqv69Omjli1bqnv37jp06NAVawoLCzVl\n",
              "yhS1bdtWHTt21MCBAxUTE1N8/9q1a9W6dWuZzWY9+uijyszMvLWzQKWWk1+gRVviNeAfUXpj9SGd\n",
              "zMyRV72a+ssj7RT9xxCN7BNAhAIAUAWVOUTHjx+vcePG6ejRo/rTn/6ksLCwK9asXr1aW7Zs0b59\n",
              "+7R//35ZLBa98sorkqSsrCyNHj1aq1atktVqlY+Pj95+++1bPhFUPjn5BVq4OV79/x6lt9b8rFOZ\n",
              "ufL2qKm3h7bXhpdDNKI3AQoAQFVWppfmU1NTtWvXLn3//feSpGHDhmnixImKiYlRcHBw8TqTyaTc\n",
              "3Fzl5OTIxcVFmZmZ8vX1lSR9++236ty5s1q3bi1Jev7553XvvffqH//4xxXHy83NVW5uboltBQUF\n",
              "ZTtDVDjZeQX6dHui5m6M0+nz9ue3Wf1aei4kSI9385WbC/EJAEB1UKYQTU5Olre3t1xc7A8zmUzy\n",
              "8/NTUlJSiRB9+OGHFRUVJS8vL7m7u6tZs2basGGDJCkpKUn+/v7FawMCAnTixAnZbLbi/V7y7rvv\n",
              "6q233iqxrVevXmU7Q1QYF/Ns+nRbkuZujFNa1q8B+sLAYD3W1Vc1XMp8gR4AAFRit+U7/65du3Tw\n",
              "4EEdP35cKSkpslgsmjBhQpn3M3XqVGVkZJS49ejR4zZMjNvpYp5NH2+MVf+/R+mv3xxWWlaufBvU\n",
              "0t8e7aCol0L0255+RCgAANVQma6INm/evMTVS8MwlJSUJD8/vxLrlixZokGDBql+/fqSpJEjR+re\n",
              "e++VJPn5+emHH34oXpuQkFDiKuvl3Nzc5ObmVmKbszMv21YWF3JtWrotUfM2xunMhTxJUvOGtTRx\n",
              "YLAe7eIrV2fiEwCA6qxMJdCkSRN16dJFy5YtkyStXLlSvr6+JV6Wl6TAwECtX79eeXn2+Fi7dq3a\n",
              "t28vSbr//vu1Z88eHTlyRJI0a9YsPfXUU7d8Iqg4snJtmhUdo35/j9Lfvj2iMxfy5O9ZW39/rKPW\n",
              "/yFET3b3I0IBAEDZf4/o3LlzFRYWpmnTpqlevXpatGiRJGnMmDEaMmSIhgwZohdeeEGHDx/WXXfd\n",
              "JVdXV3l5eWnOnDmSJHd3d82fP19Dhw6VzWZT+/bttXjx4vI9KzhEVq5Ni39M0PxNcTp3MV+S5O9Z\n",
              "Wy8OMmtoJx+5EJ8AAOAyJsMwDEcPURZTpkzRBx984OgxcJnzOfn2AN0cr/SiAG3RqI4mDgzWIwQo\n",
              "AAC4Bv6yEm5aZk6+PtmSoAWb45WRbQ/QwEZ19KIlWA93JEABAMD1EaIos4zsSwEap8wcmyQpsHEd\n",
              "hVvMeqijj5ydTA6eEAAAVAaEKEotIztfCzfHa+GWeJ0vCtDgJnX14qBgAhQAAJQZIYobyriYrwWb\n",
              "47RoS4LO59oD1NykriZZzBrcwZsABQAAN4UQxTWlX8zTgs3x+uSyAG3ZtK7CLS31QHsvORGgAADg\n",
              "FhCiuMK5C3mavzlOi39MVFZRgLb2ctcki1n3tyNAAQBA+SBEUezshTzN2xSnJT8m6EJegSSpjXc9\n",
              "hVuCdW9bAhQAAJQvQhQ6k5WreZvitWRrgi4WBWhb73oKDzXrnjZNCVAAAHBbEKLVWFpWruZtjNPS\n",
              "bYnFAdrOp57CLWbd07apTCYCFAAA3D6EaDV0+nyuPt4Yq2XbkpSdbw/QDs08FG4xy9KmCQEKAADu\n",
              "CEK0Gkk9n6OPN8Rp2fZE5eQXSpI6+npocqhZA1sRoAAA4M4iRKuB1MwczdkQp0+3JyrXZg/Qu5rX\n",
              "12SLWSGtGhOgAADAIQjRKuxUZo5mR8fqXzuSigO0s199hVvMGtCSAAUAAI5FiFZBJzNyNGdDrD7b\n",
              "kaS8ogDt4ldfk0Nbqp+5EQEKAAAqBEK0CjmRka3Z0bFavjO5OEC7+TdQeKhZdwcToAAAoGIhRKuA\n",
              "lPRszYqO0Yqdx5RXYA/QHgENFR5qVp8gTwIUAABUSIRoJXY8PVuzomK0Yley8gsMSVKPFg01OdSs\n",
              "3oEEKAAAqNgI0Uro2LmLmhkVqy93/xqgvQIbKtzSUr2DPB08HQAAQOkQopVI8tmLmhUdoy92HZOt\n",
              "0B6gfYI8FW4xq2cgAQoAACoXQrQSSDpzUTOjYrRyz68B2jfYU+GWlurRoqGDpwMAALg5hGgFlnjm\n",
              "gmasj9G/fzqugqIA7WdupHCLWd0CCFAAAFC5EaIVUELaBc2IitFX/xOgk0PN6upPgAIAgKqBEK1A\n",
              "4tMu6KP1Vv1nb0pxgA5o2VjhoWZ18Wvg4OkAAADKFyFaAcSeztKM9TH6z97jKupPDWzVWJMsZnUm\n",
              "QAEAQBVFiDpQTGqWZqy3avW+lOIAHdS6iSZZzOrUvL5DZwMAALjdCFEHiEk9r+mRMVqzP0VGUYCG\n",
              "trEHaEff+g6dDQAA4E4hRO+go6fOa3qkVV8fOFEcoPe0bapwi1ntm3k4djgAAIA7jBC9A345eV7T\n",
              "11v1zWUBem/bpppEgAIAgGqMEL2NjpzM1PRIq745cLJ42/3tvDTJYlZbn3oOnAwAAMDxCNHb4OcU\n",
              "e4B+d+jXAB3cwUsvDjKrjTcBCgAAIBGi5epQSoamR1r130OnJEkmkzS4vbdetASrtRcBCgAAcDlC\n",
              "tBwcPJ6hiEirfvj51wB9sIO3JlnMatnU3cHTAQAAVEyE6C04cCxDEZFHte5wqiR7gD7c0UcvDgqW\n",
              "mQAFAAC4LkL0Juw/lq6IdVZFHrEHqJNJevgue4AGNyFAAQAASoMQLYO9yemKWHdUUb+clmQP0Ec6\n",
              "NdPEQcEKalzXwdMBAABULoRoKfyUdE4RkVZFXxagQzs308SBwQokQAEAAG4KIXode5PT9cEPR7Xx\n",
              "qD1AnZ1MGlp0BbRFozoOng4AAKByI0SvY2f8WW08elrOTiY92tkeoP6eBCgAAEB5IESv45lefjqe\n",
              "nq1RfVvIz7O2o8cBAACoUgjR66hdw0VvDmnn6DEAAACqJCdHDwAAAIDqiRAFAACAQxCiAAAAcAhC\n",
              "FAAAAA5BiAIAAMAhCFEAAAA4BCEKAAAAhyBEAQAA4BCEKAAAAByCEAUAAIBDEKIAAABwCJNhGIaj\n",
              "hyiLRx99VAEBAXfseAUFBdqxY4d69OghZ2fnO3ZclA+ev8qP57Dy4zms/HgOKzdHPH/+/v4KDw+/\n",
              "4bpKF6J3WmZmpjw8PJSRkaF69eo5ehyUEc9f5cdzWPnxHFZ+PIeVW0V+/nhpHgAAAA5BiAIAAMAh\n",
              "CFEAAAA4BCF6A25ubnrjjTfk5ubm6FFwE3j+Kj+ew8qP57Dy4zms3Cry88eblQAAAOAQXBEFAACA\n",
              "QxCiAAAAcAhCFAAAAA5BiAIAAMAhCFEAAAA4xC2FaEBAgFq1aqVOnTqpbdu2mjlzpiTp/Pnzqlu3\n",
              "rkaPHl1ifXR0tGrVqqVOnTqpY8eO6tmzp7Zt21Z8/5tvvqnJkycXf7x06VL5+/vr4MGDio6OVqdO\n",
              "nYrvM5lMCg0NLbH/Ro0aKSEhofjj5cuXq3v37jKbzerWrZv69eunlStXXvec0tPTNXz4cLVv314d\n",
              "O3ZU+/bt9dlnn111/rvvvlv79+8vfuyiRYtkMpm0adOmEvu02Wx666231Lp1a7Vv316dOnXSuHHj\n",
              "lJ6eroSEBDk7O6tTp07Ft549e153Rklau3atunfvrlatWikwMFBjx45Venq6JGnw4MHF+zKZTOrQ\n",
              "oYM6deqkfv36qX///vr444+L95Ofn69OnTrpyy+/vOExAQAAypVxC/z9/Y2ffvrJMAzDSEhIMOrV\n",
              "q2fs27fPmDdvntG/f3+jfv36xvnz54vXR0VFGXfddVfxxx999JHRpk2b4o/feOMNIzw83DAMw4iI\n",
              "iDDMZrMRFxd31cdKMgICAozvvvuueJunp6cRHx9vGIZhzJs3z2jVqpVx6NCh4vuPHDli/P3vf7/u\n",
              "Ob3wwgvG5MmTjcLCQsMwDCMzM9M4evToVWd4//33jS5duhR/3LdvX8NisRgjR44ssc8RI0YYDz30\n",
              "kHH27FnDMAyjsLDQWLFihREbG2vEx8cbHh4e153pf3377beGj4+PsWfPHsMwDCM/P9+YOHGi0atX\n",
              "L6OgoKDEWknGuXPnij+OjY01vL29jYSEBMMwDOO1114zfvvb35bp+AAAAOWh3F6a9/f3V6tWrXT0\n",
              "6FEtWLBAf/rTn9S/f399/vnn13yMxWJRYmLiFdvfeustLVy4UBs3blSLFi2u+fi//OUv+r//+z8Z\n",
              "V/lVqG+++aY+/PBDtW3btnhbq1at9Mc//vG653Hs2DF5e3vLZDJJktzd3WU2m6+69v7779cvv/wi\n",
              "Sfrll18UHx+vJUuWaNWqVcrMzJQkxcTE6IsvvtCiRYvUoEEDSfaruY8//rgCAwOvO8u1vPPOO3r1\n",
              "1VfVuXNnSZKLi4vef/99JScn64cffrjuYwMDA/XGG29o9OjR2rVrl5YuXaoZM2bc1BwAAAC3otxC\n",
              "9MCBAzpy5IjMZrOSk5N13333afTo0VqwYME1H/Pll1/qqaeeKrFt2bJlWr58uaKjo+Xl5XXdYz78\n",
              "8MOqW7du8Uvnl6Smpur48eOleon7f4WHh+u9995T165dNXHiRK1du/aaa5cvX66uXbtKkhYsWKBn\n",
              "n31WPj4+GjRokJYvXy5J2rNnj8xmsxo1anTN/Zw/f77ES/PPPPPMdWfcs2ePevfuXWJbjRo11LVr\n",
              "V+3du/eG5zh+/Hi5urrqnnvu0Zw5c4oDGQAA4E5yudUdPPnkk6pVq5Zq166thQsXasmSJRoxYoSc\n",
              "nZ01ePBgjR8/XocPH1abNm0k2a8cdurUSSdPnpTNZtP27dtL7K9bt246cOCA1q5dq+HDh9/w+O+9\n",
              "956GDx+uxx9//LrrBg4cqLS0NOXl5RVfxbzWuqSkJG3YsEE//vijxo8fr6FDhxb//Oul+SWpZcuW\n",
              "Wrx4sWw2m5YsWaINGzZIkkaNGqW3335b48aNu+H8kv2qa2kCsjRq1apVqnUvvfSSJk+erPvvv79c\n",
              "jgsAAFBWtxyin3/+eXGY5efn6/nnn5erq2vxVcqLFy9qwYIF+uc//ynJ/vL43r17i9c+88wz2rp1\n",
              "a/FL4a1bt9b/+3//T6GhoSosLNSIESOue/w+ffqoY8eOmj17dvG2Jk2aqFmzZtqxY4fuu+8+SVJU\n",
              "VJQSEhJKvOHpWurUqaPBgwdr8ODBeuihh3TvvfcWh+il+S+3atUqpaenFx/LMAylpKTo4MGD6tKl\n",
              "i6xWq86cOSNPT88bHrs0unTpoq1btxa/NC9JeXl52r17t/785z+Xah/Ozs5ydnYul3kAAABuRrn+\n",
              "+qbVq1crMDBQx48fV0JCghISErRt2zYtXbpU+fn5Jda6uroqIiJCx44d06pVq0rc16ZNG0VGRmrq\n",
              "1KlatGjRDY87bdo0vfvuu8rNzS3e9vrrr+v3v/+9jhw5UrztwoULN9zX999/r3PnzhV/vHv3bgUF\n",
              "BV33MQsWLNCHH35YfM6JiYmaMmWKFixYoODgYA0bNkyjR48ufle7YRhauXKl4uLibjjP1bzyyit6\n",
              "5513ioPYZrPpD3/4g0JCQtStW7eb2icAAMCddstXRC+3YMGCK36+sU2bNmrWrJnWrFmjhg0blriv\n",
              "du3a+utf/6o333xTQ4cOLXFf69attX79elksFhUUFCg4OPiax23btq0efPBBLVy4sHjbuHHjVKdO\n",
              "HQ0fPlwZGRlq3LixatasWXxl81oOHDigP/zhDzIMQ05OTvL29tayZcuuuT4lJUWRkZH65JNPSmx/\n",
              "5plnZLFY9N5772nhwoV655131LNnT7m4uKiwsFD9+/eXxWJRenp68c+IXm7Tpk1yd3e/6jEHDx6s\n",
              "OXPmaMyYMcrMzNSJEyf0yCOPaMmSJdc9NwAAgIrEZFztLeeoVKKjo/XMM89o/vz5euCBBxw9DgAA\n",
              "QKkQogAAAHCIcn1pvrLYu3evwsLCrtg+cuRI/f73v7/zA13FN998o1deeeWK7VOnTtWTTz7pgIkA\n",
              "AADKF1dEAQAA4BDl+q55AAAAoLQIUQAAADgEIQoAAACHIEQBAADgEIQoAAAAHIIQBQAAgEMQogAA\n",
              "AHCI/w+WTclKwi87nwAAAABJRU5ErkJggg==\n",
              "\">\n",
              "      </div>\n",
              "      <script type=\"text/javascript\">\n",
              "        (() => {\n",
              "          const chartElement = document.getElementById(\"chart-955aa875-ec94-4630-b1e9-c8c27f85dcb9\");\n",
              "          async function getCodeForChartHandler(event) {\n",
              "            const chartCodeResponse =  await google.colab.kernel.invokeFunction(\n",
              "                'getCodeForChart', [\"chart-955aa875-ec94-4630-b1e9-c8c27f85dcb9\"], {});\n",
              "            const responseJson = chartCodeResponse.data['application/json'];\n",
              "            await google.colab.notebook.addCell(responseJson.code, 'code');\n",
              "          }\n",
              "          chartElement.onclick = getCodeForChartHandler;\n",
              "        })();\n",
              "      </script>\n",
              "      <style>\n",
              "        .colab-quickchart-chart-with-code  {\n",
              "            display: block;\n",
              "            float: left;\n",
              "            border: 1px solid transparent;\n",
              "        }\n",
              "\n",
              "        .colab-quickchart-chart-with-code:hover {\n",
              "            cursor: pointer;\n",
              "            border: 1px solid #aaa;\n",
              "        }\n",
              "      </style>"
            ]
          },
          "metadata": {}
        }
      ]
    },
    {
      "source": [
        "from matplotlib import pyplot as plt\n",
        "_df_2.plot(kind='scatter', x='PARKING_SPACE_QTY', y='SALES_AREA_SIZE_NUM', s=32, alpha=.8)\n",
        "plt.gca().spines[['top', 'right',]].set_visible(False)"
      ],
      "cell_type": "code",
      "metadata": {
        "colab": {
          "base_uri": "https://localhost:8080/",
          "height": 449
        },
        "id": "X5_AfJ9ETSRm",
        "outputId": "440dbe8b-36dc-46d0-c521-6aa2eadca6fb"
      },
      "execution_count": 108,
      "outputs": [
        {
          "output_type": "display_data",
          "data": {
            "text/plain": [
              "<Figure size 640x480 with 1 Axes>"
            ],
            "image/png": "[encoded data removed]"
          },
          "metadata": {}
        }
      ]
    },
    {
      "cell_type": "markdown",
      "source": [
        "Since the correlation of the **PARKING_SPACE_QTY** with **SALES_AREA_SIZE_NUM** is high so we can drop this column as it will not add much value to the model."
      ],
      "metadata": {
        "id": "Zexb6LK6TZBu"
      }
    },
    {
      "cell_type": "code",
      "source": [
        "store_ohe = store_ohe.drop('PARKING_SPACE_QTY',axis=1,inplace=True)"
      ],
      "metadata": {
        "colab": {
          "base_uri": "https://localhost:8080/",
          "height": 287
        },
        "id": "BzqSNJuETJBW",
        "outputId": "fe0a2da3-0084-4cdc-e094-6bb44e5032ae"
      },
      "execution_count": 110,
      "outputs": [
        {
          "output_type": "error",
          "ename": "KeyError",
          "evalue": "\"['PARKING_SPACE_QTY'] not found in axis\"",
          "traceback": [
            "\u001b[0;31m---------------------------------------------------------------------------\u001b[0m",
            "\u001b[0;31mKeyError\u001b[0m                                  Traceback (most recent call last)",
            "\u001b[0;32m/tmp/ipython-input-1132970428.py\u001b[0m in \u001b[0;36m<cell line: 0>\u001b[0;34m()\u001b[0m\n\u001b[0;32m----> 1\u001b[0;31m \u001b[0mstore_ohe\u001b[0m\u001b[0;34m=\u001b[0m\u001b[0mstore_ohe\u001b[0m\u001b[0;34m.\u001b[0m\u001b[0mdrop\u001b[0m\u001b[0;34m(\u001b[0m\u001b[0;34m'PARKING_SPACE_QTY'\u001b[0m\u001b[0;34m,\u001b[0m\u001b[0maxis\u001b[0m\u001b[0;34m=\u001b[0m\u001b[0;36m1\u001b[0m\u001b[0;34m,\u001b[0m\u001b[0minplace\u001b[0m\u001b[0;34m=\u001b[0m\u001b[0;32mTrue\u001b[0m\u001b[0;34m)\u001b[0m\u001b[0;34m\u001b[0m\u001b[0;34m\u001b[0m\u001b[0m\n\u001b[0m",
            "\u001b[0;32m/usr/local/lib/python3.11/dist-packages/pandas/core/frame.py\u001b[0m in \u001b[0;36mdrop\u001b[0;34m(self, labels, axis, index, columns, level, inplace, errors)\u001b[0m\n\u001b[1;32m   5579\u001b[0m                 \u001b[0mweight\u001b[0m  \u001b[0;36m1.0\u001b[0m     \u001b[0;36m0.8\u001b[0m\u001b[0;34m\u001b[0m\u001b[0;34m\u001b[0m\u001b[0m\n\u001b[1;32m   5580\u001b[0m         \"\"\"\n\u001b[0;32m-> 5581\u001b[0;31m         return super().drop(\n\u001b[0m\u001b[1;32m   5582\u001b[0m             \u001b[0mlabels\u001b[0m\u001b[0;34m=\u001b[0m\u001b[0mlabels\u001b[0m\u001b[0;34m,\u001b[0m\u001b[0;34m\u001b[0m\u001b[0;34m\u001b[0m\u001b[0m\n\u001b[1;32m   5583\u001b[0m             \u001b[0maxis\u001b[0m\u001b[0;34m=\u001b[0m\u001b[0maxis\u001b[0m\u001b[0;34m,\u001b[0m\u001b[0;34m\u001b[0m\u001b[0;34m\u001b[0m\u001b[0m\n",
            "\u001b[0;32m/usr/local/lib/python3.11/dist-packages/pandas/core/generic.py\u001b[0m in \u001b[0;36mdrop\u001b[0;34m(self, labels, axis, index, columns, level, inplace, errors)\u001b[0m\n\u001b[1;32m   4786\u001b[0m         \u001b[0;32mfor\u001b[0m \u001b[0maxis\u001b[0m\u001b[0;34m,\u001b[0m \u001b[0mlabels\u001b[0m \u001b[0;32min\u001b[0m \u001b[0maxes\u001b[0m\u001b[0;34m.\u001b[0m\u001b[0mitems\u001b[0m\u001b[0;34m(\u001b[0m\u001b[0;34m)\u001b[0m\u001b[0;34m:\u001b[0m\u001b[0;34m\u001b[0m\u001b[0;34m\u001b[0m\u001b[0m\n\u001b[1;32m   4787\u001b[0m             \u001b[0;32mif\u001b[0m \u001b[0mlabels\u001b[0m \u001b[0;32mis\u001b[0m \u001b[0;32mnot\u001b[0m \u001b[0;32mNone\u001b[0m\u001b[0;34m:\u001b[0m\u001b[0;34m\u001b[0m\u001b[0;34m\u001b[0m\u001b[0m\n\u001b[0;32m-> 4788\u001b[0;31m                 \u001b[0mobj\u001b[0m \u001b[0;34m=\u001b[0m \u001b[0mobj\u001b[0m\u001b[0;34m.\u001b[0m\u001b[0m_drop_axis\u001b[0m\u001b[0;34m(\u001b[0m\u001b[0mlabels\u001b[0m\u001b[0;34m,\u001b[0m \u001b[0maxis\u001b[0m\u001b[0;34m,\u001b[0m \u001b[0mlevel\u001b[0m\u001b[0;34m=\u001b[0m\u001b[0mlevel\u001b[0m\u001b[0;34m,\u001b[0m \u001b[0merrors\u001b[0m\u001b[0;34m=\u001b[0m\u001b[0merrors\u001b[0m\u001b[0;34m)\u001b[0m\u001b[0;34m\u001b[0m\u001b[0;34m\u001b[0m\u001b[0m\n\u001b[0m\u001b[1;32m   4789\u001b[0m \u001b[0;34m\u001b[0m\u001b[0m\n\u001b[1;32m   4790\u001b[0m         \u001b[0;32mif\u001b[0m \u001b[0minplace\u001b[0m\u001b[0;34m:\u001b[0m\u001b[0;34m\u001b[0m\u001b[0;34m\u001b[0m\u001b[0m\n",
            "\u001b[0;32m/usr/local/lib/python3.11/dist-packages/pandas/core/generic.py\u001b[0m in \u001b[0;36m_drop_axis\u001b[0;34m(self, labels, axis, level, errors, only_slice)\u001b[0m\n\u001b[1;32m   4828\u001b[0m                 \u001b[0mnew_axis\u001b[0m \u001b[0;34m=\u001b[0m \u001b[0maxis\u001b[0m\u001b[0;34m.\u001b[0m\u001b[0mdrop\u001b[0m\u001b[0;34m(\u001b[0m\u001b[0mlabels\u001b[0m\u001b[0;34m,\u001b[0m \u001b[0mlevel\u001b[0m\u001b[0;34m=\u001b[0m\u001b[0mlevel\u001b[0m\u001b[0;34m,\u001b[0m \u001b[0merrors\u001b[0m\u001b[0;34m=\u001b[0m\u001b[0merrors\u001b[0m\u001b[0;34m)\u001b[0m\u001b[0;34m\u001b[0m\u001b[0;34m\u001b[0m\u001b[0m\n\u001b[1;32m   4829\u001b[0m             \u001b[0;32melse\u001b[0m\u001b[0;34m:\u001b[0m\u001b[0;34m\u001b[0m\u001b[0;34m\u001b[0m\u001b[0m\n\u001b[0;32m-> 4830\u001b[0;31m                 \u001b[0mnew_axis\u001b[0m \u001b[0;34m=\u001b[0m \u001b[0maxis\u001b[0m\u001b[0;34m.\u001b[0m\u001b[0mdrop\u001b[0m\u001b[0;34m(\u001b[0m\u001b[0mlabels\u001b[0m\u001b[0;34m,\u001b[0m \u001b[0merrors\u001b[0m\u001b[0;34m=\u001b[0m\u001b[0merrors\u001b[0m\u001b[0;34m)\u001b[0m\u001b[0;34m\u001b[0m\u001b[0;34m\u001b[0m\u001b[0m\n\u001b[0m\u001b[1;32m   4831\u001b[0m             \u001b[0mindexer\u001b[0m \u001b[0;34m=\u001b[0m \u001b[0maxis\u001b[0m\u001b[0;34m.\u001b[0m\u001b[0mget_indexer\u001b[0m\u001b[0;34m(\u001b[0m\u001b[0mnew_axis\u001b[0m\u001b[0;34m)\u001b[0m\u001b[0;34m\u001b[0m\u001b[0;34m\u001b[0m\u001b[0m\n\u001b[1;32m   4832\u001b[0m \u001b[0;34m\u001b[0m\u001b[0m\n",
            "\u001b[0;32m/usr/local/lib/python3.11/dist-packages/pandas/core/indexes/base.py\u001b[0m in \u001b[0;36mdrop\u001b[0;34m(self, labels, errors)\u001b[0m\n\u001b[1;32m   7068\u001b[0m         \u001b[0;32mif\u001b[0m \u001b[0mmask\u001b[0m\u001b[0;34m.\u001b[0m\u001b[0many\u001b[0m\u001b[0;34m(\u001b[0m\u001b[0;34m)\u001b[0m\u001b[0;34m:\u001b[0m\u001b[0;34m\u001b[0m\u001b[0;34m\u001b[0m\u001b[0m\n\u001b[1;32m   7069\u001b[0m             \u001b[0;32mif\u001b[0m \u001b[0merrors\u001b[0m \u001b[0;34m!=\u001b[0m \u001b[0;34m\"ignore\"\u001b[0m\u001b[0;34m:\u001b[0m\u001b[0;34m\u001b[0m\u001b[0;34m\u001b[0m\u001b[0m\n\u001b[0;32m-> 7070\u001b[0;31m                 \u001b[0;32mraise\u001b[0m \u001b[0mKeyError\u001b[0m\u001b[0;34m(\u001b[0m\u001b[0;34mf\"{labels[mask].tolist()} not found in axis\"\u001b[0m\u001b[0;34m)\u001b[0m\u001b[0;34m\u001b[0m\u001b[0;34m\u001b[0m\u001b[0m\n\u001b[0m\u001b[1;32m   7071\u001b[0m             \u001b[0mindexer\u001b[0m \u001b[0;34m=\u001b[0m \u001b[0mindexer\u001b[0m\u001b[0;34m[\u001b[0m\u001b[0;34m~\u001b[0m\u001b[0mmask\u001b[0m\u001b[0;34m]\u001b[0m\u001b[0;34m\u001b[0m\u001b[0;34m\u001b[0m\u001b[0m\n\u001b[1;32m   7072\u001b[0m         \u001b[0;32mreturn\u001b[0m \u001b[0mself\u001b[0m\u001b[0;34m.\u001b[0m\u001b[0mdelete\u001b[0m\u001b[0;34m(\u001b[0m\u001b[0mindexer\u001b[0m\u001b[0;34m)\u001b[0m\u001b[0;34m\u001b[0m\u001b[0;34m\u001b[0m\u001b[0m\n",
            "\u001b[0;31mKeyError\u001b[0m: \"['PARKING_SPACE_QTY'] not found in axis\""
          ]
        }
      ]
    },
    {
      "cell_type": "code",
      "source": [
        "store_ohe.info()"
      ],
      "metadata": {
        "colab": {
          "base_uri": "https://localhost:8080/"
        },
        "id": "4Gc93nGiTeFT",
        "outputId": "d23dab12-f542-48fe-fc20-4072de79b9b0"
      },
      "execution_count": 111,
      "outputs": [
        {
          "output_type": "stream",
          "name": "stdout",
          "text": [
            "<class 'pandas.core.frame.DataFrame'>\n",
            "RangeIndex: 76 entries, 0 to 75\n",
            "Data columns (total 17 columns):\n",
            " #   Column                      Non-Null Count  Dtype \n",
            "---  ------                      --------------  ----- \n",
            " 0   STORE_ID                    76 non-null     int32 \n",
            " 1   SEG_VALUE_NAME              76 non-null     object\n",
            " 2   SALES_AREA_SIZE_NUM         76 non-null     int32 \n",
            " 3   AVG_WEEKLY_BASKETS          76 non-null     int32 \n",
            " 4   ADDRESS_STATE_PROV_CODE_IN  76 non-null     bool  \n",
            " 5   ADDRESS_STATE_PROV_CODE_KY  76 non-null     bool  \n",
            " 6   ADDRESS_STATE_PROV_CODE_OH  76 non-null     bool  \n",
            " 7   ADDRESS_STATE_PROV_CODE_TX  76 non-null     bool  \n",
            " 8   MSA_CODE_13140              76 non-null     bool  \n",
            " 9   MSA_CODE_17140              76 non-null     bool  \n",
            " 10  MSA_CODE_17780              76 non-null     bool  \n",
            " 11  MSA_CODE_19100              76 non-null     bool  \n",
            " 12  MSA_CODE_19380              76 non-null     bool  \n",
            " 13  MSA_CODE_26420              76 non-null     bool  \n",
            " 14  MSA_CODE_43300              76 non-null     bool  \n",
            " 15  MSA_CODE_44220              76 non-null     bool  \n",
            " 16  MSA_CODE_47540              76 non-null     bool  \n",
            "dtypes: bool(13), int32(3), object(1)\n",
            "memory usage: 2.6+ KB\n"
          ]
        }
      ]
    },
    {
      "cell_type": "markdown",
      "source": [
        "\n",
        "### `SAVE THE UPDATED FILES`"
      ],
      "metadata": {
        "id": "m0J68LYGTwyN"
      }
    },
    {
      "cell_type": "code",
      "source": [
        "train_df.to_csv('/content/drive/MyDrive/Colab Notebooks/DataSet/processed_train.csv',index=False)\n",
        "store_ohe.to_csv('/content/drive/MyDrive/Colab Notebooks/DataSet/processed_store.csv',index=False)\n",
        "product_df.to_csv('/content/drive/MyDrive/Colab Notebooks/DataSet/processed_product.csv',index=False)"
      ],
      "metadata": {
        "id": "6ImeiDM_Tlbl"
      },
      "execution_count": 112,
      "outputs": []
    },
    {
      "cell_type": "code",
      "source": [],
      "metadata": {
        "id": "P4ojyzj_T_hC"
      },
      "execution_count": null,
      "outputs": []
    }
  ]
}