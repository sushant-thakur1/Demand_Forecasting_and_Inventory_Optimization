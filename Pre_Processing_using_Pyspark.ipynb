{
  "nbformat": 4,
  "nbformat_minor": 0,
  "metadata": {
    "colab": {
      "provenance": []
    },
    "kernelspec": {
      "name": "python3",
      "display_name": "Python 3"
    },
    "language_info": {
      "name": "python"
    }
  },
  "cells": [
    {
      "cell_type": "code",
      "execution_count": 1,
      "metadata": {
        "id": "cXPXsMTQS0HZ",
        "colab": {
          "base_uri": "https://localhost:8080/"
        },
        "outputId": "fbf5c6da-6928-402e-a1df-c6f100699c98"
      },
      "outputs": [
        {
          "output_type": "stream",
          "name": "stdout",
          "text": [
            "Mounted at /content/drive\n"
          ]
        }
      ],
      "source": [
        "from google.colab import drive\n",
        "drive.mount('/content/drive')"
      ]
    },
    {
      "cell_type": "markdown",
      "source": [
        "First we will Pre=Process the categorical features and then the numerical features on all 3 avaliable tales"
      ],
      "metadata": {
        "id": "Xk6Gz-9sw7Pg"
      }
    },
    {
      "cell_type": "markdown",
      "source": [
        "# PREPROCESSING : CATEGORICAL FEATUES\n",
        "- Find out and impute, if we have missing values in the categorical features.\n",
        "- Remove the features which do not add much information\n",
        "- Choose an encoding technique to convert categorical features into numeric"
      ],
      "metadata": {
        "id": "j_R5a9dqxOcQ"
      }
    },
    {
      "cell_type": "code",
      "metadata": {
        "colab": {
          "base_uri": "https://localhost:8080/"
        },
        "id": "5fdb3202",
        "outputId": "9866baa3-c168-4c48-e30c-498e8f10425e"
      },
      "source": [
        "%pip install category_encoders"
      ],
      "execution_count": 2,
      "outputs": [
        {
          "output_type": "stream",
          "name": "stdout",
          "text": [
            "Collecting category_encoders\n",
            "  Downloading category_encoders-2.8.1-py3-none-any.whl.metadata (7.9 kB)\n",
            "Requirement already satisfied: numpy>=1.14.0 in /usr/local/lib/python3.11/dist-packages (from category_encoders) (2.0.2)\n",
            "Requirement already satisfied: pandas>=1.0.5 in /usr/local/lib/python3.11/dist-packages (from category_encoders) (2.2.2)\n",
            "Requirement already satisfied: patsy>=0.5.1 in /usr/local/lib/python3.11/dist-packages (from category_encoders) (1.0.1)\n",
            "Requirement already satisfied: scikit-learn>=1.6.0 in /usr/local/lib/python3.11/dist-packages (from category_encoders) (1.6.1)\n",
            "Requirement already satisfied: scipy>=1.0.0 in /usr/local/lib/python3.11/dist-packages (from category_encoders) (1.16.0)\n",
            "Requirement already satisfied: statsmodels>=0.9.0 in /usr/local/lib/python3.11/dist-packages (from category_encoders) (0.14.5)\n",
            "Requirement already satisfied: python-dateutil>=2.8.2 in /usr/local/lib/python3.11/dist-packages (from pandas>=1.0.5->category_encoders) (2.9.0.post0)\n",
            "Requirement already satisfied: pytz>=2020.1 in /usr/local/lib/python3.11/dist-packages (from pandas>=1.0.5->category_encoders) (2025.2)\n",
            "Requirement already satisfied: tzdata>=2022.7 in /usr/local/lib/python3.11/dist-packages (from pandas>=1.0.5->category_encoders) (2025.2)\n",
            "Requirement already satisfied: joblib>=1.2.0 in /usr/local/lib/python3.11/dist-packages (from scikit-learn>=1.6.0->category_encoders) (1.5.1)\n",
            "Requirement already satisfied: threadpoolctl>=3.1.0 in /usr/local/lib/python3.11/dist-packages (from scikit-learn>=1.6.0->category_encoders) (3.6.0)\n",
            "Requirement already satisfied: packaging>=21.3 in /usr/local/lib/python3.11/dist-packages (from statsmodels>=0.9.0->category_encoders) (25.0)\n",
            "Requirement already satisfied: six>=1.5 in /usr/local/lib/python3.11/dist-packages (from python-dateutil>=2.8.2->pandas>=1.0.5->category_encoders) (1.17.0)\n",
            "Downloading category_encoders-2.8.1-py3-none-any.whl (85 kB)\n",
            "\u001b[2K   \u001b[90m━━━━━━━━━━━━━━━━━━━━━━━━━━━━━━━━━━━━━━━━\u001b[0m \u001b[32m85.7/85.7 kB\u001b[0m \u001b[31m984.9 kB/s\u001b[0m eta \u001b[36m0:00:00\u001b[0m\n",
            "\u001b[?25hInstalling collected packages: category_encoders\n",
            "Successfully installed category_encoders-2.8.1\n"
          ]
        }
      ]
    },
    {
      "cell_type": "code",
      "source": [
        "import pandas as pd\n",
        "import numpy as np\n",
        "import category_encoders as ce\n",
        "\n",
        "import warnings\n",
        "warnings.filterwarnings('ignore')\n",
        "import matplotlib.pyplot as plt\n",
        "import seaborn as sns"
      ],
      "metadata": {
        "id": "m9UD5u9Mv0ZN"
      },
      "execution_count": 3,
      "outputs": []
    },
    {
      "cell_type": "markdown",
      "metadata": {
        "id": "f48c08dc"
      },
      "source": [
        "## Setup pyspark\n",
        "\n",
        "- Install PySpark and its dependencies.\n"
      ]
    },
    {
      "cell_type": "code",
      "metadata": {
        "colab": {
          "base_uri": "https://localhost:8080/"
        },
        "id": "9ff98ba6",
        "outputId": "d9c4f515-ea95-4cca-f1d5-8213452750e2"
      },
      "source": [
        "%pip install pyspark findspark"
      ],
      "execution_count": 4,
      "outputs": [
        {
          "output_type": "stream",
          "name": "stdout",
          "text": [
            "Requirement already satisfied: pyspark in /usr/local/lib/python3.11/dist-packages (3.5.1)\n",
            "Collecting findspark\n",
            "  Downloading findspark-2.0.1-py2.py3-none-any.whl.metadata (352 bytes)\n",
            "Requirement already satisfied: py4j==0.10.9.7 in /usr/local/lib/python3.11/dist-packages (from pyspark) (0.10.9.7)\n",
            "Downloading findspark-2.0.1-py2.py3-none-any.whl (4.4 kB)\n",
            "Installing collected packages: findspark\n",
            "Successfully installed findspark-2.0.1\n"
          ]
        }
      ]
    },
    {
      "cell_type": "markdown",
      "metadata": {
        "id": "3681cfd1"
      },
      "source": [
        "## Create spark session\n",
        "\n",
        "- Initialize a Spark session to work with Spark DataFrames.\n"
      ]
    },
    {
      "cell_type": "code",
      "metadata": {
        "colab": {
          "base_uri": "https://localhost:8080/"
        },
        "id": "724afef9",
        "outputId": "97909800-626e-4753-b95a-ff255d960732"
      },
      "source": [
        "from pyspark.sql import SparkSession\n",
        "\n",
        "spark = SparkSession.builder.appName('DataPreprocessing').getOrCreate()\n",
        "print(spark.sparkContext.appName)"
      ],
      "execution_count": 5,
      "outputs": [
        {
          "output_type": "stream",
          "name": "stdout",
          "text": [
            "DataPreprocessing\n"
          ]
        }
      ]
    },
    {
      "cell_type": "markdown",
      "metadata": {
        "id": "98220304"
      },
      "source": [
        "## Load data\n",
        "\n",
        "Load the three datasets (`product_data.csv`, `train.csv`, and `store_data.csv`) into Spark DataFrames.\n"
      ]
    },
    {
      "cell_type": "markdown",
      "metadata": {
        "id": "7fbe70af"
      },
      "source": [
        "**Reasoning**:\n",
        "Load the three CSV files into Spark DataFrames, inferring the schema and assuming headers.\n",
        "\n"
      ]
    },
    {
      "cell_type": "code",
      "source": [
        "product = spark.read.csv('/content/drive/MyDrive/Colab Notebooks/DataSet/product_data.csv',header = True,inferSchema =True)\n",
        "store = spark.read.csv('/content/drive/MyDrive/Colab Notebooks/DataSet/store_data.csv',header =True,inferSchema =True)\n",
        "train = spark.read.csv('/content/drive/MyDrive/Colab Notebooks/DataSet/train.csv',header =True,inferSchema =True)"
      ],
      "metadata": {
        "id": "7cZc8ONIzvgk"
      },
      "execution_count": 107,
      "outputs": []
    },
    {
      "cell_type": "code",
      "source": [
        "product.show(5)"
      ],
      "metadata": {
        "colab": {
          "base_uri": "https://localhost:8080/"
        },
        "id": "O8RwyWTo0QEG",
        "outputId": "a30119a0-1d46-47a9-9b27-e70736bafa47"
      },
      "execution_count": 108,
      "outputs": [
        {
          "output_type": "stream",
          "name": "stdout",
          "text": [
            "+----------+--------------------+-------------+--------------------+--------------------+------------+\n",
            "|       UPC|         DESCRIPTION| MANUFACTURER|            CATEGORY|        SUB_CATEGORY|PRODUCT_SIZE|\n",
            "+----------+--------------------+-------------+--------------------+--------------------+------------+\n",
            "|1111009477|PL MINI TWIST PRE...|PRIVATE LABEL|          BAG SNACKS|            PRETZELS|       15 OZ|\n",
            "|1111009497|   PL PRETZEL STICKS|PRIVATE LABEL|          BAG SNACKS|            PRETZELS|       15 OZ|\n",
            "|1111009507|   PL TWIST PRETZELS|PRIVATE LABEL|          BAG SNACKS|            PRETZELS|       15 OZ|\n",
            "|1111038078|PL BL MINT ANTSPT...|PRIVATE LABEL|ORAL HYGIENE PROD...|MOUTHWASHES (ANTI...|      500 ML|\n",
            "|1111038080|PL ANTSPTC SPG MN...|PRIVATE LABEL|ORAL HYGIENE PROD...|MOUTHWASHES (ANTI...|      500 ML|\n",
            "+----------+--------------------+-------------+--------------------+--------------------+------------+\n",
            "only showing top 5 rows\n",
            "\n"
          ]
        }
      ]
    },
    {
      "cell_type": "code",
      "source": [
        "store.show(5)"
      ],
      "metadata": {
        "colab": {
          "base_uri": "https://localhost:8080/"
        },
        "id": "e5s9tDVp1U1q",
        "outputId": "69d5f251-6ef4-4d9b-da38-3dad93015c22"
      },
      "execution_count": 109,
      "outputs": [
        {
          "output_type": "stream",
          "name": "stdout",
          "text": [
            "+--------+------------------+-----------------+-----------------------+--------+--------------+-----------------+-------------------+------------------+\n",
            "|STORE_ID|        STORE_NAME|ADDRESS_CITY_NAME|ADDRESS_STATE_PROV_CODE|MSA_CODE|SEG_VALUE_NAME|PARKING_SPACE_QTY|SALES_AREA_SIZE_NUM|AVG_WEEKLY_BASKETS|\n",
            "+--------+------------------+-----------------+-----------------------+--------+--------------+-----------------+-------------------+------------------+\n",
            "|     367|    15TH & MADISON|        COVINGTON|                     KY|   17140|         VALUE|              196|              24721|             12707|\n",
            "|     389|        SILVERLAKE|         ERLANGER|                     KY|   17140|    MAINSTREAM|              408|              46073|             24767|\n",
            "|     613|        EAST ALLEN|            ALLEN|                     TX|   19100|    MAINSTREAM|              464|              64926|             29386|\n",
            "|     623|           HOUSTON|          HOUSTON|                     TX|   26420|    MAINSTREAM|             NULL|              46930|             36741|\n",
            "|    2277|ANDERSON TOWNE CTR|       CINCINNATI|                     OH|   17140|       UPSCALE|             NULL|              81958|             54053|\n",
            "+--------+------------------+-----------------+-----------------------+--------+--------------+-----------------+-------------------+------------------+\n",
            "only showing top 5 rows\n",
            "\n"
          ]
        }
      ]
    },
    {
      "cell_type": "code",
      "source": [
        "train.show(5)"
      ],
      "metadata": {
        "colab": {
          "base_uri": "https://localhost:8080/"
        },
        "id": "zyv6nsXZ1Y7e",
        "outputId": "77b4894e-ac72-45e0-b229-caeabd170a45"
      },
      "execution_count": 110,
      "outputs": [
        {
          "output_type": "stream",
          "name": "stdout",
          "text": [
            "+-------------+---------+----------+----------+-------+-------+-----+\n",
            "|WEEK_END_DATE|STORE_NUM|       UPC|BASE_PRICE|FEATURE|DISPLAY|UNITS|\n",
            "+-------------+---------+----------+----------+-------+-------+-----+\n",
            "|    14-Jan-09|      367|1111009477|      1.57|      0|      0|   13|\n",
            "|    14-Jan-09|      367|1111009497|      1.39|      0|      0|   20|\n",
            "|    14-Jan-09|      367|1111085319|      1.88|      0|      0|   14|\n",
            "|    14-Jan-09|      367|1111085345|      1.88|      0|      0|   29|\n",
            "|    14-Jan-09|      367|1111085350|      1.98|      0|      0|   35|\n",
            "+-------------+---------+----------+----------+-------+-------+-----+\n",
            "only showing top 5 rows\n",
            "\n"
          ]
        }
      ]
    },
    {
      "cell_type": "markdown",
      "source": [
        "### `DATASET 1:WEEKLY SALES DATA` has the following features\n",
        "\n",
        "- **WEEK_END_DATE** - week date\n",
        "- **STORE_NUM** - store number\n",
        "- **UPC** - (Universal Product Code) product specific identifier\n",
        "- **BASE_PRICE** - base price of item\n",
        "- **DISPLAY** - product was a part of in-store promotional display\n",
        "- **FEATURE** - product was in in-store circular\n",
        "- **UNITS** - units sold (target)"
      ],
      "metadata": {
        "id": "w5gExPIJ1m8l"
      }
    },
    {
      "cell_type": "code",
      "source": [
        "train.printSchema()"
      ],
      "metadata": {
        "colab": {
          "base_uri": "https://localhost:8080/"
        },
        "id": "TDJzBgei1bwi",
        "outputId": "b7f6bed9-7934-4ed8-a4b7-0e8e518d197f"
      },
      "execution_count": 111,
      "outputs": [
        {
          "output_type": "stream",
          "name": "stdout",
          "text": [
            "root\n",
            " |-- WEEK_END_DATE: string (nullable = true)\n",
            " |-- STORE_NUM: integer (nullable = true)\n",
            " |-- UPC: long (nullable = true)\n",
            " |-- BASE_PRICE: double (nullable = true)\n",
            " |-- FEATURE: integer (nullable = true)\n",
            " |-- DISPLAY: integer (nullable = true)\n",
            " |-- UNITS: integer (nullable = true)\n",
            "\n"
          ]
        }
      ]
    },
    {
      "cell_type": "markdown",
      "source": [
        "`WEEKLY SALES DATA` data has following categorical features\n",
        "- STORE_NUM\n",
        "- UPC\n",
        "- FEATURE\n",
        "- DISPLAY"
      ],
      "metadata": {
        "id": "t1xqZw792UOs"
      }
    },
    {
      "cell_type": "code",
      "metadata": {
        "colab": {
          "base_uri": "https://localhost:8080/"
        },
        "id": "c1cb5674",
        "outputId": "73b3b74e-4638-4566-fa6c-5a36ac084df0"
      },
      "source": [
        "from pyspark.sql.functions import count, when, isnull\n",
        "from pyspark.sql.functions import col\n",
        "\n",
        "train.select([count(when(isnull(c),c)).alias(c) for c in train.columns]).show()"
      ],
      "execution_count": 112,
      "outputs": [
        {
          "output_type": "stream",
          "name": "stdout",
          "text": [
            "+-------------+---------+---+----------+-------+-------+-----+\n",
            "|WEEK_END_DATE|STORE_NUM|UPC|BASE_PRICE|FEATURE|DISPLAY|UNITS|\n",
            "+-------------+---------+---+----------+-------+-------+-----+\n",
            "|            0|        0|  0|        12|      0|      0|    0|\n",
            "+-------------+---------+---+----------+-------+-------+-----+\n",
            "\n"
          ]
        }
      ]
    },
    {
      "cell_type": "markdown",
      "source": [
        "***No Null Values***\n",
        "\n",
        "\n",
        " -  `STORE_NUM` - No changes required as it is a key and will be used to merge tables later.\n",
        " -  `UPC      ` - No changes required as it is a key and will be used to merge tables later.\n",
        " -  `FEATURE  ` - No Preprocessing Required\n",
        " -  `DISPLAY  ` - No Preprocessing Required"
      ],
      "metadata": {
        "id": "w5IQEirlACZE"
      }
    },
    {
      "cell_type": "markdown",
      "source": [
        "### `DATASET 2: PRODUCT DATA` contains the following details about the products\n",
        "\n",
        "- **UPC** - (Universal Product Code) product specific identifier\n",
        "- **DESCRIPTION**\t- product description\n",
        "- **MANUFACTURER** - product\tmanufacturer\n",
        "- **CATEGORY** - category of product\n",
        "- **SUB_CATEGORY** - sub-category of product\n",
        "- **PRODUCT_SIZE** - package size or quantity of product"
      ],
      "metadata": {
        "id": "LLTAV3acAHb4"
      }
    },
    {
      "cell_type": "code",
      "source": [
        "product.printSchema()"
      ],
      "metadata": {
        "colab": {
          "base_uri": "https://localhost:8080/"
        },
        "id": "tT8m20Tp-xoO",
        "outputId": "bf81addb-865f-48ab-f8df-c29fa9659a13"
      },
      "execution_count": 113,
      "outputs": [
        {
          "output_type": "stream",
          "name": "stdout",
          "text": [
            "root\n",
            " |-- UPC: long (nullable = true)\n",
            " |-- DESCRIPTION: string (nullable = true)\n",
            " |-- MANUFACTURER: string (nullable = true)\n",
            " |-- CATEGORY: string (nullable = true)\n",
            " |-- SUB_CATEGORY: string (nullable = true)\n",
            " |-- PRODUCT_SIZE: string (nullable = true)\n",
            "\n"
          ]
        }
      ]
    },
    {
      "cell_type": "code",
      "source": [
        "product.show(5)"
      ],
      "metadata": {
        "colab": {
          "base_uri": "https://localhost:8080/"
        },
        "id": "oDrVmVaDAMmU",
        "outputId": "6076a911-f473-48ba-bc45-36df947e178d"
      },
      "execution_count": 114,
      "outputs": [
        {
          "output_type": "stream",
          "name": "stdout",
          "text": [
            "+----------+--------------------+-------------+--------------------+--------------------+------------+\n",
            "|       UPC|         DESCRIPTION| MANUFACTURER|            CATEGORY|        SUB_CATEGORY|PRODUCT_SIZE|\n",
            "+----------+--------------------+-------------+--------------------+--------------------+------------+\n",
            "|1111009477|PL MINI TWIST PRE...|PRIVATE LABEL|          BAG SNACKS|            PRETZELS|       15 OZ|\n",
            "|1111009497|   PL PRETZEL STICKS|PRIVATE LABEL|          BAG SNACKS|            PRETZELS|       15 OZ|\n",
            "|1111009507|   PL TWIST PRETZELS|PRIVATE LABEL|          BAG SNACKS|            PRETZELS|       15 OZ|\n",
            "|1111038078|PL BL MINT ANTSPT...|PRIVATE LABEL|ORAL HYGIENE PROD...|MOUTHWASHES (ANTI...|      500 ML|\n",
            "|1111038080|PL ANTSPTC SPG MN...|PRIVATE LABEL|ORAL HYGIENE PROD...|MOUTHWASHES (ANTI...|      500 ML|\n",
            "+----------+--------------------+-------------+--------------------+--------------------+------------+\n",
            "only showing top 5 rows\n",
            "\n"
          ]
        }
      ]
    },
    {
      "cell_type": "markdown",
      "source": [
        "### `PRODUCT DATA`  has the following categorical features\n",
        "\n",
        "    - UPC\n",
        "    - DESCRIPTION\n",
        "    - MANUFACTURER\n",
        "    - CATEGORY\n",
        "    - SUB_CATEGORY\n",
        "    - PRODUCT_SIZE"
      ],
      "metadata": {
        "id": "uDu9LFt1AWko"
      }
    },
    {
      "cell_type": "code",
      "source": [
        "row_count = product.count()\n",
        "col_count = len(product.columns)\n",
        "print(f\"Shape: ({row_count},{col_count})\")"
      ],
      "metadata": {
        "colab": {
          "base_uri": "https://localhost:8080/"
        },
        "id": "48K4v-wkAT3S",
        "outputId": "819788d0-2720-4d70-a78d-19608bb12bf1"
      },
      "execution_count": 115,
      "outputs": [
        {
          "output_type": "stream",
          "name": "stdout",
          "text": [
            "Shape: (30,6)\n"
          ]
        }
      ]
    },
    {
      "cell_type": "code",
      "source": [
        "product.select([count(when(isnull(c),c)).alias(c) for c in product.columns]).show()"
      ],
      "metadata": {
        "colab": {
          "base_uri": "https://localhost:8080/"
        },
        "id": "NmZwemqrAdPw",
        "outputId": "301a92bf-d6c0-46d5-de68-f88cff0d9152"
      },
      "execution_count": 116,
      "outputs": [
        {
          "output_type": "stream",
          "name": "stdout",
          "text": [
            "+---+-----------+------------+--------+------------+------------+\n",
            "|UPC|DESCRIPTION|MANUFACTURER|CATEGORY|SUB_CATEGORY|PRODUCT_SIZE|\n",
            "+---+-----------+------------+--------+------------+------------+\n",
            "|  0|          0|           0|       0|           0|           0|\n",
            "+---+-----------+------------+--------+------------+------------+\n",
            "\n"
          ]
        }
      ]
    },
    {
      "cell_type": "code",
      "source": [
        "product.select(\"CATEGORY\").distinct().show()"
      ],
      "metadata": {
        "colab": {
          "base_uri": "https://localhost:8080/"
        },
        "id": "zZ19orfPBcuM",
        "outputId": "c95e7f5c-a69b-41ff-a17b-876087574f14"
      },
      "execution_count": 117,
      "outputs": [
        {
          "output_type": "stream",
          "name": "stdout",
          "text": [
            "+--------------------+\n",
            "|            CATEGORY|\n",
            "+--------------------+\n",
            "|         COLD CEREAL|\n",
            "|        FROZEN PIZZA|\n",
            "|ORAL HYGIENE PROD...|\n",
            "|          BAG SNACKS|\n",
            "+--------------------+\n",
            "\n"
          ]
        }
      ]
    },
    {
      "cell_type": "code",
      "source": [
        "product.select(\"CATEGORY\").distinct().count()"
      ],
      "metadata": {
        "colab": {
          "base_uri": "https://localhost:8080/"
        },
        "id": "SM9cLsUsFg3w",
        "outputId": "1f7be1a3-98ea-4ea4-a21c-ed638affb9fa"
      },
      "execution_count": 118,
      "outputs": [
        {
          "output_type": "execute_result",
          "data": {
            "text/plain": [
              "4"
            ]
          },
          "metadata": {},
          "execution_count": 118
        }
      ]
    },
    {
      "cell_type": "markdown",
      "source": [
        " - `DESCRIPTION` - In the description, we have category, subcategory and size of the product and these are already present in the other features as well. So, We will drop this feature as it will not add much value to the model.\n",
        " - `MANUFACTURER`, `CATEGORY`, `SUB_CATEGORY`- As, there is no order in the given categories, so we will One Hot Encode this features.\n",
        " - `PRODUCT_SIZE` - The product size units are different for different categories of products. For oral hygiene products product size are 500 ML and 1L. So we will convert them into OZ"
      ],
      "metadata": {
        "id": "4aLGlBVaFv6r"
      }
    },
    {
      "cell_type": "code",
      "source": [
        "#Dropping DESCRIPTION Feature\n",
        "product = product.drop(\"DESCRIPTION\")"
      ],
      "metadata": {
        "id": "k5RHOuAPFlX8"
      },
      "execution_count": 119,
      "outputs": []
    },
    {
      "cell_type": "code",
      "source": [
        "product.show(5)"
      ],
      "metadata": {
        "colab": {
          "base_uri": "https://localhost:8080/"
        },
        "id": "vValObZUF0eA",
        "outputId": "ed8fd85e-97dc-45f1-9bd5-b55a135753ca"
      },
      "execution_count": 120,
      "outputs": [
        {
          "output_type": "stream",
          "name": "stdout",
          "text": [
            "+----------+-------------+--------------------+--------------------+------------+\n",
            "|       UPC| MANUFACTURER|            CATEGORY|        SUB_CATEGORY|PRODUCT_SIZE|\n",
            "+----------+-------------+--------------------+--------------------+------------+\n",
            "|1111009477|PRIVATE LABEL|          BAG SNACKS|            PRETZELS|       15 OZ|\n",
            "|1111009497|PRIVATE LABEL|          BAG SNACKS|            PRETZELS|       15 OZ|\n",
            "|1111009507|PRIVATE LABEL|          BAG SNACKS|            PRETZELS|       15 OZ|\n",
            "|1111038078|PRIVATE LABEL|ORAL HYGIENE PROD...|MOUTHWASHES (ANTI...|      500 ML|\n",
            "|1111038080|PRIVATE LABEL|ORAL HYGIENE PROD...|MOUTHWASHES (ANTI...|      500 ML|\n",
            "+----------+-------------+--------------------+--------------------+------------+\n",
            "only showing top 5 rows\n",
            "\n"
          ]
        }
      ]
    },
    {
      "cell_type": "code",
      "source": [
        "# Processing Product_Size column by spliting numeric and unit string\n",
        "from pyspark.sql.functions import split, col, regexp_extract\n",
        "\n",
        "product = product.withColumn(\"PRODUCT_SIZE\", split(col('PRODUCT_SIZE'),\" \").getItem(0).cast('float'))\n",
        "\n",
        "product.show(5)"
      ],
      "metadata": {
        "colab": {
          "base_uri": "https://localhost:8080/"
        },
        "id": "O7fyffdDF8X9",
        "outputId": "ba4875eb-1383-4ff5-ecc8-a183841db012"
      },
      "execution_count": 121,
      "outputs": [
        {
          "output_type": "stream",
          "name": "stdout",
          "text": [
            "+----------+-------------+--------------------+--------------------+------------+\n",
            "|       UPC| MANUFACTURER|            CATEGORY|        SUB_CATEGORY|PRODUCT_SIZE|\n",
            "+----------+-------------+--------------------+--------------------+------------+\n",
            "|1111009477|PRIVATE LABEL|          BAG SNACKS|            PRETZELS|        15.0|\n",
            "|1111009497|PRIVATE LABEL|          BAG SNACKS|            PRETZELS|        15.0|\n",
            "|1111009507|PRIVATE LABEL|          BAG SNACKS|            PRETZELS|        15.0|\n",
            "|1111038078|PRIVATE LABEL|ORAL HYGIENE PROD...|MOUTHWASHES (ANTI...|       500.0|\n",
            "|1111038080|PRIVATE LABEL|ORAL HYGIENE PROD...|MOUTHWASHES (ANTI...|       500.0|\n",
            "+----------+-------------+--------------------+--------------------+------------+\n",
            "only showing top 5 rows\n",
            "\n"
          ]
        }
      ]
    },
    {
      "cell_type": "code",
      "source": [
        "from pyspark.sql.functions import collect_set\n",
        "product.groupBy('CATEGORY').agg(collect_set(col(\"PRODUCT_SIZE\")).alias(\"Unique_Product_Sizes\")).show(truncate=False)"
      ],
      "metadata": {
        "colab": {
          "base_uri": "https://localhost:8080/"
        },
        "id": "PSXLyMZuIiee",
        "outputId": "edf6ff85-41c5-4106-a342-b5b0ffc6adbb"
      },
      "execution_count": 122,
      "outputs": [
        {
          "output_type": "stream",
          "name": "stdout",
          "text": [
            "+---------------------+-------------------------------------+\n",
            "|CATEGORY             |Unique_Product_Sizes                 |\n",
            "+---------------------+-------------------------------------+\n",
            "|COLD CEREAL          |[12.0, 20.0, 12.25, 18.0, 12.2, 15.0]|\n",
            "|FROZEN PIZZA         |[29.6, 28.3, 30.5, 29.8, 32.7, 22.7] |\n",
            "|ORAL HYGIENE PRODUCTS|[1.0, 500.0]                         |\n",
            "|BAG SNACKS           |[10.0, 16.0, 15.0]                   |\n",
            "+---------------------+-------------------------------------+\n",
            "\n"
          ]
        }
      ]
    },
    {
      "cell_type": "code",
      "source": [
        "product.filter(col(\"PRODUCT_SIZE\") == 1.00).show()"
      ],
      "metadata": {
        "colab": {
          "base_uri": "https://localhost:8080/"
        },
        "id": "LyByEwV7Kv05",
        "outputId": "fc1a30b3-1c54-4e85-e25c-ccd76ec4bd6f"
      },
      "execution_count": 123,
      "outputs": [
        {
          "output_type": "stream",
          "name": "stdout",
          "text": [
            "+-----------+------------+--------------------+--------------------+------------+\n",
            "|        UPC|MANUFACTURER|            CATEGORY|        SUB_CATEGORY|PRODUCT_SIZE|\n",
            "+-----------+------------+--------------------+--------------------+------------+\n",
            "| 3700031613|       P & G|ORAL HYGIENE PROD...|MOUTHWASH/RINSES ...|         1.0|\n",
            "| 3700044982|       P & G|ORAL HYGIENE PROD...|MOUTHWASHES (ANTI...|         1.0|\n",
            "|31254742735|      WARNER|ORAL HYGIENE PROD...|MOUTHWASHES (ANTI...|         1.0|\n",
            "|31254742835|      WARNER|ORAL HYGIENE PROD...|MOUTHWASHES (ANTI...|         1.0|\n",
            "+-----------+------------+--------------------+--------------------+------------+\n",
            "\n"
          ]
        }
      ]
    },
    {
      "cell_type": "code",
      "source": [
        "product.filter(product.PRODUCT_SIZE == 500).show()"
      ],
      "metadata": {
        "colab": {
          "base_uri": "https://localhost:8080/"
        },
        "id": "fyOehDtHLsuF",
        "outputId": "59d59fe2-5563-4fb8-d840-2fe3545bc742"
      },
      "execution_count": 124,
      "outputs": [
        {
          "output_type": "stream",
          "name": "stdout",
          "text": [
            "+----------+-------------+--------------------+--------------------+------------+\n",
            "|       UPC| MANUFACTURER|            CATEGORY|        SUB_CATEGORY|PRODUCT_SIZE|\n",
            "+----------+-------------+--------------------+--------------------+------------+\n",
            "|1111038078|PRIVATE LABEL|ORAL HYGIENE PROD...|MOUTHWASHES (ANTI...|       500.0|\n",
            "|1111038080|PRIVATE LABEL|ORAL HYGIENE PROD...|MOUTHWASHES (ANTI...|       500.0|\n",
            "+----------+-------------+--------------------+--------------------+------------+\n",
            "\n"
          ]
        }
      ]
    },
    {
      "cell_type": "markdown",
      "source": [
        "##### As ORAL HYGIENE PRODUCTS comes in two size 500 ml and 1 L , converting then to oz as other products"
      ],
      "metadata": {
        "id": "OOW1FLfZMUwQ"
      }
    },
    {
      "cell_type": "code",
      "source": [
        "product = product.withColumn(\n",
        "    \"PRODUCT_SIZE\",\n",
        "    when(product.PRODUCT_SIZE == 500.00, 17.00)\n",
        "    .when(product.PRODUCT_SIZE == 1.00, 34.00)\n",
        "    .otherwise(product.PRODUCT_SIZE)\n",
        ")"
      ],
      "metadata": {
        "id": "AFE1eK2YMzKI"
      },
      "execution_count": 125,
      "outputs": []
    },
    {
      "cell_type": "code",
      "source": [
        "product.show(5)"
      ],
      "metadata": {
        "colab": {
          "base_uri": "https://localhost:8080/"
        },
        "id": "8954zDdVLNTq",
        "outputId": "18a47c88-158b-489a-da27-3dedbe8ac3ef"
      },
      "execution_count": 126,
      "outputs": [
        {
          "output_type": "stream",
          "name": "stdout",
          "text": [
            "+----------+-------------+--------------------+--------------------+------------+\n",
            "|       UPC| MANUFACTURER|            CATEGORY|        SUB_CATEGORY|PRODUCT_SIZE|\n",
            "+----------+-------------+--------------------+--------------------+------------+\n",
            "|1111009477|PRIVATE LABEL|          BAG SNACKS|            PRETZELS|        15.0|\n",
            "|1111009497|PRIVATE LABEL|          BAG SNACKS|            PRETZELS|        15.0|\n",
            "|1111009507|PRIVATE LABEL|          BAG SNACKS|            PRETZELS|        15.0|\n",
            "|1111038078|PRIVATE LABEL|ORAL HYGIENE PROD...|MOUTHWASHES (ANTI...|        17.0|\n",
            "|1111038080|PRIVATE LABEL|ORAL HYGIENE PROD...|MOUTHWASHES (ANTI...|        17.0|\n",
            "+----------+-------------+--------------------+--------------------+------------+\n",
            "only showing top 5 rows\n",
            "\n"
          ]
        }
      ]
    },
    {
      "cell_type": "code",
      "source": [
        "product.printSchema()"
      ],
      "metadata": {
        "colab": {
          "base_uri": "https://localhost:8080/"
        },
        "id": "I3AiKcTfNWLl",
        "outputId": "09e72989-62bd-42d2-99ac-5870f0bbf55b"
      },
      "execution_count": 127,
      "outputs": [
        {
          "output_type": "stream",
          "name": "stdout",
          "text": [
            "root\n",
            " |-- UPC: long (nullable = true)\n",
            " |-- MANUFACTURER: string (nullable = true)\n",
            " |-- CATEGORY: string (nullable = true)\n",
            " |-- SUB_CATEGORY: string (nullable = true)\n",
            " |-- PRODUCT_SIZE: double (nullable = true)\n",
            "\n"
          ]
        }
      ]
    },
    {
      "cell_type": "markdown",
      "source": [
        "# Coverting spark df into Pandas for applying One Hot Encoding"
      ],
      "metadata": {
        "id": "iojn9uiCOWO4"
      }
    },
    {
      "cell_type": "code",
      "source": [
        "product_df = product.toPandas()"
      ],
      "metadata": {
        "id": "IFPE_1iBNbtd"
      },
      "execution_count": 128,
      "outputs": []
    },
    {
      "cell_type": "code",
      "source": [
        "product_df.head()"
      ],
      "metadata": {
        "colab": {
          "base_uri": "https://localhost:8080/",
          "height": 206
        },
        "id": "9b38nDU2OQCM",
        "outputId": "2ed616b7-7d86-4c64-9c65-de2068d8c960"
      },
      "execution_count": 129,
      "outputs": [
        {
          "output_type": "execute_result",
          "data": {
            "text/plain": [
              "          UPC   MANUFACTURER               CATEGORY              SUB_CATEGORY  \\\n",
              "0  1111009477  PRIVATE LABEL             BAG SNACKS                  PRETZELS   \n",
              "1  1111009497  PRIVATE LABEL             BAG SNACKS                  PRETZELS   \n",
              "2  1111009507  PRIVATE LABEL             BAG SNACKS                  PRETZELS   \n",
              "3  1111038078  PRIVATE LABEL  ORAL HYGIENE PRODUCTS  MOUTHWASHES (ANTISEPTIC)   \n",
              "4  1111038080  PRIVATE LABEL  ORAL HYGIENE PRODUCTS  MOUTHWASHES (ANTISEPTIC)   \n",
              "\n",
              "   PRODUCT_SIZE  \n",
              "0          15.0  \n",
              "1          15.0  \n",
              "2          15.0  \n",
              "3          17.0  \n",
              "4          17.0  "
            ],
            "text/html": [
              "\n",
              "  <div id=\"df-0fe89f9b-9427-490c-abb6-512b18da2712\" class=\"colab-df-container\">\n",
              "    <div>\n",
              "<style scoped>\n",
              "    .dataframe tbody tr th:only-of-type {\n",
              "        vertical-align: middle;\n",
              "    }\n",
              "\n",
              "    .dataframe tbody tr th {\n",
              "        vertical-align: top;\n",
              "    }\n",
              "\n",
              "    .dataframe thead th {\n",
              "        text-align: right;\n",
              "    }\n",
              "</style>\n",
              "<table border=\"1\" class=\"dataframe\">\n",
              "  <thead>\n",
              "    <tr style=\"text-align: right;\">\n",
              "      <th></th>\n",
              "      <th>UPC</th>\n",
              "      <th>MANUFACTURER</th>\n",
              "      <th>CATEGORY</th>\n",
              "      <th>SUB_CATEGORY</th>\n",
              "      <th>PRODUCT_SIZE</th>\n",
              "    </tr>\n",
              "  </thead>\n",
              "  <tbody>\n",
              "    <tr>\n",
              "      <th>0</th>\n",
              "      <td>1111009477</td>\n",
              "      <td>PRIVATE LABEL</td>\n",
              "      <td>BAG SNACKS</td>\n",
              "      <td>PRETZELS</td>\n",
              "      <td>15.0</td>\n",
              "    </tr>\n",
              "    <tr>\n",
              "      <th>1</th>\n",
              "      <td>1111009497</td>\n",
              "      <td>PRIVATE LABEL</td>\n",
              "      <td>BAG SNACKS</td>\n",
              "      <td>PRETZELS</td>\n",
              "      <td>15.0</td>\n",
              "    </tr>\n",
              "    <tr>\n",
              "      <th>2</th>\n",
              "      <td>1111009507</td>\n",
              "      <td>PRIVATE LABEL</td>\n",
              "      <td>BAG SNACKS</td>\n",
              "      <td>PRETZELS</td>\n",
              "      <td>15.0</td>\n",
              "    </tr>\n",
              "    <tr>\n",
              "      <th>3</th>\n",
              "      <td>1111038078</td>\n",
              "      <td>PRIVATE LABEL</td>\n",
              "      <td>ORAL HYGIENE PRODUCTS</td>\n",
              "      <td>MOUTHWASHES (ANTISEPTIC)</td>\n",
              "      <td>17.0</td>\n",
              "    </tr>\n",
              "    <tr>\n",
              "      <th>4</th>\n",
              "      <td>1111038080</td>\n",
              "      <td>PRIVATE LABEL</td>\n",
              "      <td>ORAL HYGIENE PRODUCTS</td>\n",
              "      <td>MOUTHWASHES (ANTISEPTIC)</td>\n",
              "      <td>17.0</td>\n",
              "    </tr>\n",
              "  </tbody>\n",
              "</table>\n",
              "</div>\n",
              "    <div class=\"colab-df-buttons\">\n",
              "\n",
              "  <div class=\"colab-df-container\">\n",
              "    <button class=\"colab-df-convert\" onclick=\"convertToInteractive('df-0fe89f9b-9427-490c-abb6-512b18da2712')\"\n",
              "            title=\"Convert this dataframe to an interactive table.\"\n",
              "            style=\"display:none;\">\n",
              "\n",
              "  <svg xmlns=\"http://www.w3.org/2000/svg\" height=\"24px\" viewBox=\"0 -960 960 960\">\n",
              "    <path d=\"M120-120v-720h720v720H120Zm60-500h600v-160H180v160Zm220 220h160v-160H400v160Zm0 220h160v-160H400v160ZM180-400h160v-160H180v160Zm440 0h160v-160H620v160ZM180-180h160v-160H180v160Zm440 0h160v-160H620v160Z\"/>\n",
              "  </svg>\n",
              "    </button>\n",
              "\n",
              "  <style>\n",
              "    .colab-df-container {\n",
              "      display:flex;\n",
              "      gap: 12px;\n",
              "    }\n",
              "\n",
              "    .colab-df-convert {\n",
              "      background-color: #E8F0FE;\n",
              "      border: none;\n",
              "      border-radius: 50%;\n",
              "      cursor: pointer;\n",
              "      display: none;\n",
              "      fill: #1967D2;\n",
              "      height: 32px;\n",
              "      padding: 0 0 0 0;\n",
              "      width: 32px;\n",
              "    }\n",
              "\n",
              "    .colab-df-convert:hover {\n",
              "      background-color: #E2EBFA;\n",
              "      box-shadow: 0px 1px 2px rgba(60, 64, 67, 0.3), 0px 1px 3px 1px rgba(60, 64, 67, 0.15);\n",
              "      fill: #174EA6;\n",
              "    }\n",
              "\n",
              "    .colab-df-buttons div {\n",
              "      margin-bottom: 4px;\n",
              "    }\n",
              "\n",
              "    [theme=dark] .colab-df-convert {\n",
              "      background-color: #3B4455;\n",
              "      fill: #D2E3FC;\n",
              "    }\n",
              "\n",
              "    [theme=dark] .colab-df-convert:hover {\n",
              "      background-color: #434B5C;\n",
              "      box-shadow: 0px 1px 3px 1px rgba(0, 0, 0, 0.15);\n",
              "      filter: drop-shadow(0px 1px 2px rgba(0, 0, 0, 0.3));\n",
              "      fill: #FFFFFF;\n",
              "    }\n",
              "  </style>\n",
              "\n",
              "    <script>\n",
              "      const buttonEl =\n",
              "        document.querySelector('#df-0fe89f9b-9427-490c-abb6-512b18da2712 button.colab-df-convert');\n",
              "      buttonEl.style.display =\n",
              "        google.colab.kernel.accessAllowed ? 'block' : 'none';\n",
              "\n",
              "      async function convertToInteractive(key) {\n",
              "        const element = document.querySelector('#df-0fe89f9b-9427-490c-abb6-512b18da2712');\n",
              "        const dataTable =\n",
              "          await google.colab.kernel.invokeFunction('convertToInteractive',\n",
              "                                                    [key], {});\n",
              "        if (!dataTable) return;\n",
              "\n",
              "        const docLinkHtml = 'Like what you see? Visit the ' +\n",
              "          '<a target=\"_blank\" href=https://colab.research.google.com/notebooks/data_table.ipynb>data table notebook</a>'\n",
              "          + ' to learn more about interactive tables.';\n",
              "        element.innerHTML = '';\n",
              "        dataTable['output_type'] = 'display_data';\n",
              "        await google.colab.output.renderOutput(dataTable, element);\n",
              "        const docLink = document.createElement('div');\n",
              "        docLink.innerHTML = docLinkHtml;\n",
              "        element.appendChild(docLink);\n",
              "      }\n",
              "    </script>\n",
              "  </div>\n",
              "\n",
              "\n",
              "    <div id=\"df-41e883f4-f275-4cd7-8e1e-8796a27956a7\">\n",
              "      <button class=\"colab-df-quickchart\" onclick=\"quickchart('df-41e883f4-f275-4cd7-8e1e-8796a27956a7')\"\n",
              "                title=\"Suggest charts\"\n",
              "                style=\"display:none;\">\n",
              "\n",
              "<svg xmlns=\"http://www.w3.org/2000/svg\" height=\"24px\"viewBox=\"0 0 24 24\"\n",
              "     width=\"24px\">\n",
              "    <g>\n",
              "        <path d=\"M19 3H5c-1.1 0-2 .9-2 2v14c0 1.1.9 2 2 2h14c1.1 0 2-.9 2-2V5c0-1.1-.9-2-2-2zM9 17H7v-7h2v7zm4 0h-2V7h2v10zm4 0h-2v-4h2v4z\"/>\n",
              "    </g>\n",
              "</svg>\n",
              "      </button>\n",
              "\n",
              "<style>\n",
              "  .colab-df-quickchart {\n",
              "      --bg-color: #E8F0FE;\n",
              "      --fill-color: #1967D2;\n",
              "      --hover-bg-color: #E2EBFA;\n",
              "      --hover-fill-color: #174EA6;\n",
              "      --disabled-fill-color: #AAA;\n",
              "      --disabled-bg-color: #DDD;\n",
              "  }\n",
              "\n",
              "  [theme=dark] .colab-df-quickchart {\n",
              "      --bg-color: #3B4455;\n",
              "      --fill-color: #D2E3FC;\n",
              "      --hover-bg-color: #434B5C;\n",
              "      --hover-fill-color: #FFFFFF;\n",
              "      --disabled-bg-color: #3B4455;\n",
              "      --disabled-fill-color: #666;\n",
              "  }\n",
              "\n",
              "  .colab-df-quickchart {\n",
              "    background-color: var(--bg-color);\n",
              "    border: none;\n",
              "    border-radius: 50%;\n",
              "    cursor: pointer;\n",
              "    display: none;\n",
              "    fill: var(--fill-color);\n",
              "    height: 32px;\n",
              "    padding: 0;\n",
              "    width: 32px;\n",
              "  }\n",
              "\n",
              "  .colab-df-quickchart:hover {\n",
              "    background-color: var(--hover-bg-color);\n",
              "    box-shadow: 0 1px 2px rgba(60, 64, 67, 0.3), 0 1px 3px 1px rgba(60, 64, 67, 0.15);\n",
              "    fill: var(--button-hover-fill-color);\n",
              "  }\n",
              "\n",
              "  .colab-df-quickchart-complete:disabled,\n",
              "  .colab-df-quickchart-complete:disabled:hover {\n",
              "    background-color: var(--disabled-bg-color);\n",
              "    fill: var(--disabled-fill-color);\n",
              "    box-shadow: none;\n",
              "  }\n",
              "\n",
              "  .colab-df-spinner {\n",
              "    border: 2px solid var(--fill-color);\n",
              "    border-color: transparent;\n",
              "    border-bottom-color: var(--fill-color);\n",
              "    animation:\n",
              "      spin 1s steps(1) infinite;\n",
              "  }\n",
              "\n",
              "  @keyframes spin {\n",
              "    0% {\n",
              "      border-color: transparent;\n",
              "      border-bottom-color: var(--fill-color);\n",
              "      border-left-color: var(--fill-color);\n",
              "    }\n",
              "    20% {\n",
              "      border-color: transparent;\n",
              "      border-left-color: var(--fill-color);\n",
              "      border-top-color: var(--fill-color);\n",
              "    }\n",
              "    30% {\n",
              "      border-color: transparent;\n",
              "      border-left-color: var(--fill-color);\n",
              "      border-top-color: var(--fill-color);\n",
              "      border-right-color: var(--fill-color);\n",
              "    }\n",
              "    40% {\n",
              "      border-color: transparent;\n",
              "      border-right-color: var(--fill-color);\n",
              "      border-top-color: var(--fill-color);\n",
              "    }\n",
              "    60% {\n",
              "      border-color: transparent;\n",
              "      border-right-color: var(--fill-color);\n",
              "    }\n",
              "    80% {\n",
              "      border-color: transparent;\n",
              "      border-right-color: var(--fill-color);\n",
              "      border-bottom-color: var(--fill-color);\n",
              "    }\n",
              "    90% {\n",
              "      border-color: transparent;\n",
              "      border-bottom-color: var(--fill-color);\n",
              "    }\n",
              "  }\n",
              "</style>\n",
              "\n",
              "      <script>\n",
              "        async function quickchart(key) {\n",
              "          const quickchartButtonEl =\n",
              "            document.querySelector('#' + key + ' button');\n",
              "          quickchartButtonEl.disabled = true;  // To prevent multiple clicks.\n",
              "          quickchartButtonEl.classList.add('colab-df-spinner');\n",
              "          try {\n",
              "            const charts = await google.colab.kernel.invokeFunction(\n",
              "                'suggestCharts', [key], {});\n",
              "          } catch (error) {\n",
              "            console.error('Error during call to suggestCharts:', error);\n",
              "          }\n",
              "          quickchartButtonEl.classList.remove('colab-df-spinner');\n",
              "          quickchartButtonEl.classList.add('colab-df-quickchart-complete');\n",
              "        }\n",
              "        (() => {\n",
              "          let quickchartButtonEl =\n",
              "            document.querySelector('#df-41e883f4-f275-4cd7-8e1e-8796a27956a7 button');\n",
              "          quickchartButtonEl.style.display =\n",
              "            google.colab.kernel.accessAllowed ? 'block' : 'none';\n",
              "        })();\n",
              "      </script>\n",
              "    </div>\n",
              "\n",
              "    </div>\n",
              "  </div>\n"
            ],
            "application/vnd.google.colaboratory.intrinsic+json": {
              "type": "dataframe",
              "variable_name": "product_df",
              "summary": "{\n  \"name\": \"product_df\",\n  \"rows\": 30,\n  \"fields\": [\n    {\n      \"column\": \"UPC\",\n      \"properties\": {\n        \"dtype\": \"number\",\n        \"std\": 7516026775,\n        \"min\": 1111009477,\n        \"max\": 31254742835,\n        \"num_unique_values\": 30,\n        \"samples\": [\n          7797508006,\n          2840004770,\n          7192100339\n        ],\n        \"semantic_type\": \"\",\n        \"description\": \"\"\n      }\n    },\n    {\n      \"column\": \"MANUFACTURER\",\n      \"properties\": {\n        \"dtype\": \"category\",\n        \"num_unique_values\": 9,\n        \"samples\": [\n          \"SNYDER S\",\n          \"GENERAL MI\",\n          \"TOMBSTONE\"\n        ],\n        \"semantic_type\": \"\",\n        \"description\": \"\"\n      }\n    },\n    {\n      \"column\": \"CATEGORY\",\n      \"properties\": {\n        \"dtype\": \"category\",\n        \"num_unique_values\": 4,\n        \"samples\": [\n          \"ORAL HYGIENE PRODUCTS\",\n          \"FROZEN PIZZA\",\n          \"BAG SNACKS\"\n        ],\n        \"semantic_type\": \"\",\n        \"description\": \"\"\n      }\n    },\n    {\n      \"column\": \"SUB_CATEGORY\",\n      \"properties\": {\n        \"dtype\": \"category\",\n        \"num_unique_values\": 7,\n        \"samples\": [\n          \"PRETZELS\",\n          \"MOUTHWASHES (ANTISEPTIC)\",\n          \"MOUTHWASH/RINSES AND SPRAYS\"\n        ],\n        \"semantic_type\": \"\",\n        \"description\": \"\"\n      }\n    },\n    {\n      \"column\": \"PRODUCT_SIZE\",\n      \"properties\": {\n        \"dtype\": \"number\",\n        \"std\": 8.271002573303898,\n        \"min\": 10.0,\n        \"max\": 34.0,\n        \"num_unique_values\": 16,\n        \"samples\": [\n          15.0,\n          17.0,\n          32.70000076293945\n        ],\n        \"semantic_type\": \"\",\n        \"description\": \"\"\n      }\n    }\n  ]\n}"
            }
          },
          "metadata": {},
          "execution_count": 129
        }
      ]
    },
    {
      "cell_type": "code",
      "source": [
        "product_df = pd.get_dummies(product_df, columns=['MANUFACTURER', 'CATEGORY', 'SUB_CATEGORY'])"
      ],
      "metadata": {
        "id": "7DkXy0mKOUz4"
      },
      "execution_count": 130,
      "outputs": []
    },
    {
      "cell_type": "code",
      "source": [
        "product_df.shape"
      ],
      "metadata": {
        "colab": {
          "base_uri": "https://localhost:8080/"
        },
        "id": "Ms1o5_a7OqWm",
        "outputId": "be57ee39-803a-4ab5-bb40-ad2714f93226"
      },
      "execution_count": 131,
      "outputs": [
        {
          "output_type": "execute_result",
          "data": {
            "text/plain": [
              "(30, 22)"
            ]
          },
          "metadata": {},
          "execution_count": 131
        }
      ]
    },
    {
      "cell_type": "code",
      "source": [
        "product_df.info()"
      ],
      "metadata": {
        "colab": {
          "base_uri": "https://localhost:8080/"
        },
        "id": "zVM49zE1OuO9",
        "outputId": "2639a113-3696-4b61-da4b-c3367fd4b051"
      },
      "execution_count": 132,
      "outputs": [
        {
          "output_type": "stream",
          "name": "stdout",
          "text": [
            "<class 'pandas.core.frame.DataFrame'>\n",
            "RangeIndex: 30 entries, 0 to 29\n",
            "Data columns (total 22 columns):\n",
            " #   Column                                    Non-Null Count  Dtype  \n",
            "---  ------                                    --------------  -----  \n",
            " 0   UPC                                       30 non-null     int64  \n",
            " 1   PRODUCT_SIZE                              30 non-null     float64\n",
            " 2   MANUFACTURER_FRITO LAY                    30 non-null     bool   \n",
            " 3   MANUFACTURER_GENERAL MI                   30 non-null     bool   \n",
            " 4   MANUFACTURER_KELLOGG                      30 non-null     bool   \n",
            " 5   MANUFACTURER_P & G                        30 non-null     bool   \n",
            " 6   MANUFACTURER_PRIVATE LABEL                30 non-null     bool   \n",
            " 7   MANUFACTURER_SNYDER S                     30 non-null     bool   \n",
            " 8   MANUFACTURER_TOMBSTONE                    30 non-null     bool   \n",
            " 9   MANUFACTURER_TONYS                        30 non-null     bool   \n",
            " 10  MANUFACTURER_WARNER                       30 non-null     bool   \n",
            " 11  CATEGORY_BAG SNACKS                       30 non-null     bool   \n",
            " 12  CATEGORY_COLD CEREAL                      30 non-null     bool   \n",
            " 13  CATEGORY_FROZEN PIZZA                     30 non-null     bool   \n",
            " 14  CATEGORY_ORAL HYGIENE PRODUCTS            30 non-null     bool   \n",
            " 15  SUB_CATEGORY_ADULT CEREAL                 30 non-null     bool   \n",
            " 16  SUB_CATEGORY_ALL FAMILY CEREAL            30 non-null     bool   \n",
            " 17  SUB_CATEGORY_KIDS CEREAL                  30 non-null     bool   \n",
            " 18  SUB_CATEGORY_MOUTHWASH/RINSES AND SPRAYS  30 non-null     bool   \n",
            " 19  SUB_CATEGORY_MOUTHWASHES (ANTISEPTIC)     30 non-null     bool   \n",
            " 20  SUB_CATEGORY_PIZZA/PREMIUM                30 non-null     bool   \n",
            " 21  SUB_CATEGORY_PRETZELS                     30 non-null     bool   \n",
            "dtypes: bool(20), float64(1), int64(1)\n",
            "memory usage: 1.2 KB\n"
          ]
        }
      ]
    },
    {
      "cell_type": "markdown",
      "source": [
        "---\n",
        "### `DATASET 3: STORE DATA`\n",
        "\n",
        "- **STORE_ID** - store number\n",
        "- **STORE_NAME** - Name of store\n",
        "- **ADDRESS_CITY_NAME** - city\n",
        "- **ADDRESS_STATE_PROV_CODE** - state\n",
        "- **MSA_CODE** - (Metropolitan Statistical Area) Based on geographic region and population density\n",
        "- **SEG_VALUE_NAME** - Store Segment Name\n",
        "- **PARKING_SPACE_QTY** - number of parking spaces in the store parking lot\n",
        "- **SALES_AREA_SIZE_NUM** - square footage of store\n",
        "- **AVG_WEEKLY_BASKETS** - average weekly baskets sold in the store\n",
        "\n",
        "---"
      ],
      "metadata": {
        "id": "yUz_UwNKO7Xf"
      }
    },
    {
      "cell_type": "code",
      "source": [
        "store.show(5)"
      ],
      "metadata": {
        "colab": {
          "base_uri": "https://localhost:8080/"
        },
        "id": "uoxZoQy1OzwL",
        "outputId": "e7bb960b-9588-4cc7-84dc-96490b92306b"
      },
      "execution_count": 133,
      "outputs": [
        {
          "output_type": "stream",
          "name": "stdout",
          "text": [
            "+--------+------------------+-----------------+-----------------------+--------+--------------+-----------------+-------------------+------------------+\n",
            "|STORE_ID|        STORE_NAME|ADDRESS_CITY_NAME|ADDRESS_STATE_PROV_CODE|MSA_CODE|SEG_VALUE_NAME|PARKING_SPACE_QTY|SALES_AREA_SIZE_NUM|AVG_WEEKLY_BASKETS|\n",
            "+--------+------------------+-----------------+-----------------------+--------+--------------+-----------------+-------------------+------------------+\n",
            "|     367|    15TH & MADISON|        COVINGTON|                     KY|   17140|         VALUE|              196|              24721|             12707|\n",
            "|     389|        SILVERLAKE|         ERLANGER|                     KY|   17140|    MAINSTREAM|              408|              46073|             24767|\n",
            "|     613|        EAST ALLEN|            ALLEN|                     TX|   19100|    MAINSTREAM|              464|              64926|             29386|\n",
            "|     623|           HOUSTON|          HOUSTON|                     TX|   26420|    MAINSTREAM|             NULL|              46930|             36741|\n",
            "|    2277|ANDERSON TOWNE CTR|       CINCINNATI|                     OH|   17140|       UPSCALE|             NULL|              81958|             54053|\n",
            "+--------+------------------+-----------------+-----------------------+--------+--------------+-----------------+-------------------+------------------+\n",
            "only showing top 5 rows\n",
            "\n"
          ]
        }
      ]
    },
    {
      "cell_type": "markdown",
      "source": [
        "\n",
        "### `STORE DATA`  has the following categorical features\n",
        "\n",
        "    - STORE_ID\n",
        "    - STORE_NAME\n",
        "    - ADDRESS_CITY_NAME\n",
        "    - ADDRESS_STATE_PROV_CODE\n",
        "    - MSA_CODE\n",
        "    - SEG_VALUE_NAME"
      ],
      "metadata": {
        "id": "GHtX1ddaPR1S"
      }
    },
    {
      "cell_type": "code",
      "source": [
        "store.select([count(when(isnull(c),c)).alias(c) for c in store.columns]).show()"
      ],
      "metadata": {
        "colab": {
          "base_uri": "https://localhost:8080/"
        },
        "id": "a6npZGUnPBY5",
        "outputId": "6b794751-e2a6-41f9-e469-bc895335e85e"
      },
      "execution_count": 134,
      "outputs": [
        {
          "output_type": "stream",
          "name": "stdout",
          "text": [
            "+--------+----------+-----------------+-----------------------+--------+--------------+-----------------+-------------------+------------------+\n",
            "|STORE_ID|STORE_NAME|ADDRESS_CITY_NAME|ADDRESS_STATE_PROV_CODE|MSA_CODE|SEG_VALUE_NAME|PARKING_SPACE_QTY|SALES_AREA_SIZE_NUM|AVG_WEEKLY_BASKETS|\n",
            "+--------+----------+-----------------+-----------------------+--------+--------------+-----------------+-------------------+------------------+\n",
            "|       0|         0|                0|                      0|       0|             0|               51|                  0|                 0|\n",
            "+--------+----------+-----------------+-----------------------+--------+--------------+-----------------+-------------------+------------------+\n",
            "\n"
          ]
        }
      ]
    },
    {
      "cell_type": "markdown",
      "source": [
        "- `No` nulls values except in `PARKING_SPACE_QTY`"
      ],
      "metadata": {
        "id": "UpWCkzADTzNy"
      }
    },
    {
      "cell_type": "code",
      "source": [
        "store.select(store.STORE_NAME).distinct().count()"
      ],
      "metadata": {
        "colab": {
          "base_uri": "https://localhost:8080/"
        },
        "id": "wk8aDeG8Tvmd",
        "outputId": "8a480f00-2dc8-499f-ccd0-65bc1c440924"
      },
      "execution_count": 135,
      "outputs": [
        {
          "output_type": "execute_result",
          "data": {
            "text/plain": [
              "72"
            ]
          },
          "metadata": {},
          "execution_count": 135
        }
      ]
    },
    {
      "cell_type": "code",
      "source": [
        "store.select(store.STORE_NAME).distinct().show()"
      ],
      "metadata": {
        "colab": {
          "base_uri": "https://localhost:8080/"
        },
        "id": "fU8NbTgHVQfI",
        "outputId": "028a14b1-13f7-40bd-93ed-e6ddaefb444a"
      },
      "execution_count": 136,
      "outputs": [
        {
          "output_type": "stream",
          "name": "stdout",
          "text": [
            "+--------------------+\n",
            "|          STORE_NAME|\n",
            "+--------------------+\n",
            "|           SOUTHLAKE|\n",
            "|          HIGHWAY 75|\n",
            "| KROGER JUNCTION S/C|\n",
            "|              DENTON|\n",
            "|            BLUE ASH|\n",
            "|       WARSAW AVENUE|\n",
            "|                KATY|\n",
            "|             NORWOOD|\n",
            "|              GOSHEN|\n",
            "|      15TH & MADISON|\n",
            "|              DAYTON|\n",
            "|          MAINEVILLE|\n",
            "|WALNUT HILLS/PEEBLES|\n",
            "|    MILFORD-MULBERRY|\n",
            "|            MAGNOLIA|\n",
            "|      WHIPP & BIGGER|\n",
            "| ANTOINE TOWN CENTER|\n",
            "|          CARROLLTON|\n",
            "|             HOUSTON|\n",
            "|             KEARNEY|\n",
            "+--------------------+\n",
            "only showing top 20 rows\n",
            "\n"
          ]
        }
      ]
    },
    {
      "cell_type": "code",
      "source": [
        "store.select(store.ADDRESS_CITY_NAME).distinct().count()"
      ],
      "metadata": {
        "colab": {
          "base_uri": "https://localhost:8080/"
        },
        "id": "PXAhA4PTUI9W",
        "outputId": "a6862661-c1d7-4349-dd80-a25fad4583c7"
      },
      "execution_count": 137,
      "outputs": [
        {
          "output_type": "execute_result",
          "data": {
            "text/plain": [
              "51"
            ]
          },
          "metadata": {},
          "execution_count": 137
        }
      ]
    },
    {
      "cell_type": "code",
      "source": [
        "store.select(store.ADDRESS_STATE_PROV_CODE).distinct().count()"
      ],
      "metadata": {
        "colab": {
          "base_uri": "https://localhost:8080/"
        },
        "id": "hk1FCti0U6-F",
        "outputId": "d7fb2645-8f88-4fd0-ba37-cc5069a4a31d"
      },
      "execution_count": 138,
      "outputs": [
        {
          "output_type": "execute_result",
          "data": {
            "text/plain": [
              "4"
            ]
          },
          "metadata": {},
          "execution_count": 138
        }
      ]
    },
    {
      "cell_type": "code",
      "source": [
        "store.select(store.ADDRESS_STATE_PROV_CODE).distinct().show()"
      ],
      "metadata": {
        "colab": {
          "base_uri": "https://localhost:8080/"
        },
        "id": "58RyNYBqVee9",
        "outputId": "e696a32b-9eaa-4141-db8f-40d901ecea40"
      },
      "execution_count": 139,
      "outputs": [
        {
          "output_type": "stream",
          "name": "stdout",
          "text": [
            "+-----------------------+\n",
            "|ADDRESS_STATE_PROV_CODE|\n",
            "+-----------------------+\n",
            "|                     KY|\n",
            "|                     IN|\n",
            "|                     OH|\n",
            "|                     TX|\n",
            "+-----------------------+\n",
            "\n"
          ]
        }
      ]
    },
    {
      "cell_type": "code",
      "source": [
        "store.select(store.MSA_CODE).distinct().count()"
      ],
      "metadata": {
        "colab": {
          "base_uri": "https://localhost:8080/"
        },
        "id": "1aFfOU7SVBfC",
        "outputId": "fc297072-64f7-4e3c-9f45-2a86d30ed8bd"
      },
      "execution_count": 140,
      "outputs": [
        {
          "output_type": "execute_result",
          "data": {
            "text/plain": [
              "9"
            ]
          },
          "metadata": {},
          "execution_count": 140
        }
      ]
    },
    {
      "cell_type": "code",
      "source": [
        "store.select(store.MSA_CODE).distinct().show()"
      ],
      "metadata": {
        "colab": {
          "base_uri": "https://localhost:8080/"
        },
        "id": "ocGRa0F0VjAx",
        "outputId": "2c042187-4e85-4f01-d88b-a8ef95c6c85c"
      },
      "execution_count": 141,
      "outputs": [
        {
          "output_type": "stream",
          "name": "stdout",
          "text": [
            "+--------+\n",
            "|MSA_CODE|\n",
            "+--------+\n",
            "|   19100|\n",
            "|   17780|\n",
            "|   44220|\n",
            "|   17140|\n",
            "|   26420|\n",
            "|   13140|\n",
            "|   43300|\n",
            "|   47540|\n",
            "|   19380|\n",
            "+--------+\n",
            "\n"
          ]
        }
      ]
    },
    {
      "cell_type": "code",
      "source": [
        "store.select(store.SEG_VALUE_NAME).distinct().count()"
      ],
      "metadata": {
        "colab": {
          "base_uri": "https://localhost:8080/"
        },
        "id": "tTJngnsbVHvd",
        "outputId": "46d2eec9-d2ce-4652-f281-c1a6b923c08d"
      },
      "execution_count": 142,
      "outputs": [
        {
          "output_type": "execute_result",
          "data": {
            "text/plain": [
              "3"
            ]
          },
          "metadata": {},
          "execution_count": 142
        }
      ]
    },
    {
      "cell_type": "code",
      "source": [
        "store.select(store.SEG_VALUE_NAME).distinct().show()"
      ],
      "metadata": {
        "colab": {
          "base_uri": "https://localhost:8080/"
        },
        "id": "zWxynYojVnAH",
        "outputId": "2e873f8a-7d72-48b4-fbea-ec8a6d9950e0"
      },
      "execution_count": 143,
      "outputs": [
        {
          "output_type": "stream",
          "name": "stdout",
          "text": [
            "+--------------+\n",
            "|SEG_VALUE_NAME|\n",
            "+--------------+\n",
            "|       UPSCALE|\n",
            "|    MAINSTREAM|\n",
            "|         VALUE|\n",
            "+--------------+\n",
            "\n"
          ]
        }
      ]
    },
    {
      "cell_type": "markdown",
      "source": [
        "\n",
        "   - `STORE_ID` - No changes required as it is a key and will be used to merge files later.\n",
        "   - `STORE_NAME` -Out of 76 different stores we have 72 unique store names.\n",
        "   - `ADDRESS_CITY_NAME` - Since, Out of 76 different stores we have 51 unique address city names, So we will drop this feature due to high cardinality\n",
        "   - `ADDRESS_STATE_PROV_CODE`, `MSA_CODE` - As, there is no order in the given categories, So, we will One Hot Encode this variable.\n",
        "   - `SEG_VALUE_NAME` - Since upstream. mainstream and value stores have order\n",
        " we will map VALUE AS 1, MAINSTREAM AS 2 and UPSCALE AS 3."
      ],
      "metadata": {
        "id": "hxxvwcgMWeum"
      }
    },
    {
      "cell_type": "code",
      "source": [
        "store_df.info()"
      ],
      "metadata": {
        "colab": {
          "base_uri": "https://localhost:8080/"
        },
        "id": "B8r3vYsuQJKO",
        "outputId": "884160fd-f150-4a50-a195-724c116db6e7"
      },
      "execution_count": 144,
      "outputs": [
        {
          "output_type": "stream",
          "name": "stdout",
          "text": [
            "<class 'pandas.core.frame.DataFrame'>\n",
            "RangeIndex: 76 entries, 0 to 75\n",
            "Data columns (total 7 columns):\n",
            " #   Column                   Non-Null Count  Dtype  \n",
            "---  ------                   --------------  -----  \n",
            " 0   STORE_ID                 76 non-null     int32  \n",
            " 1   ADDRESS_STATE_PROV_CODE  76 non-null     object \n",
            " 2   MSA_CODE                 76 non-null     int32  \n",
            " 3   SEG_VALUE_NAME           76 non-null     int64  \n",
            " 4   PARKING_SPACE_QTY        25 non-null     float64\n",
            " 5   SALES_AREA_SIZE_NUM      76 non-null     int32  \n",
            " 6   AVG_WEEKLY_BASKETS       76 non-null     int32  \n",
            "dtypes: float64(1), int32(4), int64(1), object(1)\n",
            "memory usage: 3.1+ KB\n"
          ]
        }
      ]
    },
    {
      "cell_type": "code",
      "source": [
        "store = store.drop(\"STORE_NAME\",\"ADDRESS_CITY_NAME\")"
      ],
      "metadata": {
        "id": "H2bVEcLGVNft"
      },
      "execution_count": 145,
      "outputs": []
    },
    {
      "cell_type": "markdown",
      "source": [
        "# Converting spark df into pandas df for Label and One Hot Encoding"
      ],
      "metadata": {
        "id": "pE-EFSntWmwt"
      }
    },
    {
      "cell_type": "code",
      "source": [
        "store_df= store.toPandas()"
      ],
      "metadata": {
        "id": "g__xxNCZWl3f"
      },
      "execution_count": 146,
      "outputs": []
    },
    {
      "cell_type": "code",
      "source": [
        "store_df.head()"
      ],
      "metadata": {
        "colab": {
          "base_uri": "https://localhost:8080/",
          "height": 206
        },
        "id": "ucpDRMB9WP6A",
        "outputId": "b68b1f28-d7d6-44b6-a3cd-1395efdcf16a"
      },
      "execution_count": 147,
      "outputs": [
        {
          "output_type": "execute_result",
          "data": {
            "text/plain": [
              "   STORE_ID ADDRESS_STATE_PROV_CODE  MSA_CODE SEG_VALUE_NAME  \\\n",
              "0       367                      KY     17140          VALUE   \n",
              "1       389                      KY     17140     MAINSTREAM   \n",
              "2       613                      TX     19100     MAINSTREAM   \n",
              "3       623                      TX     26420     MAINSTREAM   \n",
              "4      2277                      OH     17140        UPSCALE   \n",
              "\n",
              "   PARKING_SPACE_QTY  SALES_AREA_SIZE_NUM  AVG_WEEKLY_BASKETS  \n",
              "0              196.0                24721               12707  \n",
              "1              408.0                46073               24767  \n",
              "2              464.0                64926               29386  \n",
              "3                NaN                46930               36741  \n",
              "4                NaN                81958               54053  "
            ],
            "text/html": [
              "\n",
              "  <div id=\"df-0879ca68-18f1-4122-8d87-a8b8f09afa79\" class=\"colab-df-container\">\n",
              "    <div>\n",
              "<style scoped>\n",
              "    .dataframe tbody tr th:only-of-type {\n",
              "        vertical-align: middle;\n",
              "    }\n",
              "\n",
              "    .dataframe tbody tr th {\n",
              "        vertical-align: top;\n",
              "    }\n",
              "\n",
              "    .dataframe thead th {\n",
              "        text-align: right;\n",
              "    }\n",
              "</style>\n",
              "<table border=\"1\" class=\"dataframe\">\n",
              "  <thead>\n",
              "    <tr style=\"text-align: right;\">\n",
              "      <th></th>\n",
              "      <th>STORE_ID</th>\n",
              "      <th>ADDRESS_STATE_PROV_CODE</th>\n",
              "      <th>MSA_CODE</th>\n",
              "      <th>SEG_VALUE_NAME</th>\n",
              "      <th>PARKING_SPACE_QTY</th>\n",
              "      <th>SALES_AREA_SIZE_NUM</th>\n",
              "      <th>AVG_WEEKLY_BASKETS</th>\n",
              "    </tr>\n",
              "  </thead>\n",
              "  <tbody>\n",
              "    <tr>\n",
              "      <th>0</th>\n",
              "      <td>367</td>\n",
              "      <td>KY</td>\n",
              "      <td>17140</td>\n",
              "      <td>VALUE</td>\n",
              "      <td>196.0</td>\n",
              "      <td>24721</td>\n",
              "      <td>12707</td>\n",
              "    </tr>\n",
              "    <tr>\n",
              "      <th>1</th>\n",
              "      <td>389</td>\n",
              "      <td>KY</td>\n",
              "      <td>17140</td>\n",
              "      <td>MAINSTREAM</td>\n",
              "      <td>408.0</td>\n",
              "      <td>46073</td>\n",
              "      <td>24767</td>\n",
              "    </tr>\n",
              "    <tr>\n",
              "      <th>2</th>\n",
              "      <td>613</td>\n",
              "      <td>TX</td>\n",
              "      <td>19100</td>\n",
              "      <td>MAINSTREAM</td>\n",
              "      <td>464.0</td>\n",
              "      <td>64926</td>\n",
              "      <td>29386</td>\n",
              "    </tr>\n",
              "    <tr>\n",
              "      <th>3</th>\n",
              "      <td>623</td>\n",
              "      <td>TX</td>\n",
              "      <td>26420</td>\n",
              "      <td>MAINSTREAM</td>\n",
              "      <td>NaN</td>\n",
              "      <td>46930</td>\n",
              "      <td>36741</td>\n",
              "    </tr>\n",
              "    <tr>\n",
              "      <th>4</th>\n",
              "      <td>2277</td>\n",
              "      <td>OH</td>\n",
              "      <td>17140</td>\n",
              "      <td>UPSCALE</td>\n",
              "      <td>NaN</td>\n",
              "      <td>81958</td>\n",
              "      <td>54053</td>\n",
              "    </tr>\n",
              "  </tbody>\n",
              "</table>\n",
              "</div>\n",
              "    <div class=\"colab-df-buttons\">\n",
              "\n",
              "  <div class=\"colab-df-container\">\n",
              "    <button class=\"colab-df-convert\" onclick=\"convertToInteractive('df-0879ca68-18f1-4122-8d87-a8b8f09afa79')\"\n",
              "            title=\"Convert this dataframe to an interactive table.\"\n",
              "            style=\"display:none;\">\n",
              "\n",
              "  <svg xmlns=\"http://www.w3.org/2000/svg\" height=\"24px\" viewBox=\"0 -960 960 960\">\n",
              "    <path d=\"M120-120v-720h720v720H120Zm60-500h600v-160H180v160Zm220 220h160v-160H400v160Zm0 220h160v-160H400v160ZM180-400h160v-160H180v160Zm440 0h160v-160H620v160ZM180-180h160v-160H180v160Zm440 0h160v-160H620v160Z\"/>\n",
              "  </svg>\n",
              "    </button>\n",
              "\n",
              "  <style>\n",
              "    .colab-df-container {\n",
              "      display:flex;\n",
              "      gap: 12px;\n",
              "    }\n",
              "\n",
              "    .colab-df-convert {\n",
              "      background-color: #E8F0FE;\n",
              "      border: none;\n",
              "      border-radius: 50%;\n",
              "      cursor: pointer;\n",
              "      display: none;\n",
              "      fill: #1967D2;\n",
              "      height: 32px;\n",
              "      padding: 0 0 0 0;\n",
              "      width: 32px;\n",
              "    }\n",
              "\n",
              "    .colab-df-convert:hover {\n",
              "      background-color: #E2EBFA;\n",
              "      box-shadow: 0px 1px 2px rgba(60, 64, 67, 0.3), 0px 1px 3px 1px rgba(60, 64, 67, 0.15);\n",
              "      fill: #174EA6;\n",
              "    }\n",
              "\n",
              "    .colab-df-buttons div {\n",
              "      margin-bottom: 4px;\n",
              "    }\n",
              "\n",
              "    [theme=dark] .colab-df-convert {\n",
              "      background-color: #3B4455;\n",
              "      fill: #D2E3FC;\n",
              "    }\n",
              "\n",
              "    [theme=dark] .colab-df-convert:hover {\n",
              "      background-color: #434B5C;\n",
              "      box-shadow: 0px 1px 3px 1px rgba(0, 0, 0, 0.15);\n",
              "      filter: drop-shadow(0px 1px 2px rgba(0, 0, 0, 0.3));\n",
              "      fill: #FFFFFF;\n",
              "    }\n",
              "  </style>\n",
              "\n",
              "    <script>\n",
              "      const buttonEl =\n",
              "        document.querySelector('#df-0879ca68-18f1-4122-8d87-a8b8f09afa79 button.colab-df-convert');\n",
              "      buttonEl.style.display =\n",
              "        google.colab.kernel.accessAllowed ? 'block' : 'none';\n",
              "\n",
              "      async function convertToInteractive(key) {\n",
              "        const element = document.querySelector('#df-0879ca68-18f1-4122-8d87-a8b8f09afa79');\n",
              "        const dataTable =\n",
              "          await google.colab.kernel.invokeFunction('convertToInteractive',\n",
              "                                                    [key], {});\n",
              "        if (!dataTable) return;\n",
              "\n",
              "        const docLinkHtml = 'Like what you see? Visit the ' +\n",
              "          '<a target=\"_blank\" href=https://colab.research.google.com/notebooks/data_table.ipynb>data table notebook</a>'\n",
              "          + ' to learn more about interactive tables.';\n",
              "        element.innerHTML = '';\n",
              "        dataTable['output_type'] = 'display_data';\n",
              "        await google.colab.output.renderOutput(dataTable, element);\n",
              "        const docLink = document.createElement('div');\n",
              "        docLink.innerHTML = docLinkHtml;\n",
              "        element.appendChild(docLink);\n",
              "      }\n",
              "    </script>\n",
              "  </div>\n",
              "\n",
              "\n",
              "    <div id=\"df-c08b2032-9fcd-4b74-af97-90e8675ff741\">\n",
              "      <button class=\"colab-df-quickchart\" onclick=\"quickchart('df-c08b2032-9fcd-4b74-af97-90e8675ff741')\"\n",
              "                title=\"Suggest charts\"\n",
              "                style=\"display:none;\">\n",
              "\n",
              "<svg xmlns=\"http://www.w3.org/2000/svg\" height=\"24px\"viewBox=\"0 0 24 24\"\n",
              "     width=\"24px\">\n",
              "    <g>\n",
              "        <path d=\"M19 3H5c-1.1 0-2 .9-2 2v14c0 1.1.9 2 2 2h14c1.1 0 2-.9 2-2V5c0-1.1-.9-2-2-2zM9 17H7v-7h2v7zm4 0h-2V7h2v10zm4 0h-2v-4h2v4z\"/>\n",
              "    </g>\n",
              "</svg>\n",
              "      </button>\n",
              "\n",
              "<style>\n",
              "  .colab-df-quickchart {\n",
              "      --bg-color: #E8F0FE;\n",
              "      --fill-color: #1967D2;\n",
              "      --hover-bg-color: #E2EBFA;\n",
              "      --hover-fill-color: #174EA6;\n",
              "      --disabled-fill-color: #AAA;\n",
              "      --disabled-bg-color: #DDD;\n",
              "  }\n",
              "\n",
              "  [theme=dark] .colab-df-quickchart {\n",
              "      --bg-color: #3B4455;\n",
              "      --fill-color: #D2E3FC;\n",
              "      --hover-bg-color: #434B5C;\n",
              "      --hover-fill-color: #FFFFFF;\n",
              "      --disabled-bg-color: #3B4455;\n",
              "      --disabled-fill-color: #666;\n",
              "  }\n",
              "\n",
              "  .colab-df-quickchart {\n",
              "    background-color: var(--bg-color);\n",
              "    border: none;\n",
              "    border-radius: 50%;\n",
              "    cursor: pointer;\n",
              "    display: none;\n",
              "    fill: var(--fill-color);\n",
              "    height: 32px;\n",
              "    padding: 0;\n",
              "    width: 32px;\n",
              "  }\n",
              "\n",
              "  .colab-df-quickchart:hover {\n",
              "    background-color: var(--hover-bg-color);\n",
              "    box-shadow: 0 1px 2px rgba(60, 64, 67, 0.3), 0 1px 3px 1px rgba(60, 64, 67, 0.15);\n",
              "    fill: var(--button-hover-fill-color);\n",
              "  }\n",
              "\n",
              "  .colab-df-quickchart-complete:disabled,\n",
              "  .colab-df-quickchart-complete:disabled:hover {\n",
              "    background-color: var(--disabled-bg-color);\n",
              "    fill: var(--disabled-fill-color);\n",
              "    box-shadow: none;\n",
              "  }\n",
              "\n",
              "  .colab-df-spinner {\n",
              "    border: 2px solid var(--fill-color);\n",
              "    border-color: transparent;\n",
              "    border-bottom-color: var(--fill-color);\n",
              "    animation:\n",
              "      spin 1s steps(1) infinite;\n",
              "  }\n",
              "\n",
              "  @keyframes spin {\n",
              "    0% {\n",
              "      border-color: transparent;\n",
              "      border-bottom-color: var(--fill-color);\n",
              "      border-left-color: var(--fill-color);\n",
              "    }\n",
              "    20% {\n",
              "      border-color: transparent;\n",
              "      border-left-color: var(--fill-color);\n",
              "      border-top-color: var(--fill-color);\n",
              "    }\n",
              "    30% {\n",
              "      border-color: transparent;\n",
              "      border-left-color: var(--fill-color);\n",
              "      border-top-color: var(--fill-color);\n",
              "      border-right-color: var(--fill-color);\n",
              "    }\n",
              "    40% {\n",
              "      border-color: transparent;\n",
              "      border-right-color: var(--fill-color);\n",
              "      border-top-color: var(--fill-color);\n",
              "    }\n",
              "    60% {\n",
              "      border-color: transparent;\n",
              "      border-right-color: var(--fill-color);\n",
              "    }\n",
              "    80% {\n",
              "      border-color: transparent;\n",
              "      border-right-color: var(--fill-color);\n",
              "      border-bottom-color: var(--fill-color);\n",
              "    }\n",
              "    90% {\n",
              "      border-color: transparent;\n",
              "      border-bottom-color: var(--fill-color);\n",
              "    }\n",
              "  }\n",
              "</style>\n",
              "\n",
              "      <script>\n",
              "        async function quickchart(key) {\n",
              "          const quickchartButtonEl =\n",
              "            document.querySelector('#' + key + ' button');\n",
              "          quickchartButtonEl.disabled = true;  // To prevent multiple clicks.\n",
              "          quickchartButtonEl.classList.add('colab-df-spinner');\n",
              "          try {\n",
              "            const charts = await google.colab.kernel.invokeFunction(\n",
              "                'suggestCharts', [key], {});\n",
              "          } catch (error) {\n",
              "            console.error('Error during call to suggestCharts:', error);\n",
              "          }\n",
              "          quickchartButtonEl.classList.remove('colab-df-spinner');\n",
              "          quickchartButtonEl.classList.add('colab-df-quickchart-complete');\n",
              "        }\n",
              "        (() => {\n",
              "          let quickchartButtonEl =\n",
              "            document.querySelector('#df-c08b2032-9fcd-4b74-af97-90e8675ff741 button');\n",
              "          quickchartButtonEl.style.display =\n",
              "            google.colab.kernel.accessAllowed ? 'block' : 'none';\n",
              "        })();\n",
              "      </script>\n",
              "    </div>\n",
              "\n",
              "    </div>\n",
              "  </div>\n"
            ],
            "application/vnd.google.colaboratory.intrinsic+json": {
              "type": "dataframe",
              "variable_name": "store_df",
              "summary": "{\n  \"name\": \"store_df\",\n  \"rows\": 76,\n  \"fields\": [\n    {\n      \"column\": \"STORE_ID\",\n      \"properties\": {\n        \"dtype\": \"int32\",\n        \"num_unique_values\": 76,\n        \"samples\": [\n          2277,\n          13859,\n          2523\n        ],\n        \"semantic_type\": \"\",\n        \"description\": \"\"\n      }\n    },\n    {\n      \"column\": \"ADDRESS_STATE_PROV_CODE\",\n      \"properties\": {\n        \"dtype\": \"category\",\n        \"num_unique_values\": 4,\n        \"samples\": [\n          \"TX\",\n          \"IN\",\n          \"KY\"\n        ],\n        \"semantic_type\": \"\",\n        \"description\": \"\"\n      }\n    },\n    {\n      \"column\": \"MSA_CODE\",\n      \"properties\": {\n        \"dtype\": \"int32\",\n        \"num_unique_values\": 9,\n        \"samples\": [\n          13140,\n          19100,\n          43300\n        ],\n        \"semantic_type\": \"\",\n        \"description\": \"\"\n      }\n    },\n    {\n      \"column\": \"SEG_VALUE_NAME\",\n      \"properties\": {\n        \"dtype\": \"category\",\n        \"num_unique_values\": 3,\n        \"samples\": [\n          \"VALUE\",\n          \"MAINSTREAM\",\n          \"UPSCALE\"\n        ],\n        \"semantic_type\": \"\",\n        \"description\": \"\"\n      }\n    },\n    {\n      \"column\": \"PARKING_SPACE_QTY\",\n      \"properties\": {\n        \"dtype\": \"number\",\n        \"std\": 417.82311648192314,\n        \"min\": 17.0,\n        \"max\": 1859.0,\n        \"num_unique_values\": 23,\n        \"samples\": [\n          351.0,\n          350.0,\n          196.0\n        ],\n        \"semantic_type\": \"\",\n        \"description\": \"\"\n      }\n    },\n    {\n      \"column\": \"SALES_AREA_SIZE_NUM\",\n      \"properties\": {\n        \"dtype\": \"int32\",\n        \"num_unique_values\": 72,\n        \"samples\": [\n          81958,\n          62961,\n          55474\n        ],\n        \"semantic_type\": \"\",\n        \"description\": \"\"\n      }\n    },\n    {\n      \"column\": \"AVG_WEEKLY_BASKETS\",\n      \"properties\": {\n        \"dtype\": \"int32\",\n        \"num_unique_values\": 76,\n        \"samples\": [\n          54053,\n          15345,\n          14201\n        ],\n        \"semantic_type\": \"\",\n        \"description\": \"\"\n      }\n    }\n  ]\n}"
            }
          },
          "metadata": {},
          "execution_count": 147
        }
      ]
    },
    {
      "source": [
        "# @title SEG_VALUE_NAME\n",
        "\n",
        "from matplotlib import pyplot as plt\n",
        "import seaborn as sns\n",
        "store_df.groupby('SEG_VALUE_NAME').size().plot(kind='barh', color=sns.palettes.mpl_palette('Dark2'))\n",
        "plt.gca().spines[['top', 'right',]].set_visible(False)"
      ],
      "cell_type": "code",
      "execution_count": 148,
      "outputs": [
        {
          "output_type": "display_data",
          "data": {
            "text/plain": [
              "<Figure size 640x480 with 1 Axes>"
            ],
            "image/png": "[encoded data removed]"
          },
          "metadata": {}
        }
      ],
      "metadata": {
        "cellView": "form",
        "colab": {
          "base_uri": "https://localhost:8080/",
          "height": 430
        },
        "id": "LMPlCGm7YSKs",
        "outputId": "12845299-5812-479e-d625-f37bda66d54c"
      }
    },
    {
      "cell_type": "markdown",
      "source": [
        "`LABEL ENCODING SEG_VALUE_NAME`\n"
      ],
      "metadata": {
        "id": "2uSci4jmX7RW"
      }
    },
    {
      "cell_type": "code",
      "source": [
        "store_df.replace({'SEG_VALUE_NAME':{'VALUE':1,'MAINSTREAM':2,'UPSCALE':3}},inplace = True)"
      ],
      "metadata": {
        "id": "BqI9uy_PW3SS"
      },
      "execution_count": 149,
      "outputs": []
    },
    {
      "cell_type": "code",
      "source": [
        "store_df['SEG_VALUE_NAME']"
      ],
      "metadata": {
        "colab": {
          "base_uri": "https://localhost:8080/",
          "height": 458
        },
        "id": "X57wAPuWQQT6",
        "outputId": "b32bb873-f22f-4367-b31b-1523b58285b2"
      },
      "execution_count": 150,
      "outputs": [
        {
          "output_type": "execute_result",
          "data": {
            "text/plain": [
              "0     1\n",
              "1     2\n",
              "2     2\n",
              "3     2\n",
              "4     3\n",
              "     ..\n",
              "71    2\n",
              "72    1\n",
              "73    3\n",
              "74    2\n",
              "75    2\n",
              "Name: SEG_VALUE_NAME, Length: 76, dtype: int64"
            ],
            "text/html": [
              "<div>\n",
              "<style scoped>\n",
              "    .dataframe tbody tr th:only-of-type {\n",
              "        vertical-align: middle;\n",
              "    }\n",
              "\n",
              "    .dataframe tbody tr th {\n",
              "        vertical-align: top;\n",
              "    }\n",
              "\n",
              "    .dataframe thead th {\n",
              "        text-align: right;\n",
              "    }\n",
              "</style>\n",
              "<table border=\"1\" class=\"dataframe\">\n",
              "  <thead>\n",
              "    <tr style=\"text-align: right;\">\n",
              "      <th></th>\n",
              "      <th>SEG_VALUE_NAME</th>\n",
              "    </tr>\n",
              "  </thead>\n",
              "  <tbody>\n",
              "    <tr>\n",
              "      <th>0</th>\n",
              "      <td>1</td>\n",
              "    </tr>\n",
              "    <tr>\n",
              "      <th>1</th>\n",
              "      <td>2</td>\n",
              "    </tr>\n",
              "    <tr>\n",
              "      <th>2</th>\n",
              "      <td>2</td>\n",
              "    </tr>\n",
              "    <tr>\n",
              "      <th>3</th>\n",
              "      <td>2</td>\n",
              "    </tr>\n",
              "    <tr>\n",
              "      <th>4</th>\n",
              "      <td>3</td>\n",
              "    </tr>\n",
              "    <tr>\n",
              "      <th>...</th>\n",
              "      <td>...</td>\n",
              "    </tr>\n",
              "    <tr>\n",
              "      <th>71</th>\n",
              "      <td>2</td>\n",
              "    </tr>\n",
              "    <tr>\n",
              "      <th>72</th>\n",
              "      <td>1</td>\n",
              "    </tr>\n",
              "    <tr>\n",
              "      <th>73</th>\n",
              "      <td>3</td>\n",
              "    </tr>\n",
              "    <tr>\n",
              "      <th>74</th>\n",
              "      <td>2</td>\n",
              "    </tr>\n",
              "    <tr>\n",
              "      <th>75</th>\n",
              "      <td>2</td>\n",
              "    </tr>\n",
              "  </tbody>\n",
              "</table>\n",
              "<p>76 rows × 1 columns</p>\n",
              "</div><br><label><b>dtype:</b> int64</label>"
            ]
          },
          "metadata": {},
          "execution_count": 150
        }
      ]
    },
    {
      "cell_type": "code",
      "source": [
        "store_ohe = pd.get_dummies(store_df, columns=['ADDRESS_STATE_PROV_CODE', 'MSA_CODE'])"
      ],
      "metadata": {
        "id": "bwP7vgwEXQv5"
      },
      "execution_count": 151,
      "outputs": []
    },
    {
      "cell_type": "code",
      "source": [
        "store_ohe.info()"
      ],
      "metadata": {
        "colab": {
          "base_uri": "https://localhost:8080/"
        },
        "id": "rxmPVFzYYf2_",
        "outputId": "1166b4e4-7a88-4fdd-f153-ae927cf38c8b"
      },
      "execution_count": 152,
      "outputs": [
        {
          "output_type": "stream",
          "name": "stdout",
          "text": [
            "<class 'pandas.core.frame.DataFrame'>\n",
            "RangeIndex: 76 entries, 0 to 75\n",
            "Data columns (total 18 columns):\n",
            " #   Column                      Non-Null Count  Dtype  \n",
            "---  ------                      --------------  -----  \n",
            " 0   STORE_ID                    76 non-null     int32  \n",
            " 1   SEG_VALUE_NAME              76 non-null     int64  \n",
            " 2   PARKING_SPACE_QTY           25 non-null     float64\n",
            " 3   SALES_AREA_SIZE_NUM         76 non-null     int32  \n",
            " 4   AVG_WEEKLY_BASKETS          76 non-null     int32  \n",
            " 5   ADDRESS_STATE_PROV_CODE_IN  76 non-null     bool   \n",
            " 6   ADDRESS_STATE_PROV_CODE_KY  76 non-null     bool   \n",
            " 7   ADDRESS_STATE_PROV_CODE_OH  76 non-null     bool   \n",
            " 8   ADDRESS_STATE_PROV_CODE_TX  76 non-null     bool   \n",
            " 9   MSA_CODE_13140              76 non-null     bool   \n",
            " 10  MSA_CODE_17140              76 non-null     bool   \n",
            " 11  MSA_CODE_17780              76 non-null     bool   \n",
            " 12  MSA_CODE_19100              76 non-null     bool   \n",
            " 13  MSA_CODE_19380              76 non-null     bool   \n",
            " 14  MSA_CODE_26420              76 non-null     bool   \n",
            " 15  MSA_CODE_43300              76 non-null     bool   \n",
            " 16  MSA_CODE_44220              76 non-null     bool   \n",
            " 17  MSA_CODE_47540              76 non-null     bool   \n",
            "dtypes: bool(13), float64(1), int32(3), int64(1)\n",
            "memory usage: 3.2 KB\n"
          ]
        }
      ]
    },
    {
      "cell_type": "code",
      "source": [
        "store_ohe.shape"
      ],
      "metadata": {
        "colab": {
          "base_uri": "https://localhost:8080/"
        },
        "id": "F3xeZZEvYiaJ",
        "outputId": "2b2297d0-4de4-49c5-ab10-53382b9eae9b"
      },
      "execution_count": 153,
      "outputs": [
        {
          "output_type": "execute_result",
          "data": {
            "text/plain": [
              "(76, 18)"
            ]
          },
          "metadata": {},
          "execution_count": 153
        }
      ]
    },
    {
      "cell_type": "code",
      "source": [
        "store_ohe.loc[0]"
      ],
      "metadata": {
        "colab": {
          "base_uri": "https://localhost:8080/",
          "height": 649
        },
        "id": "ZUA2H1YmYmMf",
        "outputId": "7ee5460f-31df-4646-d1c3-d238848499fc"
      },
      "execution_count": 154,
      "outputs": [
        {
          "output_type": "execute_result",
          "data": {
            "text/plain": [
              "STORE_ID                        367\n",
              "SEG_VALUE_NAME                    1\n",
              "PARKING_SPACE_QTY             196.0\n",
              "SALES_AREA_SIZE_NUM           24721\n",
              "AVG_WEEKLY_BASKETS            12707\n",
              "ADDRESS_STATE_PROV_CODE_IN    False\n",
              "ADDRESS_STATE_PROV_CODE_KY     True\n",
              "ADDRESS_STATE_PROV_CODE_OH    False\n",
              "ADDRESS_STATE_PROV_CODE_TX    False\n",
              "MSA_CODE_13140                False\n",
              "MSA_CODE_17140                 True\n",
              "MSA_CODE_17780                False\n",
              "MSA_CODE_19100                False\n",
              "MSA_CODE_19380                False\n",
              "MSA_CODE_26420                False\n",
              "MSA_CODE_43300                False\n",
              "MSA_CODE_44220                False\n",
              "MSA_CODE_47540                False\n",
              "Name: 0, dtype: object"
            ],
            "text/html": [
              "<div>\n",
              "<style scoped>\n",
              "    .dataframe tbody tr th:only-of-type {\n",
              "        vertical-align: middle;\n",
              "    }\n",
              "\n",
              "    .dataframe tbody tr th {\n",
              "        vertical-align: top;\n",
              "    }\n",
              "\n",
              "    .dataframe thead th {\n",
              "        text-align: right;\n",
              "    }\n",
              "</style>\n",
              "<table border=\"1\" class=\"dataframe\">\n",
              "  <thead>\n",
              "    <tr style=\"text-align: right;\">\n",
              "      <th></th>\n",
              "      <th>0</th>\n",
              "    </tr>\n",
              "  </thead>\n",
              "  <tbody>\n",
              "    <tr>\n",
              "      <th>STORE_ID</th>\n",
              "      <td>367</td>\n",
              "    </tr>\n",
              "    <tr>\n",
              "      <th>SEG_VALUE_NAME</th>\n",
              "      <td>1</td>\n",
              "    </tr>\n",
              "    <tr>\n",
              "      <th>PARKING_SPACE_QTY</th>\n",
              "      <td>196.0</td>\n",
              "    </tr>\n",
              "    <tr>\n",
              "      <th>SALES_AREA_SIZE_NUM</th>\n",
              "      <td>24721</td>\n",
              "    </tr>\n",
              "    <tr>\n",
              "      <th>AVG_WEEKLY_BASKETS</th>\n",
              "      <td>12707</td>\n",
              "    </tr>\n",
              "    <tr>\n",
              "      <th>ADDRESS_STATE_PROV_CODE_IN</th>\n",
              "      <td>False</td>\n",
              "    </tr>\n",
              "    <tr>\n",
              "      <th>ADDRESS_STATE_PROV_CODE_KY</th>\n",
              "      <td>True</td>\n",
              "    </tr>\n",
              "    <tr>\n",
              "      <th>ADDRESS_STATE_PROV_CODE_OH</th>\n",
              "      <td>False</td>\n",
              "    </tr>\n",
              "    <tr>\n",
              "      <th>ADDRESS_STATE_PROV_CODE_TX</th>\n",
              "      <td>False</td>\n",
              "    </tr>\n",
              "    <tr>\n",
              "      <th>MSA_CODE_13140</th>\n",
              "      <td>False</td>\n",
              "    </tr>\n",
              "    <tr>\n",
              "      <th>MSA_CODE_17140</th>\n",
              "      <td>True</td>\n",
              "    </tr>\n",
              "    <tr>\n",
              "      <th>MSA_CODE_17780</th>\n",
              "      <td>False</td>\n",
              "    </tr>\n",
              "    <tr>\n",
              "      <th>MSA_CODE_19100</th>\n",
              "      <td>False</td>\n",
              "    </tr>\n",
              "    <tr>\n",
              "      <th>MSA_CODE_19380</th>\n",
              "      <td>False</td>\n",
              "    </tr>\n",
              "    <tr>\n",
              "      <th>MSA_CODE_26420</th>\n",
              "      <td>False</td>\n",
              "    </tr>\n",
              "    <tr>\n",
              "      <th>MSA_CODE_43300</th>\n",
              "      <td>False</td>\n",
              "    </tr>\n",
              "    <tr>\n",
              "      <th>MSA_CODE_44220</th>\n",
              "      <td>False</td>\n",
              "    </tr>\n",
              "    <tr>\n",
              "      <th>MSA_CODE_47540</th>\n",
              "      <td>False</td>\n",
              "    </tr>\n",
              "  </tbody>\n",
              "</table>\n",
              "</div><br><label><b>dtype:</b> object</label>"
            ]
          },
          "metadata": {},
          "execution_count": 154
        }
      ]
    },
    {
      "cell_type": "markdown",
      "source": [
        "\n",
        "## `PREPROCESSING: NUMERICAL FEATURES`\n",
        "\n",
        "- Check and impute the missing values in the numerical features.\n",
        "- Check for the outliers and treat them.\n"
      ],
      "metadata": {
        "id": "CEUT0lzUZfC5"
      }
    },
    {
      "cell_type": "markdown",
      "source": [
        "# `WEEKLY SALES DATA`"
      ],
      "metadata": {
        "id": "OE66JDaDZjpR"
      }
    },
    {
      "cell_type": "code",
      "source": [
        "train.show(5)"
      ],
      "metadata": {
        "colab": {
          "base_uri": "https://localhost:8080/"
        },
        "id": "BtE8R8DsYw1g",
        "outputId": "8393e3a4-74de-40d4-baae-f16770cbddf4"
      },
      "execution_count": 155,
      "outputs": [
        {
          "output_type": "stream",
          "name": "stdout",
          "text": [
            "+-------------+---------+----------+----------+-------+-------+-----+\n",
            "|WEEK_END_DATE|STORE_NUM|       UPC|BASE_PRICE|FEATURE|DISPLAY|UNITS|\n",
            "+-------------+---------+----------+----------+-------+-------+-----+\n",
            "|    14-Jan-09|      367|1111009477|      1.57|      0|      0|   13|\n",
            "|    14-Jan-09|      367|1111009497|      1.39|      0|      0|   20|\n",
            "|    14-Jan-09|      367|1111085319|      1.88|      0|      0|   14|\n",
            "|    14-Jan-09|      367|1111085345|      1.88|      0|      0|   29|\n",
            "|    14-Jan-09|      367|1111085350|      1.98|      0|      0|   35|\n",
            "+-------------+---------+----------+----------+-------+-------+-----+\n",
            "only showing top 5 rows\n",
            "\n"
          ]
        }
      ]
    },
    {
      "cell_type": "markdown",
      "source": [
        "---\n",
        "\n",
        "### `WEEKLY SALES DATA`  has the following numerical features\n",
        "\n",
        "    - BASE_PRICE\n",
        "    - UNITS (Target)\n",
        "    \n",
        "---   "
      ],
      "metadata": {
        "id": "cFYJhg07Zwmf"
      }
    },
    {
      "cell_type": "code",
      "source": [
        "train.select([count(when(isnull(c),c)).alias(c) for c in train.columns]).show()"
      ],
      "metadata": {
        "colab": {
          "base_uri": "https://localhost:8080/"
        },
        "id": "2NePElokZOk_",
        "outputId": "6442f511-c3e6-4b20-9103-4b422ee16cc1"
      },
      "execution_count": 156,
      "outputs": [
        {
          "output_type": "stream",
          "name": "stdout",
          "text": [
            "+-------------+---------+---+----------+-------+-------+-----+\n",
            "|WEEK_END_DATE|STORE_NUM|UPC|BASE_PRICE|FEATURE|DISPLAY|UNITS|\n",
            "+-------------+---------+---+----------+-------+-------+-----+\n",
            "|            0|        0|  0|        12|      0|      0|    0|\n",
            "+-------------+---------+---+----------+-------+-------+-----+\n",
            "\n"
          ]
        }
      ]
    },
    {
      "cell_type": "markdown",
      "source": [
        " Here we can see `BASE_PRICE` columns has `12` null values  "
      ],
      "metadata": {
        "id": "Uihxdj8QaWqw"
      }
    },
    {
      "cell_type": "markdown",
      "source": [
        "Imputing the missing values in the `BASE_PRICE`"
      ],
      "metadata": {
        "id": "Wt900XAdaiE-"
      }
    },
    {
      "cell_type": "code",
      "source": [
        "# We'll fill the null values with the average values of Base_Price\n"
      ],
      "metadata": {
        "id": "DNSB8HEHaEtp"
      },
      "execution_count": 157,
      "outputs": []
    },
    {
      "cell_type": "code",
      "source": [
        "train.select([count(when(isnull(c),c)).alias(c) for c in train.columns]).show()"
      ],
      "metadata": {
        "colab": {
          "base_uri": "https://localhost:8080/"
        },
        "id": "7ysCI-3R7CM_",
        "outputId": "d5fece7e-d88b-47e0-8342-57859b63ed5a"
      },
      "execution_count": 158,
      "outputs": [
        {
          "output_type": "stream",
          "name": "stdout",
          "text": [
            "+-------------+---------+---+----------+-------+-------+-----+\n",
            "|WEEK_END_DATE|STORE_NUM|UPC|BASE_PRICE|FEATURE|DISPLAY|UNITS|\n",
            "+-------------+---------+---+----------+-------+-------+-----+\n",
            "|            0|        0|  0|        12|      0|      0|    0|\n",
            "+-------------+---------+---+----------+-------+-------+-----+\n",
            "\n"
          ]
        }
      ]
    },
    {
      "cell_type": "markdown",
      "metadata": {
        "id": "9a653817"
      },
      "source": [
        "# Task\n",
        "Fill the missing values in the `BASE_PRICE` column of the `train` DataFrame with the mean `BASE_PRICE` for each corresponding `STORE_NUM`."
      ]
    },
    {
      "cell_type": "markdown",
      "metadata": {
        "id": "eb6c07bc"
      },
      "source": [
        "## Calculate mean base price per store\n",
        "\n",
        "### Subtask:\n",
        "Calculate the mean of `BASE_PRICE` for each `STORE_NUM` in the `train` DataFrame, considering only non-null `BASE_PRICE` values.\n"
      ]
    },
    {
      "cell_type": "markdown",
      "metadata": {
        "id": "b8745da2"
      },
      "source": [
        "**Reasoning**:\n",
        "Calculate the average base price for each store number to prepare for filling missing values.\n",
        "\n"
      ]
    },
    {
      "cell_type": "code",
      "metadata": {
        "id": "19faaa59"
      },
      "source": [
        "from pyspark.sql.functions import avg\n",
        "\n",
        "store_base_price_avg = train.groupBy(\"STORE_NUM\").agg(avg(\"BASE_PRICE\").alias(\"mean_base_price\"))"
      ],
      "execution_count": 159,
      "outputs": []
    },
    {
      "cell_type": "code",
      "metadata": {
        "colab": {
          "base_uri": "https://localhost:8080/"
        },
        "id": "8cd2a420",
        "outputId": "5d349855-b2af-4f5d-8612-587d380cbdff"
      },
      "source": [
        "train_joined = train.join(store_base_price_avg, on=\"STORE_NUM\", how=\"left\")\n",
        "train_joined.show(5)"
      ],
      "execution_count": 160,
      "outputs": [
        {
          "output_type": "stream",
          "name": "stdout",
          "text": [
            "+---------+-------------+----------+----------+-------+-------+-----+------------------+\n",
            "|STORE_NUM|WEEK_END_DATE|       UPC|BASE_PRICE|FEATURE|DISPLAY|UNITS|   mean_base_price|\n",
            "+---------+-------------+----------+----------+-------+-------+-----+------------------+\n",
            "|      367|    14-Jan-09|1111009477|      1.57|      0|      0|   13|3.4998979591836448|\n",
            "|      367|    14-Jan-09|1111009497|      1.39|      0|      0|   20|3.4998979591836448|\n",
            "|      367|    14-Jan-09|1111085319|      1.88|      0|      0|   14|3.4998979591836448|\n",
            "|      367|    14-Jan-09|1111085345|      1.88|      0|      0|   29|3.4998979591836448|\n",
            "|      367|    14-Jan-09|1111085350|      1.98|      0|      0|   35|3.4998979591836448|\n",
            "+---------+-------------+----------+----------+-------+-------+-----+------------------+\n",
            "only showing top 5 rows\n",
            "\n"
          ]
        }
      ]
    },
    {
      "cell_type": "code",
      "source": [
        "train = train_joined.withColumn(\"BASE_PRICE\", when(train_joined[\"BASE_PRICE\"].isNull(), train_joined[\"mean_base_price\"]).otherwise(train_joined[\"BASE_PRICE\"]))"
      ],
      "metadata": {
        "id": "w-JOZFPK94qI"
      },
      "execution_count": 161,
      "outputs": []
    },
    {
      "cell_type": "code",
      "source": [
        "train.select([count(when(isnull(c),c)).alias(c) for c in train.columns]).show()"
      ],
      "metadata": {
        "colab": {
          "base_uri": "https://localhost:8080/"
        },
        "id": "KbbwyToO99Lv",
        "outputId": "7086ce10-c2cd-4a47-8968-4aab8570f517"
      },
      "execution_count": 162,
      "outputs": [
        {
          "output_type": "stream",
          "name": "stdout",
          "text": [
            "+---------+-------------+---+----------+-------+-------+-----+---------------+\n",
            "|STORE_NUM|WEEK_END_DATE|UPC|BASE_PRICE|FEATURE|DISPLAY|UNITS|mean_base_price|\n",
            "+---------+-------------+---+----------+-------+-------+-----+---------------+\n",
            "|        0|            0|  0|         0|      0|      0|    0|              0|\n",
            "+---------+-------------+---+----------+-------+-------+-----+---------------+\n",
            "\n"
          ]
        }
      ]
    },
    {
      "cell_type": "code",
      "source": [
        "\n",
        "train.drop(\"mean_base_price\").show(5)"
      ],
      "metadata": {
        "colab": {
          "base_uri": "https://localhost:8080/"
        },
        "id": "qD-Wr0ax-Clj",
        "outputId": "94791dc3-5a5c-4bed-ac6b-9caf3c9e61f4"
      },
      "execution_count": 163,
      "outputs": [
        {
          "output_type": "stream",
          "name": "stdout",
          "text": [
            "+---------+-------------+----------+----------+-------+-------+-----+\n",
            "|STORE_NUM|WEEK_END_DATE|       UPC|BASE_PRICE|FEATURE|DISPLAY|UNITS|\n",
            "+---------+-------------+----------+----------+-------+-------+-----+\n",
            "|      367|    14-Jan-09|1111009477|      1.57|      0|      0|   13|\n",
            "|      367|    14-Jan-09|1111009497|      1.39|      0|      0|   20|\n",
            "|      367|    14-Jan-09|1111085319|      1.88|      0|      0|   14|\n",
            "|      367|    14-Jan-09|1111085345|      1.88|      0|      0|   29|\n",
            "|      367|    14-Jan-09|1111085350|      1.98|      0|      0|   35|\n",
            "+---------+-------------+----------+----------+-------+-------+-----+\n",
            "only showing top 5 rows\n",
            "\n"
          ]
        }
      ]
    },
    {
      "cell_type": "code",
      "source": [
        "# Converting Spark Dataframe into pandas\n",
        "train_df = train.toPandas()"
      ],
      "metadata": {
        "id": "9Rwp3yeu-HGF"
      },
      "execution_count": 164,
      "outputs": []
    },
    {
      "cell_type": "code",
      "source": [
        "train_df.drop('mean_base_price',axis=1,inplace=True)"
      ],
      "metadata": {
        "id": "zTwIDgWBHTRJ"
      },
      "execution_count": 165,
      "outputs": []
    },
    {
      "cell_type": "code",
      "source": [
        "train_df.info()"
      ],
      "metadata": {
        "colab": {
          "base_uri": "https://localhost:8080/"
        },
        "id": "XBHNs48_-lTG",
        "outputId": "7c897f43-02e0-4409-8b97-c3c7f4385acb"
      },
      "execution_count": 166,
      "outputs": [
        {
          "output_type": "stream",
          "name": "stdout",
          "text": [
            "<class 'pandas.core.frame.DataFrame'>\n",
            "RangeIndex: 232287 entries, 0 to 232286\n",
            "Data columns (total 7 columns):\n",
            " #   Column         Non-Null Count   Dtype  \n",
            "---  ------         --------------   -----  \n",
            " 0   STORE_NUM      232287 non-null  int32  \n",
            " 1   WEEK_END_DATE  232287 non-null  object \n",
            " 2   UPC            232287 non-null  int64  \n",
            " 3   BASE_PRICE     232287 non-null  float64\n",
            " 4   FEATURE        232287 non-null  int32  \n",
            " 5   DISPLAY        232287 non-null  int32  \n",
            " 6   UNITS          232287 non-null  int32  \n",
            "dtypes: float64(1), int32(4), int64(1), object(1)\n",
            "memory usage: 8.9+ MB\n"
          ]
        }
      ]
    },
    {
      "cell_type": "code",
      "source": [
        "%matplotlib inline\n",
        "plt.figure(figsize=(8,6))\n",
        "plt.scatter(x = range(train_df.shape[0]), y = np.sort(train_df['UNITS'].values))\n",
        "plt.xlabel('Index', fontsize=12)\n",
        "plt.ylabel('Units Sold', fontsize=12)\n",
        "plt.show()"
      ],
      "metadata": {
        "colab": {
          "base_uri": "https://localhost:8080/",
          "height": 546
        },
        "id": "x_9lJOZu-zC9",
        "outputId": "31b645e1-8d16-4c5b-94d0-225ebdfadc3a"
      },
      "execution_count": 167,
      "outputs": [
        {
          "output_type": "display_data",
          "data": {
            "text/plain": [
              "<Figure size 800x600 with 1 Axes>"
            ],
            "image/png": "[encoded data removed]"
          },
          "metadata": {}
        }
      ]
    },
    {
      "cell_type": "code",
      "metadata": {
        "colab": {
          "base_uri": "https://localhost:8080/"
        },
        "id": "bec044de",
        "outputId": "41334d5b-c781-4c5d-dc8f-fe787512514d"
      },
      "source": [
        "# Identify potential outliers based on the scatter plot\n",
        "# We can look at values that are significantly larger than the majority\n",
        "outlier_threshold = train_df['UNITS'].quantile(0.99) # Using 99th percentile as a threshold\n",
        "outliers = train_df[train_df['UNITS'] > outlier_threshold]['UNITS']\n",
        "\n",
        "print(\"Potential outlier values in 'UNITS':\")\n",
        "print(outliers.sort_values(ascending=False))"
      ],
      "execution_count": 168,
      "outputs": [
        {
          "output_type": "stream",
          "name": "stdout",
          "text": [
            "Potential outlier values in 'UNITS':\n",
            "7960      1800\n",
            "11209     1136\n",
            "9597      1054\n",
            "7893      1006\n",
            "215699     974\n",
            "          ... \n",
            "27847      168\n",
            "177712     168\n",
            "180203     168\n",
            "175137     168\n",
            "111037     168\n",
            "Name: UNITS, Length: 2316, dtype: int32\n"
          ]
        }
      ]
    },
    {
      "cell_type": "code",
      "source": [
        "train_df.drop(train_df[train_df['UNITS'] > 750].index, axis = 0, inplace= True)"
      ],
      "metadata": {
        "id": "n7LGsrEKGLhi"
      },
      "execution_count": 169,
      "outputs": []
    },
    {
      "cell_type": "code",
      "source": [
        "train_df[train_df['UNITS'] > 750].shape[0]"
      ],
      "metadata": {
        "colab": {
          "base_uri": "https://localhost:8080/"
        },
        "id": "feeYJeHVG7ib",
        "outputId": "09f37426-5c61-4604-9328-e1d820f20e3a"
      },
      "execution_count": 170,
      "outputs": [
        {
          "output_type": "execute_result",
          "data": {
            "text/plain": [
              "0"
            ]
          },
          "metadata": {},
          "execution_count": 170
        }
      ]
    },
    {
      "cell_type": "markdown",
      "source": [
        "# `PRODUCT DATA` HAS NO NUMERICAL FEATURES"
      ],
      "metadata": {
        "id": "1eAo5Mx9Koev"
      }
    },
    {
      "cell_type": "markdown",
      "source": [
        "# `STORE DATA \"store_ohe\"` HAS FOLLOWING NUMERICAL FEATURES\n",
        "- PARKING_SPACE_QTY\n",
        "- SALES_AREA_SIZE_NUM\n",
        "- AVG_WEEKLY_BASKETS"
      ],
      "metadata": {
        "id": "NwhjkcpJKuvx"
      }
    },
    {
      "cell_type": "code",
      "source": [
        "store_ohe.shape"
      ],
      "metadata": {
        "colab": {
          "base_uri": "https://localhost:8080/"
        },
        "id": "TXrX7_wLKoPq",
        "outputId": "f4b0f074-a7ad-419c-cdd1-d25fb4b71a54"
      },
      "execution_count": 171,
      "outputs": [
        {
          "output_type": "execute_result",
          "data": {
            "text/plain": [
              "(76, 18)"
            ]
          },
          "metadata": {},
          "execution_count": 171
        }
      ]
    },
    {
      "cell_type": "code",
      "source": [
        "store_ohe[['PARKING_SPACE_QTY','AVG_WEEKLY_BASKETS','SALES_AREA_SIZE_NUM']].isna().sum()"
      ],
      "metadata": {
        "colab": {
          "base_uri": "https://localhost:8080/",
          "height": 178
        },
        "id": "s39zjvmXKbw-",
        "outputId": "0bb797e4-e5dd-4733-b623-534e941c8c4a"
      },
      "execution_count": 172,
      "outputs": [
        {
          "output_type": "execute_result",
          "data": {
            "text/plain": [
              "PARKING_SPACE_QTY      51\n",
              "AVG_WEEKLY_BASKETS      0\n",
              "SALES_AREA_SIZE_NUM     0\n",
              "dtype: int64"
            ],
            "text/html": [
              "<div>\n",
              "<style scoped>\n",
              "    .dataframe tbody tr th:only-of-type {\n",
              "        vertical-align: middle;\n",
              "    }\n",
              "\n",
              "    .dataframe tbody tr th {\n",
              "        vertical-align: top;\n",
              "    }\n",
              "\n",
              "    .dataframe thead th {\n",
              "        text-align: right;\n",
              "    }\n",
              "</style>\n",
              "<table border=\"1\" class=\"dataframe\">\n",
              "  <thead>\n",
              "    <tr style=\"text-align: right;\">\n",
              "      <th></th>\n",
              "      <th>0</th>\n",
              "    </tr>\n",
              "  </thead>\n",
              "  <tbody>\n",
              "    <tr>\n",
              "      <th>PARKING_SPACE_QTY</th>\n",
              "      <td>51</td>\n",
              "    </tr>\n",
              "    <tr>\n",
              "      <th>AVG_WEEKLY_BASKETS</th>\n",
              "      <td>0</td>\n",
              "    </tr>\n",
              "    <tr>\n",
              "      <th>SALES_AREA_SIZE_NUM</th>\n",
              "      <td>0</td>\n",
              "    </tr>\n",
              "  </tbody>\n",
              "</table>\n",
              "</div><br><label><b>dtype:</b> int64</label>"
            ]
          },
          "metadata": {},
          "execution_count": 172
        }
      ]
    },
    {
      "cell_type": "markdown",
      "source": [
        "- `PARKING_SPACE_QTY` - Check its correlation with the `SALES_AREA_SIZE_NUM`"
      ],
      "metadata": {
        "id": "dwWnxLdqLfr4"
      }
    },
    {
      "cell_type": "code",
      "source": [
        "store_ohe[['PARKING_SPACE_QTY','SALES_AREA_SIZE_NUM']].corr()"
      ],
      "metadata": {
        "colab": {
          "base_uri": "https://localhost:8080/",
          "height": 112
        },
        "id": "iIqD_fSCLcGN",
        "outputId": "af7d231e-080e-422a-faa5-0e2cc5b7a9af"
      },
      "execution_count": 173,
      "outputs": [
        {
          "output_type": "execute_result",
          "data": {
            "text/plain": [
              "                     PARKING_SPACE_QTY  SALES_AREA_SIZE_NUM\n",
              "PARKING_SPACE_QTY             1.000000             0.763274\n",
              "SALES_AREA_SIZE_NUM           0.763274             1.000000"
            ],
            "text/html": [
              "\n",
              "  <div id=\"df-ad25228d-38fc-4ed6-8d61-c5a41bc73e80\" class=\"colab-df-container\">\n",
              "    <div>\n",
              "<style scoped>\n",
              "    .dataframe tbody tr th:only-of-type {\n",
              "        vertical-align: middle;\n",
              "    }\n",
              "\n",
              "    .dataframe tbody tr th {\n",
              "        vertical-align: top;\n",
              "    }\n",
              "\n",
              "    .dataframe thead th {\n",
              "        text-align: right;\n",
              "    }\n",
              "</style>\n",
              "<table border=\"1\" class=\"dataframe\">\n",
              "  <thead>\n",
              "    <tr style=\"text-align: right;\">\n",
              "      <th></th>\n",
              "      <th>PARKING_SPACE_QTY</th>\n",
              "      <th>SALES_AREA_SIZE_NUM</th>\n",
              "    </tr>\n",
              "  </thead>\n",
              "  <tbody>\n",
              "    <tr>\n",
              "      <th>PARKING_SPACE_QTY</th>\n",
              "      <td>1.000000</td>\n",
              "      <td>0.763274</td>\n",
              "    </tr>\n",
              "    <tr>\n",
              "      <th>SALES_AREA_SIZE_NUM</th>\n",
              "      <td>0.763274</td>\n",
              "      <td>1.000000</td>\n",
              "    </tr>\n",
              "  </tbody>\n",
              "</table>\n",
              "</div>\n",
              "    <div class=\"colab-df-buttons\">\n",
              "\n",
              "  <div class=\"colab-df-container\">\n",
              "    <button class=\"colab-df-convert\" onclick=\"convertToInteractive('df-ad25228d-38fc-4ed6-8d61-c5a41bc73e80')\"\n",
              "            title=\"Convert this dataframe to an interactive table.\"\n",
              "            style=\"display:none;\">\n",
              "\n",
              "  <svg xmlns=\"http://www.w3.org/2000/svg\" height=\"24px\" viewBox=\"0 -960 960 960\">\n",
              "    <path d=\"M120-120v-720h720v720H120Zm60-500h600v-160H180v160Zm220 220h160v-160H400v160Zm0 220h160v-160H400v160ZM180-400h160v-160H180v160Zm440 0h160v-160H620v160ZM180-180h160v-160H180v160Zm440 0h160v-160H620v160Z\"/>\n",
              "  </svg>\n",
              "    </button>\n",
              "\n",
              "  <style>\n",
              "    .colab-df-container {\n",
              "      display:flex;\n",
              "      gap: 12px;\n",
              "    }\n",
              "\n",
              "    .colab-df-convert {\n",
              "      background-color: #E8F0FE;\n",
              "      border: none;\n",
              "      border-radius: 50%;\n",
              "      cursor: pointer;\n",
              "      display: none;\n",
              "      fill: #1967D2;\n",
              "      height: 32px;\n",
              "      padding: 0 0 0 0;\n",
              "      width: 32px;\n",
              "    }\n",
              "\n",
              "    .colab-df-convert:hover {\n",
              "      background-color: #E2EBFA;\n",
              "      box-shadow: 0px 1px 2px rgba(60, 64, 67, 0.3), 0px 1px 3px 1px rgba(60, 64, 67, 0.15);\n",
              "      fill: #174EA6;\n",
              "    }\n",
              "\n",
              "    .colab-df-buttons div {\n",
              "      margin-bottom: 4px;\n",
              "    }\n",
              "\n",
              "    [theme=dark] .colab-df-convert {\n",
              "      background-color: #3B4455;\n",
              "      fill: #D2E3FC;\n",
              "    }\n",
              "\n",
              "    [theme=dark] .colab-df-convert:hover {\n",
              "      background-color: #434B5C;\n",
              "      box-shadow: 0px 1px 3px 1px rgba(0, 0, 0, 0.15);\n",
              "      filter: drop-shadow(0px 1px 2px rgba(0, 0, 0, 0.3));\n",
              "      fill: #FFFFFF;\n",
              "    }\n",
              "  </style>\n",
              "\n",
              "    <script>\n",
              "      const buttonEl =\n",
              "        document.querySelector('#df-ad25228d-38fc-4ed6-8d61-c5a41bc73e80 button.colab-df-convert');\n",
              "      buttonEl.style.display =\n",
              "        google.colab.kernel.accessAllowed ? 'block' : 'none';\n",
              "\n",
              "      async function convertToInteractive(key) {\n",
              "        const element = document.querySelector('#df-ad25228d-38fc-4ed6-8d61-c5a41bc73e80');\n",
              "        const dataTable =\n",
              "          await google.colab.kernel.invokeFunction('convertToInteractive',\n",
              "                                                    [key], {});\n",
              "        if (!dataTable) return;\n",
              "\n",
              "        const docLinkHtml = 'Like what you see? Visit the ' +\n",
              "          '<a target=\"_blank\" href=https://colab.research.google.com/notebooks/data_table.ipynb>data table notebook</a>'\n",
              "          + ' to learn more about interactive tables.';\n",
              "        element.innerHTML = '';\n",
              "        dataTable['output_type'] = 'display_data';\n",
              "        await google.colab.output.renderOutput(dataTable, element);\n",
              "        const docLink = document.createElement('div');\n",
              "        docLink.innerHTML = docLinkHtml;\n",
              "        element.appendChild(docLink);\n",
              "      }\n",
              "    </script>\n",
              "  </div>\n",
              "\n",
              "\n",
              "    <div id=\"df-96bd23fc-2665-4008-ac64-341b47ceaefa\">\n",
              "      <button class=\"colab-df-quickchart\" onclick=\"quickchart('df-96bd23fc-2665-4008-ac64-341b47ceaefa')\"\n",
              "                title=\"Suggest charts\"\n",
              "                style=\"display:none;\">\n",
              "\n",
              "<svg xmlns=\"http://www.w3.org/2000/svg\" height=\"24px\"viewBox=\"0 0 24 24\"\n",
              "     width=\"24px\">\n",
              "    <g>\n",
              "        <path d=\"M19 3H5c-1.1 0-2 .9-2 2v14c0 1.1.9 2 2 2h14c1.1 0 2-.9 2-2V5c0-1.1-.9-2-2-2zM9 17H7v-7h2v7zm4 0h-2V7h2v10zm4 0h-2v-4h2v4z\"/>\n",
              "    </g>\n",
              "</svg>\n",
              "      </button>\n",
              "\n",
              "<style>\n",
              "  .colab-df-quickchart {\n",
              "      --bg-color: #E8F0FE;\n",
              "      --fill-color: #1967D2;\n",
              "      --hover-bg-color: #E2EBFA;\n",
              "      --hover-fill-color: #174EA6;\n",
              "      --disabled-fill-color: #AAA;\n",
              "      --disabled-bg-color: #DDD;\n",
              "  }\n",
              "\n",
              "  [theme=dark] .colab-df-quickchart {\n",
              "      --bg-color: #3B4455;\n",
              "      --fill-color: #D2E3FC;\n",
              "      --hover-bg-color: #434B5C;\n",
              "      --hover-fill-color: #FFFFFF;\n",
              "      --disabled-bg-color: #3B4455;\n",
              "      --disabled-fill-color: #666;\n",
              "  }\n",
              "\n",
              "  .colab-df-quickchart {\n",
              "    background-color: var(--bg-color);\n",
              "    border: none;\n",
              "    border-radius: 50%;\n",
              "    cursor: pointer;\n",
              "    display: none;\n",
              "    fill: var(--fill-color);\n",
              "    height: 32px;\n",
              "    padding: 0;\n",
              "    width: 32px;\n",
              "  }\n",
              "\n",
              "  .colab-df-quickchart:hover {\n",
              "    background-color: var(--hover-bg-color);\n",
              "    box-shadow: 0 1px 2px rgba(60, 64, 67, 0.3), 0 1px 3px 1px rgba(60, 64, 67, 0.15);\n",
              "    fill: var(--button-hover-fill-color);\n",
              "  }\n",
              "\n",
              "  .colab-df-quickchart-complete:disabled,\n",
              "  .colab-df-quickchart-complete:disabled:hover {\n",
              "    background-color: var(--disabled-bg-color);\n",
              "    fill: var(--disabled-fill-color);\n",
              "    box-shadow: none;\n",
              "  }\n",
              "\n",
              "  .colab-df-spinner {\n",
              "    border: 2px solid var(--fill-color);\n",
              "    border-color: transparent;\n",
              "    border-bottom-color: var(--fill-color);\n",
              "    animation:\n",
              "      spin 1s steps(1) infinite;\n",
              "  }\n",
              "\n",
              "  @keyframes spin {\n",
              "    0% {\n",
              "      border-color: transparent;\n",
              "      border-bottom-color: var(--fill-color);\n",
              "      border-left-color: var(--fill-color);\n",
              "    }\n",
              "    20% {\n",
              "      border-color: transparent;\n",
              "      border-left-color: var(--fill-color);\n",
              "      border-top-color: var(--fill-color);\n",
              "    }\n",
              "    30% {\n",
              "      border-color: transparent;\n",
              "      border-left-color: var(--fill-color);\n",
              "      border-top-color: var(--fill-color);\n",
              "      border-right-color: var(--fill-color);\n",
              "    }\n",
              "    40% {\n",
              "      border-color: transparent;\n",
              "      border-right-color: var(--fill-color);\n",
              "      border-top-color: var(--fill-color);\n",
              "    }\n",
              "    60% {\n",
              "      border-color: transparent;\n",
              "      border-right-color: var(--fill-color);\n",
              "    }\n",
              "    80% {\n",
              "      border-color: transparent;\n",
              "      border-right-color: var(--fill-color);\n",
              "      border-bottom-color: var(--fill-color);\n",
              "    }\n",
              "    90% {\n",
              "      border-color: transparent;\n",
              "      border-bottom-color: var(--fill-color);\n",
              "    }\n",
              "  }\n",
              "</style>\n",
              "\n",
              "      <script>\n",
              "        async function quickchart(key) {\n",
              "          const quickchartButtonEl =\n",
              "            document.querySelector('#' + key + ' button');\n",
              "          quickchartButtonEl.disabled = true;  // To prevent multiple clicks.\n",
              "          quickchartButtonEl.classList.add('colab-df-spinner');\n",
              "          try {\n",
              "            const charts = await google.colab.kernel.invokeFunction(\n",
              "                'suggestCharts', [key], {});\n",
              "          } catch (error) {\n",
              "            console.error('Error during call to suggestCharts:', error);\n",
              "          }\n",
              "          quickchartButtonEl.classList.remove('colab-df-spinner');\n",
              "          quickchartButtonEl.classList.add('colab-df-quickchart-complete');\n",
              "        }\n",
              "        (() => {\n",
              "          let quickchartButtonEl =\n",
              "            document.querySelector('#df-96bd23fc-2665-4008-ac64-341b47ceaefa button');\n",
              "          quickchartButtonEl.style.display =\n",
              "            google.colab.kernel.accessAllowed ? 'block' : 'none';\n",
              "        })();\n",
              "      </script>\n",
              "    </div>\n",
              "\n",
              "    </div>\n",
              "  </div>\n"
            ],
            "application/vnd.google.colaboratory.intrinsic+json": {
              "type": "dataframe",
              "summary": "{\n  \"name\": \"store_ohe[['PARKING_SPACE_QTY','SALES_AREA_SIZE_NUM']]\",\n  \"rows\": 2,\n  \"fields\": [\n    {\n      \"column\": \"PARKING_SPACE_QTY\",\n      \"properties\": {\n        \"dtype\": \"number\",\n        \"std\": 0.16739058020510084,\n        \"min\": 0.763273971260445,\n        \"max\": 1.0,\n        \"num_unique_values\": 2,\n        \"samples\": [\n          0.763273971260445,\n          1.0\n        ],\n        \"semantic_type\": \"\",\n        \"description\": \"\"\n      }\n    },\n    {\n      \"column\": \"SALES_AREA_SIZE_NUM\",\n      \"properties\": {\n        \"dtype\": \"number\",\n        \"std\": 0.16739058020510084,\n        \"min\": 0.763273971260445,\n        \"max\": 1.0,\n        \"num_unique_values\": 2,\n        \"samples\": [\n          1.0,\n          0.763273971260445\n        ],\n        \"semantic_type\": \"\",\n        \"description\": \"\"\n      }\n    }\n  ]\n}"
            }
          },
          "metadata": {},
          "execution_count": 173
        }
      ]
    },
    {
      "source": [
        "from matplotlib import pyplot as plt\n",
        "store_ohe.plot(kind='scatter', x='PARKING_SPACE_QTY', y='SALES_AREA_SIZE_NUM', s=32, alpha=.8)\n",
        "plt.gca().spines[['top', 'right',]].set_visible(False)"
      ],
      "cell_type": "code",
      "metadata": {
        "colab": {
          "base_uri": "https://localhost:8080/",
          "height": 449
        },
        "id": "X5_AfJ9ETSRm",
        "outputId": "dd093fa0-38a8-4873-a242-55c5862bd727"
      },
      "execution_count": 174,
      "outputs": [
        {
          "output_type": "display_data",
          "data": {
            "text/plain": [
              "<Figure size 640x480 with 1 Axes>"
            ],
            "image/png": "[encoded data removed]"
          },
          "metadata": {}
        }
      ]
    },
    {
      "cell_type": "markdown",
      "source": [
        "Since the correlation of the **PARKING_SPACE_QTY** with **SALES_AREA_SIZE_NUM** is high so we can drop this column as it will not add much value to the model."
      ],
      "metadata": {
        "id": "Zexb6LK6TZBu"
      }
    },
    {
      "cell_type": "code",
      "source": [
        "store_ohe = pd.get_dummies(store_df, columns=['ADDRESS_STATE_PROV_CODE', 'MSA_CODE'])\n",
        "store_ohe = store_ohe.drop('PARKING_SPACE_QTY', axis=1)"
      ],
      "metadata": {
        "id": "BzqSNJuETJBW"
      },
      "execution_count": 175,
      "outputs": []
    },
    {
      "cell_type": "code",
      "source": [
        "store_ohe.info()"
      ],
      "metadata": {
        "colab": {
          "base_uri": "https://localhost:8080/"
        },
        "id": "4Gc93nGiTeFT",
        "outputId": "869a68d6-1d9c-49c7-e457-fea7007ea376"
      },
      "execution_count": 176,
      "outputs": [
        {
          "output_type": "stream",
          "name": "stdout",
          "text": [
            "<class 'pandas.core.frame.DataFrame'>\n",
            "RangeIndex: 76 entries, 0 to 75\n",
            "Data columns (total 17 columns):\n",
            " #   Column                      Non-Null Count  Dtype\n",
            "---  ------                      --------------  -----\n",
            " 0   STORE_ID                    76 non-null     int32\n",
            " 1   SEG_VALUE_NAME              76 non-null     int64\n",
            " 2   SALES_AREA_SIZE_NUM         76 non-null     int32\n",
            " 3   AVG_WEEKLY_BASKETS          76 non-null     int32\n",
            " 4   ADDRESS_STATE_PROV_CODE_IN  76 non-null     bool \n",
            " 5   ADDRESS_STATE_PROV_CODE_KY  76 non-null     bool \n",
            " 6   ADDRESS_STATE_PROV_CODE_OH  76 non-null     bool \n",
            " 7   ADDRESS_STATE_PROV_CODE_TX  76 non-null     bool \n",
            " 8   MSA_CODE_13140              76 non-null     bool \n",
            " 9   MSA_CODE_17140              76 non-null     bool \n",
            " 10  MSA_CODE_17780              76 non-null     bool \n",
            " 11  MSA_CODE_19100              76 non-null     bool \n",
            " 12  MSA_CODE_19380              76 non-null     bool \n",
            " 13  MSA_CODE_26420              76 non-null     bool \n",
            " 14  MSA_CODE_43300              76 non-null     bool \n",
            " 15  MSA_CODE_44220              76 non-null     bool \n",
            " 16  MSA_CODE_47540              76 non-null     bool \n",
            "dtypes: bool(13), int32(3), int64(1)\n",
            "memory usage: 2.6 KB\n"
          ]
        }
      ]
    },
    {
      "cell_type": "markdown",
      "source": [
        "\n",
        "### `SAVE THE UPDATED FILES`"
      ],
      "metadata": {
        "id": "m0J68LYGTwyN"
      }
    },
    {
      "cell_type": "code",
      "source": [
        "train_df.to_csv('/content/drive/MyDrive/Colab Notebooks/DataSet/processed_train.csv',index=False)\n",
        "store_ohe.to_csv('/content/drive/MyDrive/Colab Notebooks/DataSet/processed_store.csv',index=False)\n",
        "product_df.to_csv('/content/drive/MyDrive/Colab Notebooks/DataSet/processed_product.csv',index=False)"
      ],
      "metadata": {
        "id": "6ImeiDM_Tlbl"
      },
      "execution_count": 177,
      "outputs": []
    },
    {
      "cell_type": "code",
      "source": [],
      "metadata": {
        "id": "P4ojyzj_T_hC"
      },
      "execution_count": 177,
      "outputs": []
    }
  ]
}