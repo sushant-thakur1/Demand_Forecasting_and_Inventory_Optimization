{
 "cells": [
  {
   "cell_type": "code",
   "execution_count": 1,
   "id": "3fc47dc4",
   "metadata": {},
   "outputs": [],
   "source": [
    "# Intialization\n",
    "import os\n",
    "import sys\n",
    "\n",
    "os.environ[\"SPARK_HOME\"] = \"/home/talentum/spark\"\n",
    "os.environ[\"PYLIB\"] = os.environ[\"SPARK_HOME\"] + \"/python/lib\"\n",
    "# In below two lines, use /usr/bin/python2.7 if you want to use Python 2\n",
    "os.environ[\"PYSPARK_PYTHON\"] = \"/usr/bin/python3.6\" \n",
    "os.environ[\"PYSPARK_DRIVER_PYTHON\"] = \"/usr/bin/python3\"\n",
    "sys.path.insert(0, os.environ[\"PYLIB\"] +\"/py4j-0.10.7-src.zip\")\n",
    "sys.path.insert(0, os.environ[\"PYLIB\"] +\"/pyspark.zip\")\n",
    "\n",
    "# NOTE: Whichever package you want mention here.\n",
    "# os.environ['PYSPARK_SUBMIT_ARGS'] = '--packages com.databricks:spark-xml_2.11:0.6.0 pyspark-shell' \n",
    "# os.environ['PYSPARK_SUBMIT_ARGS'] = '--packages org.apache.spark:spark-avro_2.11:2.4.0 pyspark-shell'\n",
    "os.environ['PYSPARK_SUBMIT_ARGS'] = '--packages com.databricks:spark-xml_2.11:0.6.0,org.apache.spark:spark-avro_2.11:2.4.3 pyspark-shell'\n",
    "# os.environ['PYSPARK_SUBMIT_ARGS'] = '--packages com.databricks:spark-xml_2.11:0.6.0,org.apache.spark:spark-avro_2.11:2.4.0 pyspark-shell'"
   ]
  },
  {
   "cell_type": "code",
   "execution_count": 2,
   "id": "f6839641",
   "metadata": {},
   "outputs": [],
   "source": [
    "from pyspark.sql import SparkSession\n",
    "\n",
    "spark = SparkSession.builder.appName(\"Retail Demand Forecasting\").enableHiveSupport().getOrCreate()\n",
    "sc = spark.sparkContext"
   ]
  },
  {
   "cell_type": "code",
   "execution_count": 3,
   "id": "25fe476c",
   "metadata": {},
   "outputs": [],
   "source": [
    "url = \"jdbc:mysql://127.0.0.1:3306/test?useSSL=false&allowPublicKeyRetrieval=true\"\n",
    "driver = \"com.mysql.jdbc.Driver\"\n",
    "user = \"bigdata\"\n",
    "password = \"Bigdata@123\""
   ]
  },
  {
   "cell_type": "code",
   "execution_count": 4,
   "id": "f876ff4c",
   "metadata": {},
   "outputs": [
    {
     "name": "stdout",
     "output_type": "stream",
     "text": [
      "+--------------------+\n",
      "|        databaseName|\n",
      "+--------------------+\n",
      "|             default|\n",
      "|       final_project|\n",
      "|retail_demand_for...|\n",
      "+--------------------+\n",
      "\n"
     ]
    }
   ],
   "source": [
    "spark.sql(\"SHOW DATABASES\").show()"
   ]
  },
  {
   "cell_type": "code",
   "execution_count": 5,
   "id": "ea3be2d3",
   "metadata": {},
   "outputs": [
    {
     "data": {
      "text/plain": [
       "DataFrame[]"
      ]
     },
     "execution_count": 5,
     "metadata": {},
     "output_type": "execute_result"
    }
   ],
   "source": [
    "spark.sql(\"USE retail_demand_forecasting\")\n"
   ]
  },
  {
   "cell_type": "code",
   "execution_count": 6,
   "id": "fd825419",
   "metadata": {},
   "outputs": [
    {
     "name": "stdout",
     "output_type": "stream",
     "text": [
      "+----------+--------------------+-------------+--------------------+--------------------+------------+\n",
      "|       upc|         description| manufacturer|            category|        sub_category|product_size|\n",
      "+----------+--------------------+-------------+--------------------+--------------------+------------+\n",
      "|      null|         DESCRIPTION| MANUFACTURER|            CATEGORY|        SUB_CATEGORY|PRODUCT_SIZE|\n",
      "|1111009477|PL MINI TWIST PRE...|PRIVATE LABEL|          BAG SNACKS|            PRETZELS|       15 OZ|\n",
      "|1111009497|   PL PRETZEL STICKS|PRIVATE LABEL|          BAG SNACKS|            PRETZELS|       15 OZ|\n",
      "|1111009507|   PL TWIST PRETZELS|PRIVATE LABEL|          BAG SNACKS|            PRETZELS|       15 OZ|\n",
      "|1111038078|PL BL MINT ANTSPT...|PRIVATE LABEL|ORAL HYGIENE PROD...|MOUTHWASHES (ANTI...|      500 ML|\n",
      "+----------+--------------------+-------------+--------------------+--------------------+------------+\n",
      "only showing top 5 rows\n",
      "\n"
     ]
    }
   ],
   "source": [
    "product_df = spark.sql(\"SELECT * FROM product_data\")\n",
    "product_df.show(5)"
   ]
  },
  {
   "cell_type": "code",
   "execution_count": 7,
   "id": "6231057c",
   "metadata": {},
   "outputs": [
    {
     "name": "stdout",
     "output_type": "stream",
     "text": [
      "+--------+--------------+-----------------+-----------------------+--------+--------------+-----------------+------------------+\n",
      "|store_id|    store_name|address_city_name|address_state_prov_code|msa_code|seg_value_name|parking_space_qty|avg_weekly_baskets|\n",
      "+--------+--------------+-----------------+-----------------------+--------+--------------+-----------------+------------------+\n",
      "|    null|    STORE_NAME|ADDRESS_CITY_NAME|   ADDRESS_STATE_PRO...|    null|SEG_VALUE_NAME|             null|              null|\n",
      "|     367|15TH & MADISON|        COVINGTON|                     KY|   17140|         VALUE|              196|             24721|\n",
      "|     389|    SILVERLAKE|         ERLANGER|                     KY|   17140|    MAINSTREAM|              408|             46073|\n",
      "|     613|    EAST ALLEN|            ALLEN|                     TX|   19100|    MAINSTREAM|              464|             64926|\n",
      "|     623|       HOUSTON|          HOUSTON|                     TX|   26420|    MAINSTREAM|             null|             46930|\n",
      "+--------+--------------+-----------------+-----------------------+--------+--------------+-----------------+------------------+\n",
      "only showing top 5 rows\n",
      "\n"
     ]
    }
   ],
   "source": [
    "store_df = spark.sql(\"select * from store_data\")\n",
    "store_df.show(5)"
   ]
  },
  {
   "cell_type": "code",
   "execution_count": 8,
   "id": "0165cb13",
   "metadata": {},
   "outputs": [
    {
     "name": "stdout",
     "output_type": "stream",
     "text": [
      "+-------------+---------+----------+----------+-------+-------+-----+\n",
      "|week_end_date|store_num|       upc|base_price|feature|display|units|\n",
      "+-------------+---------+----------+----------+-------+-------+-----+\n",
      "|WEEK_END_DATE|     null|      null|      null|   null|   null| null|\n",
      "|    14-Jan-09|      367|1111009477|      1.57|      0|      0|   13|\n",
      "|    14-Jan-09|      367|1111009497|      1.39|      0|      0|   20|\n",
      "|    14-Jan-09|      367|1111085319|      1.88|      0|      0|   14|\n",
      "|    14-Jan-09|      367|1111085345|      1.88|      0|      0|   29|\n",
      "+-------------+---------+----------+----------+-------+-------+-----+\n",
      "only showing top 5 rows\n",
      "\n"
     ]
    }
   ],
   "source": [
    "train_df = spark.sql(\"select * from train_data\")\n",
    "train_df.show(5)"
   ]
  },
  {
   "cell_type": "code",
   "execution_count": 9,
   "id": "f531e293",
   "metadata": {},
   "outputs": [
    {
     "name": "stdout",
     "output_type": "stream",
     "text": [
      "root\n",
      " |-- upc: long (nullable = true)\n",
      " |-- description: string (nullable = true)\n",
      " |-- manufacturer: string (nullable = true)\n",
      " |-- category: string (nullable = true)\n",
      " |-- sub_category: string (nullable = true)\n",
      " |-- product_size: string (nullable = true)\n",
      "\n",
      "root\n",
      " |-- store_id: long (nullable = true)\n",
      " |-- store_name: string (nullable = true)\n",
      " |-- address_city_name: string (nullable = true)\n",
      " |-- address_state_prov_code: string (nullable = true)\n",
      " |-- msa_code: long (nullable = true)\n",
      " |-- seg_value_name: string (nullable = true)\n",
      " |-- parking_space_qty: long (nullable = true)\n",
      " |-- avg_weekly_baskets: long (nullable = true)\n",
      "\n",
      "root\n",
      " |-- week_end_date: string (nullable = true)\n",
      " |-- store_num: long (nullable = true)\n",
      " |-- upc: long (nullable = true)\n",
      " |-- base_price: double (nullable = true)\n",
      " |-- feature: integer (nullable = true)\n",
      " |-- display: integer (nullable = true)\n",
      " |-- units: long (nullable = true)\n",
      "\n"
     ]
    }
   ],
   "source": [
    "product_df.printSchema()\n",
    "store_df.printSchema()\n",
    "train_df.printSchema()\n"
   ]
  },
  {
   "cell_type": "code",
   "execution_count": 10,
   "id": "347ff973",
   "metadata": {},
   "outputs": [
    {
     "name": "stdout",
     "output_type": "stream",
     "text": [
      "+----------+--------------------+-------------+--------------------+--------------------+------------+\n",
      "|       upc|         description| manufacturer|            category|        sub_category|product_size|\n",
      "+----------+--------------------+-------------+--------------------+--------------------+------------+\n",
      "|1111009477|PL MINI TWIST PRE...|PRIVATE LABEL|          BAG SNACKS|            PRETZELS|       15 OZ|\n",
      "|1111009497|   PL PRETZEL STICKS|PRIVATE LABEL|          BAG SNACKS|            PRETZELS|       15 OZ|\n",
      "|1111009507|   PL TWIST PRETZELS|PRIVATE LABEL|          BAG SNACKS|            PRETZELS|       15 OZ|\n",
      "|1111038078|PL BL MINT ANTSPT...|PRIVATE LABEL|ORAL HYGIENE PROD...|MOUTHWASHES (ANTI...|      500 ML|\n",
      "|1111038080|PL ANTSPTC SPG MN...|PRIVATE LABEL|ORAL HYGIENE PROD...|MOUTHWASHES (ANTI...|      500 ML|\n",
      "|1111085319|PL HONEY NUT TOAS...|PRIVATE LABEL|         COLD CEREAL|   ALL FAMILY CEREAL|    12.25 OZ|\n",
      "|1111085345|      PL RAISIN BRAN|PRIVATE LABEL|         COLD CEREAL|        ADULT CEREAL|       20 OZ|\n",
      "|1111085350|PL BT SZ FRSTD SH...|PRIVATE LABEL|         COLD CEREAL|   ALL FAMILY CEREAL|       18 OZ|\n",
      "|1111087395|PL SR CRUST SUPRM...|PRIVATE LABEL|        FROZEN PIZZA|       PIZZA/PREMIUM|     32.7 OZ|\n",
      "|1111087396|PL SR CRUST 3 MEA...|PRIVATE LABEL|        FROZEN PIZZA|       PIZZA/PREMIUM|     30.5 OZ|\n",
      "|1111087398|PL SR CRUST PEPPR...|PRIVATE LABEL|        FROZEN PIZZA|       PIZZA/PREMIUM|     29.6 OZ|\n",
      "|1600027527|GM HONEY NUT CHEE...|   GENERAL MI|         COLD CEREAL|   ALL FAMILY CEREAL|    12.25 OZ|\n",
      "|1600027528|         GM CHEERIOS|   GENERAL MI|         COLD CEREAL|   ALL FAMILY CEREAL|       18 OZ|\n",
      "|1600027564|         GM CHEERIOS|   GENERAL MI|         COLD CEREAL|   ALL FAMILY CEREAL|       12 OZ|\n",
      "|2840004768|RLDGLD TINY TWIST...|    FRITO LAY|          BAG SNACKS|            PRETZELS|       16 OZ|\n",
      "|2840004770|RLDGLD PRETZEL ST...|    FRITO LAY|          BAG SNACKS|            PRETZELS|       16 OZ|\n",
      "|3700031613|SCOPE ORIG MINT M...|        P & G|ORAL HYGIENE PROD...|MOUTHWASH/RINSES ...|        1 LT|\n",
      "|3700044982|CREST PH CLN MINT...|        P & G|ORAL HYGIENE PROD...|MOUTHWASHES (ANTI...|        1 LT|\n",
      "|3800031829|KELL BITE SIZE MI...|      KELLOGG|         COLD CEREAL|   ALL FAMILY CEREAL|       18 OZ|\n",
      "|3800031838| KELL FROSTED FLAKES|      KELLOGG|         COLD CEREAL|         KIDS CEREAL|       15 OZ|\n",
      "+----------+--------------------+-------------+--------------------+--------------------+------------+\n",
      "only showing top 20 rows\n",
      "\n"
     ]
    }
   ],
   "source": [
    "from pyspark.sql import functions as F\n",
    "\n",
    "product_df_cleaned = product_df.filter(F.col(\"upc\").isNotNull())\n",
    "\n",
    "# Show the cleaned DataFrame\n",
    "product_df_cleaned.show()"
   ]
  },
  {
   "cell_type": "code",
   "execution_count": 11,
   "id": "cb658f18",
   "metadata": {},
   "outputs": [
    {
     "name": "stdout",
     "output_type": "stream",
     "text": [
      "+--------+------------------+-----------------+-----------------------+--------+--------------+-----------------+------------------+\n",
      "|store_id|        store_name|address_city_name|address_state_prov_code|msa_code|seg_value_name|parking_space_qty|avg_weekly_baskets|\n",
      "+--------+------------------+-----------------+-----------------------+--------+--------------+-----------------+------------------+\n",
      "|     367|    15TH & MADISON|        COVINGTON|                     KY|   17140|         VALUE|              196|             24721|\n",
      "|     389|        SILVERLAKE|         ERLANGER|                     KY|   17140|    MAINSTREAM|              408|             46073|\n",
      "|     613|        EAST ALLEN|            ALLEN|                     TX|   19100|    MAINSTREAM|              464|             64926|\n",
      "|     623|           HOUSTON|          HOUSTON|                     TX|   26420|    MAINSTREAM|             null|             46930|\n",
      "|    2277|ANDERSON TOWNE CTR|       CINCINNATI|                     OH|   17140|       UPSCALE|             null|             81958|\n",
      "|    2279|  MILFORD-MULBERRY|          MILFORD|                     OH|   17140|    MAINSTREAM|              771|             44175|\n",
      "|    2281|          BLUE ASH|         BLUE ASH|                     OH|   17140|       UPSCALE|             null|             68500|\n",
      "|    2495|  PLANTATION PLAZA|            CLUTE|                     TX|   26420|    MAINSTREAM|              407|             48462|\n",
      "|    2505| DICKINSON VILLAGE|        DICKINSON|                     TX|   26420|    MAINSTREAM|              319|             41644|\n",
      "|    2513|           HOUSTON|          HOUSTON|                     TX|   26420|       UPSCALE|             null|             61833|\n",
      "|    2523|LANDMARK PLACE S/C|    GRAND PRAIRIE|                     TX|   19100|         VALUE|              252|             34373|\n",
      "|    2541|           NORWOOD|        ARLINGTON|                     TX|   19100|    MAINSTREAM|              300|             29231|\n",
      "|    4245|      LAWRENCEBURG|     LAWRENCEBURG|                     IN|   17140|    MAINSTREAM|             null|             58563|\n",
      "|    4259|     WARSAW AVENUE|       CINCINNATI|                     OH|   17140|         VALUE|             null|             48813|\n",
      "|    4489|  SWEETWATER PLAZA|       SUGAR LAND|                     TX|   26420|       UPSCALE|             null|             49030|\n",
      "|    4503|          ROCKWALL|         ROCKWALL|                     TX|   19100|    MAINSTREAM|             null|             56230|\n",
      "|    4521|PARKWAY SQUARE S/C|  COLLEGE STATION|                     TX|   17780|    MAINSTREAM|              418|             34628|\n",
      "|    6179|     DEERFIELD TWP|            MASON|                     OH|   17140|       UPSCALE|             null|             54448|\n",
      "|    6187|         ST. MARYS|      SAINT MARYS|                     OH|   47540|    MAINSTREAM|             null|             55474|\n",
      "|    6379|          KINGWOOD|         KINGWOOD|                     TX|   26420|    MAINSTREAM|             null|             50237|\n",
      "+--------+------------------+-----------------+-----------------------+--------+--------------+-----------------+------------------+\n",
      "only showing top 20 rows\n",
      "\n"
     ]
    }
   ],
   "source": [
    "store_df_cleaned = store_df.filter(F.col(\"store_id\").isNotNull())\n",
    "store_df_cleaned.show()\n"
   ]
  },
  {
   "cell_type": "code",
   "execution_count": 12,
   "id": "306161a9",
   "metadata": {},
   "outputs": [
    {
     "name": "stdout",
     "output_type": "stream",
     "text": [
      "+-------------+---------+----------+----------+-------+-------+-----+\n",
      "|week_end_date|store_num|       upc|base_price|feature|display|units|\n",
      "+-------------+---------+----------+----------+-------+-------+-----+\n",
      "|    14-Jan-09|      367|1111009477|      1.57|      0|      0|   13|\n",
      "|    14-Jan-09|      367|1111009497|      1.39|      0|      0|   20|\n",
      "|    14-Jan-09|      367|1111085319|      1.88|      0|      0|   14|\n",
      "|    14-Jan-09|      367|1111085345|      1.88|      0|      0|   29|\n",
      "|    14-Jan-09|      367|1111085350|      1.98|      0|      0|   35|\n",
      "|    14-Jan-09|      367|1111087395|      3.94|      0|      1|   50|\n",
      "|    14-Jan-09|      367|1111087396|       4.0|      0|      1|   61|\n",
      "|    14-Jan-09|      367|1111087398|       4.0|      0|      1|   72|\n",
      "|    14-Jan-09|      367|1600027527|      3.19|      0|      0|   12|\n",
      "|    14-Jan-09|      367|1600027528|      4.59|      0|      0|   31|\n",
      "|    14-Jan-09|      367|1600027564|      3.07|      1|      0|   56|\n",
      "|    14-Jan-09|      367|3800031829|      3.14|      0|      0|   14|\n",
      "|    14-Jan-09|      367|3800031838|      2.96|      0|      0|   36|\n",
      "|    14-Jan-09|      367|3800039118|      3.29|      1|      1|   59|\n",
      "|    14-Jan-09|      367|7192100337|      6.29|      1|      0|   23|\n",
      "|    14-Jan-09|      367|7192100339|      6.29|      1|      0|   17|\n",
      "|    14-Jan-09|      389|1111009477|      1.39|      0|      0|   71|\n",
      "|    14-Jan-09|      389|1111009497|      1.37|      0|      0|   78|\n",
      "|    14-Jan-09|      389|1111009507|      1.38|      0|      0|   28|\n",
      "|    14-Jan-09|      389|1111038078|      2.59|      0|      0|    6|\n",
      "+-------------+---------+----------+----------+-------+-------+-----+\n",
      "only showing top 20 rows\n",
      "\n"
     ]
    }
   ],
   "source": [
    "train_df_cleaned = train_df.filter(F.col(\"week_end_date\") != \"WEEK_END_DATE\")\n",
    "train_df_cleaned.show()\n"
   ]
  },
  {
   "cell_type": "markdown",
   "id": "24bad6d4",
   "metadata": {},
   "source": [
    "Train data conatin following categorical features\n",
    "\n",
    "    - STORE_NUM\n",
    "    - UPC\n",
    "    - FEATURE\n",
    "    - DISPLAY\n"
   ]
  },
  {
   "cell_type": "code",
   "execution_count": 13,
   "id": "79623d90",
   "metadata": {},
   "outputs": [
    {
     "name": "stdout",
     "output_type": "stream",
     "text": [
      "+---------------+---------+-------------+-------------+\n",
      "|STORE_NUM_nulls|UPC_nulls|FEATURE_nulls|DISPLAY_nulls|\n",
      "+---------------+---------+-------------+-------------+\n",
      "|              0|        0|            0|            0|\n",
      "+---------------+---------+-------------+-------------+\n",
      "\n"
     ]
    }
   ],
   "source": [
    "from pyspark.sql import functions as F\n",
    "\n",
    "train_df_cleaned.select(\n",
    "    F.sum(F.col('STORE_NUM').isNull().cast('int')).alias('STORE_NUM_nulls'),\n",
    "    F.sum(F.col('UPC').isNull().cast('int')).alias('UPC_nulls'),\n",
    "    F.sum(F.col('FEATURE').isNull().cast('int')).alias('FEATURE_nulls'),\n",
    "    F.sum(F.col('DISPLAY').isNull().cast('int')).alias('DISPLAY_nulls')\n",
    ").show()\n",
    "#checking for null values in categorical features"
   ]
  },
  {
   "cell_type": "markdown",
   "id": "6e9029f1",
   "metadata": {},
   "source": [
    "train data has following nnumerical features\n",
    "- BASE_PRICE\n",
    "- UNITS (Target)"
   ]
  },
  {
   "cell_type": "code",
   "execution_count": 14,
   "id": "692741c1",
   "metadata": {},
   "outputs": [
    {
     "name": "stdout",
     "output_type": "stream",
     "text": [
      "+----------------+-----------+\n",
      "|BASE_PRICE_nulls|UNITS_nulls|\n",
      "+----------------+-----------+\n",
      "|              12|          0|\n",
      "+----------------+-----------+\n",
      "\n"
     ]
    }
   ],
   "source": [
    "from pyspark.sql.functions import col, sum\n",
    "\n",
    "train_df_cleaned.select(\n",
    "    sum(col(\"BASE_PRICE\").isNull().cast(\"int\")).alias(\"BASE_PRICE_nulls\"),\n",
    "    sum(col(\"UNITS\").isNull().cast(\"int\")).alias(\"UNITS_nulls\")\n",
    ").show()\n"
   ]
  },
  {
   "cell_type": "code",
   "execution_count": 15,
   "id": "ea520299",
   "metadata": {},
   "outputs": [
    {
     "name": "stdout",
     "output_type": "stream",
     "text": [
      "+-------------+---------+----------+----------+-------+-------+-----+\n",
      "|week_end_date|store_num|       upc|base_price|feature|display|units|\n",
      "+-------------+---------+----------+----------+-------+-------+-----+\n",
      "|    14-Jan-09|     4245|1111087395|      null|      0|      1|   56|\n",
      "|    14-Jan-09|     4245|1111087398|      null|      0|      1|   72|\n",
      "|    14-Jan-09|     4259|1111087395|      null|      0|      1|   52|\n",
      "|    14-Jan-09|     4259|1111087398|      null|      0|      1|   52|\n",
      "|    21-Jan-09|     4245|1111087395|      null|      0|      1|   52|\n",
      "|    21-Jan-09|     4245|1111087398|      null|      0|      1|   82|\n",
      "|    21-Jan-09|     4259|1111087395|      null|      0|      1|   28|\n",
      "|    28-Jan-09|     4245|1111087395|      null|      1|      1|   45|\n",
      "|    28-Jan-09|     4245|1111087398|      null|      1|      1|   34|\n",
      "|    28-Jan-09|     4259|1111087395|      null|      1|      1|   31|\n",
      "|    04-Feb-09|     4245|1111087395|      null|      0|      1|   54|\n",
      "|    04-Feb-09|     4245|1111087398|      null|      0|      1|   66|\n",
      "+-------------+---------+----------+----------+-------+-------+-----+\n",
      "\n"
     ]
    }
   ],
   "source": [
    "from pyspark.sql.functions import col, isnull\n",
    "\n",
    "train_df_cleaned.filter(isnull(col(\"BASE_PRICE\"))).show()\n"
   ]
  },
  {
   "cell_type": "code",
   "execution_count": 16,
   "id": "fdace794",
   "metadata": {},
   "outputs": [],
   "source": [
    "#We have missing value in BASE_PRICE so impute the missing values with mean\n",
    "from pyspark.sql.window import Window\n",
    "from pyspark.sql.functions import avg, col, when\n",
    "\n",
    "# Define a window partitioned by STORE_NUM\n",
    "window_spec = Window.partitionBy(\"STORE_NUM\")\n",
    "\n",
    "# Calculate avg(BASE_PRICE) over the window and fill nulls\n",
    "train_df_cleaned = train_df_cleaned.withColumn(\n",
    "    \"BASE_PRICE\",\n",
    "    when(\n",
    "        col(\"BASE_PRICE\").isNull(),\n",
    "        avg(\"BASE_PRICE\").over(window_spec)\n",
    "    ).otherwise(col(\"BASE_PRICE\"))\n",
    ")\n",
    "\n"
   ]
  },
  {
   "cell_type": "code",
   "execution_count": 17,
   "id": "d80d297c",
   "metadata": {},
   "outputs": [
    {
     "name": "stdout",
     "output_type": "stream",
     "text": [
      "+-------------+---------+---+----------+-------+-------+-----+\n",
      "|week_end_date|store_num|upc|BASE_PRICE|feature|display|units|\n",
      "+-------------+---------+---+----------+-------+-------+-----+\n",
      "+-------------+---------+---+----------+-------+-------+-----+\n",
      "\n"
     ]
    }
   ],
   "source": [
    "train_df_cleaned.filter(col(\"BASE_PRICE\").isNull()).show()\n",
    "# no null values"
   ]
  },
  {
   "cell_type": "code",
   "execution_count": 18,
   "id": "d4047885",
   "metadata": {},
   "outputs": [
    {
     "data": {
      "image/png": "[encoded data removed]",
      "text/plain": [
       "<Figure size 576x432 with 1 Axes>"
      ]
     },
     "metadata": {
      "needs_background": "light"
     },
     "output_type": "display_data"
    }
   ],
   "source": [
    "import matplotlib.pyplot as plt\n",
    "import numpy as np\n",
    "\n",
    "# Convert the PySpark DataFrame column to Pandas\n",
    "units_pd = train_df_cleaned.select(\"UNITS\").toPandas()\n",
    "\n",
    "# Sort values\n",
    "units_sorted = np.sort(units_pd['UNITS'].values)\n",
    "\n",
    "# Plot\n",
    "plt.figure(figsize=(8, 6))\n",
    "plt.scatter(x=range(len(units_sorted)), y=units_sorted)\n",
    "plt.xlabel('Index', fontsize=12)\n",
    "plt.ylabel('Units Sold', fontsize=12)\n",
    "plt.title('Sorted Units Sold per Record')\n",
    "plt.show()\n"
   ]
  },
  {
   "cell_type": "code",
   "execution_count": 19,
   "id": "f9402d7e",
   "metadata": {},
   "outputs": [
    {
     "data": {
      "text/plain": [
       "21"
      ]
     },
     "execution_count": 19,
     "metadata": {},
     "output_type": "execute_result"
    }
   ],
   "source": [
    "train_df_cleaned.filter(F.col(\"UNITS\") > 750).count()\n",
    "# only 21 units are > 750 so we will remove it"
   ]
  },
  {
   "cell_type": "code",
   "execution_count": 20,
   "id": "1055ec5c",
   "metadata": {},
   "outputs": [
    {
     "name": "stdout",
     "output_type": "stream",
     "text": [
      "+-----+\n",
      "|UNITS|\n",
      "+-----+\n",
      "|  834|\n",
      "|  796|\n",
      "|  773|\n",
      "|  925|\n",
      "|  760|\n",
      "|  899|\n",
      "|  902|\n",
      "|  833|\n",
      "| 1006|\n",
      "| 1800|\n",
      "|  774|\n",
      "| 1054|\n",
      "| 1136|\n",
      "|  843|\n",
      "|  913|\n",
      "|  755|\n",
      "|  751|\n",
      "|  823|\n",
      "|  781|\n",
      "|  819|\n",
      "+-----+\n",
      "only showing top 20 rows\n",
      "\n"
     ]
    }
   ],
   "source": [
    "train_df_cleaned.filter(F.col(\"UNITS\") > 750).select(\"UNITS\").show()"
   ]
  },
  {
   "cell_type": "code",
   "execution_count": 21,
   "id": "a5cd6f5d",
   "metadata": {},
   "outputs": [],
   "source": [
    "train_df_cleaned = train_df_cleaned.filter(F.col(\"UNITS\") <= 750)\n"
   ]
  },
  {
   "cell_type": "code",
   "execution_count": 22,
   "id": "0aa747de",
   "metadata": {},
   "outputs": [
    {
     "data": {
      "text/plain": [
       "0"
      ]
     },
     "execution_count": 22,
     "metadata": {},
     "output_type": "execute_result"
    }
   ],
   "source": [
    "train_df_cleaned.filter(F.col(\"UNITS\") > 750).count()"
   ]
  },
  {
   "cell_type": "code",
   "execution_count": 24,
   "id": "c4f75565",
   "metadata": {},
   "outputs": [],
   "source": [
    "updated_train_data = train_df_cleaned"
   ]
  },
  {
   "cell_type": "code",
   "execution_count": 26,
   "id": "86a9cf51",
   "metadata": {},
   "outputs": [
    {
     "data": {
      "text/plain": [
       "[Row(week_end_date='14-Jan-09', store_num=367, upc=1111009477, BASE_PRICE=1.57, feature=0, display=0, units=13),\n",
       " Row(week_end_date='14-Jan-09', store_num=367, upc=1111009497, BASE_PRICE=1.39, feature=0, display=0, units=20),\n",
       " Row(week_end_date='14-Jan-09', store_num=367, upc=1111085319, BASE_PRICE=1.88, feature=0, display=0, units=14),\n",
       " Row(week_end_date='14-Jan-09', store_num=367, upc=1111085345, BASE_PRICE=1.88, feature=0, display=0, units=29),\n",
       " Row(week_end_date='14-Jan-09', store_num=367, upc=1111085350, BASE_PRICE=1.98, feature=0, display=0, units=35)]"
      ]
     },
     "execution_count": 26,
     "metadata": {},
     "output_type": "execute_result"
    }
   ],
   "source": [
    "updated_train_data.head(5)"
   ]
  },
  {
   "cell_type": "markdown",
   "id": "06f81fcb",
   "metadata": {},
   "source": [
    "PRODUCT DATA has the following categorical features\n",
    "- UPC\n",
    "- DESCRIPTION\n",
    "- MANUFACTURER\n",
    "- CATEGORY\n",
    "- SUB_CATEGORY\n",
    "- PRODUCT_SIZE"
   ]
  },
  {
   "cell_type": "code",
   "execution_count": 27,
   "id": "49d6f6d1",
   "metadata": {},
   "outputs": [
    {
     "name": "stdout",
     "output_type": "stream",
     "text": [
      "+---------+-----------------+------------------+--------------+------------------+------------------+\n",
      "|UPC_nulls|DESCRIPTION_nulls|MANUFACTURER_nulls|CATEGORY_nulls|SUB_CATEGORY_nulls|PRODUCT_SIZE_nulls|\n",
      "+---------+-----------------+------------------+--------------+------------------+------------------+\n",
      "|        0|                0|                 0|             0|                 0|                 0|\n",
      "+---------+-----------------+------------------+--------------+------------------+------------------+\n",
      "\n"
     ]
    }
   ],
   "source": [
    "from pyspark.sql import functions as F\n",
    "\n",
    "product_df_cleaned.select(\n",
    "    F.sum(F.col('UPC').isNull().cast('int')).alias('UPC_nulls'),\n",
    "    F.sum(F.col('DESCRIPTION').isNull().cast('int')).alias('DESCRIPTION_nulls'),\n",
    "    F.sum(F.col('MANUFACTURER').isNull().cast('int')).alias('MANUFACTURER_nulls'),\n",
    "    F.sum(F.col('CATEGORY').isNull().cast('int')).alias('CATEGORY_nulls'),\n",
    "    F.sum(F.col('SUB_CATEGORY').isNull().cast('int')).alias('SUB_CATEGORY_nulls'),\n",
    "    F.sum(F.col('PRODUCT_SIZE').isNull().cast('int')).alias('PRODUCT_SIZE_nulls')\n",
    ").show()\n",
    "#checking for null values in categorical features"
   ]
  },
  {
   "cell_type": "code",
   "execution_count": 28,
   "id": "dbc2fcf6",
   "metadata": {},
   "outputs": [
    {
     "data": {
      "text/plain": [
       "29"
      ]
     },
     "execution_count": 28,
     "metadata": {},
     "output_type": "execute_result"
    }
   ],
   "source": [
    "product_df_cleaned.select(\"DESCRIPTION\").distinct().count()\n"
   ]
  },
  {
   "cell_type": "code",
   "execution_count": 29,
   "id": "4359039a",
   "metadata": {},
   "outputs": [
    {
     "data": {
      "text/plain": [
       "9"
      ]
     },
     "execution_count": 29,
     "metadata": {},
     "output_type": "execute_result"
    }
   ],
   "source": [
    "# Unique MANUFACTURER count\n",
    "product_df_cleaned.select(\"MANUFACTURER\").distinct().count()"
   ]
  },
  {
   "cell_type": "code",
   "execution_count": 30,
   "id": "3d6dd98f",
   "metadata": {},
   "outputs": [
    {
     "data": {
      "text/plain": [
       "4"
      ]
     },
     "execution_count": 30,
     "metadata": {},
     "output_type": "execute_result"
    }
   ],
   "source": [
    "\n",
    "# Unique CATEGORY count\n",
    "product_df_cleaned.select(\"CATEGORY\").distinct().count()"
   ]
  },
  {
   "cell_type": "code",
   "execution_count": 31,
   "id": "65966e88",
   "metadata": {},
   "outputs": [
    {
     "data": {
      "text/plain": [
       "7"
      ]
     },
     "execution_count": 31,
     "metadata": {},
     "output_type": "execute_result"
    }
   ],
   "source": [
    "# Unique SUB_CATEGORY count\n",
    "product_df_cleaned.select(\"SUB_CATEGORY\").distinct().count()"
   ]
  },
  {
   "cell_type": "code",
   "execution_count": 32,
   "id": "c2b7bc43",
   "metadata": {},
   "outputs": [
    {
     "data": {
      "text/plain": [
       "16"
      ]
     },
     "execution_count": 32,
     "metadata": {},
     "output_type": "execute_result"
    }
   ],
   "source": [
    "# Unique PRODUCT_SIZE count\n",
    "product_df_cleaned.select(\"PRODUCT_SIZE\").distinct().count()"
   ]
  },
  {
   "cell_type": "markdown",
   "id": "42c6f54f",
   "metadata": {},
   "source": [
    "DECSCRIPTION contain the information about category , subcategory and size which is already present so we will drop it"
   ]
  },
  {
   "cell_type": "code",
   "execution_count": 33,
   "id": "d1693caf",
   "metadata": {},
   "outputs": [],
   "source": [
    "product_df_cleaned = product_df_cleaned.drop(\"DESCRIPTION\")\n"
   ]
  },
  {
   "cell_type": "code",
   "execution_count": 34,
   "id": "5bfb3f15",
   "metadata": {},
   "outputs": [
    {
     "name": "stdout",
     "output_type": "stream",
     "text": [
      "+----------+-------------+--------------------+--------------------+------------+\n",
      "|       upc| manufacturer|            category|        sub_category|product_size|\n",
      "+----------+-------------+--------------------+--------------------+------------+\n",
      "|1111009477|PRIVATE LABEL|          BAG SNACKS|            PRETZELS|       15 OZ|\n",
      "|1111009497|PRIVATE LABEL|          BAG SNACKS|            PRETZELS|       15 OZ|\n",
      "|1111009507|PRIVATE LABEL|          BAG SNACKS|            PRETZELS|       15 OZ|\n",
      "|1111038078|PRIVATE LABEL|ORAL HYGIENE PROD...|MOUTHWASHES (ANTI...|      500 ML|\n",
      "|1111038080|PRIVATE LABEL|ORAL HYGIENE PROD...|MOUTHWASHES (ANTI...|      500 ML|\n",
      "+----------+-------------+--------------------+--------------------+------------+\n",
      "only showing top 5 rows\n",
      "\n"
     ]
    }
   ],
   "source": [
    "product_df_cleaned.show(5)"
   ]
  },
  {
   "cell_type": "code",
   "execution_count": 35,
   "id": "afe2ac7e",
   "metadata": {},
   "outputs": [],
   "source": [
    "from pyspark.sql.functions import split\n",
    "\n",
    "product_df_cleaned = product_df_cleaned.withColumn(\"PRODUCT_SIZE\", split(\"PRODUCT_SIZE\", \" \").getItem(0))\n"
   ]
  },
  {
   "cell_type": "code",
   "execution_count": 36,
   "id": "a33caf4a",
   "metadata": {},
   "outputs": [],
   "source": [
    "from pyspark.sql.functions import col\n",
    "\n",
    "product_df_cleaned = product_df_cleaned.withColumn(\"PRODUCT_SIZE\", col(\"PRODUCT_SIZE\").cast(\"float\"))\n"
   ]
  },
  {
   "cell_type": "code",
   "execution_count": 37,
   "id": "f3dfcca3",
   "metadata": {},
   "outputs": [
    {
     "name": "stdout",
     "output_type": "stream",
     "text": [
      "root\n",
      " |-- upc: long (nullable = true)\n",
      " |-- manufacturer: string (nullable = true)\n",
      " |-- category: string (nullable = true)\n",
      " |-- sub_category: string (nullable = true)\n",
      " |-- PRODUCT_SIZE: float (nullable = true)\n",
      "\n"
     ]
    }
   ],
   "source": [
    "product_df_cleaned.printSchema()"
   ]
  },
  {
   "cell_type": "code",
   "execution_count": 38,
   "id": "66a8c0fb",
   "metadata": {},
   "outputs": [
    {
     "name": "stdout",
     "output_type": "stream",
     "text": [
      "+---------------------+-------------------------------------+\n",
      "|CATEGORY             |unique_PRODUCT_SIZES                 |\n",
      "+---------------------+-------------------------------------+\n",
      "|COLD CEREAL          |[12.0, 20.0, 12.25, 18.0, 12.2, 15.0]|\n",
      "|FROZEN PIZZA         |[29.6, 28.3, 30.5, 29.8, 32.7, 22.7] |\n",
      "|ORAL HYGIENE PRODUCTS|[1.0, 500.0]                         |\n",
      "|BAG SNACKS           |[10.0, 16.0, 15.0]                   |\n",
      "+---------------------+-------------------------------------+\n",
      "\n"
     ]
    }
   ],
   "source": [
    "from pyspark.sql.functions import collect_set\n",
    "\n",
    "product_df_cleaned.groupBy(\"CATEGORY\") \\\n",
    "    .agg(collect_set(\"PRODUCT_SIZE\").alias(\"unique_PRODUCT_SIZES\")) \\\n",
    "    .show(truncate=False)\n"
   ]
  },
  {
   "cell_type": "markdown",
   "id": "3cf36c44",
   "metadata": {},
   "source": [
    "ORAL HYGIENE PRODUCTS comes in two size 500 ml and 1 L , converting then to oz as other products"
   ]
  },
  {
   "cell_type": "code",
   "execution_count": 39,
   "id": "0f5e548e",
   "metadata": {},
   "outputs": [
    {
     "name": "stdout",
     "output_type": "stream",
     "text": [
      "+----------+-------------+--------------------+--------------------+------------+\n",
      "|       upc| manufacturer|            category|        sub_category|PRODUCT_SIZE|\n",
      "+----------+-------------+--------------------+--------------------+------------+\n",
      "|1111038078|PRIVATE LABEL|ORAL HYGIENE PROD...|MOUTHWASHES (ANTI...|       500.0|\n",
      "|1111038080|PRIVATE LABEL|ORAL HYGIENE PROD...|MOUTHWASHES (ANTI...|       500.0|\n",
      "+----------+-------------+--------------------+--------------------+------------+\n",
      "\n"
     ]
    }
   ],
   "source": [
    "product_df_cleaned.filter(product_df_cleaned.PRODUCT_SIZE == 500.0).show()\n"
   ]
  },
  {
   "cell_type": "code",
   "execution_count": 40,
   "id": "3e54dd62",
   "metadata": {},
   "outputs": [
    {
     "name": "stdout",
     "output_type": "stream",
     "text": [
      "+-----------+------------+--------------------+--------------------+------------+\n",
      "|        upc|manufacturer|            category|        sub_category|PRODUCT_SIZE|\n",
      "+-----------+------------+--------------------+--------------------+------------+\n",
      "| 3700031613|       P & G|ORAL HYGIENE PROD...|MOUTHWASH/RINSES ...|         1.0|\n",
      "| 3700044982|       P & G|ORAL HYGIENE PROD...|MOUTHWASHES (ANTI...|         1.0|\n",
      "|31254742735|      WARNER|ORAL HYGIENE PROD...|MOUTHWASHES (ANTI...|         1.0|\n",
      "|31254742835|      WARNER|ORAL HYGIENE PROD...|MOUTHWASHES (ANTI...|         1.0|\n",
      "+-----------+------------+--------------------+--------------------+------------+\n",
      "\n"
     ]
    }
   ],
   "source": [
    "product_df_cleaned.filter(product_df_cleaned.PRODUCT_SIZE == 1.0).show()"
   ]
  },
  {
   "cell_type": "code",
   "execution_count": 41,
   "id": "39b8015f",
   "metadata": {},
   "outputs": [],
   "source": [
    "product_df_cleaned = product_df_cleaned.replace({500.00: 17.00, 1.00: 34.00}, subset=[\"PRODUCT_SIZE\"])\n"
   ]
  },
  {
   "cell_type": "code",
   "execution_count": 42,
   "id": "bab3239b",
   "metadata": {},
   "outputs": [
    {
     "name": "stdout",
     "output_type": "stream",
     "text": [
      "+-----------+-------------+--------------------+--------------------+------------+\n",
      "|        upc| manufacturer|            category|        sub_category|PRODUCT_SIZE|\n",
      "+-----------+-------------+--------------------+--------------------+------------+\n",
      "| 1111038078|PRIVATE LABEL|ORAL HYGIENE PROD...|MOUTHWASHES (ANTI...|        17.0|\n",
      "| 1111038080|PRIVATE LABEL|ORAL HYGIENE PROD...|MOUTHWASHES (ANTI...|        17.0|\n",
      "| 3700031613|        P & G|ORAL HYGIENE PROD...|MOUTHWASH/RINSES ...|        34.0|\n",
      "| 3700044982|        P & G|ORAL HYGIENE PROD...|MOUTHWASHES (ANTI...|        34.0|\n",
      "|31254742735|       WARNER|ORAL HYGIENE PROD...|MOUTHWASHES (ANTI...|        34.0|\n",
      "|31254742835|       WARNER|ORAL HYGIENE PROD...|MOUTHWASHES (ANTI...|        34.0|\n",
      "+-----------+-------------+--------------------+--------------------+------------+\n",
      "\n"
     ]
    }
   ],
   "source": [
    "product_df_cleaned.filter(col(\"PRODUCT_SIZE\").isin(17.00, 34.00)).show()\n"
   ]
  },
  {
   "cell_type": "code",
   "execution_count": 43,
   "id": "d6aed54f",
   "metadata": {},
   "outputs": [],
   "source": [
    "import pandas as pd"
   ]
  },
  {
   "cell_type": "code",
   "execution_count": 44,
   "id": "8e1caf85",
   "metadata": {},
   "outputs": [],
   "source": [
    "product = product_df_cleaned.toPandas()"
   ]
  },
  {
   "cell_type": "code",
   "execution_count": 45,
   "id": "ae7bc6a0",
   "metadata": {},
   "outputs": [
    {
     "name": "stdout",
     "output_type": "stream",
     "text": [
      "          upc   manufacturer               category              sub_category  \\\n",
      "0  1111009477  PRIVATE LABEL             BAG SNACKS                  PRETZELS   \n",
      "1  1111009497  PRIVATE LABEL             BAG SNACKS                  PRETZELS   \n",
      "2  1111009507  PRIVATE LABEL             BAG SNACKS                  PRETZELS   \n",
      "3  1111038078  PRIVATE LABEL  ORAL HYGIENE PRODUCTS  MOUTHWASHES (ANTISEPTIC)   \n",
      "4  1111038080  PRIVATE LABEL  ORAL HYGIENE PRODUCTS  MOUTHWASHES (ANTISEPTIC)   \n",
      "\n",
      "   PRODUCT_SIZE  \n",
      "0          15.0  \n",
      "1          15.0  \n",
      "2          15.0  \n",
      "3          17.0  \n",
      "4          17.0  \n"
     ]
    }
   ],
   "source": [
    "print(product.head())"
   ]
  },
  {
   "cell_type": "code",
   "execution_count": 46,
   "id": "8f43b0ff",
   "metadata": {},
   "outputs": [],
   "source": [
    "product_ohe = pd.get_dummies(product)"
   ]
  },
  {
   "cell_type": "code",
   "execution_count": 47,
   "id": "3d354464",
   "metadata": {},
   "outputs": [
    {
     "data": {
      "text/html": [
       "<div>\n",
       "<style scoped>\n",
       "    .dataframe tbody tr th:only-of-type {\n",
       "        vertical-align: middle;\n",
       "    }\n",
       "\n",
       "    .dataframe tbody tr th {\n",
       "        vertical-align: top;\n",
       "    }\n",
       "\n",
       "    .dataframe thead th {\n",
       "        text-align: right;\n",
       "    }\n",
       "</style>\n",
       "<table border=\"1\" class=\"dataframe\">\n",
       "  <thead>\n",
       "    <tr style=\"text-align: right;\">\n",
       "      <th></th>\n",
       "      <th>upc</th>\n",
       "      <th>PRODUCT_SIZE</th>\n",
       "      <th>manufacturer_FRITO LAY</th>\n",
       "      <th>manufacturer_GENERAL MI</th>\n",
       "      <th>manufacturer_KELLOGG</th>\n",
       "      <th>manufacturer_P &amp; G</th>\n",
       "      <th>manufacturer_PRIVATE LABEL</th>\n",
       "      <th>manufacturer_SNYDER S</th>\n",
       "      <th>manufacturer_TOMBSTONE</th>\n",
       "      <th>manufacturer_TONYS</th>\n",
       "      <th>...</th>\n",
       "      <th>category_COLD CEREAL</th>\n",
       "      <th>category_FROZEN PIZZA</th>\n",
       "      <th>category_ORAL HYGIENE PRODUCTS</th>\n",
       "      <th>sub_category_ADULT CEREAL</th>\n",
       "      <th>sub_category_ALL FAMILY CEREAL</th>\n",
       "      <th>sub_category_KIDS CEREAL</th>\n",
       "      <th>sub_category_MOUTHWASH/RINSES AND SPRAYS</th>\n",
       "      <th>sub_category_MOUTHWASHES (ANTISEPTIC)</th>\n",
       "      <th>sub_category_PIZZA/PREMIUM</th>\n",
       "      <th>sub_category_PRETZELS</th>\n",
       "    </tr>\n",
       "  </thead>\n",
       "  <tbody>\n",
       "    <tr>\n",
       "      <th>0</th>\n",
       "      <td>1111009477</td>\n",
       "      <td>15.0</td>\n",
       "      <td>0</td>\n",
       "      <td>0</td>\n",
       "      <td>0</td>\n",
       "      <td>0</td>\n",
       "      <td>1</td>\n",
       "      <td>0</td>\n",
       "      <td>0</td>\n",
       "      <td>0</td>\n",
       "      <td>...</td>\n",
       "      <td>0</td>\n",
       "      <td>0</td>\n",
       "      <td>0</td>\n",
       "      <td>0</td>\n",
       "      <td>0</td>\n",
       "      <td>0</td>\n",
       "      <td>0</td>\n",
       "      <td>0</td>\n",
       "      <td>0</td>\n",
       "      <td>1</td>\n",
       "    </tr>\n",
       "    <tr>\n",
       "      <th>1</th>\n",
       "      <td>1111009497</td>\n",
       "      <td>15.0</td>\n",
       "      <td>0</td>\n",
       "      <td>0</td>\n",
       "      <td>0</td>\n",
       "      <td>0</td>\n",
       "      <td>1</td>\n",
       "      <td>0</td>\n",
       "      <td>0</td>\n",
       "      <td>0</td>\n",
       "      <td>...</td>\n",
       "      <td>0</td>\n",
       "      <td>0</td>\n",
       "      <td>0</td>\n",
       "      <td>0</td>\n",
       "      <td>0</td>\n",
       "      <td>0</td>\n",
       "      <td>0</td>\n",
       "      <td>0</td>\n",
       "      <td>0</td>\n",
       "      <td>1</td>\n",
       "    </tr>\n",
       "    <tr>\n",
       "      <th>2</th>\n",
       "      <td>1111009507</td>\n",
       "      <td>15.0</td>\n",
       "      <td>0</td>\n",
       "      <td>0</td>\n",
       "      <td>0</td>\n",
       "      <td>0</td>\n",
       "      <td>1</td>\n",
       "      <td>0</td>\n",
       "      <td>0</td>\n",
       "      <td>0</td>\n",
       "      <td>...</td>\n",
       "      <td>0</td>\n",
       "      <td>0</td>\n",
       "      <td>0</td>\n",
       "      <td>0</td>\n",
       "      <td>0</td>\n",
       "      <td>0</td>\n",
       "      <td>0</td>\n",
       "      <td>0</td>\n",
       "      <td>0</td>\n",
       "      <td>1</td>\n",
       "    </tr>\n",
       "    <tr>\n",
       "      <th>3</th>\n",
       "      <td>1111038078</td>\n",
       "      <td>17.0</td>\n",
       "      <td>0</td>\n",
       "      <td>0</td>\n",
       "      <td>0</td>\n",
       "      <td>0</td>\n",
       "      <td>1</td>\n",
       "      <td>0</td>\n",
       "      <td>0</td>\n",
       "      <td>0</td>\n",
       "      <td>...</td>\n",
       "      <td>0</td>\n",
       "      <td>0</td>\n",
       "      <td>1</td>\n",
       "      <td>0</td>\n",
       "      <td>0</td>\n",
       "      <td>0</td>\n",
       "      <td>0</td>\n",
       "      <td>1</td>\n",
       "      <td>0</td>\n",
       "      <td>0</td>\n",
       "    </tr>\n",
       "    <tr>\n",
       "      <th>4</th>\n",
       "      <td>1111038080</td>\n",
       "      <td>17.0</td>\n",
       "      <td>0</td>\n",
       "      <td>0</td>\n",
       "      <td>0</td>\n",
       "      <td>0</td>\n",
       "      <td>1</td>\n",
       "      <td>0</td>\n",
       "      <td>0</td>\n",
       "      <td>0</td>\n",
       "      <td>...</td>\n",
       "      <td>0</td>\n",
       "      <td>0</td>\n",
       "      <td>1</td>\n",
       "      <td>0</td>\n",
       "      <td>0</td>\n",
       "      <td>0</td>\n",
       "      <td>0</td>\n",
       "      <td>1</td>\n",
       "      <td>0</td>\n",
       "      <td>0</td>\n",
       "    </tr>\n",
       "  </tbody>\n",
       "</table>\n",
       "<p>5 rows × 22 columns</p>\n",
       "</div>"
      ],
      "text/plain": [
       "          upc  PRODUCT_SIZE  manufacturer_FRITO LAY  manufacturer_GENERAL MI  \\\n",
       "0  1111009477          15.0                       0                        0   \n",
       "1  1111009497          15.0                       0                        0   \n",
       "2  1111009507          15.0                       0                        0   \n",
       "3  1111038078          17.0                       0                        0   \n",
       "4  1111038080          17.0                       0                        0   \n",
       "\n",
       "   manufacturer_KELLOGG  manufacturer_P & G  manufacturer_PRIVATE LABEL  \\\n",
       "0                     0                   0                           1   \n",
       "1                     0                   0                           1   \n",
       "2                     0                   0                           1   \n",
       "3                     0                   0                           1   \n",
       "4                     0                   0                           1   \n",
       "\n",
       "   manufacturer_SNYDER S  manufacturer_TOMBSTONE  manufacturer_TONYS  ...  \\\n",
       "0                      0                       0                   0  ...   \n",
       "1                      0                       0                   0  ...   \n",
       "2                      0                       0                   0  ...   \n",
       "3                      0                       0                   0  ...   \n",
       "4                      0                       0                   0  ...   \n",
       "\n",
       "   category_COLD CEREAL  category_FROZEN PIZZA  \\\n",
       "0                     0                      0   \n",
       "1                     0                      0   \n",
       "2                     0                      0   \n",
       "3                     0                      0   \n",
       "4                     0                      0   \n",
       "\n",
       "   category_ORAL HYGIENE PRODUCTS  sub_category_ADULT CEREAL  \\\n",
       "0                               0                          0   \n",
       "1                               0                          0   \n",
       "2                               0                          0   \n",
       "3                               1                          0   \n",
       "4                               1                          0   \n",
       "\n",
       "   sub_category_ALL FAMILY CEREAL  sub_category_KIDS CEREAL  \\\n",
       "0                               0                         0   \n",
       "1                               0                         0   \n",
       "2                               0                         0   \n",
       "3                               0                         0   \n",
       "4                               0                         0   \n",
       "\n",
       "   sub_category_MOUTHWASH/RINSES AND SPRAYS  \\\n",
       "0                                         0   \n",
       "1                                         0   \n",
       "2                                         0   \n",
       "3                                         0   \n",
       "4                                         0   \n",
       "\n",
       "   sub_category_MOUTHWASHES (ANTISEPTIC)  sub_category_PIZZA/PREMIUM  \\\n",
       "0                                      0                           0   \n",
       "1                                      0                           0   \n",
       "2                                      0                           0   \n",
       "3                                      1                           0   \n",
       "4                                      1                           0   \n",
       "\n",
       "   sub_category_PRETZELS  \n",
       "0                      1  \n",
       "1                      1  \n",
       "2                      1  \n",
       "3                      0  \n",
       "4                      0  \n",
       "\n",
       "[5 rows x 22 columns]"
      ]
     },
     "execution_count": 47,
     "metadata": {},
     "output_type": "execute_result"
    }
   ],
   "source": [
    "product_ohe.head()"
   ]
  },
  {
   "cell_type": "code",
   "execution_count": 48,
   "id": "0640c229",
   "metadata": {},
   "outputs": [],
   "source": [
    "updated_product_data = product_ohe"
   ]
  },
  {
   "cell_type": "code",
   "execution_count": 49,
   "id": "f6932fcd",
   "metadata": {},
   "outputs": [
    {
     "data": {
      "text/html": [
       "<div>\n",
       "<style scoped>\n",
       "    .dataframe tbody tr th:only-of-type {\n",
       "        vertical-align: middle;\n",
       "    }\n",
       "\n",
       "    .dataframe tbody tr th {\n",
       "        vertical-align: top;\n",
       "    }\n",
       "\n",
       "    .dataframe thead th {\n",
       "        text-align: right;\n",
       "    }\n",
       "</style>\n",
       "<table border=\"1\" class=\"dataframe\">\n",
       "  <thead>\n",
       "    <tr style=\"text-align: right;\">\n",
       "      <th></th>\n",
       "      <th>upc</th>\n",
       "      <th>PRODUCT_SIZE</th>\n",
       "      <th>manufacturer_FRITO LAY</th>\n",
       "      <th>manufacturer_GENERAL MI</th>\n",
       "      <th>manufacturer_KELLOGG</th>\n",
       "      <th>manufacturer_P &amp; G</th>\n",
       "      <th>manufacturer_PRIVATE LABEL</th>\n",
       "      <th>manufacturer_SNYDER S</th>\n",
       "      <th>manufacturer_TOMBSTONE</th>\n",
       "      <th>manufacturer_TONYS</th>\n",
       "      <th>...</th>\n",
       "      <th>category_COLD CEREAL</th>\n",
       "      <th>category_FROZEN PIZZA</th>\n",
       "      <th>category_ORAL HYGIENE PRODUCTS</th>\n",
       "      <th>sub_category_ADULT CEREAL</th>\n",
       "      <th>sub_category_ALL FAMILY CEREAL</th>\n",
       "      <th>sub_category_KIDS CEREAL</th>\n",
       "      <th>sub_category_MOUTHWASH/RINSES AND SPRAYS</th>\n",
       "      <th>sub_category_MOUTHWASHES (ANTISEPTIC)</th>\n",
       "      <th>sub_category_PIZZA/PREMIUM</th>\n",
       "      <th>sub_category_PRETZELS</th>\n",
       "    </tr>\n",
       "  </thead>\n",
       "  <tbody>\n",
       "    <tr>\n",
       "      <th>0</th>\n",
       "      <td>1111009477</td>\n",
       "      <td>15.0</td>\n",
       "      <td>0</td>\n",
       "      <td>0</td>\n",
       "      <td>0</td>\n",
       "      <td>0</td>\n",
       "      <td>1</td>\n",
       "      <td>0</td>\n",
       "      <td>0</td>\n",
       "      <td>0</td>\n",
       "      <td>...</td>\n",
       "      <td>0</td>\n",
       "      <td>0</td>\n",
       "      <td>0</td>\n",
       "      <td>0</td>\n",
       "      <td>0</td>\n",
       "      <td>0</td>\n",
       "      <td>0</td>\n",
       "      <td>0</td>\n",
       "      <td>0</td>\n",
       "      <td>1</td>\n",
       "    </tr>\n",
       "    <tr>\n",
       "      <th>1</th>\n",
       "      <td>1111009497</td>\n",
       "      <td>15.0</td>\n",
       "      <td>0</td>\n",
       "      <td>0</td>\n",
       "      <td>0</td>\n",
       "      <td>0</td>\n",
       "      <td>1</td>\n",
       "      <td>0</td>\n",
       "      <td>0</td>\n",
       "      <td>0</td>\n",
       "      <td>...</td>\n",
       "      <td>0</td>\n",
       "      <td>0</td>\n",
       "      <td>0</td>\n",
       "      <td>0</td>\n",
       "      <td>0</td>\n",
       "      <td>0</td>\n",
       "      <td>0</td>\n",
       "      <td>0</td>\n",
       "      <td>0</td>\n",
       "      <td>1</td>\n",
       "    </tr>\n",
       "    <tr>\n",
       "      <th>2</th>\n",
       "      <td>1111009507</td>\n",
       "      <td>15.0</td>\n",
       "      <td>0</td>\n",
       "      <td>0</td>\n",
       "      <td>0</td>\n",
       "      <td>0</td>\n",
       "      <td>1</td>\n",
       "      <td>0</td>\n",
       "      <td>0</td>\n",
       "      <td>0</td>\n",
       "      <td>...</td>\n",
       "      <td>0</td>\n",
       "      <td>0</td>\n",
       "      <td>0</td>\n",
       "      <td>0</td>\n",
       "      <td>0</td>\n",
       "      <td>0</td>\n",
       "      <td>0</td>\n",
       "      <td>0</td>\n",
       "      <td>0</td>\n",
       "      <td>1</td>\n",
       "    </tr>\n",
       "    <tr>\n",
       "      <th>3</th>\n",
       "      <td>1111038078</td>\n",
       "      <td>17.0</td>\n",
       "      <td>0</td>\n",
       "      <td>0</td>\n",
       "      <td>0</td>\n",
       "      <td>0</td>\n",
       "      <td>1</td>\n",
       "      <td>0</td>\n",
       "      <td>0</td>\n",
       "      <td>0</td>\n",
       "      <td>...</td>\n",
       "      <td>0</td>\n",
       "      <td>0</td>\n",
       "      <td>1</td>\n",
       "      <td>0</td>\n",
       "      <td>0</td>\n",
       "      <td>0</td>\n",
       "      <td>0</td>\n",
       "      <td>1</td>\n",
       "      <td>0</td>\n",
       "      <td>0</td>\n",
       "    </tr>\n",
       "    <tr>\n",
       "      <th>4</th>\n",
       "      <td>1111038080</td>\n",
       "      <td>17.0</td>\n",
       "      <td>0</td>\n",
       "      <td>0</td>\n",
       "      <td>0</td>\n",
       "      <td>0</td>\n",
       "      <td>1</td>\n",
       "      <td>0</td>\n",
       "      <td>0</td>\n",
       "      <td>0</td>\n",
       "      <td>...</td>\n",
       "      <td>0</td>\n",
       "      <td>0</td>\n",
       "      <td>1</td>\n",
       "      <td>0</td>\n",
       "      <td>0</td>\n",
       "      <td>0</td>\n",
       "      <td>0</td>\n",
       "      <td>1</td>\n",
       "      <td>0</td>\n",
       "      <td>0</td>\n",
       "    </tr>\n",
       "  </tbody>\n",
       "</table>\n",
       "<p>5 rows × 22 columns</p>\n",
       "</div>"
      ],
      "text/plain": [
       "          upc  PRODUCT_SIZE  manufacturer_FRITO LAY  manufacturer_GENERAL MI  \\\n",
       "0  1111009477          15.0                       0                        0   \n",
       "1  1111009497          15.0                       0                        0   \n",
       "2  1111009507          15.0                       0                        0   \n",
       "3  1111038078          17.0                       0                        0   \n",
       "4  1111038080          17.0                       0                        0   \n",
       "\n",
       "   manufacturer_KELLOGG  manufacturer_P & G  manufacturer_PRIVATE LABEL  \\\n",
       "0                     0                   0                           1   \n",
       "1                     0                   0                           1   \n",
       "2                     0                   0                           1   \n",
       "3                     0                   0                           1   \n",
       "4                     0                   0                           1   \n",
       "\n",
       "   manufacturer_SNYDER S  manufacturer_TOMBSTONE  manufacturer_TONYS  ...  \\\n",
       "0                      0                       0                   0  ...   \n",
       "1                      0                       0                   0  ...   \n",
       "2                      0                       0                   0  ...   \n",
       "3                      0                       0                   0  ...   \n",
       "4                      0                       0                   0  ...   \n",
       "\n",
       "   category_COLD CEREAL  category_FROZEN PIZZA  \\\n",
       "0                     0                      0   \n",
       "1                     0                      0   \n",
       "2                     0                      0   \n",
       "3                     0                      0   \n",
       "4                     0                      0   \n",
       "\n",
       "   category_ORAL HYGIENE PRODUCTS  sub_category_ADULT CEREAL  \\\n",
       "0                               0                          0   \n",
       "1                               0                          0   \n",
       "2                               0                          0   \n",
       "3                               1                          0   \n",
       "4                               1                          0   \n",
       "\n",
       "   sub_category_ALL FAMILY CEREAL  sub_category_KIDS CEREAL  \\\n",
       "0                               0                         0   \n",
       "1                               0                         0   \n",
       "2                               0                         0   \n",
       "3                               0                         0   \n",
       "4                               0                         0   \n",
       "\n",
       "   sub_category_MOUTHWASH/RINSES AND SPRAYS  \\\n",
       "0                                         0   \n",
       "1                                         0   \n",
       "2                                         0   \n",
       "3                                         0   \n",
       "4                                         0   \n",
       "\n",
       "   sub_category_MOUTHWASHES (ANTISEPTIC)  sub_category_PIZZA/PREMIUM  \\\n",
       "0                                      0                           0   \n",
       "1                                      0                           0   \n",
       "2                                      0                           0   \n",
       "3                                      1                           0   \n",
       "4                                      1                           0   \n",
       "\n",
       "   sub_category_PRETZELS  \n",
       "0                      1  \n",
       "1                      1  \n",
       "2                      1  \n",
       "3                      0  \n",
       "4                      0  \n",
       "\n",
       "[5 rows x 22 columns]"
      ]
     },
     "execution_count": 49,
     "metadata": {},
     "output_type": "execute_result"
    }
   ],
   "source": [
    "updated_product_data.head()"
   ]
  },
  {
   "cell_type": "markdown",
   "id": "ffc00399",
   "metadata": {},
   "source": [
    "STORE DATA has the following categorical features\n",
    "- STORE_ID\n",
    "- STORE_NAME\n",
    "- ADDRESS_CITY_NAME\n",
    "- ADDRESS_STATE_PROV_CODE\n",
    "- MSA_CODE\n",
    "- SEG_VALUE_NAME"
   ]
  },
  {
   "cell_type": "code",
   "execution_count": 50,
   "id": "41227ac0",
   "metadata": {},
   "outputs": [
    {
     "name": "stdout",
     "output_type": "stream",
     "text": [
      "+--------------+----------------+-----------------------+-----------------------------+--------------+--------------------+\n",
      "|STORE_ID_nulls|STORE_NAME_nulls|ADDRESS_CITY_NAME_nulls|ADDRESS_STATE_PROV_CODE_nulls|MSA_CODE_nulls|SEG_VALUE_NAME_nulls|\n",
      "+--------------+----------------+-----------------------+-----------------------------+--------------+--------------------+\n",
      "|             0|               0|                      0|                            0|             0|                   0|\n",
      "+--------------+----------------+-----------------------+-----------------------------+--------------+--------------------+\n",
      "\n"
     ]
    }
   ],
   "source": [
    "from pyspark.sql import functions as F\n",
    "\n",
    "store_df_cleaned.select(\n",
    "    F.sum(F.col('STORE_ID').isNull().cast('int')).alias('STORE_ID_nulls'),\n",
    "    F.sum(F.col('STORE_NAME').isNull().cast('int')).alias('STORE_NAME_nulls'),\n",
    "    F.sum(F.col('ADDRESS_CITY_NAME').isNull().cast('int')).alias('ADDRESS_CITY_NAME_nulls'),\n",
    "    F.sum(F.col('ADDRESS_STATE_PROV_CODE').isNull().cast('int')).alias('ADDRESS_STATE_PROV_CODE_nulls'),\n",
    "    F.sum(F.col('MSA_CODE').isNull().cast('int')).alias('MSA_CODE_nulls'),\n",
    "    F.sum(F.col('SEG_VALUE_NAME').isNull().cast('int')).alias('SEG_VALUE_NAME_nulls')\n",
    ").show()\n"
   ]
  },
  {
   "cell_type": "code",
   "execution_count": 51,
   "id": "ac9098df",
   "metadata": {},
   "outputs": [
    {
     "data": {
      "text/plain": [
       "72"
      ]
     },
     "execution_count": 51,
     "metadata": {},
     "output_type": "execute_result"
    }
   ],
   "source": [
    "store_df_cleaned.select(\"STORE_NAME\").distinct().count()\n"
   ]
  },
  {
   "cell_type": "code",
   "execution_count": 52,
   "id": "1e372b6b",
   "metadata": {},
   "outputs": [
    {
     "data": {
      "text/plain": [
       "51"
      ]
     },
     "execution_count": 52,
     "metadata": {},
     "output_type": "execute_result"
    }
   ],
   "source": [
    "store_df_cleaned.select(\"ADDRESS_CITY_NAME\").distinct().count()"
   ]
  },
  {
   "cell_type": "code",
   "execution_count": 53,
   "id": "8669bd55",
   "metadata": {},
   "outputs": [
    {
     "data": {
      "text/plain": [
       "4"
      ]
     },
     "execution_count": 53,
     "metadata": {},
     "output_type": "execute_result"
    }
   ],
   "source": [
    "store_df_cleaned.select(\"ADDRESS_STATE_PROV_CODE\").distinct().count()"
   ]
  },
  {
   "cell_type": "code",
   "execution_count": 54,
   "id": "499557f7",
   "metadata": {},
   "outputs": [
    {
     "data": {
      "text/plain": [
       "9"
      ]
     },
     "execution_count": 54,
     "metadata": {},
     "output_type": "execute_result"
    }
   ],
   "source": [
    "store_df_cleaned.select(\"MSA_CODE\").distinct().count()"
   ]
  },
  {
   "cell_type": "code",
   "execution_count": 55,
   "id": "00c8b8bf",
   "metadata": {},
   "outputs": [
    {
     "data": {
      "text/plain": [
       "3"
      ]
     },
     "execution_count": 55,
     "metadata": {},
     "output_type": "execute_result"
    }
   ],
   "source": [
    "store_df_cleaned.select(\"SEG_VALUE_NAME\").distinct().count()"
   ]
  },
  {
   "cell_type": "code",
   "execution_count": 56,
   "id": "4afbb46f",
   "metadata": {},
   "outputs": [],
   "source": [
    "store_df_cleaned = store_df_cleaned.drop('STORE_NAME', 'ADDRESS_CITY_NAME')\n",
    "# drop due to high cardinality"
   ]
  },
  {
   "cell_type": "code",
   "execution_count": 57,
   "id": "6bf80787",
   "metadata": {},
   "outputs": [],
   "source": [
    "from pyspark.sql.functions import when, col\n",
    "\n",
    "store_df_cleaned = store_df_cleaned.withColumn(\n",
    "    \"SEG_VALUE_NAME\",\n",
    "    when(col(\"SEG_VALUE_NAME\") == \"VALUE\", 1)\n",
    "    .when(col(\"SEG_VALUE_NAME\") == \"MAINSTREAM\", 2)\n",
    "    .when(col(\"SEG_VALUE_NAME\") == \"UPSCALE\", 3)\n",
    ")\n"
   ]
  },
  {
   "cell_type": "markdown",
   "id": "52be04c8",
   "metadata": {},
   "source": [
    "STORE DATA has the following numerical features\n",
    "\n",
    "    PARKING_SPACE_QTY\n",
    "    SALES_AREA_SIZE_NUM\n",
    "    AVG_WEEKLY_BASKETS\n",
    "\n"
   ]
  },
  {
   "cell_type": "code",
   "execution_count": 58,
   "id": "b8ffe16f",
   "metadata": {},
   "outputs": [
    {
     "name": "stdout",
     "output_type": "stream",
     "text": [
      "root\n",
      " |-- store_id: long (nullable = true)\n",
      " |-- address_state_prov_code: string (nullable = true)\n",
      " |-- msa_code: long (nullable = true)\n",
      " |-- SEG_VALUE_NAME: integer (nullable = true)\n",
      " |-- parking_space_qty: long (nullable = true)\n",
      " |-- avg_weekly_baskets: long (nullable = true)\n",
      "\n"
     ]
    }
   ],
   "source": [
    "store_df_cleaned.printSchema()\n"
   ]
  },
  {
   "cell_type": "code",
   "execution_count": 59,
   "id": "717bff73",
   "metadata": {},
   "outputs": [
    {
     "data": {
      "text/plain": [
       "['store_id',\n",
       " 'address_state_prov_code',\n",
       " 'msa_code',\n",
       " 'SEG_VALUE_NAME',\n",
       " 'parking_space_qty',\n",
       " 'avg_weekly_baskets']"
      ]
     },
     "execution_count": 59,
     "metadata": {},
     "output_type": "execute_result"
    }
   ],
   "source": [
    "store_df_cleaned.columns\n"
   ]
  },
  {
   "cell_type": "code",
   "execution_count": 60,
   "id": "76582fd7",
   "metadata": {},
   "outputs": [],
   "source": [
    "store_df_cleaned = store_df_cleaned.drop('PARKING_SPACE_QTY')"
   ]
  },
  {
   "cell_type": "code",
   "execution_count": 61,
   "id": "ae301938",
   "metadata": {},
   "outputs": [
    {
     "data": {
      "text/plain": [
       "['store_id',\n",
       " 'address_state_prov_code',\n",
       " 'msa_code',\n",
       " 'SEG_VALUE_NAME',\n",
       " 'avg_weekly_baskets']"
      ]
     },
     "execution_count": 61,
     "metadata": {},
     "output_type": "execute_result"
    }
   ],
   "source": [
    "\n",
    "store_df_cleaned.columns"
   ]
  },
  {
   "cell_type": "code",
   "execution_count": 62,
   "id": "ab7f8358",
   "metadata": {},
   "outputs": [],
   "source": [
    "store = store_df_cleaned.toPandas()"
   ]
  },
  {
   "cell_type": "code",
   "execution_count": 63,
   "id": "e9de0f49",
   "metadata": {},
   "outputs": [],
   "source": [
    "store = pd.get_dummies(store)"
   ]
  },
  {
   "cell_type": "code",
   "execution_count": 64,
   "id": "7808e2ff",
   "metadata": {},
   "outputs": [
    {
     "data": {
      "text/html": [
       "<div>\n",
       "<style scoped>\n",
       "    .dataframe tbody tr th:only-of-type {\n",
       "        vertical-align: middle;\n",
       "    }\n",
       "\n",
       "    .dataframe tbody tr th {\n",
       "        vertical-align: top;\n",
       "    }\n",
       "\n",
       "    .dataframe thead th {\n",
       "        text-align: right;\n",
       "    }\n",
       "</style>\n",
       "<table border=\"1\" class=\"dataframe\">\n",
       "  <thead>\n",
       "    <tr style=\"text-align: right;\">\n",
       "      <th></th>\n",
       "      <th>store_id</th>\n",
       "      <th>msa_code</th>\n",
       "      <th>SEG_VALUE_NAME</th>\n",
       "      <th>avg_weekly_baskets</th>\n",
       "      <th>address_state_prov_code_IN</th>\n",
       "      <th>address_state_prov_code_KY</th>\n",
       "      <th>address_state_prov_code_OH</th>\n",
       "      <th>address_state_prov_code_TX</th>\n",
       "    </tr>\n",
       "  </thead>\n",
       "  <tbody>\n",
       "    <tr>\n",
       "      <th>0</th>\n",
       "      <td>367</td>\n",
       "      <td>17140</td>\n",
       "      <td>1</td>\n",
       "      <td>24721</td>\n",
       "      <td>0</td>\n",
       "      <td>1</td>\n",
       "      <td>0</td>\n",
       "      <td>0</td>\n",
       "    </tr>\n",
       "    <tr>\n",
       "      <th>1</th>\n",
       "      <td>389</td>\n",
       "      <td>17140</td>\n",
       "      <td>2</td>\n",
       "      <td>46073</td>\n",
       "      <td>0</td>\n",
       "      <td>1</td>\n",
       "      <td>0</td>\n",
       "      <td>0</td>\n",
       "    </tr>\n",
       "    <tr>\n",
       "      <th>2</th>\n",
       "      <td>613</td>\n",
       "      <td>19100</td>\n",
       "      <td>2</td>\n",
       "      <td>64926</td>\n",
       "      <td>0</td>\n",
       "      <td>0</td>\n",
       "      <td>0</td>\n",
       "      <td>1</td>\n",
       "    </tr>\n",
       "    <tr>\n",
       "      <th>3</th>\n",
       "      <td>623</td>\n",
       "      <td>26420</td>\n",
       "      <td>2</td>\n",
       "      <td>46930</td>\n",
       "      <td>0</td>\n",
       "      <td>0</td>\n",
       "      <td>0</td>\n",
       "      <td>1</td>\n",
       "    </tr>\n",
       "    <tr>\n",
       "      <th>4</th>\n",
       "      <td>2277</td>\n",
       "      <td>17140</td>\n",
       "      <td>3</td>\n",
       "      <td>81958</td>\n",
       "      <td>0</td>\n",
       "      <td>0</td>\n",
       "      <td>1</td>\n",
       "      <td>0</td>\n",
       "    </tr>\n",
       "  </tbody>\n",
       "</table>\n",
       "</div>"
      ],
      "text/plain": [
       "   store_id  msa_code  SEG_VALUE_NAME  avg_weekly_baskets  \\\n",
       "0       367     17140               1               24721   \n",
       "1       389     17140               2               46073   \n",
       "2       613     19100               2               64926   \n",
       "3       623     26420               2               46930   \n",
       "4      2277     17140               3               81958   \n",
       "\n",
       "   address_state_prov_code_IN  address_state_prov_code_KY  \\\n",
       "0                           0                           1   \n",
       "1                           0                           1   \n",
       "2                           0                           0   \n",
       "3                           0                           0   \n",
       "4                           0                           0   \n",
       "\n",
       "   address_state_prov_code_OH  address_state_prov_code_TX  \n",
       "0                           0                           0  \n",
       "1                           0                           0  \n",
       "2                           0                           1  \n",
       "3                           0                           1  \n",
       "4                           1                           0  "
      ]
     },
     "execution_count": 64,
     "metadata": {},
     "output_type": "execute_result"
    }
   ],
   "source": [
    "store.head()"
   ]
  },
  {
   "cell_type": "code",
   "execution_count": 65,
   "id": "e6d932db",
   "metadata": {},
   "outputs": [],
   "source": [
    "updated_store_data = store"
   ]
  },
  {
   "cell_type": "code",
   "execution_count": 66,
   "id": "12b455a6",
   "metadata": {},
   "outputs": [
    {
     "data": {
      "text/html": [
       "<div>\n",
       "<style scoped>\n",
       "    .dataframe tbody tr th:only-of-type {\n",
       "        vertical-align: middle;\n",
       "    }\n",
       "\n",
       "    .dataframe tbody tr th {\n",
       "        vertical-align: top;\n",
       "    }\n",
       "\n",
       "    .dataframe thead th {\n",
       "        text-align: right;\n",
       "    }\n",
       "</style>\n",
       "<table border=\"1\" class=\"dataframe\">\n",
       "  <thead>\n",
       "    <tr style=\"text-align: right;\">\n",
       "      <th></th>\n",
       "      <th>store_id</th>\n",
       "      <th>msa_code</th>\n",
       "      <th>SEG_VALUE_NAME</th>\n",
       "      <th>avg_weekly_baskets</th>\n",
       "      <th>address_state_prov_code_IN</th>\n",
       "      <th>address_state_prov_code_KY</th>\n",
       "      <th>address_state_prov_code_OH</th>\n",
       "      <th>address_state_prov_code_TX</th>\n",
       "    </tr>\n",
       "  </thead>\n",
       "  <tbody>\n",
       "    <tr>\n",
       "      <th>0</th>\n",
       "      <td>367</td>\n",
       "      <td>17140</td>\n",
       "      <td>1</td>\n",
       "      <td>24721</td>\n",
       "      <td>0</td>\n",
       "      <td>1</td>\n",
       "      <td>0</td>\n",
       "      <td>0</td>\n",
       "    </tr>\n",
       "    <tr>\n",
       "      <th>1</th>\n",
       "      <td>389</td>\n",
       "      <td>17140</td>\n",
       "      <td>2</td>\n",
       "      <td>46073</td>\n",
       "      <td>0</td>\n",
       "      <td>1</td>\n",
       "      <td>0</td>\n",
       "      <td>0</td>\n",
       "    </tr>\n",
       "    <tr>\n",
       "      <th>2</th>\n",
       "      <td>613</td>\n",
       "      <td>19100</td>\n",
       "      <td>2</td>\n",
       "      <td>64926</td>\n",
       "      <td>0</td>\n",
       "      <td>0</td>\n",
       "      <td>0</td>\n",
       "      <td>1</td>\n",
       "    </tr>\n",
       "    <tr>\n",
       "      <th>3</th>\n",
       "      <td>623</td>\n",
       "      <td>26420</td>\n",
       "      <td>2</td>\n",
       "      <td>46930</td>\n",
       "      <td>0</td>\n",
       "      <td>0</td>\n",
       "      <td>0</td>\n",
       "      <td>1</td>\n",
       "    </tr>\n",
       "    <tr>\n",
       "      <th>4</th>\n",
       "      <td>2277</td>\n",
       "      <td>17140</td>\n",
       "      <td>3</td>\n",
       "      <td>81958</td>\n",
       "      <td>0</td>\n",
       "      <td>0</td>\n",
       "      <td>1</td>\n",
       "      <td>0</td>\n",
       "    </tr>\n",
       "  </tbody>\n",
       "</table>\n",
       "</div>"
      ],
      "text/plain": [
       "   store_id  msa_code  SEG_VALUE_NAME  avg_weekly_baskets  \\\n",
       "0       367     17140               1               24721   \n",
       "1       389     17140               2               46073   \n",
       "2       613     19100               2               64926   \n",
       "3       623     26420               2               46930   \n",
       "4      2277     17140               3               81958   \n",
       "\n",
       "   address_state_prov_code_IN  address_state_prov_code_KY  \\\n",
       "0                           0                           1   \n",
       "1                           0                           1   \n",
       "2                           0                           0   \n",
       "3                           0                           0   \n",
       "4                           0                           0   \n",
       "\n",
       "   address_state_prov_code_OH  address_state_prov_code_TX  \n",
       "0                           0                           0  \n",
       "1                           0                           0  \n",
       "2                           0                           1  \n",
       "3                           0                           1  \n",
       "4                           1                           0  "
      ]
     },
     "execution_count": 66,
     "metadata": {},
     "output_type": "execute_result"
    }
   ],
   "source": [
    "updated_store_data.head()"
   ]
  },
  {
   "cell_type": "code",
   "execution_count": 70,
   "id": "8aa80909",
   "metadata": {},
   "outputs": [],
   "source": [
    "updated_train_data = updated_train_data.toPandas()"
   ]
  },
  {
   "cell_type": "code",
   "execution_count": 71,
   "id": "4f8c111c",
   "metadata": {},
   "outputs": [
    {
     "data": {
      "text/html": [
       "<div>\n",
       "<style scoped>\n",
       "    .dataframe tbody tr th:only-of-type {\n",
       "        vertical-align: middle;\n",
       "    }\n",
       "\n",
       "    .dataframe tbody tr th {\n",
       "        vertical-align: top;\n",
       "    }\n",
       "\n",
       "    .dataframe thead th {\n",
       "        text-align: right;\n",
       "    }\n",
       "</style>\n",
       "<table border=\"1\" class=\"dataframe\">\n",
       "  <thead>\n",
       "    <tr style=\"text-align: right;\">\n",
       "      <th></th>\n",
       "      <th>week_end_date</th>\n",
       "      <th>store_num</th>\n",
       "      <th>upc</th>\n",
       "      <th>BASE_PRICE</th>\n",
       "      <th>feature</th>\n",
       "      <th>display</th>\n",
       "      <th>units</th>\n",
       "    </tr>\n",
       "  </thead>\n",
       "  <tbody>\n",
       "    <tr>\n",
       "      <th>0</th>\n",
       "      <td>14-Jan-09</td>\n",
       "      <td>367</td>\n",
       "      <td>1111009477</td>\n",
       "      <td>1.57</td>\n",
       "      <td>0</td>\n",
       "      <td>0</td>\n",
       "      <td>13</td>\n",
       "    </tr>\n",
       "    <tr>\n",
       "      <th>1</th>\n",
       "      <td>14-Jan-09</td>\n",
       "      <td>367</td>\n",
       "      <td>1111009497</td>\n",
       "      <td>1.39</td>\n",
       "      <td>0</td>\n",
       "      <td>0</td>\n",
       "      <td>20</td>\n",
       "    </tr>\n",
       "    <tr>\n",
       "      <th>2</th>\n",
       "      <td>14-Jan-09</td>\n",
       "      <td>367</td>\n",
       "      <td>1111085319</td>\n",
       "      <td>1.88</td>\n",
       "      <td>0</td>\n",
       "      <td>0</td>\n",
       "      <td>14</td>\n",
       "    </tr>\n",
       "    <tr>\n",
       "      <th>3</th>\n",
       "      <td>14-Jan-09</td>\n",
       "      <td>367</td>\n",
       "      <td>1111085345</td>\n",
       "      <td>1.88</td>\n",
       "      <td>0</td>\n",
       "      <td>0</td>\n",
       "      <td>29</td>\n",
       "    </tr>\n",
       "    <tr>\n",
       "      <th>4</th>\n",
       "      <td>14-Jan-09</td>\n",
       "      <td>367</td>\n",
       "      <td>1111085350</td>\n",
       "      <td>1.98</td>\n",
       "      <td>0</td>\n",
       "      <td>0</td>\n",
       "      <td>35</td>\n",
       "    </tr>\n",
       "  </tbody>\n",
       "</table>\n",
       "</div>"
      ],
      "text/plain": [
       "  week_end_date  store_num         upc  BASE_PRICE  feature  display  units\n",
       "0     14-Jan-09        367  1111009477        1.57        0        0     13\n",
       "1     14-Jan-09        367  1111009497        1.39        0        0     20\n",
       "2     14-Jan-09        367  1111085319        1.88        0        0     14\n",
       "3     14-Jan-09        367  1111085345        1.88        0        0     29\n",
       "4     14-Jan-09        367  1111085350        1.98        0        0     35"
      ]
     },
     "execution_count": 71,
     "metadata": {},
     "output_type": "execute_result"
    }
   ],
   "source": [
    "updated_train_data.head()"
   ]
  },
  {
   "cell_type": "code",
   "execution_count": 72,
   "id": "8f12d916",
   "metadata": {},
   "outputs": [],
   "source": [
    "updated_train_data.to_csv('/home/talentum/updated_train_data.csv', index=False)"
   ]
  },
  {
   "cell_type": "code",
   "execution_count": 68,
   "id": "7b167ecb",
   "metadata": {},
   "outputs": [],
   "source": [
    "updated_store_data.to_csv('/home/talentum/updated_store_data.csv', index=False)"
   ]
  },
  {
   "cell_type": "code",
   "execution_count": 69,
   "id": "5727680a",
   "metadata": {},
   "outputs": [],
   "source": [
    "updated_product_data.to_csv('/home/talentum/updated_product_data.csv', index=False)"
   ]
  },
  {
   "cell_type": "code",
   "execution_count": 78,
   "id": "addeab72",
   "metadata": {},
   "outputs": [],
   "source": []
  },
  {
   "cell_type": "code",
   "execution_count": null,
   "id": "10bbce51",
   "metadata": {},
   "outputs": [],
   "source": []
  },
  {
   "cell_type": "code",
   "execution_count": null,
   "id": "0c5411ea",
   "metadata": {},
   "outputs": [],
   "source": []
  }
 ],
 "metadata": {
  "kernelspec": {
   "display_name": "Python 3",
   "language": "python",
   "name": "python3"
  },
  "language_info": {
   "codemirror_mode": {
    "name": "ipython",
    "version": 3
   },
   "file_extension": ".py",
   "mimetype": "text/x-python",
   "name": "python",
   "nbconvert_exporter": "python",
   "pygments_lexer": "ipython3",
   "version": "3.6.9"
  }
 },
 "nbformat": 4,
 "nbformat_minor": 5
}
